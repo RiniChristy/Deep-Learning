{
 "cells": [
  {
   "cell_type": "markdown",
   "id": "9fb36185",
   "metadata": {
    "papermill": {
     "duration": 0.00956,
     "end_time": "2022-12-12T15:37:06.686385",
     "exception": false,
     "start_time": "2022-12-12T15:37:06.676825",
     "status": "completed"
    },
    "tags": []
   },
   "source": [
    "# **<span style = 'color:blue'>Customer Churn Prediction 2020</span>**\n",
    "#### Predict whether a customer will change telco provider\n",
    "\n",
    "## **<span style = 'color:green'>1. Dataset information</span>**\n",
    "This dataset is about predicting whether a customer will change telecommunications provider, something known as \"churning\".\n",
    "\n",
    "The training dataset contains 4250 samples. Each sample contains 19 features and 1 boolean variable \"churn\" which indicates the class of the sample. The 19 input features and 1 target variable are:\n",
    "\n",
    "* \"state\", string. 2-letter code of the US state of customer residence\n",
    "* \"account_length\", numerical. Number of months the customer has been with the current telco provider\n",
    "* \"area_code\", string=\"area_code_AAA\" where AAA = 3 digit area code.\n",
    "* \"international_plan\", (yes/no). The customer has international plan.\n",
    "* \"voice_mail_plan\", (yes/no). The customer has voice mail plan.\n",
    "* \"number_vmail_messages\", numerical. Number of voice-mail messages.\n",
    "* \"total_day_minutes\", numerical. Total minutes of day calls.\n",
    "* \"total_day_calls\", numerical. Total minutes of day calls.\n",
    "* \"total_day_charge\", numerical. Total charge of day calls.\n",
    "* \"total_eve_minutes\", numerical. Total minutes of evening calls.\n",
    "* \"total_eve_calls\", numerical. Total number of evening calls.\n",
    "* \"total_eve_charge\", numerical. Total charge of evening calls.\n",
    "* \"total_night_minutes\", numerical. Total minutes of night calls.\n",
    "* \"total_night_calls\", numerical. Total number of night calls.\n",
    "* \"total_night_charge\", numerical. Total charge of night calls.\n",
    "* \"total_intl_minutes\", numerical. Total minutes of international calls.\n",
    "* \"total_intl_calls\", numerical. Total number of international calls.\n",
    "* \"total_intl_charge\", numerical. Total charge of international calls\n",
    "* \"number_customer_service_calls\", numerical. Number of calls to customer service\n",
    "* \"churn\", (yes/no). Customer churn - target variable.\n",
    "\n",
    "## **<span style = 'color:green'>2. Import the required libraries</span>**"
   ]
  },
  {
   "cell_type": "code",
   "execution_count": 1,
   "id": "3a925816",
   "metadata": {
    "_cell_guid": "b1076dfc-b9ad-4769-8c92-a6c4dae69d19",
    "_uuid": "8f2839f25d086af736a60e9eeb907d3b93b6e0e5",
    "execution": {
     "iopub.execute_input": "2022-12-12T15:37:06.703466Z",
     "iopub.status.busy": "2022-12-12T15:37:06.702536Z",
     "iopub.status.idle": "2022-12-12T15:37:12.793134Z",
     "shell.execute_reply": "2022-12-12T15:37:12.791732Z"
    },
    "papermill": {
     "duration": 6.103298,
     "end_time": "2022-12-12T15:37:12.796887",
     "exception": false,
     "start_time": "2022-12-12T15:37:06.693589",
     "status": "completed"
    },
    "tags": []
   },
   "outputs": [],
   "source": [
    "import numpy as np\n",
    "import matplotlib.pyplot as plt\n",
    "import pandas as pd\n",
    "import tensorflow as tf"
   ]
  },
  {
   "cell_type": "markdown",
   "id": "0f463b30",
   "metadata": {
    "papermill": {
     "duration": 0.007145,
     "end_time": "2022-12-12T15:37:12.811859",
     "exception": false,
     "start_time": "2022-12-12T15:37:12.804714",
     "status": "completed"
    },
    "tags": []
   },
   "source": [
    "## **<span style = 'color:green'>3. Load the dataset</span>**"
   ]
  },
  {
   "cell_type": "code",
   "execution_count": 2,
   "id": "26385e9f",
   "metadata": {
    "execution": {
     "iopub.execute_input": "2022-12-12T15:37:12.829667Z",
     "iopub.status.busy": "2022-12-12T15:37:12.828493Z",
     "iopub.status.idle": "2022-12-12T15:37:12.914420Z",
     "shell.execute_reply": "2022-12-12T15:37:12.913236Z"
    },
    "papermill": {
     "duration": 0.09881,
     "end_time": "2022-12-12T15:37:12.918067",
     "exception": false,
     "start_time": "2022-12-12T15:37:12.819257",
     "status": "completed"
    },
    "tags": []
   },
   "outputs": [
    {
     "data": {
      "text/html": [
       "<div>\n",
       "<style scoped>\n",
       "    .dataframe tbody tr th:only-of-type {\n",
       "        vertical-align: middle;\n",
       "    }\n",
       "\n",
       "    .dataframe tbody tr th {\n",
       "        vertical-align: top;\n",
       "    }\n",
       "\n",
       "    .dataframe thead th {\n",
       "        text-align: right;\n",
       "    }\n",
       "</style>\n",
       "<table border=\"1\" class=\"dataframe\">\n",
       "  <thead>\n",
       "    <tr style=\"text-align: right;\">\n",
       "      <th></th>\n",
       "      <th>state</th>\n",
       "      <th>account_length</th>\n",
       "      <th>area_code</th>\n",
       "      <th>international_plan</th>\n",
       "      <th>voice_mail_plan</th>\n",
       "      <th>number_vmail_messages</th>\n",
       "      <th>total_day_minutes</th>\n",
       "      <th>total_day_calls</th>\n",
       "      <th>total_day_charge</th>\n",
       "      <th>total_eve_minutes</th>\n",
       "      <th>total_eve_calls</th>\n",
       "      <th>total_eve_charge</th>\n",
       "      <th>total_night_minutes</th>\n",
       "      <th>total_night_calls</th>\n",
       "      <th>total_night_charge</th>\n",
       "      <th>total_intl_minutes</th>\n",
       "      <th>total_intl_calls</th>\n",
       "      <th>total_intl_charge</th>\n",
       "      <th>number_customer_service_calls</th>\n",
       "      <th>churn</th>\n",
       "    </tr>\n",
       "  </thead>\n",
       "  <tbody>\n",
       "    <tr>\n",
       "      <th>0</th>\n",
       "      <td>OH</td>\n",
       "      <td>107</td>\n",
       "      <td>area_code_415</td>\n",
       "      <td>no</td>\n",
       "      <td>yes</td>\n",
       "      <td>26</td>\n",
       "      <td>161.6</td>\n",
       "      <td>123</td>\n",
       "      <td>27.47</td>\n",
       "      <td>195.5</td>\n",
       "      <td>103</td>\n",
       "      <td>16.62</td>\n",
       "      <td>254.4</td>\n",
       "      <td>103</td>\n",
       "      <td>11.45</td>\n",
       "      <td>13.7</td>\n",
       "      <td>3</td>\n",
       "      <td>3.70</td>\n",
       "      <td>1</td>\n",
       "      <td>no</td>\n",
       "    </tr>\n",
       "    <tr>\n",
       "      <th>1</th>\n",
       "      <td>NJ</td>\n",
       "      <td>137</td>\n",
       "      <td>area_code_415</td>\n",
       "      <td>no</td>\n",
       "      <td>no</td>\n",
       "      <td>0</td>\n",
       "      <td>243.4</td>\n",
       "      <td>114</td>\n",
       "      <td>41.38</td>\n",
       "      <td>121.2</td>\n",
       "      <td>110</td>\n",
       "      <td>10.30</td>\n",
       "      <td>162.6</td>\n",
       "      <td>104</td>\n",
       "      <td>7.32</td>\n",
       "      <td>12.2</td>\n",
       "      <td>5</td>\n",
       "      <td>3.29</td>\n",
       "      <td>0</td>\n",
       "      <td>no</td>\n",
       "    </tr>\n",
       "    <tr>\n",
       "      <th>2</th>\n",
       "      <td>OH</td>\n",
       "      <td>84</td>\n",
       "      <td>area_code_408</td>\n",
       "      <td>yes</td>\n",
       "      <td>no</td>\n",
       "      <td>0</td>\n",
       "      <td>299.4</td>\n",
       "      <td>71</td>\n",
       "      <td>50.90</td>\n",
       "      <td>61.9</td>\n",
       "      <td>88</td>\n",
       "      <td>5.26</td>\n",
       "      <td>196.9</td>\n",
       "      <td>89</td>\n",
       "      <td>8.86</td>\n",
       "      <td>6.6</td>\n",
       "      <td>7</td>\n",
       "      <td>1.78</td>\n",
       "      <td>2</td>\n",
       "      <td>no</td>\n",
       "    </tr>\n",
       "    <tr>\n",
       "      <th>3</th>\n",
       "      <td>OK</td>\n",
       "      <td>75</td>\n",
       "      <td>area_code_415</td>\n",
       "      <td>yes</td>\n",
       "      <td>no</td>\n",
       "      <td>0</td>\n",
       "      <td>166.7</td>\n",
       "      <td>113</td>\n",
       "      <td>28.34</td>\n",
       "      <td>148.3</td>\n",
       "      <td>122</td>\n",
       "      <td>12.61</td>\n",
       "      <td>186.9</td>\n",
       "      <td>121</td>\n",
       "      <td>8.41</td>\n",
       "      <td>10.1</td>\n",
       "      <td>3</td>\n",
       "      <td>2.73</td>\n",
       "      <td>3</td>\n",
       "      <td>no</td>\n",
       "    </tr>\n",
       "    <tr>\n",
       "      <th>4</th>\n",
       "      <td>MA</td>\n",
       "      <td>121</td>\n",
       "      <td>area_code_510</td>\n",
       "      <td>no</td>\n",
       "      <td>yes</td>\n",
       "      <td>24</td>\n",
       "      <td>218.2</td>\n",
       "      <td>88</td>\n",
       "      <td>37.09</td>\n",
       "      <td>348.5</td>\n",
       "      <td>108</td>\n",
       "      <td>29.62</td>\n",
       "      <td>212.6</td>\n",
       "      <td>118</td>\n",
       "      <td>9.57</td>\n",
       "      <td>7.5</td>\n",
       "      <td>7</td>\n",
       "      <td>2.03</td>\n",
       "      <td>3</td>\n",
       "      <td>no</td>\n",
       "    </tr>\n",
       "  </tbody>\n",
       "</table>\n",
       "</div>"
      ],
      "text/plain": [
       "  state  account_length      area_code international_plan voice_mail_plan  \\\n",
       "0    OH             107  area_code_415                 no             yes   \n",
       "1    NJ             137  area_code_415                 no              no   \n",
       "2    OH              84  area_code_408                yes              no   \n",
       "3    OK              75  area_code_415                yes              no   \n",
       "4    MA             121  area_code_510                 no             yes   \n",
       "\n",
       "   number_vmail_messages  total_day_minutes  total_day_calls  \\\n",
       "0                     26              161.6              123   \n",
       "1                      0              243.4              114   \n",
       "2                      0              299.4               71   \n",
       "3                      0              166.7              113   \n",
       "4                     24              218.2               88   \n",
       "\n",
       "   total_day_charge  total_eve_minutes  total_eve_calls  total_eve_charge  \\\n",
       "0             27.47              195.5              103             16.62   \n",
       "1             41.38              121.2              110             10.30   \n",
       "2             50.90               61.9               88              5.26   \n",
       "3             28.34              148.3              122             12.61   \n",
       "4             37.09              348.5              108             29.62   \n",
       "\n",
       "   total_night_minutes  total_night_calls  total_night_charge  \\\n",
       "0                254.4                103               11.45   \n",
       "1                162.6                104                7.32   \n",
       "2                196.9                 89                8.86   \n",
       "3                186.9                121                8.41   \n",
       "4                212.6                118                9.57   \n",
       "\n",
       "   total_intl_minutes  total_intl_calls  total_intl_charge  \\\n",
       "0                13.7                 3               3.70   \n",
       "1                12.2                 5               3.29   \n",
       "2                 6.6                 7               1.78   \n",
       "3                10.1                 3               2.73   \n",
       "4                 7.5                 7               2.03   \n",
       "\n",
       "   number_customer_service_calls churn  \n",
       "0                              1    no  \n",
       "1                              0    no  \n",
       "2                              2    no  \n",
       "3                              3    no  \n",
       "4                              3    no  "
      ]
     },
     "execution_count": 2,
     "metadata": {},
     "output_type": "execute_result"
    }
   ],
   "source": [
    "df = pd.read_csv('/kaggle/input/customer-churn-prediction-2020/train.csv')\n",
    "df_test = pd.read_csv('/kaggle/input/customer-churn-prediction-2020/test.csv')\n",
    "df.head()"
   ]
  },
  {
   "cell_type": "markdown",
   "id": "659b1562",
   "metadata": {
    "papermill": {
     "duration": 0.007068,
     "end_time": "2022-12-12T15:37:12.932675",
     "exception": false,
     "start_time": "2022-12-12T15:37:12.925607",
     "status": "completed"
    },
    "tags": []
   },
   "source": [
    "## **<span style = 'color:green'>4. Data Exploration</span>**"
   ]
  },
  {
   "cell_type": "code",
   "execution_count": 3,
   "id": "11745da3",
   "metadata": {
    "execution": {
     "iopub.execute_input": "2022-12-12T15:37:12.951547Z",
     "iopub.status.busy": "2022-12-12T15:37:12.950802Z",
     "iopub.status.idle": "2022-12-12T15:37:12.984331Z",
     "shell.execute_reply": "2022-12-12T15:37:12.982488Z"
    },
    "papermill": {
     "duration": 0.04733,
     "end_time": "2022-12-12T15:37:12.987251",
     "exception": false,
     "start_time": "2022-12-12T15:37:12.939921",
     "status": "completed"
    },
    "tags": []
   },
   "outputs": [
    {
     "name": "stdout",
     "output_type": "stream",
     "text": [
      "<class 'pandas.core.frame.DataFrame'>\n",
      "RangeIndex: 4250 entries, 0 to 4249\n",
      "Data columns (total 20 columns):\n",
      " #   Column                         Non-Null Count  Dtype  \n",
      "---  ------                         --------------  -----  \n",
      " 0   state                          4250 non-null   object \n",
      " 1   account_length                 4250 non-null   int64  \n",
      " 2   area_code                      4250 non-null   object \n",
      " 3   international_plan             4250 non-null   object \n",
      " 4   voice_mail_plan                4250 non-null   object \n",
      " 5   number_vmail_messages          4250 non-null   int64  \n",
      " 6   total_day_minutes              4250 non-null   float64\n",
      " 7   total_day_calls                4250 non-null   int64  \n",
      " 8   total_day_charge               4250 non-null   float64\n",
      " 9   total_eve_minutes              4250 non-null   float64\n",
      " 10  total_eve_calls                4250 non-null   int64  \n",
      " 11  total_eve_charge               4250 non-null   float64\n",
      " 12  total_night_minutes            4250 non-null   float64\n",
      " 13  total_night_calls              4250 non-null   int64  \n",
      " 14  total_night_charge             4250 non-null   float64\n",
      " 15  total_intl_minutes             4250 non-null   float64\n",
      " 16  total_intl_calls               4250 non-null   int64  \n",
      " 17  total_intl_charge              4250 non-null   float64\n",
      " 18  number_customer_service_calls  4250 non-null   int64  \n",
      " 19  churn                          4250 non-null   object \n",
      "dtypes: float64(8), int64(7), object(5)\n",
      "memory usage: 664.2+ KB\n"
     ]
    }
   ],
   "source": [
    "df.info()"
   ]
  },
  {
   "cell_type": "code",
   "execution_count": 4,
   "id": "5d9ba4ed",
   "metadata": {
    "execution": {
     "iopub.execute_input": "2022-12-12T15:37:13.004947Z",
     "iopub.status.busy": "2022-12-12T15:37:13.004487Z",
     "iopub.status.idle": "2022-12-12T15:37:13.015626Z",
     "shell.execute_reply": "2022-12-12T15:37:13.014583Z"
    },
    "papermill": {
     "duration": 0.022817,
     "end_time": "2022-12-12T15:37:13.017761",
     "exception": false,
     "start_time": "2022-12-12T15:37:12.994944",
     "status": "completed"
    },
    "tags": []
   },
   "outputs": [
    {
     "data": {
      "text/plain": [
       "id                               0\n",
       "state                            0\n",
       "account_length                   0\n",
       "area_code                        0\n",
       "international_plan               0\n",
       "voice_mail_plan                  0\n",
       "number_vmail_messages            0\n",
       "total_day_minutes                0\n",
       "total_day_calls                  0\n",
       "total_day_charge                 0\n",
       "total_eve_minutes                0\n",
       "total_eve_calls                  0\n",
       "total_eve_charge                 0\n",
       "total_night_minutes              0\n",
       "total_night_calls                0\n",
       "total_night_charge               0\n",
       "total_intl_minutes               0\n",
       "total_intl_calls                 0\n",
       "total_intl_charge                0\n",
       "number_customer_service_calls    0\n",
       "dtype: int64"
      ]
     },
     "execution_count": 4,
     "metadata": {},
     "output_type": "execute_result"
    }
   ],
   "source": [
    "df_test.isnull().sum()"
   ]
  },
  {
   "cell_type": "code",
   "execution_count": 5,
   "id": "56979bf6",
   "metadata": {
    "execution": {
     "iopub.execute_input": "2022-12-12T15:37:13.035799Z",
     "iopub.status.busy": "2022-12-12T15:37:13.035083Z",
     "iopub.status.idle": "2022-12-12T15:37:13.097791Z",
     "shell.execute_reply": "2022-12-12T15:37:13.096386Z"
    },
    "papermill": {
     "duration": 0.074932,
     "end_time": "2022-12-12T15:37:13.100620",
     "exception": false,
     "start_time": "2022-12-12T15:37:13.025688",
     "status": "completed"
    },
    "tags": []
   },
   "outputs": [
    {
     "data": {
      "text/html": [
       "<div>\n",
       "<style scoped>\n",
       "    .dataframe tbody tr th:only-of-type {\n",
       "        vertical-align: middle;\n",
       "    }\n",
       "\n",
       "    .dataframe tbody tr th {\n",
       "        vertical-align: top;\n",
       "    }\n",
       "\n",
       "    .dataframe thead th {\n",
       "        text-align: right;\n",
       "    }\n",
       "</style>\n",
       "<table border=\"1\" class=\"dataframe\">\n",
       "  <thead>\n",
       "    <tr style=\"text-align: right;\">\n",
       "      <th></th>\n",
       "      <th>account_length</th>\n",
       "      <th>number_vmail_messages</th>\n",
       "      <th>total_day_minutes</th>\n",
       "      <th>total_day_calls</th>\n",
       "      <th>total_day_charge</th>\n",
       "      <th>total_eve_minutes</th>\n",
       "      <th>total_eve_calls</th>\n",
       "      <th>total_eve_charge</th>\n",
       "      <th>total_night_minutes</th>\n",
       "      <th>total_night_calls</th>\n",
       "      <th>total_night_charge</th>\n",
       "      <th>total_intl_minutes</th>\n",
       "      <th>total_intl_calls</th>\n",
       "      <th>total_intl_charge</th>\n",
       "      <th>number_customer_service_calls</th>\n",
       "    </tr>\n",
       "  </thead>\n",
       "  <tbody>\n",
       "    <tr>\n",
       "      <th>count</th>\n",
       "      <td>4250.000000</td>\n",
       "      <td>4250.000000</td>\n",
       "      <td>4250.000000</td>\n",
       "      <td>4250.000000</td>\n",
       "      <td>4250.000000</td>\n",
       "      <td>4250.000000</td>\n",
       "      <td>4250.000000</td>\n",
       "      <td>4250.000000</td>\n",
       "      <td>4250.000000</td>\n",
       "      <td>4250.000000</td>\n",
       "      <td>4250.000000</td>\n",
       "      <td>4250.000000</td>\n",
       "      <td>4250.000000</td>\n",
       "      <td>4250.000000</td>\n",
       "      <td>4250.000000</td>\n",
       "    </tr>\n",
       "    <tr>\n",
       "      <th>mean</th>\n",
       "      <td>100.236235</td>\n",
       "      <td>7.631765</td>\n",
       "      <td>180.259600</td>\n",
       "      <td>99.907294</td>\n",
       "      <td>30.644682</td>\n",
       "      <td>200.173906</td>\n",
       "      <td>100.176471</td>\n",
       "      <td>17.015012</td>\n",
       "      <td>200.527882</td>\n",
       "      <td>99.839529</td>\n",
       "      <td>9.023892</td>\n",
       "      <td>10.256071</td>\n",
       "      <td>4.426353</td>\n",
       "      <td>2.769654</td>\n",
       "      <td>1.559059</td>\n",
       "    </tr>\n",
       "    <tr>\n",
       "      <th>std</th>\n",
       "      <td>39.698401</td>\n",
       "      <td>13.439882</td>\n",
       "      <td>54.012373</td>\n",
       "      <td>19.850817</td>\n",
       "      <td>9.182096</td>\n",
       "      <td>50.249518</td>\n",
       "      <td>19.908591</td>\n",
       "      <td>4.271212</td>\n",
       "      <td>50.353548</td>\n",
       "      <td>20.093220</td>\n",
       "      <td>2.265922</td>\n",
       "      <td>2.760102</td>\n",
       "      <td>2.463069</td>\n",
       "      <td>0.745204</td>\n",
       "      <td>1.311434</td>\n",
       "    </tr>\n",
       "    <tr>\n",
       "      <th>min</th>\n",
       "      <td>1.000000</td>\n",
       "      <td>0.000000</td>\n",
       "      <td>0.000000</td>\n",
       "      <td>0.000000</td>\n",
       "      <td>0.000000</td>\n",
       "      <td>0.000000</td>\n",
       "      <td>0.000000</td>\n",
       "      <td>0.000000</td>\n",
       "      <td>0.000000</td>\n",
       "      <td>0.000000</td>\n",
       "      <td>0.000000</td>\n",
       "      <td>0.000000</td>\n",
       "      <td>0.000000</td>\n",
       "      <td>0.000000</td>\n",
       "      <td>0.000000</td>\n",
       "    </tr>\n",
       "    <tr>\n",
       "      <th>25%</th>\n",
       "      <td>73.000000</td>\n",
       "      <td>0.000000</td>\n",
       "      <td>143.325000</td>\n",
       "      <td>87.000000</td>\n",
       "      <td>24.365000</td>\n",
       "      <td>165.925000</td>\n",
       "      <td>87.000000</td>\n",
       "      <td>14.102500</td>\n",
       "      <td>167.225000</td>\n",
       "      <td>86.000000</td>\n",
       "      <td>7.522500</td>\n",
       "      <td>8.500000</td>\n",
       "      <td>3.000000</td>\n",
       "      <td>2.300000</td>\n",
       "      <td>1.000000</td>\n",
       "    </tr>\n",
       "    <tr>\n",
       "      <th>50%</th>\n",
       "      <td>100.000000</td>\n",
       "      <td>0.000000</td>\n",
       "      <td>180.450000</td>\n",
       "      <td>100.000000</td>\n",
       "      <td>30.680000</td>\n",
       "      <td>200.700000</td>\n",
       "      <td>100.000000</td>\n",
       "      <td>17.060000</td>\n",
       "      <td>200.450000</td>\n",
       "      <td>100.000000</td>\n",
       "      <td>9.020000</td>\n",
       "      <td>10.300000</td>\n",
       "      <td>4.000000</td>\n",
       "      <td>2.780000</td>\n",
       "      <td>1.000000</td>\n",
       "    </tr>\n",
       "    <tr>\n",
       "      <th>75%</th>\n",
       "      <td>127.000000</td>\n",
       "      <td>16.000000</td>\n",
       "      <td>216.200000</td>\n",
       "      <td>113.000000</td>\n",
       "      <td>36.750000</td>\n",
       "      <td>233.775000</td>\n",
       "      <td>114.000000</td>\n",
       "      <td>19.867500</td>\n",
       "      <td>234.700000</td>\n",
       "      <td>113.000000</td>\n",
       "      <td>10.560000</td>\n",
       "      <td>12.000000</td>\n",
       "      <td>6.000000</td>\n",
       "      <td>3.240000</td>\n",
       "      <td>2.000000</td>\n",
       "    </tr>\n",
       "    <tr>\n",
       "      <th>max</th>\n",
       "      <td>243.000000</td>\n",
       "      <td>52.000000</td>\n",
       "      <td>351.500000</td>\n",
       "      <td>165.000000</td>\n",
       "      <td>59.760000</td>\n",
       "      <td>359.300000</td>\n",
       "      <td>170.000000</td>\n",
       "      <td>30.540000</td>\n",
       "      <td>395.000000</td>\n",
       "      <td>175.000000</td>\n",
       "      <td>17.770000</td>\n",
       "      <td>20.000000</td>\n",
       "      <td>20.000000</td>\n",
       "      <td>5.400000</td>\n",
       "      <td>9.000000</td>\n",
       "    </tr>\n",
       "  </tbody>\n",
       "</table>\n",
       "</div>"
      ],
      "text/plain": [
       "       account_length  number_vmail_messages  total_day_minutes  \\\n",
       "count     4250.000000            4250.000000        4250.000000   \n",
       "mean       100.236235               7.631765         180.259600   \n",
       "std         39.698401              13.439882          54.012373   \n",
       "min          1.000000               0.000000           0.000000   \n",
       "25%         73.000000               0.000000         143.325000   \n",
       "50%        100.000000               0.000000         180.450000   \n",
       "75%        127.000000              16.000000         216.200000   \n",
       "max        243.000000              52.000000         351.500000   \n",
       "\n",
       "       total_day_calls  total_day_charge  total_eve_minutes  total_eve_calls  \\\n",
       "count      4250.000000       4250.000000        4250.000000      4250.000000   \n",
       "mean         99.907294         30.644682         200.173906       100.176471   \n",
       "std          19.850817          9.182096          50.249518        19.908591   \n",
       "min           0.000000          0.000000           0.000000         0.000000   \n",
       "25%          87.000000         24.365000         165.925000        87.000000   \n",
       "50%         100.000000         30.680000         200.700000       100.000000   \n",
       "75%         113.000000         36.750000         233.775000       114.000000   \n",
       "max         165.000000         59.760000         359.300000       170.000000   \n",
       "\n",
       "       total_eve_charge  total_night_minutes  total_night_calls  \\\n",
       "count       4250.000000          4250.000000        4250.000000   \n",
       "mean          17.015012           200.527882          99.839529   \n",
       "std            4.271212            50.353548          20.093220   \n",
       "min            0.000000             0.000000           0.000000   \n",
       "25%           14.102500           167.225000          86.000000   \n",
       "50%           17.060000           200.450000         100.000000   \n",
       "75%           19.867500           234.700000         113.000000   \n",
       "max           30.540000           395.000000         175.000000   \n",
       "\n",
       "       total_night_charge  total_intl_minutes  total_intl_calls  \\\n",
       "count         4250.000000         4250.000000       4250.000000   \n",
       "mean             9.023892           10.256071          4.426353   \n",
       "std              2.265922            2.760102          2.463069   \n",
       "min              0.000000            0.000000          0.000000   \n",
       "25%              7.522500            8.500000          3.000000   \n",
       "50%              9.020000           10.300000          4.000000   \n",
       "75%             10.560000           12.000000          6.000000   \n",
       "max             17.770000           20.000000         20.000000   \n",
       "\n",
       "       total_intl_charge  number_customer_service_calls  \n",
       "count        4250.000000                    4250.000000  \n",
       "mean            2.769654                       1.559059  \n",
       "std             0.745204                       1.311434  \n",
       "min             0.000000                       0.000000  \n",
       "25%             2.300000                       1.000000  \n",
       "50%             2.780000                       1.000000  \n",
       "75%             3.240000                       2.000000  \n",
       "max             5.400000                       9.000000  "
      ]
     },
     "execution_count": 5,
     "metadata": {},
     "output_type": "execute_result"
    }
   ],
   "source": [
    "df.describe()"
   ]
  },
  {
   "cell_type": "code",
   "execution_count": 6,
   "id": "24c0a683",
   "metadata": {
    "execution": {
     "iopub.execute_input": "2022-12-12T15:37:13.119434Z",
     "iopub.status.busy": "2022-12-12T15:37:13.118948Z",
     "iopub.status.idle": "2022-12-12T15:37:13.127599Z",
     "shell.execute_reply": "2022-12-12T15:37:13.126314Z"
    },
    "papermill": {
     "duration": 0.021008,
     "end_time": "2022-12-12T15:37:13.130202",
     "exception": false,
     "start_time": "2022-12-12T15:37:13.109194",
     "status": "completed"
    },
    "tags": []
   },
   "outputs": [
    {
     "data": {
      "text/plain": [
       "51"
      ]
     },
     "execution_count": 6,
     "metadata": {},
     "output_type": "execute_result"
    }
   ],
   "source": [
    "df['state'].nunique()"
   ]
  },
  {
   "cell_type": "code",
   "execution_count": 7,
   "id": "f6a3518c",
   "metadata": {
    "execution": {
     "iopub.execute_input": "2022-12-12T15:37:13.148994Z",
     "iopub.status.busy": "2022-12-12T15:37:13.148528Z",
     "iopub.status.idle": "2022-12-12T15:37:13.157695Z",
     "shell.execute_reply": "2022-12-12T15:37:13.156422Z"
    },
    "papermill": {
     "duration": 0.021485,
     "end_time": "2022-12-12T15:37:13.160092",
     "exception": false,
     "start_time": "2022-12-12T15:37:13.138607",
     "status": "completed"
    },
    "tags": []
   },
   "outputs": [
    {
     "data": {
      "text/plain": [
       "array(['OH', 'NJ', 'OK', 'MA', 'MO', 'LA', 'WV', 'IN', 'RI', 'IA', 'MT',\n",
       "       'NY', 'ID', 'VA', 'TX', 'FL', 'CO', 'AZ', 'SC', 'WY', 'HI', 'NH',\n",
       "       'AK', 'GA', 'MD', 'AR', 'WI', 'OR', 'MI', 'DE', 'UT', 'CA', 'SD',\n",
       "       'NC', 'WA', 'MN', 'NM', 'NV', 'DC', 'VT', 'KY', 'ME', 'MS', 'AL',\n",
       "       'NE', 'KS', 'TN', 'IL', 'PA', 'CT', 'ND'], dtype=object)"
      ]
     },
     "execution_count": 7,
     "metadata": {},
     "output_type": "execute_result"
    }
   ],
   "source": [
    "df['state'].unique()"
   ]
  },
  {
   "cell_type": "code",
   "execution_count": 8,
   "id": "bee43a47",
   "metadata": {
    "execution": {
     "iopub.execute_input": "2022-12-12T15:37:13.179226Z",
     "iopub.status.busy": "2022-12-12T15:37:13.178746Z",
     "iopub.status.idle": "2022-12-12T15:37:13.188190Z",
     "shell.execute_reply": "2022-12-12T15:37:13.187092Z"
    },
    "papermill": {
     "duration": 0.021826,
     "end_time": "2022-12-12T15:37:13.190598",
     "exception": false,
     "start_time": "2022-12-12T15:37:13.168772",
     "status": "completed"
    },
    "tags": []
   },
   "outputs": [
    {
     "data": {
      "text/plain": [
       "3"
      ]
     },
     "execution_count": 8,
     "metadata": {},
     "output_type": "execute_result"
    }
   ],
   "source": [
    "df['area_code'].nunique()"
   ]
  },
  {
   "cell_type": "code",
   "execution_count": 9,
   "id": "cbc117d7",
   "metadata": {
    "execution": {
     "iopub.execute_input": "2022-12-12T15:37:13.210764Z",
     "iopub.status.busy": "2022-12-12T15:37:13.209904Z",
     "iopub.status.idle": "2022-12-12T15:37:13.219175Z",
     "shell.execute_reply": "2022-12-12T15:37:13.217715Z"
    },
    "papermill": {
     "duration": 0.022364,
     "end_time": "2022-12-12T15:37:13.221970",
     "exception": false,
     "start_time": "2022-12-12T15:37:13.199606",
     "status": "completed"
    },
    "tags": []
   },
   "outputs": [
    {
     "data": {
      "text/plain": [
       "array(['area_code_415', 'area_code_408', 'area_code_510'], dtype=object)"
      ]
     },
     "execution_count": 9,
     "metadata": {},
     "output_type": "execute_result"
    }
   ],
   "source": [
    "df['area_code'].unique()"
   ]
  },
  {
   "cell_type": "code",
   "execution_count": 10,
   "id": "c0a3bfff",
   "metadata": {
    "execution": {
     "iopub.execute_input": "2022-12-12T15:37:13.241855Z",
     "iopub.status.busy": "2022-12-12T15:37:13.241433Z",
     "iopub.status.idle": "2022-12-12T15:37:13.251110Z",
     "shell.execute_reply": "2022-12-12T15:37:13.249683Z"
    },
    "papermill": {
     "duration": 0.022562,
     "end_time": "2022-12-12T15:37:13.253583",
     "exception": false,
     "start_time": "2022-12-12T15:37:13.231021",
     "status": "completed"
    },
    "tags": []
   },
   "outputs": [
    {
     "data": {
      "text/plain": [
       "area_code_415    2108\n",
       "area_code_408    1086\n",
       "area_code_510    1056\n",
       "Name: area_code, dtype: int64"
      ]
     },
     "execution_count": 10,
     "metadata": {},
     "output_type": "execute_result"
    }
   ],
   "source": [
    "df['area_code'].value_counts()"
   ]
  },
  {
   "cell_type": "code",
   "execution_count": 11,
   "id": "b28d9902",
   "metadata": {
    "execution": {
     "iopub.execute_input": "2022-12-12T15:37:13.273301Z",
     "iopub.status.busy": "2022-12-12T15:37:13.272891Z",
     "iopub.status.idle": "2022-12-12T15:37:13.280720Z",
     "shell.execute_reply": "2022-12-12T15:37:13.279753Z"
    },
    "papermill": {
     "duration": 0.020278,
     "end_time": "2022-12-12T15:37:13.282835",
     "exception": false,
     "start_time": "2022-12-12T15:37:13.262557",
     "status": "completed"
    },
    "tags": []
   },
   "outputs": [
    {
     "data": {
      "text/plain": [
       "no     3854\n",
       "yes     396\n",
       "Name: international_plan, dtype: int64"
      ]
     },
     "execution_count": 11,
     "metadata": {},
     "output_type": "execute_result"
    }
   ],
   "source": [
    "df['international_plan'].value_counts()"
   ]
  },
  {
   "cell_type": "code",
   "execution_count": 12,
   "id": "d658aef2",
   "metadata": {
    "execution": {
     "iopub.execute_input": "2022-12-12T15:37:13.303083Z",
     "iopub.status.busy": "2022-12-12T15:37:13.301952Z",
     "iopub.status.idle": "2022-12-12T15:37:13.312770Z",
     "shell.execute_reply": "2022-12-12T15:37:13.311107Z"
    },
    "papermill": {
     "duration": 0.023806,
     "end_time": "2022-12-12T15:37:13.315532",
     "exception": false,
     "start_time": "2022-12-12T15:37:13.291726",
     "status": "completed"
    },
    "tags": []
   },
   "outputs": [
    {
     "data": {
      "text/plain": [
       "no     3138\n",
       "yes    1112\n",
       "Name: voice_mail_plan, dtype: int64"
      ]
     },
     "execution_count": 12,
     "metadata": {},
     "output_type": "execute_result"
    }
   ],
   "source": [
    "df['voice_mail_plan'].value_counts()"
   ]
  },
  {
   "cell_type": "markdown",
   "id": "899afda6",
   "metadata": {
    "papermill": {
     "duration": 0.008683,
     "end_time": "2022-12-12T15:37:13.333431",
     "exception": false,
     "start_time": "2022-12-12T15:37:13.324748",
     "status": "completed"
    },
    "tags": []
   },
   "source": [
    "## **<span style = 'color:green'>4. Data Preprocessing</span>**\n",
    "### **<span style = 'color:brown'>Label Encoding</span>**"
   ]
  },
  {
   "cell_type": "code",
   "execution_count": 13,
   "id": "862a6bc5",
   "metadata": {
    "execution": {
     "iopub.execute_input": "2022-12-12T15:37:13.352851Z",
     "iopub.status.busy": "2022-12-12T15:37:13.352429Z",
     "iopub.status.idle": "2022-12-12T15:37:14.136005Z",
     "shell.execute_reply": "2022-12-12T15:37:14.134505Z"
    },
    "papermill": {
     "duration": 0.796341,
     "end_time": "2022-12-12T15:37:14.138618",
     "exception": false,
     "start_time": "2022-12-12T15:37:13.342277",
     "status": "completed"
    },
    "tags": []
   },
   "outputs": [
    {
     "data": {
      "text/html": [
       "<div>\n",
       "<style scoped>\n",
       "    .dataframe tbody tr th:only-of-type {\n",
       "        vertical-align: middle;\n",
       "    }\n",
       "\n",
       "    .dataframe tbody tr th {\n",
       "        vertical-align: top;\n",
       "    }\n",
       "\n",
       "    .dataframe thead th {\n",
       "        text-align: right;\n",
       "    }\n",
       "</style>\n",
       "<table border=\"1\" class=\"dataframe\">\n",
       "  <thead>\n",
       "    <tr style=\"text-align: right;\">\n",
       "      <th></th>\n",
       "      <th>state</th>\n",
       "      <th>account_length</th>\n",
       "      <th>area_code</th>\n",
       "      <th>international_plan</th>\n",
       "      <th>voice_mail_plan</th>\n",
       "      <th>number_vmail_messages</th>\n",
       "      <th>total_day_minutes</th>\n",
       "      <th>total_day_calls</th>\n",
       "      <th>total_day_charge</th>\n",
       "      <th>total_eve_minutes</th>\n",
       "      <th>total_eve_calls</th>\n",
       "      <th>total_eve_charge</th>\n",
       "      <th>total_night_minutes</th>\n",
       "      <th>total_night_calls</th>\n",
       "      <th>total_night_charge</th>\n",
       "      <th>total_intl_minutes</th>\n",
       "      <th>total_intl_calls</th>\n",
       "      <th>total_intl_charge</th>\n",
       "      <th>number_customer_service_calls</th>\n",
       "      <th>churn</th>\n",
       "    </tr>\n",
       "  </thead>\n",
       "  <tbody>\n",
       "    <tr>\n",
       "      <th>0</th>\n",
       "      <td>35</td>\n",
       "      <td>107</td>\n",
       "      <td>1</td>\n",
       "      <td>0</td>\n",
       "      <td>1</td>\n",
       "      <td>26</td>\n",
       "      <td>161.6</td>\n",
       "      <td>123</td>\n",
       "      <td>27.47</td>\n",
       "      <td>195.5</td>\n",
       "      <td>103</td>\n",
       "      <td>16.62</td>\n",
       "      <td>254.4</td>\n",
       "      <td>103</td>\n",
       "      <td>11.45</td>\n",
       "      <td>13.7</td>\n",
       "      <td>3</td>\n",
       "      <td>3.70</td>\n",
       "      <td>1</td>\n",
       "      <td>0</td>\n",
       "    </tr>\n",
       "    <tr>\n",
       "      <th>1</th>\n",
       "      <td>31</td>\n",
       "      <td>137</td>\n",
       "      <td>1</td>\n",
       "      <td>0</td>\n",
       "      <td>0</td>\n",
       "      <td>0</td>\n",
       "      <td>243.4</td>\n",
       "      <td>114</td>\n",
       "      <td>41.38</td>\n",
       "      <td>121.2</td>\n",
       "      <td>110</td>\n",
       "      <td>10.30</td>\n",
       "      <td>162.6</td>\n",
       "      <td>104</td>\n",
       "      <td>7.32</td>\n",
       "      <td>12.2</td>\n",
       "      <td>5</td>\n",
       "      <td>3.29</td>\n",
       "      <td>0</td>\n",
       "      <td>0</td>\n",
       "    </tr>\n",
       "    <tr>\n",
       "      <th>2</th>\n",
       "      <td>35</td>\n",
       "      <td>84</td>\n",
       "      <td>0</td>\n",
       "      <td>1</td>\n",
       "      <td>0</td>\n",
       "      <td>0</td>\n",
       "      <td>299.4</td>\n",
       "      <td>71</td>\n",
       "      <td>50.90</td>\n",
       "      <td>61.9</td>\n",
       "      <td>88</td>\n",
       "      <td>5.26</td>\n",
       "      <td>196.9</td>\n",
       "      <td>89</td>\n",
       "      <td>8.86</td>\n",
       "      <td>6.6</td>\n",
       "      <td>7</td>\n",
       "      <td>1.78</td>\n",
       "      <td>2</td>\n",
       "      <td>0</td>\n",
       "    </tr>\n",
       "    <tr>\n",
       "      <th>3</th>\n",
       "      <td>36</td>\n",
       "      <td>75</td>\n",
       "      <td>1</td>\n",
       "      <td>1</td>\n",
       "      <td>0</td>\n",
       "      <td>0</td>\n",
       "      <td>166.7</td>\n",
       "      <td>113</td>\n",
       "      <td>28.34</td>\n",
       "      <td>148.3</td>\n",
       "      <td>122</td>\n",
       "      <td>12.61</td>\n",
       "      <td>186.9</td>\n",
       "      <td>121</td>\n",
       "      <td>8.41</td>\n",
       "      <td>10.1</td>\n",
       "      <td>3</td>\n",
       "      <td>2.73</td>\n",
       "      <td>3</td>\n",
       "      <td>0</td>\n",
       "    </tr>\n",
       "    <tr>\n",
       "      <th>4</th>\n",
       "      <td>19</td>\n",
       "      <td>121</td>\n",
       "      <td>2</td>\n",
       "      <td>0</td>\n",
       "      <td>1</td>\n",
       "      <td>24</td>\n",
       "      <td>218.2</td>\n",
       "      <td>88</td>\n",
       "      <td>37.09</td>\n",
       "      <td>348.5</td>\n",
       "      <td>108</td>\n",
       "      <td>29.62</td>\n",
       "      <td>212.6</td>\n",
       "      <td>118</td>\n",
       "      <td>9.57</td>\n",
       "      <td>7.5</td>\n",
       "      <td>7</td>\n",
       "      <td>2.03</td>\n",
       "      <td>3</td>\n",
       "      <td>0</td>\n",
       "    </tr>\n",
       "  </tbody>\n",
       "</table>\n",
       "</div>"
      ],
      "text/plain": [
       "   state  account_length  area_code  international_plan  voice_mail_plan  \\\n",
       "0     35             107          1                   0                1   \n",
       "1     31             137          1                   0                0   \n",
       "2     35              84          0                   1                0   \n",
       "3     36              75          1                   1                0   \n",
       "4     19             121          2                   0                1   \n",
       "\n",
       "   number_vmail_messages  total_day_minutes  total_day_calls  \\\n",
       "0                     26              161.6              123   \n",
       "1                      0              243.4              114   \n",
       "2                      0              299.4               71   \n",
       "3                      0              166.7              113   \n",
       "4                     24              218.2               88   \n",
       "\n",
       "   total_day_charge  total_eve_minutes  total_eve_calls  total_eve_charge  \\\n",
       "0             27.47              195.5              103             16.62   \n",
       "1             41.38              121.2              110             10.30   \n",
       "2             50.90               61.9               88              5.26   \n",
       "3             28.34              148.3              122             12.61   \n",
       "4             37.09              348.5              108             29.62   \n",
       "\n",
       "   total_night_minutes  total_night_calls  total_night_charge  \\\n",
       "0                254.4                103               11.45   \n",
       "1                162.6                104                7.32   \n",
       "2                196.9                 89                8.86   \n",
       "3                186.9                121                8.41   \n",
       "4                212.6                118                9.57   \n",
       "\n",
       "   total_intl_minutes  total_intl_calls  total_intl_charge  \\\n",
       "0                13.7                 3               3.70   \n",
       "1                12.2                 5               3.29   \n",
       "2                 6.6                 7               1.78   \n",
       "3                10.1                 3               2.73   \n",
       "4                 7.5                 7               2.03   \n",
       "\n",
       "   number_customer_service_calls  churn  \n",
       "0                              1      0  \n",
       "1                              0      0  \n",
       "2                              2      0  \n",
       "3                              3      0  \n",
       "4                              3      0  "
      ]
     },
     "execution_count": 13,
     "metadata": {},
     "output_type": "execute_result"
    }
   ],
   "source": [
    "from sklearn.preprocessing import LabelEncoder\n",
    "le = LabelEncoder()\n",
    "#object_col = [col for col in df.columns if df[col].dtypes == 'object']\n",
    "#for col in object_col:\n",
    "for col in [col for col in df.columns if df[col].dtypes == 'object']:\n",
    "    df[col] = le.fit_transform(df[col].astype(str))\n",
    "df.head()"
   ]
  },
  {
   "cell_type": "code",
   "execution_count": 14,
   "id": "786a4dae",
   "metadata": {
    "execution": {
     "iopub.execute_input": "2022-12-12T15:37:14.159331Z",
     "iopub.status.busy": "2022-12-12T15:37:14.158856Z",
     "iopub.status.idle": "2022-12-12T15:37:14.188723Z",
     "shell.execute_reply": "2022-12-12T15:37:14.187251Z"
    },
    "papermill": {
     "duration": 0.043939,
     "end_time": "2022-12-12T15:37:14.191607",
     "exception": false,
     "start_time": "2022-12-12T15:37:14.147668",
     "status": "completed"
    },
    "tags": []
   },
   "outputs": [
    {
     "data": {
      "text/html": [
       "<div>\n",
       "<style scoped>\n",
       "    .dataframe tbody tr th:only-of-type {\n",
       "        vertical-align: middle;\n",
       "    }\n",
       "\n",
       "    .dataframe tbody tr th {\n",
       "        vertical-align: top;\n",
       "    }\n",
       "\n",
       "    .dataframe thead th {\n",
       "        text-align: right;\n",
       "    }\n",
       "</style>\n",
       "<table border=\"1\" class=\"dataframe\">\n",
       "  <thead>\n",
       "    <tr style=\"text-align: right;\">\n",
       "      <th></th>\n",
       "      <th>id</th>\n",
       "      <th>state</th>\n",
       "      <th>account_length</th>\n",
       "      <th>area_code</th>\n",
       "      <th>international_plan</th>\n",
       "      <th>voice_mail_plan</th>\n",
       "      <th>number_vmail_messages</th>\n",
       "      <th>total_day_minutes</th>\n",
       "      <th>total_day_calls</th>\n",
       "      <th>total_day_charge</th>\n",
       "      <th>total_eve_minutes</th>\n",
       "      <th>total_eve_calls</th>\n",
       "      <th>total_eve_charge</th>\n",
       "      <th>total_night_minutes</th>\n",
       "      <th>total_night_calls</th>\n",
       "      <th>total_night_charge</th>\n",
       "      <th>total_intl_minutes</th>\n",
       "      <th>total_intl_calls</th>\n",
       "      <th>total_intl_charge</th>\n",
       "      <th>number_customer_service_calls</th>\n",
       "    </tr>\n",
       "  </thead>\n",
       "  <tbody>\n",
       "    <tr>\n",
       "      <th>0</th>\n",
       "      <td>1</td>\n",
       "      <td>16</td>\n",
       "      <td>128</td>\n",
       "      <td>1</td>\n",
       "      <td>0</td>\n",
       "      <td>1</td>\n",
       "      <td>25</td>\n",
       "      <td>265.1</td>\n",
       "      <td>110</td>\n",
       "      <td>45.07</td>\n",
       "      <td>197.4</td>\n",
       "      <td>99</td>\n",
       "      <td>16.78</td>\n",
       "      <td>244.7</td>\n",
       "      <td>91</td>\n",
       "      <td>11.01</td>\n",
       "      <td>10.0</td>\n",
       "      <td>3</td>\n",
       "      <td>2.70</td>\n",
       "      <td>1</td>\n",
       "    </tr>\n",
       "    <tr>\n",
       "      <th>1</th>\n",
       "      <td>2</td>\n",
       "      <td>1</td>\n",
       "      <td>118</td>\n",
       "      <td>2</td>\n",
       "      <td>1</td>\n",
       "      <td>0</td>\n",
       "      <td>0</td>\n",
       "      <td>223.4</td>\n",
       "      <td>98</td>\n",
       "      <td>37.98</td>\n",
       "      <td>220.6</td>\n",
       "      <td>101</td>\n",
       "      <td>18.75</td>\n",
       "      <td>203.9</td>\n",
       "      <td>118</td>\n",
       "      <td>9.18</td>\n",
       "      <td>6.3</td>\n",
       "      <td>6</td>\n",
       "      <td>1.70</td>\n",
       "      <td>0</td>\n",
       "    </tr>\n",
       "    <tr>\n",
       "      <th>2</th>\n",
       "      <td>3</td>\n",
       "      <td>12</td>\n",
       "      <td>62</td>\n",
       "      <td>1</td>\n",
       "      <td>0</td>\n",
       "      <td>0</td>\n",
       "      <td>0</td>\n",
       "      <td>120.7</td>\n",
       "      <td>70</td>\n",
       "      <td>20.52</td>\n",
       "      <td>307.2</td>\n",
       "      <td>76</td>\n",
       "      <td>26.11</td>\n",
       "      <td>203.0</td>\n",
       "      <td>99</td>\n",
       "      <td>9.14</td>\n",
       "      <td>13.1</td>\n",
       "      <td>6</td>\n",
       "      <td>3.54</td>\n",
       "      <td>4</td>\n",
       "    </tr>\n",
       "    <tr>\n",
       "      <th>3</th>\n",
       "      <td>4</td>\n",
       "      <td>46</td>\n",
       "      <td>93</td>\n",
       "      <td>2</td>\n",
       "      <td>0</td>\n",
       "      <td>0</td>\n",
       "      <td>0</td>\n",
       "      <td>190.7</td>\n",
       "      <td>114</td>\n",
       "      <td>32.42</td>\n",
       "      <td>218.2</td>\n",
       "      <td>111</td>\n",
       "      <td>18.55</td>\n",
       "      <td>129.6</td>\n",
       "      <td>121</td>\n",
       "      <td>5.83</td>\n",
       "      <td>8.1</td>\n",
       "      <td>3</td>\n",
       "      <td>2.19</td>\n",
       "      <td>3</td>\n",
       "    </tr>\n",
       "    <tr>\n",
       "      <th>4</th>\n",
       "      <td>5</td>\n",
       "      <td>29</td>\n",
       "      <td>174</td>\n",
       "      <td>1</td>\n",
       "      <td>0</td>\n",
       "      <td>0</td>\n",
       "      <td>0</td>\n",
       "      <td>124.3</td>\n",
       "      <td>76</td>\n",
       "      <td>21.13</td>\n",
       "      <td>277.1</td>\n",
       "      <td>112</td>\n",
       "      <td>23.55</td>\n",
       "      <td>250.7</td>\n",
       "      <td>115</td>\n",
       "      <td>11.28</td>\n",
       "      <td>15.5</td>\n",
       "      <td>5</td>\n",
       "      <td>4.19</td>\n",
       "      <td>3</td>\n",
       "    </tr>\n",
       "  </tbody>\n",
       "</table>\n",
       "</div>"
      ],
      "text/plain": [
       "   id  state  account_length  area_code  international_plan  voice_mail_plan  \\\n",
       "0   1     16             128          1                   0                1   \n",
       "1   2      1             118          2                   1                0   \n",
       "2   3     12              62          1                   0                0   \n",
       "3   4     46              93          2                   0                0   \n",
       "4   5     29             174          1                   0                0   \n",
       "\n",
       "   number_vmail_messages  total_day_minutes  total_day_calls  \\\n",
       "0                     25              265.1              110   \n",
       "1                      0              223.4               98   \n",
       "2                      0              120.7               70   \n",
       "3                      0              190.7              114   \n",
       "4                      0              124.3               76   \n",
       "\n",
       "   total_day_charge  total_eve_minutes  total_eve_calls  total_eve_charge  \\\n",
       "0             45.07              197.4               99             16.78   \n",
       "1             37.98              220.6              101             18.75   \n",
       "2             20.52              307.2               76             26.11   \n",
       "3             32.42              218.2              111             18.55   \n",
       "4             21.13              277.1              112             23.55   \n",
       "\n",
       "   total_night_minutes  total_night_calls  total_night_charge  \\\n",
       "0                244.7                 91               11.01   \n",
       "1                203.9                118                9.18   \n",
       "2                203.0                 99                9.14   \n",
       "3                129.6                121                5.83   \n",
       "4                250.7                115               11.28   \n",
       "\n",
       "   total_intl_minutes  total_intl_calls  total_intl_charge  \\\n",
       "0                10.0                 3               2.70   \n",
       "1                 6.3                 6               1.70   \n",
       "2                13.1                 6               3.54   \n",
       "3                 8.1                 3               2.19   \n",
       "4                15.5                 5               4.19   \n",
       "\n",
       "   number_customer_service_calls  \n",
       "0                              1  \n",
       "1                              0  \n",
       "2                              4  \n",
       "3                              3  \n",
       "4                              3  "
      ]
     },
     "execution_count": 14,
     "metadata": {},
     "output_type": "execute_result"
    }
   ],
   "source": [
    "for col in [col for col in df_test.columns if df_test[col].dtypes == 'object']:\n",
    "    df_test[col] = le.fit_transform(df_test[col].astype(str))\n",
    "df_test.head()"
   ]
  },
  {
   "cell_type": "code",
   "execution_count": 15,
   "id": "ec3d4be7",
   "metadata": {
    "execution": {
     "iopub.execute_input": "2022-12-12T15:37:14.213751Z",
     "iopub.status.busy": "2022-12-12T15:37:14.212972Z",
     "iopub.status.idle": "2022-12-12T15:37:14.225206Z",
     "shell.execute_reply": "2022-12-12T15:37:14.223986Z"
    },
    "papermill": {
     "duration": 0.026276,
     "end_time": "2022-12-12T15:37:14.228023",
     "exception": false,
     "start_time": "2022-12-12T15:37:14.201747",
     "status": "completed"
    },
    "tags": []
   },
   "outputs": [
    {
     "data": {
      "text/plain": [
       "(array([35, 31, 36, 19, 24, 18, 49, 15, 39, 12, 26, 34, 13, 45, 43,  9,  5,\n",
       "         3, 40, 50, 11, 30,  0, 10, 20,  2, 48, 37, 22,  8, 44,  4, 41, 27,\n",
       "        47, 23, 32, 33,  7, 46, 17, 21, 25,  1, 29, 16, 42, 14, 38,  6, 28]),\n",
       " array([1, 0, 2]),\n",
       " array([0, 1]),\n",
       " array([1, 0]),\n",
       " array([0, 1]))"
      ]
     },
     "execution_count": 15,
     "metadata": {},
     "output_type": "execute_result"
    }
   ],
   "source": [
    "df['state'].unique(),  df['area_code'].unique(), df['international_plan'].unique(), df['voice_mail_plan'].unique(), df['churn'].unique()"
   ]
  },
  {
   "cell_type": "markdown",
   "id": "f75bb637",
   "metadata": {
    "papermill": {
     "duration": 0.009424,
     "end_time": "2022-12-12T15:37:14.247381",
     "exception": false,
     "start_time": "2022-12-12T15:37:14.237957",
     "status": "completed"
    },
    "tags": []
   },
   "source": [
    "### **<span style = 'color:brown'>Splitting the dataset into the Training set and Test set</span>**"
   ]
  },
  {
   "cell_type": "code",
   "execution_count": 16,
   "id": "36dc9da0",
   "metadata": {
    "execution": {
     "iopub.execute_input": "2022-12-12T15:37:14.269286Z",
     "iopub.status.busy": "2022-12-12T15:37:14.268601Z",
     "iopub.status.idle": "2022-12-12T15:37:14.343934Z",
     "shell.execute_reply": "2022-12-12T15:37:14.342388Z"
    },
    "papermill": {
     "duration": 0.08953,
     "end_time": "2022-12-12T15:37:14.346774",
     "exception": false,
     "start_time": "2022-12-12T15:37:14.257244",
     "status": "completed"
    },
    "tags": []
   },
   "outputs": [
    {
     "name": "stdout",
     "output_type": "stream",
     "text": [
      "Train set: (2975, 19) (2975,)\n",
      "Val set: (1275, 19) (1275,)\n"
     ]
    }
   ],
   "source": [
    "X = df.drop('churn', axis = 1)\n",
    "y = df['churn']\n",
    "from sklearn.model_selection import train_test_split\n",
    "X_train, X_val, y_train, y_val = train_test_split(X, y, test_size=0.30)\n",
    "print ('Train set:', X_train.shape,  y_train.shape)\n",
    "print ('Val set:', X_val.shape,  y_val.shape)"
   ]
  },
  {
   "cell_type": "markdown",
   "id": "3c365a03",
   "metadata": {
    "papermill": {
     "duration": 0.009439,
     "end_time": "2022-12-12T15:37:14.366677",
     "exception": false,
     "start_time": "2022-12-12T15:37:14.357238",
     "status": "completed"
    },
    "tags": []
   },
   "source": [
    "### **<span style = 'color:brown'>Feature Scaling</span>**"
   ]
  },
  {
   "cell_type": "code",
   "execution_count": 17,
   "id": "edd4355a",
   "metadata": {
    "execution": {
     "iopub.execute_input": "2022-12-12T15:37:14.387555Z",
     "iopub.status.busy": "2022-12-12T15:37:14.387132Z",
     "iopub.status.idle": "2022-12-12T15:37:14.403853Z",
     "shell.execute_reply": "2022-12-12T15:37:14.402528Z"
    },
    "papermill": {
     "duration": 0.030782,
     "end_time": "2022-12-12T15:37:14.407052",
     "exception": false,
     "start_time": "2022-12-12T15:37:14.376270",
     "status": "completed"
    },
    "tags": []
   },
   "outputs": [],
   "source": [
    "from sklearn.preprocessing import StandardScaler\n",
    "scaler = StandardScaler()\n",
    "X_train = scaler.fit_transform(X_train)\n",
    "X_val = scaler.transform(X_val)\n",
    "X_test = scaler.transform(df_test.drop('id', axis = 1))"
   ]
  },
  {
   "cell_type": "markdown",
   "id": "94380b59",
   "metadata": {
    "papermill": {
     "duration": 0.01014,
     "end_time": "2022-12-12T15:37:14.427674",
     "exception": false,
     "start_time": "2022-12-12T15:37:14.417534",
     "status": "completed"
    },
    "tags": []
   },
   "source": [
    "## **<span style = 'color:green'>Model Development & Evaluation</span>**"
   ]
  },
  {
   "cell_type": "code",
   "execution_count": 18,
   "id": "c0305465",
   "metadata": {
    "execution": {
     "iopub.execute_input": "2022-12-12T15:37:14.449022Z",
     "iopub.status.busy": "2022-12-12T15:37:14.448598Z",
     "iopub.status.idle": "2022-12-12T15:37:58.015944Z",
     "shell.execute_reply": "2022-12-12T15:37:58.013825Z"
    },
    "papermill": {
     "duration": 43.581886,
     "end_time": "2022-12-12T15:37:58.019215",
     "exception": false,
     "start_time": "2022-12-12T15:37:14.437329",
     "status": "completed"
    },
    "tags": []
   },
   "outputs": [
    {
     "name": "stderr",
     "output_type": "stream",
     "text": [
      "2022-12-12 15:37:15.831496: I tensorflow/core/common_runtime/process_util.cc:146] Creating new thread pool with default inter op setting: 2. Tune using inter_op_parallelism_threads for best performance.\n",
      "2022-12-12 15:37:16.048040: I tensorflow/compiler/mlir/mlir_graph_optimization_pass.cc:185] None of the MLIR Optimization Passes are enabled (registered 2)\n"
     ]
    },
    {
     "name": "stdout",
     "output_type": "stream",
     "text": [
      "Epoch 1/100\n",
      "119/119 [==============================] - 1s 5ms/step - loss: 0.6118 - accuracy: 0.7916 - val_loss: 0.4701 - val_accuracy: 0.8635\n",
      "Epoch 2/100\n",
      "119/119 [==============================] - 0s 3ms/step - loss: 0.4900 - accuracy: 0.8407 - val_loss: 0.4315 - val_accuracy: 0.8635\n",
      "Epoch 3/100\n",
      "119/119 [==============================] - 0s 3ms/step - loss: 0.4495 - accuracy: 0.8497 - val_loss: 0.4084 - val_accuracy: 0.8635\n",
      "Epoch 4/100\n",
      "119/119 [==============================] - 0s 3ms/step - loss: 0.4331 - accuracy: 0.8538 - val_loss: 0.3945 - val_accuracy: 0.8635\n",
      "Epoch 5/100\n",
      "119/119 [==============================] - 0s 3ms/step - loss: 0.4076 - accuracy: 0.8545 - val_loss: 0.3821 - val_accuracy: 0.8635\n",
      "Epoch 6/100\n",
      "119/119 [==============================] - 0s 4ms/step - loss: 0.3952 - accuracy: 0.8551 - val_loss: 0.3743 - val_accuracy: 0.8635\n",
      "Epoch 7/100\n",
      "119/119 [==============================] - 0s 3ms/step - loss: 0.3706 - accuracy: 0.8568 - val_loss: 0.3657 - val_accuracy: 0.8635\n",
      "Epoch 8/100\n",
      "119/119 [==============================] - 0s 3ms/step - loss: 0.3748 - accuracy: 0.8571 - val_loss: 0.3577 - val_accuracy: 0.8635\n",
      "Epoch 9/100\n",
      "119/119 [==============================] - 0s 3ms/step - loss: 0.3626 - accuracy: 0.8571 - val_loss: 0.3534 - val_accuracy: 0.8635\n",
      "Epoch 10/100\n",
      "119/119 [==============================] - 0s 3ms/step - loss: 0.3522 - accuracy: 0.8578 - val_loss: 0.3478 - val_accuracy: 0.8635\n",
      "Epoch 11/100\n",
      "119/119 [==============================] - 0s 3ms/step - loss: 0.3415 - accuracy: 0.8578 - val_loss: 0.3435 - val_accuracy: 0.8635\n",
      "Epoch 12/100\n",
      "119/119 [==============================] - 0s 3ms/step - loss: 0.3361 - accuracy: 0.8582 - val_loss: 0.3382 - val_accuracy: 0.8635\n",
      "Epoch 13/100\n",
      "119/119 [==============================] - 0s 3ms/step - loss: 0.3320 - accuracy: 0.8575 - val_loss: 0.3346 - val_accuracy: 0.8635\n",
      "Epoch 14/100\n",
      "119/119 [==============================] - 0s 3ms/step - loss: 0.3302 - accuracy: 0.8578 - val_loss: 0.3311 - val_accuracy: 0.8635\n",
      "Epoch 15/100\n",
      "119/119 [==============================] - 0s 3ms/step - loss: 0.3210 - accuracy: 0.8592 - val_loss: 0.3264 - val_accuracy: 0.8635\n",
      "Epoch 16/100\n",
      "119/119 [==============================] - 0s 3ms/step - loss: 0.3143 - accuracy: 0.8571 - val_loss: 0.3236 - val_accuracy: 0.8635\n",
      "Epoch 17/100\n",
      "119/119 [==============================] - 0s 3ms/step - loss: 0.3038 - accuracy: 0.8571 - val_loss: 0.3204 - val_accuracy: 0.8643\n",
      "Epoch 18/100\n",
      "119/119 [==============================] - 0s 3ms/step - loss: 0.3083 - accuracy: 0.8582 - val_loss: 0.3189 - val_accuracy: 0.8651\n",
      "Epoch 19/100\n",
      "119/119 [==============================] - 0s 3ms/step - loss: 0.3012 - accuracy: 0.8625 - val_loss: 0.3125 - val_accuracy: 0.8675\n",
      "Epoch 20/100\n",
      "119/119 [==============================] - 0s 3ms/step - loss: 0.2912 - accuracy: 0.8602 - val_loss: 0.3105 - val_accuracy: 0.8714\n",
      "Epoch 21/100\n",
      "119/119 [==============================] - 0s 3ms/step - loss: 0.2857 - accuracy: 0.8618 - val_loss: 0.3072 - val_accuracy: 0.8753\n",
      "Epoch 22/100\n",
      "119/119 [==============================] - 0s 3ms/step - loss: 0.2895 - accuracy: 0.8642 - val_loss: 0.3034 - val_accuracy: 0.8737\n",
      "Epoch 23/100\n",
      "119/119 [==============================] - 0s 3ms/step - loss: 0.2791 - accuracy: 0.8649 - val_loss: 0.3020 - val_accuracy: 0.8737\n",
      "Epoch 24/100\n",
      "119/119 [==============================] - 0s 3ms/step - loss: 0.2736 - accuracy: 0.8632 - val_loss: 0.3008 - val_accuracy: 0.8745\n",
      "Epoch 25/100\n",
      "119/119 [==============================] - 0s 3ms/step - loss: 0.2770 - accuracy: 0.8652 - val_loss: 0.2947 - val_accuracy: 0.8745\n",
      "Epoch 26/100\n",
      "119/119 [==============================] - 0s 3ms/step - loss: 0.2662 - accuracy: 0.8726 - val_loss: 0.2937 - val_accuracy: 0.8753\n",
      "Epoch 27/100\n",
      "119/119 [==============================] - 0s 3ms/step - loss: 0.2669 - accuracy: 0.8897 - val_loss: 0.2925 - val_accuracy: 0.8761\n",
      "Epoch 28/100\n",
      "119/119 [==============================] - 0s 3ms/step - loss: 0.2710 - accuracy: 0.8894 - val_loss: 0.2906 - val_accuracy: 0.8745\n",
      "Epoch 29/100\n",
      "119/119 [==============================] - 1s 5ms/step - loss: 0.2692 - accuracy: 0.8938 - val_loss: 0.2888 - val_accuracy: 0.8910\n",
      "Epoch 30/100\n",
      "119/119 [==============================] - 1s 5ms/step - loss: 0.2595 - accuracy: 0.8998 - val_loss: 0.2883 - val_accuracy: 0.8894\n",
      "Epoch 31/100\n",
      "119/119 [==============================] - 0s 3ms/step - loss: 0.2591 - accuracy: 0.9002 - val_loss: 0.2851 - val_accuracy: 0.8988\n",
      "Epoch 32/100\n",
      "119/119 [==============================] - 0s 3ms/step - loss: 0.2526 - accuracy: 0.9022 - val_loss: 0.2858 - val_accuracy: 0.8996\n",
      "Epoch 33/100\n",
      "119/119 [==============================] - 0s 3ms/step - loss: 0.2559 - accuracy: 0.9012 - val_loss: 0.2851 - val_accuracy: 0.8996\n",
      "Epoch 34/100\n",
      "119/119 [==============================] - 0s 3ms/step - loss: 0.2478 - accuracy: 0.8968 - val_loss: 0.2846 - val_accuracy: 0.8949\n",
      "Epoch 35/100\n",
      "119/119 [==============================] - 0s 3ms/step - loss: 0.2533 - accuracy: 0.9039 - val_loss: 0.2836 - val_accuracy: 0.9004\n",
      "Epoch 36/100\n",
      "119/119 [==============================] - 0s 3ms/step - loss: 0.2416 - accuracy: 0.8995 - val_loss: 0.2826 - val_accuracy: 0.8988\n",
      "Epoch 37/100\n",
      "119/119 [==============================] - 0s 3ms/step - loss: 0.2481 - accuracy: 0.9049 - val_loss: 0.2831 - val_accuracy: 0.8996\n",
      "Epoch 38/100\n",
      "119/119 [==============================] - 0s 3ms/step - loss: 0.2477 - accuracy: 0.9059 - val_loss: 0.2818 - val_accuracy: 0.9035\n",
      "Epoch 39/100\n",
      "119/119 [==============================] - 0s 3ms/step - loss: 0.2466 - accuracy: 0.9089 - val_loss: 0.2793 - val_accuracy: 0.9020\n",
      "Epoch 40/100\n",
      "119/119 [==============================] - 0s 3ms/step - loss: 0.2440 - accuracy: 0.9052 - val_loss: 0.2782 - val_accuracy: 0.9027\n",
      "Epoch 41/100\n",
      "119/119 [==============================] - 0s 3ms/step - loss: 0.2375 - accuracy: 0.9039 - val_loss: 0.2793 - val_accuracy: 0.9043\n",
      "Epoch 42/100\n",
      "119/119 [==============================] - 0s 3ms/step - loss: 0.2401 - accuracy: 0.9092 - val_loss: 0.2776 - val_accuracy: 0.9035\n",
      "Epoch 43/100\n",
      "119/119 [==============================] - 0s 3ms/step - loss: 0.2357 - accuracy: 0.9066 - val_loss: 0.2767 - val_accuracy: 0.9075\n",
      "Epoch 44/100\n",
      "119/119 [==============================] - 0s 3ms/step - loss: 0.2340 - accuracy: 0.9069 - val_loss: 0.2774 - val_accuracy: 0.9051\n",
      "Epoch 45/100\n",
      "119/119 [==============================] - 0s 3ms/step - loss: 0.2352 - accuracy: 0.9066 - val_loss: 0.2770 - val_accuracy: 0.9012\n",
      "Epoch 46/100\n",
      "119/119 [==============================] - 0s 3ms/step - loss: 0.2381 - accuracy: 0.9055 - val_loss: 0.2775 - val_accuracy: 0.9043\n",
      "Epoch 47/100\n",
      "119/119 [==============================] - 0s 3ms/step - loss: 0.2306 - accuracy: 0.9076 - val_loss: 0.2783 - val_accuracy: 0.9020\n",
      "Epoch 48/100\n",
      "119/119 [==============================] - 0s 3ms/step - loss: 0.2428 - accuracy: 0.9066 - val_loss: 0.2756 - val_accuracy: 0.9067\n",
      "Epoch 49/100\n",
      "119/119 [==============================] - 0s 3ms/step - loss: 0.2333 - accuracy: 0.9103 - val_loss: 0.2732 - val_accuracy: 0.9059\n",
      "Epoch 50/100\n",
      "119/119 [==============================] - 0s 3ms/step - loss: 0.2263 - accuracy: 0.9133 - val_loss: 0.2737 - val_accuracy: 0.9051\n",
      "Epoch 51/100\n",
      "119/119 [==============================] - 0s 3ms/step - loss: 0.2278 - accuracy: 0.9160 - val_loss: 0.2731 - val_accuracy: 0.9051\n",
      "Epoch 52/100\n",
      "119/119 [==============================] - 0s 3ms/step - loss: 0.2213 - accuracy: 0.9119 - val_loss: 0.2747 - val_accuracy: 0.9122\n",
      "Epoch 53/100\n",
      "119/119 [==============================] - 0s 4ms/step - loss: 0.2282 - accuracy: 0.9123 - val_loss: 0.2725 - val_accuracy: 0.9090\n",
      "Epoch 54/100\n",
      "119/119 [==============================] - 0s 3ms/step - loss: 0.2295 - accuracy: 0.9139 - val_loss: 0.2720 - val_accuracy: 0.9090\n",
      "Epoch 55/100\n",
      "119/119 [==============================] - 0s 3ms/step - loss: 0.2263 - accuracy: 0.9160 - val_loss: 0.2729 - val_accuracy: 0.9082\n",
      "Epoch 56/100\n",
      "119/119 [==============================] - 0s 3ms/step - loss: 0.2251 - accuracy: 0.9126 - val_loss: 0.2743 - val_accuracy: 0.9043\n",
      "Epoch 57/100\n",
      "119/119 [==============================] - 0s 3ms/step - loss: 0.2285 - accuracy: 0.9113 - val_loss: 0.2710 - val_accuracy: 0.9129\n",
      "Epoch 58/100\n",
      "119/119 [==============================] - 0s 3ms/step - loss: 0.2328 - accuracy: 0.9106 - val_loss: 0.2692 - val_accuracy: 0.9059\n",
      "Epoch 59/100\n",
      "119/119 [==============================] - 0s 3ms/step - loss: 0.2217 - accuracy: 0.9136 - val_loss: 0.2713 - val_accuracy: 0.9098\n",
      "Epoch 60/100\n",
      "119/119 [==============================] - 0s 3ms/step - loss: 0.2250 - accuracy: 0.9160 - val_loss: 0.2727 - val_accuracy: 0.9067\n",
      "Epoch 61/100\n",
      "119/119 [==============================] - 0s 3ms/step - loss: 0.2263 - accuracy: 0.9139 - val_loss: 0.2694 - val_accuracy: 0.9051\n",
      "Epoch 62/100\n",
      "119/119 [==============================] - 0s 3ms/step - loss: 0.2225 - accuracy: 0.9217 - val_loss: 0.2697 - val_accuracy: 0.9082\n",
      "Epoch 63/100\n",
      "119/119 [==============================] - 0s 3ms/step - loss: 0.2105 - accuracy: 0.9180 - val_loss: 0.2726 - val_accuracy: 0.9059\n",
      "Epoch 64/100\n",
      "119/119 [==============================] - 0s 3ms/step - loss: 0.2200 - accuracy: 0.9193 - val_loss: 0.2685 - val_accuracy: 0.9082\n",
      "Epoch 65/100\n",
      "119/119 [==============================] - 0s 4ms/step - loss: 0.2176 - accuracy: 0.9183 - val_loss: 0.2711 - val_accuracy: 0.9075\n",
      "Epoch 66/100\n",
      "119/119 [==============================] - 0s 3ms/step - loss: 0.2236 - accuracy: 0.9133 - val_loss: 0.2675 - val_accuracy: 0.9067\n",
      "Epoch 67/100\n",
      "119/119 [==============================] - 0s 3ms/step - loss: 0.2203 - accuracy: 0.9156 - val_loss: 0.2676 - val_accuracy: 0.9098\n",
      "Epoch 68/100\n",
      "119/119 [==============================] - 0s 3ms/step - loss: 0.2181 - accuracy: 0.9180 - val_loss: 0.2683 - val_accuracy: 0.9098\n",
      "Epoch 69/100\n",
      "119/119 [==============================] - 0s 3ms/step - loss: 0.2201 - accuracy: 0.9136 - val_loss: 0.2700 - val_accuracy: 0.9075\n",
      "Epoch 70/100\n",
      "119/119 [==============================] - 0s 3ms/step - loss: 0.2162 - accuracy: 0.9200 - val_loss: 0.2668 - val_accuracy: 0.9098\n",
      "Epoch 71/100\n",
      "119/119 [==============================] - 0s 3ms/step - loss: 0.2217 - accuracy: 0.9163 - val_loss: 0.2648 - val_accuracy: 0.9145\n",
      "Epoch 72/100\n",
      "119/119 [==============================] - 0s 3ms/step - loss: 0.2240 - accuracy: 0.9119 - val_loss: 0.2627 - val_accuracy: 0.9137\n",
      "Epoch 73/100\n",
      "119/119 [==============================] - 0s 3ms/step - loss: 0.2249 - accuracy: 0.9160 - val_loss: 0.2620 - val_accuracy: 0.9129\n",
      "Epoch 74/100\n",
      "119/119 [==============================] - 0s 3ms/step - loss: 0.2166 - accuracy: 0.9197 - val_loss: 0.2635 - val_accuracy: 0.9137\n",
      "Epoch 75/100\n",
      "119/119 [==============================] - 0s 3ms/step - loss: 0.2093 - accuracy: 0.9240 - val_loss: 0.2638 - val_accuracy: 0.9145\n",
      "Epoch 76/100\n",
      "119/119 [==============================] - 0s 3ms/step - loss: 0.2109 - accuracy: 0.9180 - val_loss: 0.2617 - val_accuracy: 0.9145\n",
      "Epoch 77/100\n",
      "119/119 [==============================] - 0s 3ms/step - loss: 0.2164 - accuracy: 0.9187 - val_loss: 0.2617 - val_accuracy: 0.9114\n",
      "Epoch 78/100\n",
      "119/119 [==============================] - 0s 3ms/step - loss: 0.2033 - accuracy: 0.9247 - val_loss: 0.2615 - val_accuracy: 0.9145\n",
      "Epoch 79/100\n",
      "119/119 [==============================] - 0s 3ms/step - loss: 0.2108 - accuracy: 0.9210 - val_loss: 0.2606 - val_accuracy: 0.9106\n",
      "Epoch 80/100\n",
      "119/119 [==============================] - 0s 3ms/step - loss: 0.2143 - accuracy: 0.9133 - val_loss: 0.2660 - val_accuracy: 0.9122\n",
      "Epoch 81/100\n",
      "119/119 [==============================] - 0s 3ms/step - loss: 0.2197 - accuracy: 0.9210 - val_loss: 0.2622 - val_accuracy: 0.9106\n",
      "Epoch 82/100\n",
      "119/119 [==============================] - 0s 3ms/step - loss: 0.2068 - accuracy: 0.9207 - val_loss: 0.2620 - val_accuracy: 0.9145\n",
      "Epoch 83/100\n",
      "119/119 [==============================] - 0s 3ms/step - loss: 0.2110 - accuracy: 0.9227 - val_loss: 0.2638 - val_accuracy: 0.9114\n",
      "Epoch 84/100\n",
      "119/119 [==============================] - 0s 3ms/step - loss: 0.2137 - accuracy: 0.9250 - val_loss: 0.2612 - val_accuracy: 0.9153\n",
      "Epoch 85/100\n",
      "119/119 [==============================] - 0s 3ms/step - loss: 0.2146 - accuracy: 0.9210 - val_loss: 0.2598 - val_accuracy: 0.9122\n",
      "Epoch 86/100\n",
      "119/119 [==============================] - 0s 3ms/step - loss: 0.2104 - accuracy: 0.9203 - val_loss: 0.2625 - val_accuracy: 0.9153\n",
      "Epoch 87/100\n",
      "119/119 [==============================] - 0s 3ms/step - loss: 0.2165 - accuracy: 0.9224 - val_loss: 0.2593 - val_accuracy: 0.9137\n",
      "Epoch 88/100\n",
      "119/119 [==============================] - 0s 3ms/step - loss: 0.2051 - accuracy: 0.9193 - val_loss: 0.2610 - val_accuracy: 0.9122\n",
      "Epoch 89/100\n",
      "119/119 [==============================] - 0s 3ms/step - loss: 0.2074 - accuracy: 0.9230 - val_loss: 0.2639 - val_accuracy: 0.9137\n",
      "Epoch 90/100\n",
      "119/119 [==============================] - 0s 3ms/step - loss: 0.2121 - accuracy: 0.9213 - val_loss: 0.2620 - val_accuracy: 0.9137\n",
      "Epoch 91/100\n",
      "119/119 [==============================] - 0s 3ms/step - loss: 0.2178 - accuracy: 0.9173 - val_loss: 0.2612 - val_accuracy: 0.9145\n",
      "Epoch 92/100\n",
      "119/119 [==============================] - 0s 3ms/step - loss: 0.2116 - accuracy: 0.9183 - val_loss: 0.2634 - val_accuracy: 0.9129\n",
      "Epoch 93/100\n",
      "119/119 [==============================] - 0s 3ms/step - loss: 0.2054 - accuracy: 0.9230 - val_loss: 0.2653 - val_accuracy: 0.9114\n",
      "Epoch 94/100\n",
      "119/119 [==============================] - 0s 3ms/step - loss: 0.2105 - accuracy: 0.9210 - val_loss: 0.2623 - val_accuracy: 0.9161\n",
      "Epoch 95/100\n",
      "119/119 [==============================] - 0s 3ms/step - loss: 0.2092 - accuracy: 0.9193 - val_loss: 0.2609 - val_accuracy: 0.9137\n",
      "Epoch 96/100\n",
      "119/119 [==============================] - 0s 4ms/step - loss: 0.2078 - accuracy: 0.9227 - val_loss: 0.2621 - val_accuracy: 0.9145\n",
      "Epoch 97/100\n",
      "119/119 [==============================] - 0s 3ms/step - loss: 0.2127 - accuracy: 0.9234 - val_loss: 0.2623 - val_accuracy: 0.9145\n",
      "Epoch 98/100\n",
      "119/119 [==============================] - 0s 3ms/step - loss: 0.1979 - accuracy: 0.9230 - val_loss: 0.2647 - val_accuracy: 0.9129\n",
      "Epoch 99/100\n",
      "119/119 [==============================] - 0s 3ms/step - loss: 0.2070 - accuracy: 0.9250 - val_loss: 0.2643 - val_accuracy: 0.9129\n",
      "Epoch 100/100\n",
      "119/119 [==============================] - 0s 3ms/step - loss: 0.2103 - accuracy: 0.9257 - val_loss: 0.2615 - val_accuracy: 0.9122\n",
      "40/40 [==============================] - 0s 2ms/step - loss: 0.2615 - accuracy: 0.9122\n",
      "Accuracy of model is : 0.912\n"
     ]
    }
   ],
   "source": [
    "# 1. Define Model\n",
    "from tensorflow.keras import Sequential\n",
    "from tensorflow.keras.layers import Dense, Dropout\n",
    "model = Sequential()\n",
    "model.add(Dense(units=11, input_shape = (X.shape[1],), activation='relu', kernel_initializer = 'he_normal'))\n",
    "model.add(Dense(units = 10, activation = 'relu', kernel_initializer = 'he_normal'))\n",
    "model.add(Dropout(0.3))\n",
    "model.add(Dense(units = 10, activation = 'relu', kernel_initializer = 'he_normal'))\n",
    "model.add(Dropout(0.3))\n",
    "model.add(Dense(units = 1, activation = 'sigmoid'))\n",
    "\n",
    "# 2. Compile Model\n",
    "model.compile(optimizer = 'adam', loss = 'binary_crossentropy', metrics = ['accuracy'])\n",
    "\n",
    "# 3. Fit Model\n",
    "history = model.fit(X_train, y_train, epochs = 100, batch_size = 25, verbose = 1, validation_data=(X_val, y_val))\n",
    "\n",
    "# 4. Evaluate Model\n",
    "loss, acc = model.evaluate(X_val, y_val)\n",
    "print('Accuracy of model is : %.3f' %acc)"
   ]
  },
  {
   "cell_type": "code",
   "execution_count": 19,
   "id": "05d503fe",
   "metadata": {
    "execution": {
     "iopub.execute_input": "2022-12-12T15:37:58.124151Z",
     "iopub.status.busy": "2022-12-12T15:37:58.123729Z",
     "iopub.status.idle": "2022-12-12T15:37:58.628616Z",
     "shell.execute_reply": "2022-12-12T15:37:58.627066Z"
    },
    "papermill": {
     "duration": 0.561347,
     "end_time": "2022-12-12T15:37:58.632398",
     "exception": false,
     "start_time": "2022-12-12T15:37:58.071051",
     "status": "completed"
    },
    "tags": []
   },
   "outputs": [
    {
     "data": {
      "text/plain": [
       "<AxesSubplot:title={'center':'Accuracy'}>"
      ]
     },
     "execution_count": 19,
     "metadata": {},
     "output_type": "execute_result"
    },
    {
     "data": {
      "image/png": "[encoded data removed]",
      "text/plain": [
       "<Figure size 432x288 with 1 Axes>"
      ]
     },
     "metadata": {
      "needs_background": "light"
     },
     "output_type": "display_data"
    },
    {
     "data": {
      "image/png": "[encoded data removed]",
      "text/plain": [
       "<Figure size 432x288 with 1 Axes>"
      ]
     },
     "metadata": {
      "needs_background": "light"
     },
     "output_type": "display_data"
    }
   ],
   "source": [
    "history_df = pd.DataFrame(history.history)\n",
    "history_df.loc[:, ['loss','val_loss']].plot(title=\"Cross-entropy\")\n",
    "history_df.loc[:, ['accuracy', 'val_accuracy']].plot(title=\"Accuracy\")"
   ]
  },
  {
   "cell_type": "code",
   "execution_count": 20,
   "id": "da40e6cd",
   "metadata": {
    "execution": {
     "iopub.execute_input": "2022-12-12T15:37:58.766102Z",
     "iopub.status.busy": "2022-12-12T15:37:58.765693Z",
     "iopub.status.idle": "2022-12-12T15:37:58.772572Z",
     "shell.execute_reply": "2022-12-12T15:37:58.771562Z"
    },
    "papermill": {
     "duration": 0.072099,
     "end_time": "2022-12-12T15:37:58.776230",
     "exception": false,
     "start_time": "2022-12-12T15:37:58.704131",
     "status": "completed"
    },
    "tags": []
   },
   "outputs": [
    {
     "name": "stdout",
     "output_type": "stream",
     "text": [
      "Model: \"sequential\"\n",
      "_________________________________________________________________\n",
      "Layer (type)                 Output Shape              Param #   \n",
      "=================================================================\n",
      "dense (Dense)                (None, 11)                220       \n",
      "_________________________________________________________________\n",
      "dense_1 (Dense)              (None, 10)                120       \n",
      "_________________________________________________________________\n",
      "dropout (Dropout)            (None, 10)                0         \n",
      "_________________________________________________________________\n",
      "dense_2 (Dense)              (None, 10)                110       \n",
      "_________________________________________________________________\n",
      "dropout_1 (Dropout)          (None, 10)                0         \n",
      "_________________________________________________________________\n",
      "dense_3 (Dense)              (None, 1)                 11        \n",
      "=================================================================\n",
      "Total params: 461\n",
      "Trainable params: 461\n",
      "Non-trainable params: 0\n",
      "_________________________________________________________________\n"
     ]
    }
   ],
   "source": [
    "model.summary()"
   ]
  },
  {
   "cell_type": "markdown",
   "id": "e9e8345e",
   "metadata": {
    "papermill": {
     "duration": 0.052653,
     "end_time": "2022-12-12T15:37:58.883045",
     "exception": false,
     "start_time": "2022-12-12T15:37:58.830392",
     "status": "completed"
    },
    "tags": []
   },
   "source": [
    "## **<span style = 'color:green'>Model Prediction</span>**"
   ]
  },
  {
   "cell_type": "code",
   "execution_count": 21,
   "id": "b748987b",
   "metadata": {
    "execution": {
     "iopub.execute_input": "2022-12-12T15:37:59.042072Z",
     "iopub.status.busy": "2022-12-12T15:37:59.041510Z",
     "iopub.status.idle": "2022-12-12T15:37:59.063437Z",
     "shell.execute_reply": "2022-12-12T15:37:59.062313Z"
    },
    "papermill": {
     "duration": 0.106441,
     "end_time": "2022-12-12T15:37:59.065843",
     "exception": false,
     "start_time": "2022-12-12T15:37:58.959402",
     "status": "completed"
    },
    "tags": []
   },
   "outputs": [
    {
     "data": {
      "text/html": [
       "<div>\n",
       "<style scoped>\n",
       "    .dataframe tbody tr th:only-of-type {\n",
       "        vertical-align: middle;\n",
       "    }\n",
       "\n",
       "    .dataframe tbody tr th {\n",
       "        vertical-align: top;\n",
       "    }\n",
       "\n",
       "    .dataframe thead th {\n",
       "        text-align: right;\n",
       "    }\n",
       "</style>\n",
       "<table border=\"1\" class=\"dataframe\">\n",
       "  <thead>\n",
       "    <tr style=\"text-align: right;\">\n",
       "      <th></th>\n",
       "      <th>id</th>\n",
       "      <th>churn</th>\n",
       "    </tr>\n",
       "  </thead>\n",
       "  <tbody>\n",
       "    <tr>\n",
       "      <th>0</th>\n",
       "      <td>1</td>\n",
       "      <td>yes</td>\n",
       "    </tr>\n",
       "    <tr>\n",
       "      <th>1</th>\n",
       "      <td>2</td>\n",
       "      <td>no</td>\n",
       "    </tr>\n",
       "    <tr>\n",
       "      <th>2</th>\n",
       "      <td>3</td>\n",
       "      <td>no</td>\n",
       "    </tr>\n",
       "    <tr>\n",
       "      <th>3</th>\n",
       "      <td>4</td>\n",
       "      <td>yes</td>\n",
       "    </tr>\n",
       "    <tr>\n",
       "      <th>4</th>\n",
       "      <td>5</td>\n",
       "      <td>yes</td>\n",
       "    </tr>\n",
       "  </tbody>\n",
       "</table>\n",
       "</div>"
      ],
      "text/plain": [
       "   id churn\n",
       "0   1   yes\n",
       "1   2    no\n",
       "2   3    no\n",
       "3   4   yes\n",
       "4   5   yes"
      ]
     },
     "execution_count": 21,
     "metadata": {},
     "output_type": "execute_result"
    }
   ],
   "source": [
    "pd.read_csv('/kaggle/input/customer-churn-prediction-2020/sampleSubmission.csv').head()"
   ]
  },
  {
   "cell_type": "code",
   "execution_count": 22,
   "id": "35a9aa88",
   "metadata": {
    "execution": {
     "iopub.execute_input": "2022-12-12T15:37:59.182377Z",
     "iopub.status.busy": "2022-12-12T15:37:59.181189Z",
     "iopub.status.idle": "2022-12-12T15:37:59.469728Z",
     "shell.execute_reply": "2022-12-12T15:37:59.468329Z"
    },
    "papermill": {
     "duration": 0.34957,
     "end_time": "2022-12-12T15:37:59.472547",
     "exception": false,
     "start_time": "2022-12-12T15:37:59.122977",
     "status": "completed"
    },
    "tags": []
   },
   "outputs": [
    {
     "data": {
      "text/html": [
       "<div>\n",
       "<style scoped>\n",
       "    .dataframe tbody tr th:only-of-type {\n",
       "        vertical-align: middle;\n",
       "    }\n",
       "\n",
       "    .dataframe tbody tr th {\n",
       "        vertical-align: top;\n",
       "    }\n",
       "\n",
       "    .dataframe thead th {\n",
       "        text-align: right;\n",
       "    }\n",
       "</style>\n",
       "<table border=\"1\" class=\"dataframe\">\n",
       "  <thead>\n",
       "    <tr style=\"text-align: right;\">\n",
       "      <th></th>\n",
       "      <th>id</th>\n",
       "      <th>churn</th>\n",
       "    </tr>\n",
       "  </thead>\n",
       "  <tbody>\n",
       "  </tbody>\n",
       "</table>\n",
       "</div>"
      ],
      "text/plain": [
       "Empty DataFrame\n",
       "Columns: [id, churn]\n",
       "Index: []"
      ]
     },
     "execution_count": 22,
     "metadata": {},
     "output_type": "execute_result"
    }
   ],
   "source": [
    "predictions = (model.predict(X_test)).astype(\"int32\")\n",
    "test_preds = predictions.reshape(len(df_test),)\n",
    "test_ids = df_test['id']\n",
    "df_pred = pd.DataFrame({'id': df_test['id'], 'churn': test_preds})\n",
    "df_pred['churn'] = le.inverse_transform(df_pred['churn'])\n",
    "df_pred[df_pred['churn']=='yes']"
   ]
  }
 ],
 "metadata": {
  "kernelspec": {
   "display_name": "Python 3",
   "language": "python",
   "name": "python3"
  },
  "language_info": {
   "codemirror_mode": {
    "name": "ipython",
    "version": 3
   },
   "file_extension": ".py",
   "mimetype": "text/x-python",
   "name": "python",
   "nbconvert_exporter": "python",
   "pygments_lexer": "ipython3",
   "version": "3.7.12"
  },
  "papermill": {
   "default_parameters": {},
   "duration": 65.317083,
   "end_time": "2022-12-12T15:38:02.455002",
   "environment_variables": {},
   "exception": null,
   "input_path": "__notebook__.ipynb",
   "output_path": "__notebook__.ipynb",
   "parameters": {},
   "start_time": "2022-12-12T15:36:57.137919",
   "version": "2.3.4"
  }
 },
 "nbformat": 4,
 "nbformat_minor": 5
}
