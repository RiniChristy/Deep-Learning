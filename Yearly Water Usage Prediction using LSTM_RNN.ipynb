{
  "nbformat": 4,
  "nbformat_minor": 0,
  "metadata": {
    "colab": {
      "provenance": []
    },
    "kernelspec": {
      "name": "python3",
      "display_name": "Python 3"
    },
    "language_info": {
      "name": "python"
    }
  },
  "cells": [
    {
      "cell_type": "markdown",
      "source": [
        "# <font color='Purple'>**Yearly Water Usage Prediction using LSTM_RNN**</font>\n"
      ],
      "metadata": {
        "id": "vp8WoBLHNC8w"
      }
    },
    {
      "cell_type": "markdown",
      "source": [
        "## <font color='green'>**Table of Contents**</font>\n",
        ">[Yearly Water Usage Prediction using LSTM_RNN](#scrollTo=vp8WoBLHNC8w)\n",
        "\n",
        ">>[1. Dataset Information](#scrollTo=HFsotPcgdHii)\n",
        "\n",
        ">>[2. Import the Required Libraries & Modules](#scrollTo=ZwUbH7LWdKKv)\n",
        "\n",
        ">>[3. Load the Monthly Sunspot dataset](#scrollTo=Gl38CKbdO5TU)\n",
        "\n",
        ">>[4. Time Series Visualization](#scrollTo=nxXlB8AgR8af)\n",
        "\n",
        ">>[5. Data Preprocessing](#scrollTo=7mvSo65USHm5)\n",
        "\n",
        ">>>[5.1 Splitting Data into Train & Test set](#scrollTo=EmOgUQLRdp0W)\n",
        "\n",
        ">>>>[Define a format_data function for Splitting Data](#scrollTo=q32TWU0USpM2)\n",
        "\n",
        ">>>[5.2 Create Independent & Dependent Variables](#scrollTo=rvBa4oijUMha)\n",
        "\n",
        ">>>>[Define a prepare data function to create independent & dependent variables for Train data & Test data](#scrollTo=rvBa4oijUMha)\n",
        "\n",
        ">>[6. Implementing Linear Regression](#scrollTo=r-lArFU2BfPq)\n",
        "\n",
        ">>>>[Define a model_evaluation function](#scrollTo=XpQGdHkVOKi5)\n",
        "\n",
        ">>[7. RNN_LSTM Model Development & Evaluation](#scrollTo=aKBD97MGSv6S)\n",
        "\n",
        ">>>>[Define a LSTM_RNN function to build RNN model](#scrollTo=ZZOqfnLpVRRZ)\n",
        "\n",
        ">>[8. Prediction using LSTM_RNN Model](#scrollTo=hfKrVIZFZTcV)\n",
        "\n",
        ">>>>[LSTM_RNN model prediction using test data](#scrollTo=hfKrVIZFZTcV)\n",
        "\n",
        ">>>>[LSTM_RNN model prediction using while loop](#scrollTo=jtTTRLo9CjBt)\n",
        "\n"
      ],
      "metadata": {
        "colab_type": "toc",
        "id": "kU5CYc-meMry"
      }
    },
    {
      "cell_type": "markdown",
      "source": [
        "## <font color='green'>**1. Dataset Information**</font>\n",
        "The dataset provides 79 years of yearly water usage in the units of liters per capita per day in Baltimore from 1885 to 1963 and is credited to Hipel and McLeod, 1994."
      ],
      "metadata": {
        "id": "HFsotPcgdHii"
      }
    },
    {
      "cell_type": "markdown",
      "source": [
        "## <font color='green'>**2. Import the Required Libraries & Modules**</font>"
      ],
      "metadata": {
        "id": "ZwUbH7LWdKKv"
      }
    },
    {
      "cell_type": "code",
      "source": [
        "import numpy as np\n",
        "import pandas as pd\n",
        "import matplotlib.pyplot as plt\n",
        "from sklearn.preprocessing import MinMaxScaler\n",
        "import tensorflow as tf\n",
        "from tensorflow.keras import Sequential\n",
        "from tensorflow.keras.layers import Dense, LSTM\n",
        "from sklearn.metrics import mean_squared_error, mean_absolute_error\n",
        "import math"
      ],
      "metadata": {
        "id": "G9jZ0tml7LIU"
      },
      "execution_count": 1,
      "outputs": []
    },
    {
      "cell_type": "markdown",
      "source": [
        "## <font color='green'>**3. Load the Yearly Water Usage dataset**</font>"
      ],
      "metadata": {
        "id": "Gl38CKbdO5TU"
      }
    },
    {
      "cell_type": "code",
      "source": [
        "url = 'https://raw.githubusercontent.com/jbrownlee/Datasets/master/yearly-water-usage.csv'\n",
        "df = pd.read_csv(url)\n",
        "df"
      ],
      "metadata": {
        "colab": {
          "base_uri": "https://localhost:8080/",
          "height": 423
        },
        "id": "DDwSlaf_Ge47",
        "outputId": "deee76b6-9314-43d0-f5d1-d67919ee902b"
      },
      "execution_count": 2,
      "outputs": [
        {
          "output_type": "execute_result",
          "data": {
            "text/plain": [
              "    Year  Water\n",
              "0   1885    356\n",
              "1   1886    386\n",
              "2   1887    397\n",
              "3   1888    397\n",
              "4   1889    413\n",
              "..   ...    ...\n",
              "74  1959    594\n",
              "75  1960    587\n",
              "76  1961    587\n",
              "77  1962    625\n",
              "78  1963    613\n",
              "\n",
              "[79 rows x 2 columns]"
            ],
            "text/html": [
              "\n",
              "  <div id=\"df-f19478b5-1732-4381-909d-addb1fe6b9e8\">\n",
              "    <div class=\"colab-df-container\">\n",
              "      <div>\n",
              "<style scoped>\n",
              "    .dataframe tbody tr th:only-of-type {\n",
              "        vertical-align: middle;\n",
              "    }\n",
              "\n",
              "    .dataframe tbody tr th {\n",
              "        vertical-align: top;\n",
              "    }\n",
              "\n",
              "    .dataframe thead th {\n",
              "        text-align: right;\n",
              "    }\n",
              "</style>\n",
              "<table border=\"1\" class=\"dataframe\">\n",
              "  <thead>\n",
              "    <tr style=\"text-align: right;\">\n",
              "      <th></th>\n",
              "      <th>Year</th>\n",
              "      <th>Water</th>\n",
              "    </tr>\n",
              "  </thead>\n",
              "  <tbody>\n",
              "    <tr>\n",
              "      <th>0</th>\n",
              "      <td>1885</td>\n",
              "      <td>356</td>\n",
              "    </tr>\n",
              "    <tr>\n",
              "      <th>1</th>\n",
              "      <td>1886</td>\n",
              "      <td>386</td>\n",
              "    </tr>\n",
              "    <tr>\n",
              "      <th>2</th>\n",
              "      <td>1887</td>\n",
              "      <td>397</td>\n",
              "    </tr>\n",
              "    <tr>\n",
              "      <th>3</th>\n",
              "      <td>1888</td>\n",
              "      <td>397</td>\n",
              "    </tr>\n",
              "    <tr>\n",
              "      <th>4</th>\n",
              "      <td>1889</td>\n",
              "      <td>413</td>\n",
              "    </tr>\n",
              "    <tr>\n",
              "      <th>...</th>\n",
              "      <td>...</td>\n",
              "      <td>...</td>\n",
              "    </tr>\n",
              "    <tr>\n",
              "      <th>74</th>\n",
              "      <td>1959</td>\n",
              "      <td>594</td>\n",
              "    </tr>\n",
              "    <tr>\n",
              "      <th>75</th>\n",
              "      <td>1960</td>\n",
              "      <td>587</td>\n",
              "    </tr>\n",
              "    <tr>\n",
              "      <th>76</th>\n",
              "      <td>1961</td>\n",
              "      <td>587</td>\n",
              "    </tr>\n",
              "    <tr>\n",
              "      <th>77</th>\n",
              "      <td>1962</td>\n",
              "      <td>625</td>\n",
              "    </tr>\n",
              "    <tr>\n",
              "      <th>78</th>\n",
              "      <td>1963</td>\n",
              "      <td>613</td>\n",
              "    </tr>\n",
              "  </tbody>\n",
              "</table>\n",
              "<p>79 rows × 2 columns</p>\n",
              "</div>\n",
              "      <button class=\"colab-df-convert\" onclick=\"convertToInteractive('df-f19478b5-1732-4381-909d-addb1fe6b9e8')\"\n",
              "              title=\"Convert this dataframe to an interactive table.\"\n",
              "              style=\"display:none;\">\n",
              "        \n",
              "  <svg xmlns=\"http://www.w3.org/2000/svg\" height=\"24px\"viewBox=\"0 0 24 24\"\n",
              "       width=\"24px\">\n",
              "    <path d=\"M0 0h24v24H0V0z\" fill=\"none\"/>\n",
              "    <path d=\"M18.56 5.44l.94 2.06.94-2.06 2.06-.94-2.06-.94-.94-2.06-.94 2.06-2.06.94zm-11 1L8.5 8.5l.94-2.06 2.06-.94-2.06-.94L8.5 2.5l-.94 2.06-2.06.94zm10 10l.94 2.06.94-2.06 2.06-.94-2.06-.94-.94-2.06-.94 2.06-2.06.94z\"/><path d=\"M17.41 7.96l-1.37-1.37c-.4-.4-.92-.59-1.43-.59-.52 0-1.04.2-1.43.59L10.3 9.45l-7.72 7.72c-.78.78-.78 2.05 0 2.83L4 21.41c.39.39.9.59 1.41.59.51 0 1.02-.2 1.41-.59l7.78-7.78 2.81-2.81c.8-.78.8-2.07 0-2.86zM5.41 20L4 18.59l7.72-7.72 1.47 1.35L5.41 20z\"/>\n",
              "  </svg>\n",
              "      </button>\n",
              "      \n",
              "  <style>\n",
              "    .colab-df-container {\n",
              "      display:flex;\n",
              "      flex-wrap:wrap;\n",
              "      gap: 12px;\n",
              "    }\n",
              "\n",
              "    .colab-df-convert {\n",
              "      background-color: #E8F0FE;\n",
              "      border: none;\n",
              "      border-radius: 50%;\n",
              "      cursor: pointer;\n",
              "      display: none;\n",
              "      fill: #1967D2;\n",
              "      height: 32px;\n",
              "      padding: 0 0 0 0;\n",
              "      width: 32px;\n",
              "    }\n",
              "\n",
              "    .colab-df-convert:hover {\n",
              "      background-color: #E2EBFA;\n",
              "      box-shadow: 0px 1px 2px rgba(60, 64, 67, 0.3), 0px 1px 3px 1px rgba(60, 64, 67, 0.15);\n",
              "      fill: #174EA6;\n",
              "    }\n",
              "\n",
              "    [theme=dark] .colab-df-convert {\n",
              "      background-color: #3B4455;\n",
              "      fill: #D2E3FC;\n",
              "    }\n",
              "\n",
              "    [theme=dark] .colab-df-convert:hover {\n",
              "      background-color: #434B5C;\n",
              "      box-shadow: 0px 1px 3px 1px rgba(0, 0, 0, 0.15);\n",
              "      filter: drop-shadow(0px 1px 2px rgba(0, 0, 0, 0.3));\n",
              "      fill: #FFFFFF;\n",
              "    }\n",
              "  </style>\n",
              "\n",
              "      <script>\n",
              "        const buttonEl =\n",
              "          document.querySelector('#df-f19478b5-1732-4381-909d-addb1fe6b9e8 button.colab-df-convert');\n",
              "        buttonEl.style.display =\n",
              "          google.colab.kernel.accessAllowed ? 'block' : 'none';\n",
              "\n",
              "        async function convertToInteractive(key) {\n",
              "          const element = document.querySelector('#df-f19478b5-1732-4381-909d-addb1fe6b9e8');\n",
              "          const dataTable =\n",
              "            await google.colab.kernel.invokeFunction('convertToInteractive',\n",
              "                                                     [key], {});\n",
              "          if (!dataTable) return;\n",
              "\n",
              "          const docLinkHtml = 'Like what you see? Visit the ' +\n",
              "            '<a target=\"_blank\" href=https://colab.research.google.com/notebooks/data_table.ipynb>data table notebook</a>'\n",
              "            + ' to learn more about interactive tables.';\n",
              "          element.innerHTML = '';\n",
              "          dataTable['output_type'] = 'display_data';\n",
              "          await google.colab.output.renderOutput(dataTable, element);\n",
              "          const docLink = document.createElement('div');\n",
              "          docLink.innerHTML = docLinkHtml;\n",
              "          element.appendChild(docLink);\n",
              "        }\n",
              "      </script>\n",
              "    </div>\n",
              "  </div>\n",
              "  "
            ]
          },
          "metadata": {},
          "execution_count": 2
        }
      ]
    },
    {
      "cell_type": "markdown",
      "source": [
        "## <font color='green'>**4. Time Series Visualization**</font>"
      ],
      "metadata": {
        "id": "nxXlB8AgR8af"
      }
    },
    {
      "cell_type": "code",
      "source": [
        "plt.figure(figsize=(16,5), dpi = 100)\n",
        "plt.plot(df.Year, df.Water, color='lightcoral')\n",
        "plt.title('Yearly Water Usage (liters per capita per day) Time Series')\n",
        "plt.show();"
      ],
      "metadata": {
        "colab": {
          "base_uri": "https://localhost:8080/",
          "height": 460
        },
        "id": "nfkA1puwQfN4",
        "outputId": "26e6edce-27e8-427f-b3dd-5db466aa2cc9"
      },
      "execution_count": 3,
      "outputs": [
        {
          "output_type": "display_data",
          "data": {
            "text/plain": [
              "<Figure size 1600x500 with 1 Axes>"
            ],
            "image/png": "[encoded data removed]"
          },
          "metadata": {
            "needs_background": "light"
          }
        }
      ]
    },
    {
      "cell_type": "markdown",
      "source": [
        "## <font color='green'>**5. Data Preprocessing**</font>"
      ],
      "metadata": {
        "id": "7mvSo65USHm5"
      }
    },
    {
      "cell_type": "markdown",
      "source": [
        "### <font color='orange'>**5.1 Splitting Data into Train & Test set**</font>"
      ],
      "metadata": {
        "id": "EmOgUQLRdp0W"
      }
    },
    {
      "cell_type": "code",
      "source": [
        "n = len(df)\n",
        "# split\n",
        "split_percent=0.8\n",
        "split = int(n*split_percent)\n",
        "train_data = df[:split]\n",
        "test_data = df[split:]"
      ],
      "metadata": {
        "id": "iLrOtGlVGxt0"
      },
      "execution_count": 4,
      "outputs": []
    },
    {
      "cell_type": "markdown",
      "source": [
        "#### <font color='magenta'>**Define a format_data function for Splitting Data**</font>"
      ],
      "metadata": {
        "id": "q32TWU0USpM2"
      }
    },
    {
      "cell_type": "code",
      "execution_count": 5,
      "metadata": {
        "id": "M3av45cs6wR0"
      },
      "outputs": [],
      "source": [
        "def format_data(url, split_percent=0.8):\n",
        "    data = pd.read_csv(url)\n",
        "    n = len(data)\n",
        "    # split\n",
        "    split = int(n*split_percent)\n",
        "    train_data = data[:split]['Water']\n",
        "    test_data = data[split:]['Water']\n",
        "    return train_data, test_data, data"
      ]
    },
    {
      "cell_type": "code",
      "source": [
        "water_usage_url = 'https://raw.githubusercontent.com/jbrownlee/Datasets/master/yearly-water-usage.csv'\n",
        "train_data, test_data, data = format_data(water_usage_url)\n",
        "n_steps = 3\n",
        "train_data[0:5], test_data, data.head()"
      ],
      "metadata": {
        "id": "2exqeoJj7Dbl",
        "colab": {
          "base_uri": "https://localhost:8080/",
          "height": 0
        },
        "outputId": "90eea532-d34c-4487-9378-daf350c2c992"
      },
      "execution_count": 6,
      "outputs": [
        {
          "output_type": "execute_result",
          "data": {
            "text/plain": [
              "(0    356\n",
              " 1    386\n",
              " 2    397\n",
              " 3    397\n",
              " 4    413\n",
              " Name: Water, dtype: int64, 63    613\n",
              " 64    598\n",
              " 65    575\n",
              " 66    564\n",
              " 67    549\n",
              " 68    538\n",
              " 69    568\n",
              " 70    575\n",
              " 71    579\n",
              " 72    587\n",
              " 73    602\n",
              " 74    594\n",
              " 75    587\n",
              " 76    587\n",
              " 77    625\n",
              " 78    613\n",
              " Name: Water, dtype: int64,    Year  Water\n",
              " 0  1885    356\n",
              " 1  1886    386\n",
              " 2  1887    397\n",
              " 3  1888    397\n",
              " 4  1889    413)"
            ]
          },
          "metadata": {},
          "execution_count": 6
        }
      ]
    },
    {
      "cell_type": "markdown",
      "source": [
        "### <font color='orange'>**5.2 Create Independent & Dependent Variables**</font>\n",
        "#### <font color='magenta'>**Define a prepare data function to create independent & dependent variables for Train data & Test data**</font>"
      ],
      "metadata": {
        "id": "rvBa4oijUMha"
      }
    },
    {
      "cell_type": "code",
      "source": [
        "def prepare_data(time_series, n_steps):\n",
        "  X,y=[],[]\n",
        "  for i in range(len(time_series)):\n",
        "    end=i+n_steps\n",
        "\n",
        "    if end> len(time_series)-1:\n",
        "      break\n",
        "\n",
        "    seqX,seqy= time_series[i:end], time_series[end]\n",
        "    X.append(seqX)\n",
        "    y.append(seqy)\n",
        "\n",
        "  return np.array(X), np.array(y)\n",
        "\n",
        "X,y= prepare_data(time_series = train_data, n_steps = 3)\n",
        "test_data= test_data.tolist()\n",
        "X_test, y_test = prepare_data(time_series = test_data, n_steps = 3)\n",
        "X[0:5],y[0:5]"
      ],
      "metadata": {
        "colab": {
          "base_uri": "https://localhost:8080/",
          "height": 0
        },
        "id": "C7bjZ5iKlfSn",
        "outputId": "3b284bef-3fc4-45b1-aea9-1e6b66d879b2"
      },
      "execution_count": 7,
      "outputs": [
        {
          "output_type": "execute_result",
          "data": {
            "text/plain": [
              "(array([[356, 386, 397],\n",
              "        [386, 397, 397],\n",
              "        [397, 397, 413],\n",
              "        [397, 413, 458],\n",
              "        [413, 458, 485]]), array([397, 413, 458, 485, 344]))"
            ]
          },
          "metadata": {},
          "execution_count": 7
        }
      ]
    },
    {
      "cell_type": "markdown",
      "source": [
        "## <font color='green'>**6. Implementing Linear Regression**</font> "
      ],
      "metadata": {
        "id": "r-lArFU2BfPq"
      }
    },
    {
      "cell_type": "code",
      "source": [
        "#importing Linear Regression and metric mean square error\n",
        "from sklearn.linear_model import LinearRegression as LR\n",
        "# Creating instance of Linear Regresssion\n",
        "lr = LR()\n",
        "\n",
        "# Fitting the model\n",
        "lr.fit(X, y)\n",
        "# Predicting over the Train Set and calculating error\n",
        "train_predict = lr.predict(X)\n",
        "test_predict = lr.predict(X_test)\n",
        "train_mae = mean_absolute_error(train_predict, y)\n",
        "print('Training Mean Absolute Error', train_mae)\n",
        "train_rmse= math.sqrt(mean_squared_error(y, train_predict))\n",
        "print('Training Root Mean Square Error', train_rmse )\n",
        "test_mae = mean_absolute_error(test_predict, y_test)\n",
        "print('Testing Mean Absolute Error', test_mae)\n",
        "test_rmse= math.sqrt(mean_squared_error(y_test, test_predict))\n",
        "print('Training Root Mean Square Error', test_rmse )"
      ],
      "metadata": {
        "colab": {
          "base_uri": "https://localhost:8080/",
          "height": 0
        },
        "id": "4WzSvnAQ8pIL",
        "outputId": "b481d26b-d47e-4d39-c3f1-f21b410ad2b4"
      },
      "execution_count": 8,
      "outputs": [
        {
          "output_type": "stream",
          "name": "stdout",
          "text": [
            "Training Mean Absolute Error 22.672826307038118\n",
            "Training Root Mean Square Error 34.8135193357618\n",
            "Testing Mean Absolute Error 13.51440546925443\n",
            "Training Root Mean Square Error 18.595102333234177\n"
          ]
        }
      ]
    },
    {
      "cell_type": "markdown",
      "source": [
        "#### <font color='magenta'>**Define a model_evaluation function**</font>"
      ],
      "metadata": {
        "id": "XpQGdHkVOKi5"
      }
    },
    {
      "cell_type": "code",
      "source": [
        "def model_evaluation(y, ypred, model_name): \n",
        "       \n",
        "    # Model Evaluation metrics\n",
        "    print(\"\\n Model Evaluation Report: \")\n",
        "    print('Mean Absolute Error(MAE) of', model_name,':', mean_absolute_error(y, ypred))\n",
        "    print('Mean Squared Error(MSE) of', model_name,':', mean_squared_error(y, ypred))\n",
        "    print('Root Mean Squared Error (RMSE) of', model_name,':', mean_squared_error(y, ypred, squared = False))\n",
        "    print('\\n')\n",
        "    \n",
        "    # Actual vs Predicted Scatter Plot\n",
        "    f, ax = plt.subplots(figsize=(15,8),dpi=50);\n",
        "    plt.scatter(y, ypred, label=\"Actual vs Predicted\")\n",
        "    # Perfect predictions\n",
        "    plt.xlabel('Yearly Water Usage Values')\n",
        "    plt.ylabel('Predicted Yearly Water Usage Values')\n",
        "    plt.title('Expection vs Prediction')\n",
        "    plt.plot(y,y,'r', label=\"Perfect Expected Prediction\")\n",
        "    plt.legend()\n",
        "      \n",
        "    # Actual vs Predicted Plot\n",
        "    print('\\n')\n",
        "    fig,ax=plt.subplots(figsize=(15,8), dpi=50)\n",
        "    plt.plot(y, label='Actual values', color = 'blue')\n",
        "    plt.plot(ypred, label='Predicted values', color = 'red')\n",
        "    plt.legend(loc='best')\n",
        "    plt.title(f'Actual vs Predicted for {model_name}')\n",
        "    plt.show();"
      ],
      "metadata": {
        "id": "W49AIN1AEgvw"
      },
      "execution_count": 9,
      "outputs": []
    },
    {
      "cell_type": "code",
      "source": [
        "model_evaluation(y_test, test_predict, 'Linear Regression Prediction for test data')"
      ],
      "metadata": {
        "colab": {
          "base_uri": "https://localhost:8080/",
          "height": 849
        },
        "id": "56Azoyeu__OA",
        "outputId": "23874a3e-2ec5-4bb3-bbf9-10230d56b74b"
      },
      "execution_count": 10,
      "outputs": [
        {
          "output_type": "stream",
          "name": "stdout",
          "text": [
            "\n",
            " Model Evaluation Report: \n",
            "Mean Absolute Error(MAE) of Linear Regression Prediction for test data : 13.51440546925443\n",
            "Mean Squared Error(MSE) of Linear Regression Prediction for test data : 345.77783078345107\n",
            "Root Mean Squared Error (RMSE) of Linear Regression Prediction for test data : 18.595102333234177\n",
            "\n",
            "\n",
            "\n",
            "\n"
          ]
        },
        {
          "output_type": "display_data",
          "data": {
            "text/plain": [
              "<Figure size 750x400 with 1 Axes>"
            ],
            "image/png": "[encoded data removed]"
          },
          "metadata": {
            "needs_background": "light"
          }
        },
        {
          "output_type": "display_data",
          "data": {
            "text/plain": [
              "<Figure size 750x400 with 1 Axes>"
            ],
            "image/png": "[encoded data removed]"
          },
          "metadata": {
            "needs_background": "light"
          }
        }
      ]
    },
    {
      "cell_type": "markdown",
      "source": [
        "## <font color='green'>**7. RNN_LSTM Model Development & Evaluation**</font>"
      ],
      "metadata": {
        "id": "aKBD97MGSv6S"
      }
    },
    {
      "cell_type": "code",
      "source": [
        "X.shape"
      ],
      "metadata": {
        "colab": {
          "base_uri": "https://localhost:8080/",
          "height": 0
        },
        "id": "eGbL01d9tTvs",
        "outputId": "73cc6021-b741-417b-de5a-1a4c7ebb2702"
      },
      "execution_count": 11,
      "outputs": [
        {
          "output_type": "execute_result",
          "data": {
            "text/plain": [
              "(60, 3)"
            ]
          },
          "metadata": {},
          "execution_count": 11
        }
      ]
    },
    {
      "cell_type": "code",
      "source": [
        "n_features=1\n",
        "X= X.reshape((X.shape[0]), (X.shape[1]), n_features)\n",
        "X.shape"
      ],
      "metadata": {
        "colab": {
          "base_uri": "https://localhost:8080/",
          "height": 0
        },
        "id": "PwteAwFftXEj",
        "outputId": "61044146-8d15-439f-b398-e1c6dc907af7"
      },
      "execution_count": 12,
      "outputs": [
        {
          "output_type": "execute_result",
          "data": {
            "text/plain": [
              "(60, 3, 1)"
            ]
          },
          "metadata": {},
          "execution_count": 12
        }
      ]
    },
    {
      "cell_type": "code",
      "source": [
        "X_test= X_test.reshape((X_test.shape[0]), (X_test.shape[1]), n_features)\n",
        "X_test.shape"
      ],
      "metadata": {
        "colab": {
          "base_uri": "https://localhost:8080/",
          "height": 0
        },
        "id": "Ry_goi0MzS11",
        "outputId": "3adf26aa-ed0b-4b7f-b626-0f4828374994"
      },
      "execution_count": 13,
      "outputs": [
        {
          "output_type": "execute_result",
          "data": {
            "text/plain": [
              "(13, 3, 1)"
            ]
          },
          "metadata": {},
          "execution_count": 13
        }
      ]
    },
    {
      "cell_type": "code",
      "source": [
        "# 1. Define LSTM Model\n",
        "model= Sequential()\n",
        "model.add(LSTM(50, activation='relu', return_sequences=True,input_shape=(n_steps,n_features)))\n",
        "model.add(LSTM(50, activation='relu'))\n",
        "model.add(Dense(1))\n",
        "# 2. Compile Model\n",
        "model.compile(optimizer='adam', loss='mse')\n",
        "# 3. Fit Model\n",
        "model.fit(X,y, epochs=300, verbose=1)"
      ],
      "metadata": {
        "id": "kYapNo48LQXB",
        "colab": {
          "base_uri": "https://localhost:8080/",
          "height": 0
        },
        "outputId": "3831afe3-c64b-4335-b618-024460226cc8"
      },
      "execution_count": 14,
      "outputs": [
        {
          "output_type": "stream",
          "name": "stdout",
          "text": [
            "Epoch 1/300\n",
            "2/2 [==============================] - 6s 22ms/step - loss: 244437.6719\n",
            "Epoch 2/300\n",
            "2/2 [==============================] - 0s 19ms/step - loss: 228237.4531\n",
            "Epoch 3/300\n",
            "2/2 [==============================] - 0s 19ms/step - loss: 226225.3281\n",
            "Epoch 4/300\n",
            "2/2 [==============================] - 0s 18ms/step - loss: 223580.8125\n",
            "Epoch 5/300\n",
            "2/2 [==============================] - 0s 13ms/step - loss: 219155.0312\n",
            "Epoch 6/300\n",
            "2/2 [==============================] - 0s 18ms/step - loss: 212015.5625\n",
            "Epoch 7/300\n",
            "2/2 [==============================] - 0s 24ms/step - loss: 206507.2344\n",
            "Epoch 8/300\n",
            "2/2 [==============================] - 0s 29ms/step - loss: 202202.9844\n",
            "Epoch 9/300\n",
            "2/2 [==============================] - 0s 18ms/step - loss: 198909.2031\n",
            "Epoch 10/300\n",
            "2/2 [==============================] - 0s 15ms/step - loss: 195522.4531\n",
            "Epoch 11/300\n",
            "2/2 [==============================] - 0s 20ms/step - loss: 191821.3125\n",
            "Epoch 12/300\n",
            "2/2 [==============================] - 0s 19ms/step - loss: 187490.7656\n",
            "Epoch 13/300\n",
            "2/2 [==============================] - 0s 25ms/step - loss: 183131.1875\n",
            "Epoch 14/300\n",
            "2/2 [==============================] - 0s 25ms/step - loss: 178155.4062\n",
            "Epoch 15/300\n",
            "2/2 [==============================] - 0s 18ms/step - loss: 173044.6406\n",
            "Epoch 16/300\n",
            "2/2 [==============================] - 0s 18ms/step - loss: 168027.4062\n",
            "Epoch 17/300\n",
            "2/2 [==============================] - 0s 17ms/step - loss: 160678.5312\n",
            "Epoch 18/300\n",
            "2/2 [==============================] - 0s 33ms/step - loss: 144474.7188\n",
            "Epoch 19/300\n",
            "2/2 [==============================] - 0s 22ms/step - loss: 129650.3984\n",
            "Epoch 20/300\n",
            "2/2 [==============================] - 0s 15ms/step - loss: 116348.2188\n",
            "Epoch 21/300\n",
            "2/2 [==============================] - 0s 12ms/step - loss: 96579.7500\n",
            "Epoch 22/300\n",
            "2/2 [==============================] - 0s 10ms/step - loss: 59543.1406\n",
            "Epoch 23/300\n",
            "2/2 [==============================] - 0s 13ms/step - loss: 43107.5469\n",
            "Epoch 24/300\n",
            "2/2 [==============================] - 0s 21ms/step - loss: 32089.5586\n",
            "Epoch 25/300\n",
            "2/2 [==============================] - 0s 37ms/step - loss: 22537.3379\n",
            "Epoch 26/300\n",
            "2/2 [==============================] - 0s 14ms/step - loss: 11423.6895\n",
            "Epoch 27/300\n",
            "2/2 [==============================] - 0s 13ms/step - loss: 6241.5293\n",
            "Epoch 28/300\n",
            "2/2 [==============================] - 0s 22ms/step - loss: 3136.9641\n",
            "Epoch 29/300\n",
            "2/2 [==============================] - 0s 13ms/step - loss: 2637.5186\n",
            "Epoch 30/300\n",
            "2/2 [==============================] - 0s 20ms/step - loss: 3524.8267\n",
            "Epoch 31/300\n",
            "2/2 [==============================] - 0s 17ms/step - loss: 4397.7856\n",
            "Epoch 32/300\n",
            "2/2 [==============================] - 0s 17ms/step - loss: 4755.0000\n",
            "Epoch 33/300\n",
            "2/2 [==============================] - 0s 16ms/step - loss: 3753.5322\n",
            "Epoch 34/300\n",
            "2/2 [==============================] - 0s 25ms/step - loss: 2705.5854\n",
            "Epoch 35/300\n",
            "2/2 [==============================] - 0s 23ms/step - loss: 2491.5066\n",
            "Epoch 36/300\n",
            "2/2 [==============================] - 0s 17ms/step - loss: 2322.3047\n",
            "Epoch 37/300\n",
            "2/2 [==============================] - 0s 23ms/step - loss: 2321.4602\n",
            "Epoch 38/300\n",
            "2/2 [==============================] - 0s 19ms/step - loss: 2366.1038\n",
            "Epoch 39/300\n",
            "2/2 [==============================] - 0s 35ms/step - loss: 2414.8354\n",
            "Epoch 40/300\n",
            "2/2 [==============================] - 0s 12ms/step - loss: 2444.8359\n",
            "Epoch 41/300\n",
            "2/2 [==============================] - 0s 14ms/step - loss: 2433.4292\n",
            "Epoch 42/300\n",
            "2/2 [==============================] - 0s 20ms/step - loss: 2384.3452\n",
            "Epoch 43/300\n",
            "2/2 [==============================] - 0s 18ms/step - loss: 2338.6401\n",
            "Epoch 44/300\n",
            "2/2 [==============================] - 0s 12ms/step - loss: 2324.5808\n",
            "Epoch 45/300\n",
            "2/2 [==============================] - 0s 12ms/step - loss: 2305.8511\n",
            "Epoch 46/300\n",
            "2/2 [==============================] - 0s 20ms/step - loss: 2312.2791\n",
            "Epoch 47/300\n",
            "2/2 [==============================] - 0s 12ms/step - loss: 2288.8777\n",
            "Epoch 48/300\n",
            "2/2 [==============================] - 0s 19ms/step - loss: 2298.5962\n",
            "Epoch 49/300\n",
            "2/2 [==============================] - 0s 17ms/step - loss: 2295.1653\n",
            "Epoch 50/300\n",
            "2/2 [==============================] - 0s 11ms/step - loss: 2280.4834\n",
            "Epoch 51/300\n",
            "2/2 [==============================] - 0s 11ms/step - loss: 2289.5583\n",
            "Epoch 52/300\n",
            "2/2 [==============================] - 0s 36ms/step - loss: 2249.5703\n",
            "Epoch 53/300\n",
            "2/2 [==============================] - 0s 26ms/step - loss: 2243.1692\n",
            "Epoch 54/300\n",
            "2/2 [==============================] - 0s 28ms/step - loss: 2230.1162\n",
            "Epoch 55/300\n",
            "2/2 [==============================] - 0s 19ms/step - loss: 2218.9849\n",
            "Epoch 56/300\n",
            "2/2 [==============================] - 0s 13ms/step - loss: 2196.9297\n",
            "Epoch 57/300\n",
            "2/2 [==============================] - 0s 32ms/step - loss: 2259.2283\n",
            "Epoch 58/300\n",
            "2/2 [==============================] - 0s 33ms/step - loss: 2179.0183\n",
            "Epoch 59/300\n",
            "2/2 [==============================] - 0s 16ms/step - loss: 2240.6924\n",
            "Epoch 60/300\n",
            "2/2 [==============================] - 0s 17ms/step - loss: 2238.8140\n",
            "Epoch 61/300\n",
            "2/2 [==============================] - 0s 21ms/step - loss: 2153.3640\n",
            "Epoch 62/300\n",
            "2/2 [==============================] - 0s 17ms/step - loss: 2244.7239\n",
            "Epoch 63/300\n",
            "2/2 [==============================] - 0s 15ms/step - loss: 2010.7943\n",
            "Epoch 64/300\n",
            "2/2 [==============================] - 0s 17ms/step - loss: 2881.4575\n",
            "Epoch 65/300\n",
            "2/2 [==============================] - 0s 28ms/step - loss: 2364.4553\n",
            "Epoch 66/300\n",
            "2/2 [==============================] - 0s 15ms/step - loss: 2253.2747\n",
            "Epoch 67/300\n",
            "2/2 [==============================] - 0s 13ms/step - loss: 2256.0676\n",
            "Epoch 68/300\n",
            "2/2 [==============================] - 0s 18ms/step - loss: 2264.6453\n",
            "Epoch 69/300\n",
            "2/2 [==============================] - 0s 12ms/step - loss: 2287.8989\n",
            "Epoch 70/300\n",
            "2/2 [==============================] - 0s 23ms/step - loss: 2280.8037\n",
            "Epoch 71/300\n",
            "2/2 [==============================] - 0s 17ms/step - loss: 2285.1921\n",
            "Epoch 72/300\n",
            "2/2 [==============================] - 0s 12ms/step - loss: 2289.6943\n",
            "Epoch 73/300\n",
            "2/2 [==============================] - 0s 19ms/step - loss: 2265.5593\n",
            "Epoch 74/300\n",
            "2/2 [==============================] - 0s 16ms/step - loss: 2252.4739\n",
            "Epoch 75/300\n",
            "2/2 [==============================] - 0s 15ms/step - loss: 2263.0598\n",
            "Epoch 76/300\n",
            "2/2 [==============================] - 0s 24ms/step - loss: 2252.7964\n",
            "Epoch 77/300\n",
            "2/2 [==============================] - 0s 24ms/step - loss: 2238.5754\n",
            "Epoch 78/300\n",
            "2/2 [==============================] - 0s 19ms/step - loss: 2234.5015\n",
            "Epoch 79/300\n",
            "2/2 [==============================] - 0s 20ms/step - loss: 2223.6335\n",
            "Epoch 80/300\n",
            "2/2 [==============================] - 0s 21ms/step - loss: 2214.3501\n",
            "Epoch 81/300\n",
            "2/2 [==============================] - 0s 16ms/step - loss: 2200.6082\n",
            "Epoch 82/300\n",
            "2/2 [==============================] - 0s 27ms/step - loss: 2202.7297\n",
            "Epoch 83/300\n",
            "2/2 [==============================] - 0s 22ms/step - loss: 2187.1521\n",
            "Epoch 84/300\n",
            "2/2 [==============================] - 0s 13ms/step - loss: 2179.8359\n",
            "Epoch 85/300\n",
            "2/2 [==============================] - 0s 14ms/step - loss: 2182.0613\n",
            "Epoch 86/300\n",
            "2/2 [==============================] - 0s 21ms/step - loss: 2151.1057\n",
            "Epoch 87/300\n",
            "2/2 [==============================] - 0s 15ms/step - loss: 2108.8083\n",
            "Epoch 88/300\n",
            "2/2 [==============================] - 0s 25ms/step - loss: 2098.1069\n",
            "Epoch 89/300\n",
            "2/2 [==============================] - 0s 29ms/step - loss: 2070.7390\n",
            "Epoch 90/300\n",
            "2/2 [==============================] - 0s 20ms/step - loss: 1991.7917\n",
            "Epoch 91/300\n",
            "2/2 [==============================] - 0s 28ms/step - loss: 1659.0840\n",
            "Epoch 92/300\n",
            "2/2 [==============================] - 0s 18ms/step - loss: 1643.7042\n",
            "Epoch 93/300\n",
            "2/2 [==============================] - 0s 12ms/step - loss: 1575.6289\n",
            "Epoch 94/300\n",
            "2/2 [==============================] - 0s 32ms/step - loss: 1523.8899\n",
            "Epoch 95/300\n",
            "2/2 [==============================] - 0s 20ms/step - loss: 1608.6261\n",
            "Epoch 96/300\n",
            "2/2 [==============================] - 0s 25ms/step - loss: 1648.0220\n",
            "Epoch 97/300\n",
            "2/2 [==============================] - 0s 23ms/step - loss: 1578.4680\n",
            "Epoch 98/300\n",
            "2/2 [==============================] - 0s 19ms/step - loss: 1547.3003\n",
            "Epoch 99/300\n",
            "2/2 [==============================] - 0s 14ms/step - loss: 1572.8058\n",
            "Epoch 100/300\n",
            "2/2 [==============================] - 0s 27ms/step - loss: 1536.7797\n",
            "Epoch 101/300\n",
            "2/2 [==============================] - 0s 21ms/step - loss: 1544.2628\n",
            "Epoch 102/300\n",
            "2/2 [==============================] - 0s 14ms/step - loss: 1491.1809\n",
            "Epoch 103/300\n",
            "2/2 [==============================] - 0s 30ms/step - loss: 1496.7371\n",
            "Epoch 104/300\n",
            "2/2 [==============================] - 0s 22ms/step - loss: 1479.5200\n",
            "Epoch 105/300\n",
            "2/2 [==============================] - 0s 16ms/step - loss: 1507.6794\n",
            "Epoch 106/300\n",
            "2/2 [==============================] - 0s 23ms/step - loss: 1481.8497\n",
            "Epoch 107/300\n",
            "2/2 [==============================] - 0s 27ms/step - loss: 1497.3000\n",
            "Epoch 108/300\n",
            "2/2 [==============================] - 0s 18ms/step - loss: 1514.7875\n",
            "Epoch 109/300\n",
            "2/2 [==============================] - 0s 27ms/step - loss: 1483.8794\n",
            "Epoch 110/300\n",
            "2/2 [==============================] - 0s 19ms/step - loss: 1506.0027\n",
            "Epoch 111/300\n",
            "2/2 [==============================] - 0s 18ms/step - loss: 1508.4623\n",
            "Epoch 112/300\n",
            "2/2 [==============================] - 0s 13ms/step - loss: 1526.6274\n",
            "Epoch 113/300\n",
            "2/2 [==============================] - 0s 14ms/step - loss: 1487.0989\n",
            "Epoch 114/300\n",
            "2/2 [==============================] - 0s 26ms/step - loss: 1469.7758\n",
            "Epoch 115/300\n",
            "2/2 [==============================] - 0s 23ms/step - loss: 1504.8495\n",
            "Epoch 116/300\n",
            "2/2 [==============================] - 0s 13ms/step - loss: 1471.1932\n",
            "Epoch 117/300\n",
            "2/2 [==============================] - 0s 12ms/step - loss: 1555.0120\n",
            "Epoch 118/300\n",
            "2/2 [==============================] - 0s 14ms/step - loss: 1517.0726\n",
            "Epoch 119/300\n",
            "2/2 [==============================] - 0s 24ms/step - loss: 1492.8723\n",
            "Epoch 120/300\n",
            "2/2 [==============================] - 0s 16ms/step - loss: 1501.3293\n",
            "Epoch 121/300\n",
            "2/2 [==============================] - 0s 35ms/step - loss: 1473.9467\n",
            "Epoch 122/300\n",
            "2/2 [==============================] - 0s 29ms/step - loss: 1510.9060\n",
            "Epoch 123/300\n",
            "2/2 [==============================] - 0s 20ms/step - loss: 1445.7321\n",
            "Epoch 124/300\n",
            "2/2 [==============================] - 0s 21ms/step - loss: 1501.1067\n",
            "Epoch 125/300\n",
            "2/2 [==============================] - 0s 25ms/step - loss: 1477.0802\n",
            "Epoch 126/300\n",
            "2/2 [==============================] - 0s 15ms/step - loss: 1485.2511\n",
            "Epoch 127/300\n",
            "2/2 [==============================] - 0s 22ms/step - loss: 1455.5651\n",
            "Epoch 128/300\n",
            "2/2 [==============================] - 0s 24ms/step - loss: 1453.8304\n",
            "Epoch 129/300\n",
            "2/2 [==============================] - 0s 16ms/step - loss: 1466.7482\n",
            "Epoch 130/300\n",
            "2/2 [==============================] - 0s 16ms/step - loss: 1426.9993\n",
            "Epoch 131/300\n",
            "2/2 [==============================] - 0s 14ms/step - loss: 1443.8063\n",
            "Epoch 132/300\n",
            "2/2 [==============================] - 0s 24ms/step - loss: 1431.8270\n",
            "Epoch 133/300\n",
            "2/2 [==============================] - 0s 19ms/step - loss: 1440.4917\n",
            "Epoch 134/300\n",
            "2/2 [==============================] - 0s 12ms/step - loss: 1430.7310\n",
            "Epoch 135/300\n",
            "2/2 [==============================] - 0s 11ms/step - loss: 1424.2776\n",
            "Epoch 136/300\n",
            "2/2 [==============================] - 0s 11ms/step - loss: 1424.1552\n",
            "Epoch 137/300\n",
            "2/2 [==============================] - 0s 13ms/step - loss: 1495.2847\n",
            "Epoch 138/300\n",
            "2/2 [==============================] - 0s 11ms/step - loss: 1446.2367\n",
            "Epoch 139/300\n",
            "2/2 [==============================] - 0s 12ms/step - loss: 1469.0421\n",
            "Epoch 140/300\n",
            "2/2 [==============================] - 0s 21ms/step - loss: 1440.6615\n",
            "Epoch 141/300\n",
            "2/2 [==============================] - 0s 15ms/step - loss: 1486.6942\n",
            "Epoch 142/300\n",
            "2/2 [==============================] - 0s 34ms/step - loss: 1454.9479\n",
            "Epoch 143/300\n",
            "2/2 [==============================] - 0s 15ms/step - loss: 1462.6267\n",
            "Epoch 144/300\n",
            "2/2 [==============================] - 0s 12ms/step - loss: 1419.5592\n",
            "Epoch 145/300\n",
            "2/2 [==============================] - 0s 21ms/step - loss: 1456.4297\n",
            "Epoch 146/300\n",
            "2/2 [==============================] - 0s 11ms/step - loss: 1408.2404\n",
            "Epoch 147/300\n",
            "2/2 [==============================] - 0s 24ms/step - loss: 1438.4497\n",
            "Epoch 148/300\n",
            "2/2 [==============================] - 0s 22ms/step - loss: 1406.3309\n",
            "Epoch 149/300\n",
            "2/2 [==============================] - 0s 23ms/step - loss: 1422.3552\n",
            "Epoch 150/300\n",
            "2/2 [==============================] - 0s 23ms/step - loss: 1437.5165\n",
            "Epoch 151/300\n",
            "2/2 [==============================] - 0s 23ms/step - loss: 1417.4230\n",
            "Epoch 152/300\n",
            "2/2 [==============================] - 0s 16ms/step - loss: 1395.8959\n",
            "Epoch 153/300\n",
            "2/2 [==============================] - 0s 17ms/step - loss: 1390.7435\n",
            "Epoch 154/300\n",
            "2/2 [==============================] - 0s 17ms/step - loss: 1452.6282\n",
            "Epoch 155/300\n",
            "2/2 [==============================] - 0s 17ms/step - loss: 1388.0165\n",
            "Epoch 156/300\n",
            "2/2 [==============================] - 0s 22ms/step - loss: 1473.1471\n",
            "Epoch 157/300\n",
            "2/2 [==============================] - 0s 17ms/step - loss: 1395.4464\n",
            "Epoch 158/300\n",
            "2/2 [==============================] - 0s 16ms/step - loss: 1428.5278\n",
            "Epoch 159/300\n",
            "2/2 [==============================] - 0s 15ms/step - loss: 1414.6704\n",
            "Epoch 160/300\n",
            "2/2 [==============================] - 0s 25ms/step - loss: 1440.1683\n",
            "Epoch 161/300\n",
            "2/2 [==============================] - 0s 16ms/step - loss: 1358.5731\n",
            "Epoch 162/300\n",
            "2/2 [==============================] - 0s 24ms/step - loss: 1442.2435\n",
            "Epoch 163/300\n",
            "2/2 [==============================] - 0s 15ms/step - loss: 1376.8049\n",
            "Epoch 164/300\n",
            "2/2 [==============================] - 0s 16ms/step - loss: 1416.9336\n",
            "Epoch 165/300\n",
            "2/2 [==============================] - 0s 18ms/step - loss: 1391.6305\n",
            "Epoch 166/300\n",
            "2/2 [==============================] - 0s 19ms/step - loss: 1381.2797\n",
            "Epoch 167/300\n",
            "2/2 [==============================] - 0s 59ms/step - loss: 1456.6117\n",
            "Epoch 168/300\n",
            "2/2 [==============================] - 0s 19ms/step - loss: 1359.2880\n",
            "Epoch 169/300\n",
            "2/2 [==============================] - 0s 46ms/step - loss: 1391.1099\n",
            "Epoch 170/300\n",
            "2/2 [==============================] - 0s 17ms/step - loss: 1374.1399\n",
            "Epoch 171/300\n",
            "2/2 [==============================] - 0s 15ms/step - loss: 1397.4425\n",
            "Epoch 172/300\n",
            "2/2 [==============================] - 0s 20ms/step - loss: 1355.4957\n",
            "Epoch 173/300\n",
            "2/2 [==============================] - 0s 8ms/step - loss: 1401.6183\n",
            "Epoch 174/300\n",
            "2/2 [==============================] - 0s 16ms/step - loss: 1446.5735\n",
            "Epoch 175/300\n",
            "2/2 [==============================] - 0s 17ms/step - loss: 1385.8622\n",
            "Epoch 176/300\n",
            "2/2 [==============================] - 0s 17ms/step - loss: 1348.7883\n",
            "Epoch 177/300\n",
            "2/2 [==============================] - 0s 24ms/step - loss: 1413.8634\n",
            "Epoch 178/300\n",
            "2/2 [==============================] - 0s 18ms/step - loss: 1399.7433\n",
            "Epoch 179/300\n",
            "2/2 [==============================] - 0s 22ms/step - loss: 1351.6442\n",
            "Epoch 180/300\n",
            "2/2 [==============================] - 0s 16ms/step - loss: 1339.6256\n",
            "Epoch 181/300\n",
            "2/2 [==============================] - 0s 32ms/step - loss: 1385.2172\n",
            "Epoch 182/300\n",
            "2/2 [==============================] - 0s 17ms/step - loss: 1359.7966\n",
            "Epoch 183/300\n",
            "2/2 [==============================] - 0s 21ms/step - loss: 1380.5469\n",
            "Epoch 184/300\n",
            "2/2 [==============================] - 0s 13ms/step - loss: 1411.0612\n",
            "Epoch 185/300\n",
            "2/2 [==============================] - 0s 17ms/step - loss: 1388.4510\n",
            "Epoch 186/300\n",
            "2/2 [==============================] - 0s 14ms/step - loss: 1381.8307\n",
            "Epoch 187/300\n",
            "2/2 [==============================] - 0s 15ms/step - loss: 1347.5031\n",
            "Epoch 188/300\n",
            "2/2 [==============================] - 0s 21ms/step - loss: 1390.8484\n",
            "Epoch 189/300\n",
            "2/2 [==============================] - 0s 17ms/step - loss: 1350.4604\n",
            "Epoch 190/300\n",
            "2/2 [==============================] - 0s 28ms/step - loss: 1359.0167\n",
            "Epoch 191/300\n",
            "2/2 [==============================] - 0s 17ms/step - loss: 1355.6392\n",
            "Epoch 192/300\n",
            "2/2 [==============================] - 0s 23ms/step - loss: 1334.5219\n",
            "Epoch 193/300\n",
            "2/2 [==============================] - 0s 18ms/step - loss: 1324.0728\n",
            "Epoch 194/300\n",
            "2/2 [==============================] - 0s 14ms/step - loss: 1344.9099\n",
            "Epoch 195/300\n",
            "2/2 [==============================] - 0s 14ms/step - loss: 1351.9794\n",
            "Epoch 196/300\n",
            "2/2 [==============================] - 0s 47ms/step - loss: 1323.2306\n",
            "Epoch 197/300\n",
            "2/2 [==============================] - 0s 11ms/step - loss: 1325.4167\n",
            "Epoch 198/300\n",
            "2/2 [==============================] - 0s 17ms/step - loss: 1389.2357\n",
            "Epoch 199/300\n",
            "2/2 [==============================] - 0s 15ms/step - loss: 1313.9442\n",
            "Epoch 200/300\n",
            "2/2 [==============================] - 0s 15ms/step - loss: 1336.8011\n",
            "Epoch 201/300\n",
            "2/2 [==============================] - 0s 10ms/step - loss: 1342.2109\n",
            "Epoch 202/300\n",
            "2/2 [==============================] - 0s 20ms/step - loss: 1347.8365\n",
            "Epoch 203/300\n",
            "2/2 [==============================] - 0s 32ms/step - loss: 1380.9924\n",
            "Epoch 204/300\n",
            "2/2 [==============================] - 0s 30ms/step - loss: 1316.6870\n",
            "Epoch 205/300\n",
            "2/2 [==============================] - 0s 20ms/step - loss: 1343.5687\n",
            "Epoch 206/300\n",
            "2/2 [==============================] - 0s 15ms/step - loss: 1315.9628\n",
            "Epoch 207/300\n",
            "2/2 [==============================] - 0s 19ms/step - loss: 1320.1575\n",
            "Epoch 208/300\n",
            "2/2 [==============================] - 0s 17ms/step - loss: 1332.6674\n",
            "Epoch 209/300\n",
            "2/2 [==============================] - 0s 14ms/step - loss: 1319.5975\n",
            "Epoch 210/300\n",
            "2/2 [==============================] - 0s 14ms/step - loss: 1343.9172\n",
            "Epoch 211/300\n",
            "2/2 [==============================] - 0s 27ms/step - loss: 1297.0614\n",
            "Epoch 212/300\n",
            "2/2 [==============================] - 0s 25ms/step - loss: 1287.8542\n",
            "Epoch 213/300\n",
            "2/2 [==============================] - 0s 17ms/step - loss: 1343.1915\n",
            "Epoch 214/300\n",
            "2/2 [==============================] - 0s 18ms/step - loss: 1358.4982\n",
            "Epoch 215/300\n",
            "2/2 [==============================] - 0s 35ms/step - loss: 1386.5444\n",
            "Epoch 216/300\n",
            "2/2 [==============================] - 0s 13ms/step - loss: 1380.0763\n",
            "Epoch 217/300\n",
            "2/2 [==============================] - 0s 22ms/step - loss: 1255.3341\n",
            "Epoch 218/300\n",
            "2/2 [==============================] - 0s 23ms/step - loss: 1482.9500\n",
            "Epoch 219/300\n",
            "2/2 [==============================] - 0s 14ms/step - loss: 1472.4191\n",
            "Epoch 220/300\n",
            "2/2 [==============================] - 0s 12ms/step - loss: 1560.3674\n",
            "Epoch 221/300\n",
            "2/2 [==============================] - 0s 20ms/step - loss: 1467.4041\n",
            "Epoch 222/300\n",
            "2/2 [==============================] - 0s 15ms/step - loss: 1461.6495\n",
            "Epoch 223/300\n",
            "2/2 [==============================] - 0s 30ms/step - loss: 1422.5344\n",
            "Epoch 224/300\n",
            "2/2 [==============================] - 0s 13ms/step - loss: 1442.3995\n",
            "Epoch 225/300\n",
            "2/2 [==============================] - 0s 27ms/step - loss: 1437.9406\n",
            "Epoch 226/300\n",
            "2/2 [==============================] - 0s 28ms/step - loss: 1394.9741\n",
            "Epoch 227/300\n",
            "2/2 [==============================] - 0s 20ms/step - loss: 1381.1110\n",
            "Epoch 228/300\n",
            "2/2 [==============================] - 0s 28ms/step - loss: 1377.1198\n",
            "Epoch 229/300\n",
            "2/2 [==============================] - 0s 22ms/step - loss: 1354.9214\n",
            "Epoch 230/300\n",
            "2/2 [==============================] - 0s 20ms/step - loss: 1380.9589\n",
            "Epoch 231/300\n",
            "2/2 [==============================] - 0s 19ms/step - loss: 1336.1504\n",
            "Epoch 232/300\n",
            "2/2 [==============================] - 0s 41ms/step - loss: 1346.1902\n",
            "Epoch 233/300\n",
            "2/2 [==============================] - 0s 18ms/step - loss: 1290.2722\n",
            "Epoch 234/300\n",
            "2/2 [==============================] - 0s 21ms/step - loss: 1302.1360\n",
            "Epoch 235/300\n",
            "2/2 [==============================] - 0s 21ms/step - loss: 1303.0699\n",
            "Epoch 236/300\n",
            "2/2 [==============================] - 0s 16ms/step - loss: 1254.6417\n",
            "Epoch 237/300\n",
            "2/2 [==============================] - 0s 11ms/step - loss: 1226.7919\n",
            "Epoch 238/300\n",
            "2/2 [==============================] - 0s 24ms/step - loss: 1245.5292\n",
            "Epoch 239/300\n",
            "2/2 [==============================] - 0s 19ms/step - loss: 1239.7070\n",
            "Epoch 240/300\n",
            "2/2 [==============================] - 0s 13ms/step - loss: 1260.3088\n",
            "Epoch 241/300\n",
            "2/2 [==============================] - 0s 19ms/step - loss: 1274.5273\n",
            "Epoch 242/300\n",
            "2/2 [==============================] - 0s 12ms/step - loss: 1309.2010\n",
            "Epoch 243/300\n",
            "2/2 [==============================] - 0s 19ms/step - loss: 1273.2388\n",
            "Epoch 244/300\n",
            "2/2 [==============================] - 0s 16ms/step - loss: 1300.3333\n",
            "Epoch 245/300\n",
            "2/2 [==============================] - 0s 16ms/step - loss: 1110.4968\n",
            "Epoch 246/300\n",
            "2/2 [==============================] - 0s 22ms/step - loss: 1073.6685\n",
            "Epoch 247/300\n",
            "2/2 [==============================] - 0s 19ms/step - loss: 1152.4843\n",
            "Epoch 248/300\n",
            "2/2 [==============================] - 0s 12ms/step - loss: 1063.2576\n",
            "Epoch 249/300\n",
            "2/2 [==============================] - 0s 18ms/step - loss: 1155.3737\n",
            "Epoch 250/300\n",
            "2/2 [==============================] - 0s 16ms/step - loss: 1062.0663\n",
            "Epoch 251/300\n",
            "2/2 [==============================] - 0s 13ms/step - loss: 1119.5083\n",
            "Epoch 252/300\n",
            "2/2 [==============================] - 0s 12ms/step - loss: 1073.0306\n",
            "Epoch 253/300\n",
            "2/2 [==============================] - 0s 13ms/step - loss: 1074.6558\n",
            "Epoch 254/300\n",
            "2/2 [==============================] - 0s 13ms/step - loss: 1062.8508\n",
            "Epoch 255/300\n",
            "2/2 [==============================] - 0s 22ms/step - loss: 1130.4963\n",
            "Epoch 256/300\n",
            "2/2 [==============================] - 0s 14ms/step - loss: 1048.5380\n",
            "Epoch 257/300\n",
            "2/2 [==============================] - 0s 20ms/step - loss: 1040.9376\n",
            "Epoch 258/300\n",
            "2/2 [==============================] - 0s 24ms/step - loss: 1054.4348\n",
            "Epoch 259/300\n",
            "2/2 [==============================] - 0s 30ms/step - loss: 1031.5343\n",
            "Epoch 260/300\n",
            "2/2 [==============================] - 0s 20ms/step - loss: 1040.5208\n",
            "Epoch 261/300\n",
            "2/2 [==============================] - 0s 20ms/step - loss: 1063.4316\n",
            "Epoch 262/300\n",
            "2/2 [==============================] - 0s 17ms/step - loss: 1075.8660\n",
            "Epoch 263/300\n",
            "2/2 [==============================] - 0s 15ms/step - loss: 1044.2294\n",
            "Epoch 264/300\n",
            "2/2 [==============================] - 0s 13ms/step - loss: 1041.3165\n",
            "Epoch 265/300\n",
            "2/2 [==============================] - 0s 12ms/step - loss: 1121.7489\n",
            "Epoch 266/300\n",
            "2/2 [==============================] - 0s 19ms/step - loss: 1018.0455\n",
            "Epoch 267/300\n",
            "2/2 [==============================] - 0s 13ms/step - loss: 1011.0686\n",
            "Epoch 268/300\n",
            "2/2 [==============================] - 0s 16ms/step - loss: 1059.4825\n",
            "Epoch 269/300\n",
            "2/2 [==============================] - 0s 23ms/step - loss: 1021.0127\n",
            "Epoch 270/300\n",
            "2/2 [==============================] - 0s 17ms/step - loss: 1001.5350\n",
            "Epoch 271/300\n",
            "2/2 [==============================] - 0s 14ms/step - loss: 1012.6417\n",
            "Epoch 272/300\n",
            "2/2 [==============================] - 0s 12ms/step - loss: 1021.8128\n",
            "Epoch 273/300\n",
            "2/2 [==============================] - 0s 22ms/step - loss: 1002.5684\n",
            "Epoch 274/300\n",
            "2/2 [==============================] - 0s 25ms/step - loss: 1020.7225\n",
            "Epoch 275/300\n",
            "2/2 [==============================] - 0s 26ms/step - loss: 1102.9230\n",
            "Epoch 276/300\n",
            "2/2 [==============================] - 0s 22ms/step - loss: 1070.8007\n",
            "Epoch 277/300\n",
            "2/2 [==============================] - 0s 20ms/step - loss: 1130.5415\n",
            "Epoch 278/300\n",
            "2/2 [==============================] - 0s 13ms/step - loss: 1024.5660\n",
            "Epoch 279/300\n",
            "2/2 [==============================] - 0s 16ms/step - loss: 1017.8194\n",
            "Epoch 280/300\n",
            "2/2 [==============================] - 0s 18ms/step - loss: 1065.5359\n",
            "Epoch 281/300\n",
            "2/2 [==============================] - 0s 13ms/step - loss: 1062.3713\n",
            "Epoch 282/300\n",
            "2/2 [==============================] - 0s 12ms/step - loss: 982.6857\n",
            "Epoch 283/300\n",
            "2/2 [==============================] - 0s 13ms/step - loss: 1105.9916\n",
            "Epoch 284/300\n",
            "2/2 [==============================] - 0s 25ms/step - loss: 1191.9304\n",
            "Epoch 285/300\n",
            "2/2 [==============================] - 0s 21ms/step - loss: 1158.3192\n",
            "Epoch 286/300\n",
            "2/2 [==============================] - 0s 28ms/step - loss: 1063.1947\n",
            "Epoch 287/300\n",
            "2/2 [==============================] - 0s 29ms/step - loss: 1255.6617\n",
            "Epoch 288/300\n",
            "2/2 [==============================] - 0s 11ms/step - loss: 1059.8821\n",
            "Epoch 289/300\n",
            "2/2 [==============================] - 0s 28ms/step - loss: 1197.5173\n",
            "Epoch 290/300\n",
            "2/2 [==============================] - 0s 22ms/step - loss: 1114.8497\n",
            "Epoch 291/300\n",
            "2/2 [==============================] - 0s 19ms/step - loss: 1025.2026\n",
            "Epoch 292/300\n",
            "2/2 [==============================] - 0s 22ms/step - loss: 1043.4545\n",
            "Epoch 293/300\n",
            "2/2 [==============================] - 0s 33ms/step - loss: 1054.5676\n",
            "Epoch 294/300\n",
            "2/2 [==============================] - 0s 20ms/step - loss: 1021.9941\n",
            "Epoch 295/300\n",
            "2/2 [==============================] - 0s 19ms/step - loss: 1045.3535\n",
            "Epoch 296/300\n",
            "2/2 [==============================] - 0s 20ms/step - loss: 1005.0881\n",
            "Epoch 297/300\n",
            "2/2 [==============================] - 0s 15ms/step - loss: 1091.2506\n",
            "Epoch 298/300\n",
            "2/2 [==============================] - 0s 21ms/step - loss: 1038.4673\n",
            "Epoch 299/300\n",
            "2/2 [==============================] - 0s 17ms/step - loss: 1008.8329\n",
            "Epoch 300/300\n",
            "2/2 [==============================] - 0s 28ms/step - loss: 1098.4524\n"
          ]
        },
        {
          "output_type": "execute_result",
          "data": {
            "text/plain": [
              "<keras.callbacks.History at 0x7fa7650c05e0>"
            ]
          },
          "metadata": {},
          "execution_count": 14
        }
      ]
    },
    {
      "cell_type": "markdown",
      "source": [
        "#### <font color='magenta'>**Define a LSTM_RNN function to build RNN model**</font>"
      ],
      "metadata": {
        "id": "ZZOqfnLpVRRZ"
      }
    },
    {
      "cell_type": "code",
      "source": [
        "def LSTM_RNN(hidden_unit, dense_unit, activation):\n",
        "  # 1. Define Model\n",
        "  model= Sequential()\n",
        "  model.add(LSTM(hidden_unit, activation, input_shape = input_shape, return_sequences=True))\n",
        "  model.add(LSTM(hidden_unit, activation))\n",
        "  model.add(Dense(dense_unit))\n",
        "  # 2. Compile Model\n",
        "  model.compile(loss='mean_squared_error', optimizer='adam')\n",
        "  return model"
      ],
      "metadata": {
        "id": "sC13Dgh7-dDt"
      },
      "execution_count": 15,
      "outputs": []
    },
    {
      "cell_type": "code",
      "source": [
        "input_shape=(n_steps,n_features)\n",
        "model= LSTM_RNN(hidden_unit =50, dense_unit =1, activation='relu')\n",
        "# 3. Model fit\n",
        "history =  model.fit(X,y, epochs=300, verbose=1)"
      ],
      "metadata": {
        "id": "7iuIrRMa_BIY",
        "colab": {
          "base_uri": "https://localhost:8080/",
          "height": 0
        },
        "outputId": "64f5f02c-d230-4845-895c-83d2ef0eaed6"
      },
      "execution_count": 16,
      "outputs": [
        {
          "output_type": "stream",
          "name": "stdout",
          "text": [
            "Epoch 1/300\n",
            "2/2 [==============================] - 5s 13ms/step - loss: 245467.6094\n",
            "Epoch 2/300\n",
            "2/2 [==============================] - 0s 12ms/step - loss: 235938.4375\n",
            "Epoch 3/300\n",
            "2/2 [==============================] - 0s 11ms/step - loss: 227238.4688\n",
            "Epoch 4/300\n",
            "2/2 [==============================] - 0s 10ms/step - loss: 218918.4844\n",
            "Epoch 5/300\n",
            "2/2 [==============================] - 0s 11ms/step - loss: 203778.4844\n",
            "Epoch 6/300\n",
            "2/2 [==============================] - 0s 10ms/step - loss: 190740.7656\n",
            "Epoch 7/300\n",
            "2/2 [==============================] - 0s 10ms/step - loss: 186556.5625\n",
            "Epoch 8/300\n",
            "2/2 [==============================] - 0s 11ms/step - loss: 181619.6094\n",
            "Epoch 9/300\n",
            "2/2 [==============================] - 0s 16ms/step - loss: 176407.7031\n",
            "Epoch 10/300\n",
            "2/2 [==============================] - 0s 11ms/step - loss: 171009.9688\n",
            "Epoch 11/300\n",
            "2/2 [==============================] - 0s 11ms/step - loss: 165615.3125\n",
            "Epoch 12/300\n",
            "2/2 [==============================] - 0s 11ms/step - loss: 159748.9688\n",
            "Epoch 13/300\n",
            "2/2 [==============================] - 0s 10ms/step - loss: 153673.9688\n",
            "Epoch 14/300\n",
            "2/2 [==============================] - 0s 11ms/step - loss: 147662.1406\n",
            "Epoch 15/300\n",
            "2/2 [==============================] - 0s 11ms/step - loss: 141625.1094\n",
            "Epoch 16/300\n",
            "2/2 [==============================] - 0s 12ms/step - loss: 134555.9219\n",
            "Epoch 17/300\n",
            "2/2 [==============================] - 0s 11ms/step - loss: 127440.0859\n",
            "Epoch 18/300\n",
            "2/2 [==============================] - 0s 11ms/step - loss: 120459.0859\n",
            "Epoch 19/300\n",
            "2/2 [==============================] - 0s 15ms/step - loss: 113314.0156\n",
            "Epoch 20/300\n",
            "2/2 [==============================] - 0s 11ms/step - loss: 105592.7734\n",
            "Epoch 21/300\n",
            "2/2 [==============================] - 0s 11ms/step - loss: 95863.7969\n",
            "Epoch 22/300\n",
            "2/2 [==============================] - 0s 11ms/step - loss: 81504.9844\n",
            "Epoch 23/300\n",
            "2/2 [==============================] - 0s 11ms/step - loss: 65399.6055\n",
            "Epoch 24/300\n",
            "2/2 [==============================] - 0s 11ms/step - loss: 53006.4102\n",
            "Epoch 25/300\n",
            "2/2 [==============================] - 0s 16ms/step - loss: 39914.1758\n",
            "Epoch 26/300\n",
            "2/2 [==============================] - 0s 11ms/step - loss: 25897.3770\n",
            "Epoch 27/300\n",
            "2/2 [==============================] - 0s 13ms/step - loss: 15558.1816\n",
            "Epoch 28/300\n",
            "2/2 [==============================] - 0s 12ms/step - loss: 8419.0498\n",
            "Epoch 29/300\n",
            "2/2 [==============================] - 0s 12ms/step - loss: 3283.7651\n",
            "Epoch 30/300\n",
            "2/2 [==============================] - 0s 15ms/step - loss: 3930.5442\n",
            "Epoch 31/300\n",
            "2/2 [==============================] - 0s 11ms/step - loss: 4545.7412\n",
            "Epoch 32/300\n",
            "2/2 [==============================] - 0s 11ms/step - loss: 4353.5967\n",
            "Epoch 33/300\n",
            "2/2 [==============================] - 0s 10ms/step - loss: 3965.0647\n",
            "Epoch 34/300\n",
            "2/2 [==============================] - 0s 10ms/step - loss: 3317.0022\n",
            "Epoch 35/300\n",
            "2/2 [==============================] - 0s 11ms/step - loss: 3237.3838\n",
            "Epoch 36/300\n",
            "2/2 [==============================] - 0s 11ms/step - loss: 3285.9949\n",
            "Epoch 37/300\n",
            "2/2 [==============================] - 0s 13ms/step - loss: 3130.4587\n",
            "Epoch 38/300\n",
            "2/2 [==============================] - 0s 11ms/step - loss: 2955.1292\n",
            "Epoch 39/300\n",
            "2/2 [==============================] - 0s 10ms/step - loss: 2895.8999\n",
            "Epoch 40/300\n",
            "2/2 [==============================] - 0s 11ms/step - loss: 2753.9956\n",
            "Epoch 41/300\n",
            "2/2 [==============================] - 0s 15ms/step - loss: 2499.6172\n",
            "Epoch 42/300\n",
            "2/2 [==============================] - 0s 11ms/step - loss: 2281.2810\n",
            "Epoch 43/300\n",
            "2/2 [==============================] - 0s 11ms/step - loss: 2232.1633\n",
            "Epoch 44/300\n",
            "2/2 [==============================] - 0s 10ms/step - loss: 2050.1750\n",
            "Epoch 45/300\n",
            "2/2 [==============================] - 0s 11ms/step - loss: 2120.7258\n",
            "Epoch 46/300\n",
            "2/2 [==============================] - 0s 13ms/step - loss: 2039.0273\n",
            "Epoch 47/300\n",
            "2/2 [==============================] - 0s 11ms/step - loss: 2110.7024\n",
            "Epoch 48/300\n",
            "2/2 [==============================] - 0s 12ms/step - loss: 2011.2378\n",
            "Epoch 49/300\n",
            "2/2 [==============================] - 0s 10ms/step - loss: 1993.1478\n",
            "Epoch 50/300\n",
            "2/2 [==============================] - 0s 10ms/step - loss: 1963.5076\n",
            "Epoch 51/300\n",
            "2/2 [==============================] - 0s 10ms/step - loss: 1972.0464\n",
            "Epoch 52/300\n",
            "2/2 [==============================] - 0s 13ms/step - loss: 1997.5581\n",
            "Epoch 53/300\n",
            "2/2 [==============================] - 0s 11ms/step - loss: 2005.7987\n",
            "Epoch 54/300\n",
            "2/2 [==============================] - 0s 11ms/step - loss: 1941.3182\n",
            "Epoch 55/300\n",
            "2/2 [==============================] - 0s 11ms/step - loss: 2024.7356\n",
            "Epoch 56/300\n",
            "2/2 [==============================] - 0s 10ms/step - loss: 1921.0852\n",
            "Epoch 57/300\n",
            "2/2 [==============================] - 0s 12ms/step - loss: 1927.1552\n",
            "Epoch 58/300\n",
            "2/2 [==============================] - 0s 11ms/step - loss: 1916.3219\n",
            "Epoch 59/300\n",
            "2/2 [==============================] - 0s 10ms/step - loss: 1876.7596\n",
            "Epoch 60/300\n",
            "2/2 [==============================] - 0s 9ms/step - loss: 1935.9905\n",
            "Epoch 61/300\n",
            "2/2 [==============================] - 0s 14ms/step - loss: 1866.5972\n",
            "Epoch 62/300\n",
            "2/2 [==============================] - 0s 12ms/step - loss: 1924.9838\n",
            "Epoch 63/300\n",
            "2/2 [==============================] - 0s 14ms/step - loss: 1799.4989\n",
            "Epoch 64/300\n",
            "2/2 [==============================] - 0s 11ms/step - loss: 1901.2369\n",
            "Epoch 65/300\n",
            "2/2 [==============================] - 0s 11ms/step - loss: 1863.7174\n",
            "Epoch 66/300\n",
            "2/2 [==============================] - 0s 11ms/step - loss: 1830.9698\n",
            "Epoch 67/300\n",
            "2/2 [==============================] - 0s 16ms/step - loss: 1832.3143\n",
            "Epoch 68/300\n",
            "2/2 [==============================] - 0s 11ms/step - loss: 1810.3999\n",
            "Epoch 69/300\n",
            "2/2 [==============================] - 0s 11ms/step - loss: 1832.3130\n",
            "Epoch 70/300\n",
            "2/2 [==============================] - 0s 10ms/step - loss: 1826.3848\n",
            "Epoch 71/300\n",
            "2/2 [==============================] - 0s 10ms/step - loss: 1819.0835\n",
            "Epoch 72/300\n",
            "2/2 [==============================] - 0s 11ms/step - loss: 1794.8259\n",
            "Epoch 73/300\n",
            "2/2 [==============================] - 0s 12ms/step - loss: 1778.3181\n",
            "Epoch 74/300\n",
            "2/2 [==============================] - 0s 11ms/step - loss: 1772.8993\n",
            "Epoch 75/300\n",
            "2/2 [==============================] - 0s 11ms/step - loss: 1773.3507\n",
            "Epoch 76/300\n",
            "2/2 [==============================] - 0s 13ms/step - loss: 1748.3990\n",
            "Epoch 77/300\n",
            "2/2 [==============================] - 0s 12ms/step - loss: 1750.5747\n",
            "Epoch 78/300\n",
            "2/2 [==============================] - 0s 11ms/step - loss: 1744.5992\n",
            "Epoch 79/300\n",
            "2/2 [==============================] - 0s 11ms/step - loss: 1732.5758\n",
            "Epoch 80/300\n",
            "2/2 [==============================] - 0s 11ms/step - loss: 1762.4841\n",
            "Epoch 81/300\n",
            "2/2 [==============================] - 0s 11ms/step - loss: 1753.0500\n",
            "Epoch 82/300\n",
            "2/2 [==============================] - 0s 11ms/step - loss: 1733.6700\n",
            "Epoch 83/300\n",
            "2/2 [==============================] - 0s 11ms/step - loss: 1702.6021\n",
            "Epoch 84/300\n",
            "2/2 [==============================] - 0s 12ms/step - loss: 1693.8555\n",
            "Epoch 85/300\n",
            "2/2 [==============================] - 0s 13ms/step - loss: 1685.8309\n",
            "Epoch 86/300\n",
            "2/2 [==============================] - 0s 11ms/step - loss: 1682.3585\n",
            "Epoch 87/300\n",
            "2/2 [==============================] - 0s 17ms/step - loss: 1669.9644\n",
            "Epoch 88/300\n",
            "2/2 [==============================] - 0s 11ms/step - loss: 1656.7357\n",
            "Epoch 89/300\n",
            "2/2 [==============================] - 0s 11ms/step - loss: 1650.5496\n",
            "Epoch 90/300\n",
            "2/2 [==============================] - 0s 12ms/step - loss: 1644.3615\n",
            "Epoch 91/300\n",
            "2/2 [==============================] - 0s 11ms/step - loss: 1638.3630\n",
            "Epoch 92/300\n",
            "2/2 [==============================] - 0s 11ms/step - loss: 1594.1250\n",
            "Epoch 93/300\n",
            "2/2 [==============================] - 0s 12ms/step - loss: 1623.4552\n",
            "Epoch 94/300\n",
            "2/2 [==============================] - 0s 10ms/step - loss: 1598.7799\n",
            "Epoch 95/300\n",
            "2/2 [==============================] - 0s 14ms/step - loss: 1580.8911\n",
            "Epoch 96/300\n",
            "2/2 [==============================] - 0s 11ms/step - loss: 1602.2388\n",
            "Epoch 97/300\n",
            "2/2 [==============================] - 0s 13ms/step - loss: 1601.6448\n",
            "Epoch 98/300\n",
            "2/2 [==============================] - 0s 13ms/step - loss: 1604.9478\n",
            "Epoch 99/300\n",
            "2/2 [==============================] - 0s 12ms/step - loss: 1602.5625\n",
            "Epoch 100/300\n",
            "2/2 [==============================] - 0s 11ms/step - loss: 1578.8280\n",
            "Epoch 101/300\n",
            "2/2 [==============================] - 0s 11ms/step - loss: 1550.6445\n",
            "Epoch 102/300\n",
            "2/2 [==============================] - 0s 12ms/step - loss: 1556.9866\n",
            "Epoch 103/300\n",
            "2/2 [==============================] - 0s 10ms/step - loss: 1531.7073\n",
            "Epoch 104/300\n",
            "2/2 [==============================] - 0s 10ms/step - loss: 1512.1385\n",
            "Epoch 105/300\n",
            "2/2 [==============================] - 0s 9ms/step - loss: 1489.6307\n",
            "Epoch 106/300\n",
            "2/2 [==============================] - 0s 10ms/step - loss: 1453.0289\n",
            "Epoch 107/300\n",
            "2/2 [==============================] - 0s 10ms/step - loss: 1462.2367\n",
            "Epoch 108/300\n",
            "2/2 [==============================] - 0s 12ms/step - loss: 1450.0416\n",
            "Epoch 109/300\n",
            "2/2 [==============================] - 0s 17ms/step - loss: 1425.5312\n",
            "Epoch 110/300\n",
            "2/2 [==============================] - 0s 11ms/step - loss: 1438.0291\n",
            "Epoch 111/300\n",
            "2/2 [==============================] - 0s 12ms/step - loss: 1445.4009\n",
            "Epoch 112/300\n",
            "2/2 [==============================] - 0s 12ms/step - loss: 1500.0779\n",
            "Epoch 113/300\n",
            "2/2 [==============================] - 0s 11ms/step - loss: 1375.0540\n",
            "Epoch 114/300\n",
            "2/2 [==============================] - 0s 12ms/step - loss: 1434.2135\n",
            "Epoch 115/300\n",
            "2/2 [==============================] - 0s 12ms/step - loss: 1390.1243\n",
            "Epoch 116/300\n",
            "2/2 [==============================] - 0s 12ms/step - loss: 1378.4929\n",
            "Epoch 117/300\n",
            "2/2 [==============================] - 0s 12ms/step - loss: 1370.3466\n",
            "Epoch 118/300\n",
            "2/2 [==============================] - 0s 10ms/step - loss: 1360.8646\n",
            "Epoch 119/300\n",
            "2/2 [==============================] - 0s 10ms/step - loss: 1364.6527\n",
            "Epoch 120/300\n",
            "2/2 [==============================] - 0s 13ms/step - loss: 1392.7258\n",
            "Epoch 121/300\n",
            "2/2 [==============================] - 0s 13ms/step - loss: 1356.7581\n",
            "Epoch 122/300\n",
            "2/2 [==============================] - 0s 15ms/step - loss: 1351.7052\n",
            "Epoch 123/300\n",
            "2/2 [==============================] - 0s 11ms/step - loss: 1359.7661\n",
            "Epoch 124/300\n",
            "2/2 [==============================] - 0s 12ms/step - loss: 1388.3899\n",
            "Epoch 125/300\n",
            "2/2 [==============================] - 0s 11ms/step - loss: 1340.8353\n",
            "Epoch 126/300\n",
            "2/2 [==============================] - 0s 12ms/step - loss: 1352.5430\n",
            "Epoch 127/300\n",
            "2/2 [==============================] - 0s 11ms/step - loss: 1343.5199\n",
            "Epoch 128/300\n",
            "2/2 [==============================] - 0s 11ms/step - loss: 1300.9915\n",
            "Epoch 129/300\n",
            "2/2 [==============================] - 0s 11ms/step - loss: 1377.8644\n",
            "Epoch 130/300\n",
            "2/2 [==============================] - 0s 12ms/step - loss: 1337.2695\n",
            "Epoch 131/300\n",
            "2/2 [==============================] - 0s 12ms/step - loss: 1313.9816\n",
            "Epoch 132/300\n",
            "2/2 [==============================] - 0s 12ms/step - loss: 1302.2386\n",
            "Epoch 133/300\n",
            "2/2 [==============================] - 0s 12ms/step - loss: 1306.0857\n",
            "Epoch 134/300\n",
            "2/2 [==============================] - 0s 13ms/step - loss: 1287.1163\n",
            "Epoch 135/300\n",
            "2/2 [==============================] - 0s 8ms/step - loss: 1275.8073\n",
            "Epoch 136/300\n",
            "2/2 [==============================] - 0s 13ms/step - loss: 1291.0326\n",
            "Epoch 137/300\n",
            "2/2 [==============================] - 0s 14ms/step - loss: 1287.0630\n",
            "Epoch 138/300\n",
            "2/2 [==============================] - 0s 13ms/step - loss: 1319.7300\n",
            "Epoch 139/300\n",
            "2/2 [==============================] - 0s 12ms/step - loss: 1303.7823\n",
            "Epoch 140/300\n",
            "2/2 [==============================] - 0s 15ms/step - loss: 1349.5599\n",
            "Epoch 141/300\n",
            "2/2 [==============================] - 0s 14ms/step - loss: 1301.3679\n",
            "Epoch 142/300\n",
            "2/2 [==============================] - 0s 12ms/step - loss: 1379.8524\n",
            "Epoch 143/300\n",
            "2/2 [==============================] - 0s 11ms/step - loss: 1384.4161\n",
            "Epoch 144/300\n",
            "2/2 [==============================] - 0s 13ms/step - loss: 1299.5656\n",
            "Epoch 145/300\n",
            "2/2 [==============================] - 0s 11ms/step - loss: 1286.4897\n",
            "Epoch 146/300\n",
            "2/2 [==============================] - 0s 11ms/step - loss: 1264.3633\n",
            "Epoch 147/300\n",
            "2/2 [==============================] - 0s 12ms/step - loss: 1259.7759\n",
            "Epoch 148/300\n",
            "2/2 [==============================] - 0s 11ms/step - loss: 1247.8088\n",
            "Epoch 149/300\n",
            "2/2 [==============================] - 0s 10ms/step - loss: 1247.9589\n",
            "Epoch 150/300\n",
            "2/2 [==============================] - 0s 12ms/step - loss: 1241.5820\n",
            "Epoch 151/300\n",
            "2/2 [==============================] - 0s 11ms/step - loss: 1243.3586\n",
            "Epoch 152/300\n",
            "2/2 [==============================] - 0s 14ms/step - loss: 1244.4412\n",
            "Epoch 153/300\n",
            "2/2 [==============================] - 0s 11ms/step - loss: 1230.6608\n",
            "Epoch 154/300\n",
            "2/2 [==============================] - 0s 14ms/step - loss: 1232.8152\n",
            "Epoch 155/300\n",
            "2/2 [==============================] - 0s 13ms/step - loss: 1229.8982\n",
            "Epoch 156/300\n",
            "2/2 [==============================] - 0s 10ms/step - loss: 1213.7117\n",
            "Epoch 157/300\n",
            "2/2 [==============================] - 0s 15ms/step - loss: 1220.1445\n",
            "Epoch 158/300\n",
            "2/2 [==============================] - 0s 11ms/step - loss: 1202.7308\n",
            "Epoch 159/300\n",
            "2/2 [==============================] - 0s 12ms/step - loss: 1197.6733\n",
            "Epoch 160/300\n",
            "2/2 [==============================] - 0s 12ms/step - loss: 1195.4821\n",
            "Epoch 161/300\n",
            "2/2 [==============================] - 0s 12ms/step - loss: 1174.9534\n",
            "Epoch 162/300\n",
            "2/2 [==============================] - 0s 15ms/step - loss: 1197.4219\n",
            "Epoch 163/300\n",
            "2/2 [==============================] - 0s 10ms/step - loss: 1158.3448\n",
            "Epoch 164/300\n",
            "2/2 [==============================] - 0s 11ms/step - loss: 1177.9841\n",
            "Epoch 165/300\n",
            "2/2 [==============================] - 0s 12ms/step - loss: 1152.2634\n",
            "Epoch 166/300\n",
            "2/2 [==============================] - 0s 12ms/step - loss: 1180.3235\n",
            "Epoch 167/300\n",
            "2/2 [==============================] - 0s 14ms/step - loss: 1189.4419\n",
            "Epoch 168/300\n",
            "2/2 [==============================] - 0s 12ms/step - loss: 1137.1202\n",
            "Epoch 169/300\n",
            "2/2 [==============================] - 0s 16ms/step - loss: 1120.9558\n",
            "Epoch 170/300\n",
            "2/2 [==============================] - 0s 13ms/step - loss: 1160.2255\n",
            "Epoch 171/300\n",
            "2/2 [==============================] - 0s 20ms/step - loss: 1156.3435\n",
            "Epoch 172/300\n",
            "2/2 [==============================] - 0s 13ms/step - loss: 1133.1187\n",
            "Epoch 173/300\n",
            "2/2 [==============================] - 0s 12ms/step - loss: 1114.9602\n",
            "Epoch 174/300\n",
            "2/2 [==============================] - 0s 13ms/step - loss: 1117.3441\n",
            "Epoch 175/300\n",
            "2/2 [==============================] - 0s 12ms/step - loss: 1102.6378\n",
            "Epoch 176/300\n",
            "2/2 [==============================] - 0s 12ms/step - loss: 1150.9106\n",
            "Epoch 177/300\n",
            "2/2 [==============================] - 0s 12ms/step - loss: 1159.9935\n",
            "Epoch 178/300\n",
            "2/2 [==============================] - 0s 12ms/step - loss: 1113.2206\n",
            "Epoch 179/300\n",
            "2/2 [==============================] - 0s 12ms/step - loss: 1153.9995\n",
            "Epoch 180/300\n",
            "2/2 [==============================] - 0s 13ms/step - loss: 1126.3607\n",
            "Epoch 181/300\n",
            "2/2 [==============================] - 0s 21ms/step - loss: 1098.6654\n",
            "Epoch 182/300\n",
            "2/2 [==============================] - 0s 13ms/step - loss: 1370.2083\n",
            "Epoch 183/300\n",
            "2/2 [==============================] - 0s 9ms/step - loss: 1241.5015\n",
            "Epoch 184/300\n",
            "2/2 [==============================] - 0s 11ms/step - loss: 1532.8661\n",
            "Epoch 185/300\n",
            "2/2 [==============================] - 0s 13ms/step - loss: 1130.3383\n",
            "Epoch 186/300\n",
            "2/2 [==============================] - 0s 11ms/step - loss: 1469.3812\n",
            "Epoch 187/300\n",
            "2/2 [==============================] - 0s 12ms/step - loss: 1235.7079\n",
            "Epoch 188/300\n",
            "2/2 [==============================] - 0s 12ms/step - loss: 1291.7798\n",
            "Epoch 189/300\n",
            "2/2 [==============================] - 0s 11ms/step - loss: 1160.9384\n",
            "Epoch 190/300\n",
            "2/2 [==============================] - 0s 10ms/step - loss: 1213.2599\n",
            "Epoch 191/300\n",
            "2/2 [==============================] - 0s 11ms/step - loss: 1158.2537\n",
            "Epoch 192/300\n",
            "2/2 [==============================] - 0s 12ms/step - loss: 1136.5195\n",
            "Epoch 193/300\n",
            "2/2 [==============================] - 0s 12ms/step - loss: 1158.9669\n",
            "Epoch 194/300\n",
            "2/2 [==============================] - 0s 11ms/step - loss: 1098.4978\n",
            "Epoch 195/300\n",
            "2/2 [==============================] - 0s 10ms/step - loss: 1136.4336\n",
            "Epoch 196/300\n",
            "2/2 [==============================] - 0s 12ms/step - loss: 1063.3971\n",
            "Epoch 197/300\n",
            "2/2 [==============================] - 0s 12ms/step - loss: 1121.5815\n",
            "Epoch 198/300\n",
            "2/2 [==============================] - 0s 11ms/step - loss: 1082.9753\n",
            "Epoch 199/300\n",
            "2/2 [==============================] - 0s 12ms/step - loss: 1060.5122\n",
            "Epoch 200/300\n",
            "2/2 [==============================] - 0s 12ms/step - loss: 1083.3782\n",
            "Epoch 201/300\n",
            "2/2 [==============================] - 0s 18ms/step - loss: 1080.0443\n",
            "Epoch 202/300\n",
            "2/2 [==============================] - 0s 11ms/step - loss: 1050.6522\n",
            "Epoch 203/300\n",
            "2/2 [==============================] - 0s 15ms/step - loss: 1126.1056\n",
            "Epoch 204/300\n",
            "2/2 [==============================] - 0s 12ms/step - loss: 1126.5200\n",
            "Epoch 205/300\n",
            "2/2 [==============================] - 0s 12ms/step - loss: 1099.2770\n",
            "Epoch 206/300\n",
            "2/2 [==============================] - 0s 18ms/step - loss: 1064.4454\n",
            "Epoch 207/300\n",
            "2/2 [==============================] - 0s 14ms/step - loss: 1034.5967\n",
            "Epoch 208/300\n",
            "2/2 [==============================] - 0s 12ms/step - loss: 1040.2059\n",
            "Epoch 209/300\n",
            "2/2 [==============================] - 0s 12ms/step - loss: 1050.2946\n",
            "Epoch 210/300\n",
            "2/2 [==============================] - 0s 11ms/step - loss: 1003.8887\n",
            "Epoch 211/300\n",
            "2/2 [==============================] - 0s 11ms/step - loss: 1024.1647\n",
            "Epoch 212/300\n",
            "2/2 [==============================] - 0s 14ms/step - loss: 999.0230\n",
            "Epoch 213/300\n",
            "2/2 [==============================] - 0s 11ms/step - loss: 1007.6683\n",
            "Epoch 214/300\n",
            "2/2 [==============================] - 0s 18ms/step - loss: 1019.0651\n",
            "Epoch 215/300\n",
            "2/2 [==============================] - 0s 11ms/step - loss: 1000.2369\n",
            "Epoch 216/300\n",
            "2/2 [==============================] - 0s 18ms/step - loss: 1043.2845\n",
            "Epoch 217/300\n",
            "2/2 [==============================] - 0s 12ms/step - loss: 1046.3563\n",
            "Epoch 218/300\n",
            "2/2 [==============================] - 0s 12ms/step - loss: 1049.1615\n",
            "Epoch 219/300\n",
            "2/2 [==============================] - 0s 12ms/step - loss: 999.5028\n",
            "Epoch 220/300\n",
            "2/2 [==============================] - 0s 11ms/step - loss: 1082.1163\n",
            "Epoch 221/300\n",
            "2/2 [==============================] - 0s 13ms/step - loss: 1099.3331\n",
            "Epoch 222/300\n",
            "2/2 [==============================] - 0s 11ms/step - loss: 990.6937\n",
            "Epoch 223/300\n",
            "2/2 [==============================] - 0s 11ms/step - loss: 1095.2706\n",
            "Epoch 224/300\n",
            "2/2 [==============================] - 0s 11ms/step - loss: 1038.4553\n",
            "Epoch 225/300\n",
            "2/2 [==============================] - 0s 11ms/step - loss: 1027.0156\n",
            "Epoch 226/300\n",
            "2/2 [==============================] - 0s 12ms/step - loss: 1063.2419\n",
            "Epoch 227/300\n",
            "2/2 [==============================] - 0s 16ms/step - loss: 1029.1288\n",
            "Epoch 228/300\n",
            "2/2 [==============================] - 0s 11ms/step - loss: 1077.3020\n",
            "Epoch 229/300\n",
            "2/2 [==============================] - 0s 10ms/step - loss: 988.7960\n",
            "Epoch 230/300\n",
            "2/2 [==============================] - 0s 12ms/step - loss: 1132.7120\n",
            "Epoch 231/300\n",
            "2/2 [==============================] - 0s 13ms/step - loss: 1000.3869\n",
            "Epoch 232/300\n",
            "2/2 [==============================] - 0s 13ms/step - loss: 1008.5792\n",
            "Epoch 233/300\n",
            "2/2 [==============================] - 0s 15ms/step - loss: 1017.7998\n",
            "Epoch 234/300\n",
            "2/2 [==============================] - 0s 11ms/step - loss: 984.6992\n",
            "Epoch 235/300\n",
            "2/2 [==============================] - 0s 12ms/step - loss: 1035.6790\n",
            "Epoch 236/300\n",
            "2/2 [==============================] - 0s 13ms/step - loss: 938.6229\n",
            "Epoch 237/300\n",
            "2/2 [==============================] - 0s 11ms/step - loss: 1020.7335\n",
            "Epoch 238/300\n",
            "2/2 [==============================] - 0s 11ms/step - loss: 928.7430\n",
            "Epoch 239/300\n",
            "2/2 [==============================] - 0s 11ms/step - loss: 913.4304\n",
            "Epoch 240/300\n",
            "2/2 [==============================] - 0s 11ms/step - loss: 912.4186\n",
            "Epoch 241/300\n",
            "2/2 [==============================] - 0s 14ms/step - loss: 876.6010\n",
            "Epoch 242/300\n",
            "2/2 [==============================] - 0s 12ms/step - loss: 902.2125\n",
            "Epoch 243/300\n",
            "2/2 [==============================] - 0s 13ms/step - loss: 915.6805\n",
            "Epoch 244/300\n",
            "2/2 [==============================] - 0s 12ms/step - loss: 863.4623\n",
            "Epoch 245/300\n",
            "2/2 [==============================] - 0s 12ms/step - loss: 921.3708\n",
            "Epoch 246/300\n",
            "2/2 [==============================] - 0s 12ms/step - loss: 891.4225\n",
            "Epoch 247/300\n",
            "2/2 [==============================] - 0s 12ms/step - loss: 890.1932\n",
            "Epoch 248/300\n",
            "2/2 [==============================] - 0s 14ms/step - loss: 980.7156\n",
            "Epoch 249/300\n",
            "2/2 [==============================] - 0s 12ms/step - loss: 957.9155\n",
            "Epoch 250/300\n",
            "2/2 [==============================] - 0s 12ms/step - loss: 950.3105\n",
            "Epoch 251/300\n",
            "2/2 [==============================] - 0s 16ms/step - loss: 981.2685\n",
            "Epoch 252/300\n",
            "2/2 [==============================] - 0s 12ms/step - loss: 866.6891\n",
            "Epoch 253/300\n",
            "2/2 [==============================] - 0s 13ms/step - loss: 946.3824\n",
            "Epoch 254/300\n",
            "2/2 [==============================] - 0s 13ms/step - loss: 883.2965\n",
            "Epoch 255/300\n",
            "2/2 [==============================] - 0s 11ms/step - loss: 913.5845\n",
            "Epoch 256/300\n",
            "2/2 [==============================] - 0s 14ms/step - loss: 865.2106\n",
            "Epoch 257/300\n",
            "2/2 [==============================] - 0s 15ms/step - loss: 877.5847\n",
            "Epoch 258/300\n",
            "2/2 [==============================] - 0s 13ms/step - loss: 905.8361\n",
            "Epoch 259/300\n",
            "2/2 [==============================] - 0s 11ms/step - loss: 865.4276\n",
            "Epoch 260/300\n",
            "2/2 [==============================] - 0s 13ms/step - loss: 891.8031\n",
            "Epoch 261/300\n",
            "2/2 [==============================] - 0s 12ms/step - loss: 956.9487\n",
            "Epoch 262/300\n",
            "2/2 [==============================] - 0s 12ms/step - loss: 887.0018\n",
            "Epoch 263/300\n",
            "2/2 [==============================] - 0s 13ms/step - loss: 898.6837\n",
            "Epoch 264/300\n",
            "2/2 [==============================] - 0s 12ms/step - loss: 850.9081\n",
            "Epoch 265/300\n",
            "2/2 [==============================] - 0s 14ms/step - loss: 840.0536\n",
            "Epoch 266/300\n",
            "2/2 [==============================] - 0s 11ms/step - loss: 880.2705\n",
            "Epoch 267/300\n",
            "2/2 [==============================] - 0s 13ms/step - loss: 878.3013\n",
            "Epoch 268/300\n",
            "2/2 [==============================] - 0s 13ms/step - loss: 851.4539\n",
            "Epoch 269/300\n",
            "2/2 [==============================] - 0s 15ms/step - loss: 909.8295\n",
            "Epoch 270/300\n",
            "2/2 [==============================] - 0s 12ms/step - loss: 900.2249\n",
            "Epoch 271/300\n",
            "2/2 [==============================] - 0s 22ms/step - loss: 908.2817\n",
            "Epoch 272/300\n",
            "2/2 [==============================] - 0s 12ms/step - loss: 882.5723\n",
            "Epoch 273/300\n",
            "2/2 [==============================] - 0s 12ms/step - loss: 914.0703\n",
            "Epoch 274/300\n",
            "2/2 [==============================] - 0s 15ms/step - loss: 960.6391\n",
            "Epoch 275/300\n",
            "2/2 [==============================] - 0s 14ms/step - loss: 923.1680\n",
            "Epoch 276/300\n",
            "2/2 [==============================] - 0s 13ms/step - loss: 870.8203\n",
            "Epoch 277/300\n",
            "2/2 [==============================] - 0s 11ms/step - loss: 899.6360\n",
            "Epoch 278/300\n",
            "2/2 [==============================] - 0s 11ms/step - loss: 842.0131\n",
            "Epoch 279/300\n",
            "2/2 [==============================] - 0s 12ms/step - loss: 867.8777\n",
            "Epoch 280/300\n",
            "2/2 [==============================] - 0s 13ms/step - loss: 904.7767\n",
            "Epoch 281/300\n",
            "2/2 [==============================] - 0s 16ms/step - loss: 896.2187\n",
            "Epoch 282/300\n",
            "2/2 [==============================] - 0s 12ms/step - loss: 881.2062\n",
            "Epoch 283/300\n",
            "2/2 [==============================] - 0s 14ms/step - loss: 834.9105\n",
            "Epoch 284/300\n",
            "2/2 [==============================] - 0s 13ms/step - loss: 919.8606\n",
            "Epoch 285/300\n",
            "2/2 [==============================] - 0s 12ms/step - loss: 860.2527\n",
            "Epoch 286/300\n",
            "2/2 [==============================] - 0s 12ms/step - loss: 847.4636\n",
            "Epoch 287/300\n",
            "2/2 [==============================] - 0s 11ms/step - loss: 852.4572\n",
            "Epoch 288/300\n",
            "2/2 [==============================] - 0s 12ms/step - loss: 841.2137\n",
            "Epoch 289/300\n",
            "2/2 [==============================] - 0s 14ms/step - loss: 836.8041\n",
            "Epoch 290/300\n",
            "2/2 [==============================] - 0s 13ms/step - loss: 838.1105\n",
            "Epoch 291/300\n",
            "2/2 [==============================] - 0s 14ms/step - loss: 811.4329\n",
            "Epoch 292/300\n",
            "2/2 [==============================] - 0s 12ms/step - loss: 811.5458\n",
            "Epoch 293/300\n",
            "2/2 [==============================] - 0s 12ms/step - loss: 831.7333\n",
            "Epoch 294/300\n",
            "2/2 [==============================] - 0s 12ms/step - loss: 786.7094\n",
            "Epoch 295/300\n",
            "2/2 [==============================] - 0s 12ms/step - loss: 880.2869\n",
            "Epoch 296/300\n",
            "2/2 [==============================] - 0s 12ms/step - loss: 776.7537\n",
            "Epoch 297/300\n",
            "2/2 [==============================] - 0s 13ms/step - loss: 844.1686\n",
            "Epoch 298/300\n",
            "2/2 [==============================] - 0s 14ms/step - loss: 807.5606\n",
            "Epoch 299/300\n",
            "2/2 [==============================] - 0s 12ms/step - loss: 870.2337\n",
            "Epoch 300/300\n",
            "2/2 [==============================] - 0s 20ms/step - loss: 833.4550\n"
          ]
        }
      ]
    },
    {
      "cell_type": "code",
      "source": [
        "model.summary()"
      ],
      "metadata": {
        "colab": {
          "base_uri": "https://localhost:8080/",
          "height": 0
        },
        "id": "2SuJWPlCZumZ",
        "outputId": "f58327ab-d2ff-45bc-e925-1c0ec3a16e7c"
      },
      "execution_count": 17,
      "outputs": [
        {
          "output_type": "stream",
          "name": "stdout",
          "text": [
            "Model: \"sequential_1\"\n",
            "_________________________________________________________________\n",
            " Layer (type)                Output Shape              Param #   \n",
            "=================================================================\n",
            " lstm_2 (LSTM)               (None, 3, 50)             10400     \n",
            "                                                                 \n",
            " lstm_3 (LSTM)               (None, 50)                20200     \n",
            "                                                                 \n",
            " dense_1 (Dense)             (None, 1)                 51        \n",
            "                                                                 \n",
            "=================================================================\n",
            "Total params: 30,651\n",
            "Trainable params: 30,651\n",
            "Non-trainable params: 0\n",
            "_________________________________________________________________\n"
          ]
        }
      ]
    },
    {
      "cell_type": "code",
      "source": [
        "dot_img_file = '/tmp/model_1.png'\n",
        "tf.keras.utils.plot_model(model, to_file=dot_img_file, show_shapes=True)"
      ],
      "metadata": {
        "colab": {
          "base_uri": "https://localhost:8080/",
          "height": 422
        },
        "id": "xUuioTGgaDZj",
        "outputId": "469fe882-d4b8-469a-c7ad-e8899747901f"
      },
      "execution_count": 18,
      "outputs": [
        {
          "output_type": "execute_result",
          "data": {
            "image/png": "[encoded data removed]",
            "text/plain": [
              "<IPython.core.display.Image object>"
            ]
          },
          "metadata": {},
          "execution_count": 18
        }
      ]
    },
    {
      "cell_type": "code",
      "source": [
        "# 4. Evaluate Model\n",
        "loss = model.evaluate(X, y)\n",
        "print(\"Loss is\", loss)\n",
        "history_df = pd.DataFrame(history.history)\n",
        "history_df.loc[:, ['loss']].plot(title=\"Mean Squared Error\");"
      ],
      "metadata": {
        "colab": {
          "base_uri": "https://localhost:8080/",
          "height": 316
        },
        "id": "ef79hvDza3O2",
        "outputId": "e61a7846-bd58-48f8-9bcd-501e915f534f"
      },
      "execution_count": 19,
      "outputs": [
        {
          "output_type": "stream",
          "name": "stdout",
          "text": [
            "2/2 [==============================] - 0s 7ms/step - loss: 842.2738\n",
            "Loss is 842.2738037109375\n"
          ]
        },
        {
          "output_type": "display_data",
          "data": {
            "text/plain": [
              "<Figure size 432x288 with 1 Axes>"
            ],
            "image/png": "[encoded data removed]"
          },
          "metadata": {
            "needs_background": "light"
          }
        }
      ]
    },
    {
      "cell_type": "markdown",
      "source": [
        "## <font color='green'>**8. Prediction using LSTM_RNN Model**</font>\n",
        "#### <font color='magenta'>**LSTM_RNN model prediction using test data**</font>"
      ],
      "metadata": {
        "id": "hfKrVIZFZTcV"
      }
    },
    {
      "cell_type": "code",
      "source": [
        "train_predict= model.predict(X)\n",
        "test_predict= model.predict(X_test)"
      ],
      "metadata": {
        "colab": {
          "base_uri": "https://localhost:8080/",
          "height": 0
        },
        "id": "Zg02DXnwBap9",
        "outputId": "e2e8f2d2-33dd-4ce4-ce27-7c1df438bf59"
      },
      "execution_count": 20,
      "outputs": [
        {
          "output_type": "stream",
          "name": "stdout",
          "text": [
            "2/2 [==============================] - 0s 6ms/step\n",
            "1/1 [==============================] - 0s 19ms/step\n"
          ]
        }
      ]
    },
    {
      "cell_type": "code",
      "source": [
        "def print_error(y, y_test, train_predict, test_predict):\n",
        "  train_rmse= math.sqrt(mean_squared_error(y, train_predict))\n",
        "  train_mae = mean_absolute_error(y, train_predict)\n",
        "\n",
        "  test_rmse= math.sqrt(mean_squared_error(y_test, test_predict))\n",
        "  test_mae = mean_absolute_error(y_test, test_predict)\n",
        "  print('Training Mean Absolute Error', train_mae)\n",
        "  print('Testing Mean Absolute Error', test_mae)\n",
        "  print('Train RMSE : ', train_rmse)\n",
        "  print('Test RMSE :', test_rmse)"
      ],
      "metadata": {
        "id": "fk6I9rpRDLk7"
      },
      "execution_count": 21,
      "outputs": []
    },
    {
      "cell_type": "code",
      "source": [
        "print_error(y, y_test, train_predict, test_predict)"
      ],
      "metadata": {
        "colab": {
          "base_uri": "https://localhost:8080/",
          "height": 0
        },
        "id": "OEojYTXyDTiy",
        "outputId": "4239ee4b-096a-413e-9485-406b8e1d1cc4"
      },
      "execution_count": 22,
      "outputs": [
        {
          "output_type": "stream",
          "name": "stdout",
          "text": [
            "Training Mean Absolute Error 19.02591044108073\n",
            "Testing Mean Absolute Error 20.500394381009617\n",
            "Train RMSE :  29.021950837902462\n",
            "Test RMSE : 26.087201235291527\n"
          ]
        }
      ]
    },
    {
      "cell_type": "code",
      "source": [
        "model_evaluation(y, train_predict, 'LSTM_RNN for Train data')"
      ],
      "metadata": {
        "colab": {
          "base_uri": "https://localhost:8080/",
          "height": 849
        },
        "id": "bCPkiLcSWyVm",
        "outputId": "48547d89-3345-40bf-aa54-db25309a26cd"
      },
      "execution_count": 23,
      "outputs": [
        {
          "output_type": "stream",
          "name": "stdout",
          "text": [
            "\n",
            " Model Evaluation Report: \n",
            "Mean Absolute Error(MAE) of LSTM_RNN for Train data : 19.02591044108073\n",
            "Mean Squared Error(MSE) of LSTM_RNN for Train data : 842.2736304376274\n",
            "Root Mean Squared Error (RMSE) of LSTM_RNN for Train data : 29.021950837902462\n",
            "\n",
            "\n",
            "\n",
            "\n"
          ]
        },
        {
          "output_type": "display_data",
          "data": {
            "text/plain": [
              "<Figure size 750x400 with 1 Axes>"
            ],
            "image/png": "[encoded data removed]"
          },
          "metadata": {
            "needs_background": "light"
          }
        },
        {
          "output_type": "display_data",
          "data": {
            "text/plain": [
              "<Figure size 750x400 with 1 Axes>"
            ],
            "image/png": "[encoded data removed]"
          },
          "metadata": {
            "needs_background": "light"
          }
        }
      ]
    },
    {
      "cell_type": "code",
      "source": [
        "model_evaluation(y_test, test_predict, 'LSTM_RNN for test data')"
      ],
      "metadata": {
        "colab": {
          "base_uri": "https://localhost:8080/",
          "height": 849
        },
        "id": "vNaT-itBv1_A",
        "outputId": "0fddbe8c-990c-4972-d2f4-a6c20942ab66"
      },
      "execution_count": 24,
      "outputs": [
        {
          "output_type": "stream",
          "name": "stdout",
          "text": [
            "\n",
            " Model Evaluation Report: \n",
            "Mean Absolute Error(MAE) of LSTM_RNN for test data : 20.500394381009617\n",
            "Mean Squared Error(MSE) of LSTM_RNN for test data : 680.5420682905958\n",
            "Root Mean Squared Error (RMSE) of LSTM_RNN for test data : 26.087201235291527\n",
            "\n",
            "\n",
            "\n",
            "\n"
          ]
        },
        {
          "output_type": "display_data",
          "data": {
            "text/plain": [
              "<Figure size 750x400 with 1 Axes>"
            ],
            "image/png": "[encoded data removed]"
          },
          "metadata": {
            "needs_background": "light"
          }
        },
        {
          "output_type": "display_data",
          "data": {
            "text/plain": [
              "<Figure size 750x400 with 1 Axes>"
            ],
            "image/png": "[encoded data removed]"
          },
          "metadata": {
            "needs_background": "light"
          }
        }
      ]
    },
    {
      "cell_type": "code",
      "source": [
        "train_data.tail()"
      ],
      "metadata": {
        "colab": {
          "base_uri": "https://localhost:8080/",
          "height": 0
        },
        "id": "Pjelup2N1VXL",
        "outputId": "d295be44-3e9b-4109-9bdd-9ea93fc192e4"
      },
      "execution_count": 25,
      "outputs": [
        {
          "output_type": "execute_result",
          "data": {
            "text/plain": [
              "58    640\n",
              "59    609\n",
              "60    606\n",
              "61    632\n",
              "62    617\n",
              "Name: Water, dtype: int64"
            ]
          },
          "metadata": {},
          "execution_count": 25
        }
      ]
    },
    {
      "cell_type": "code",
      "source": [
        "train_data[-3:].tolist()"
      ],
      "metadata": {
        "colab": {
          "base_uri": "https://localhost:8080/",
          "height": 0
        },
        "id": "XUFyUFjk6vU6",
        "outputId": "9d897e46-55fe-4476-8a99-a812938016fb"
      },
      "execution_count": 26,
      "outputs": [
        {
          "output_type": "execute_result",
          "data": {
            "text/plain": [
              "[606, 632, 617]"
            ]
          },
          "metadata": {},
          "execution_count": 26
        }
      ]
    },
    {
      "cell_type": "markdown",
      "source": [
        "#### <font color='magenta'>**LSTM_RNN model prediction using while loop**</font>"
      ],
      "metadata": {
        "id": "jtTTRLo9CjBt"
      }
    },
    {
      "cell_type": "code",
      "source": [
        "x_input= np.array(train_data[-3:].tolist())\n",
        "temp= list(x_input)\n",
        "\n",
        "output=[]\n",
        "i=62\n",
        "while i<78:\n",
        "  if len(temp)>3:\n",
        "    x_input= np.array(temp[1:])\n",
        "    print(\"Year {} input is {}\". format(i+1, x_input))\n",
        "    x_input= x_input.reshape((1,n_steps, n_features)) \n",
        "    ypred= model.predict(x_input, verbose=0)\n",
        "    print(\"Year {} output is {}\". format(i+1, ypred))\n",
        "    temp.append(ypred[0][0])\n",
        "    temp=temp[1:]\n",
        "    output.append(ypred[0][0])\n",
        "    i=i+1\n",
        "\n",
        "  else:\n",
        "    print(\"Year 63 input is\", x_input)\n",
        "    x_input= x_input.reshape((1,n_steps, n_features))\n",
        "    ypred= model.predict(x_input, verbose=0)\n",
        "    print(\"Year 63 output is\", ypred[0])\n",
        "    temp.append(ypred[0][0])\n",
        "    output.append(ypred[0][0])\n",
        "    i=i+1"
      ],
      "metadata": {
        "colab": {
          "base_uri": "https://localhost:8080/",
          "height": 0
        },
        "id": "4g0_KZuF0Ny-",
        "outputId": "14326ac1-e377-400e-d296-c9d4c9319a1a"
      },
      "execution_count": 27,
      "outputs": [
        {
          "output_type": "stream",
          "name": "stdout",
          "text": [
            "Year 63 input is [606 632 617]\n",
            "Year 63 output is [615.99927]\n",
            "Year 64 input is [632.         617.         615.99926758]\n",
            "Year 64 output is [[599.0973]]\n",
            "Year 65 input is [617.         615.99926758 599.09729004]\n",
            "Year 65 output is [[546.66705]]\n",
            "Year 66 input is [615.99927 599.0973  546.66705]\n",
            "Year 66 output is [[526.3032]]\n",
            "Year 67 input is [599.0973  546.66705 526.3032 ]\n",
            "Year 67 output is [[506.0742]]\n",
            "Year 68 input is [546.66705 526.3032  506.0742 ]\n",
            "Year 68 output is [[513.49286]]\n",
            "Year 69 input is [526.3032  506.0742  513.49286]\n",
            "Year 69 output is [[516.6124]]\n",
            "Year 70 input is [506.0742  513.49286 516.6124 ]\n",
            "Year 70 output is [[507.4094]]\n",
            "Year 71 input is [513.49286 516.6124  507.4094 ]\n",
            "Year 71 output is [[494.3061]]\n",
            "Year 72 input is [516.6124 507.4094 494.3061]\n",
            "Year 72 output is [[503.52603]]\n",
            "Year 73 input is [507.4094  494.3061  503.52603]\n",
            "Year 73 output is [[519.48303]]\n",
            "Year 74 input is [494.3061  503.52603 519.48303]\n",
            "Year 74 output is [[512.7576]]\n",
            "Year 75 input is [503.52603 519.48303 512.7576 ]\n",
            "Year 75 output is [[514.04346]]\n",
            "Year 76 input is [519.48303 512.7576  514.04346]\n",
            "Year 76 output is [[527.02155]]\n",
            "Year 77 input is [512.7576  514.04346 527.02155]\n",
            "Year 77 output is [[534.1352]]\n",
            "Year 78 input is [514.04346 527.02155 534.1352 ]\n",
            "Year 78 output is [[527.0333]]\n"
          ]
        }
      ]
    },
    {
      "cell_type": "code",
      "source": [
        "output"
      ],
      "metadata": {
        "colab": {
          "base_uri": "https://localhost:8080/",
          "height": 0
        },
        "id": "CkFRT_tJ3ido",
        "outputId": "04bd5c08-97da-4116-b3ab-f8c100220ef9"
      },
      "execution_count": 28,
      "outputs": [
        {
          "output_type": "execute_result",
          "data": {
            "text/plain": [
              "[615.99927,\n",
              " 599.0973,\n",
              " 546.66705,\n",
              " 526.3032,\n",
              " 506.0742,\n",
              " 513.49286,\n",
              " 516.6124,\n",
              " 507.4094,\n",
              " 494.3061,\n",
              " 503.52603,\n",
              " 519.48303,\n",
              " 512.7576,\n",
              " 514.04346,\n",
              " 527.02155,\n",
              " 534.1352,\n",
              " 527.0333]"
            ]
          },
          "metadata": {},
          "execution_count": 28
        }
      ]
    },
    {
      "cell_type": "code",
      "source": [
        "years= np.arange(63,79)\n",
        "plt.plot(years, output, color = 'limegreen', label= 'Predicted values');\n",
        "plt.plot(years, test_data, color = 'red', label = 'Original data')\n",
        "plt.legend(loc='best')\n",
        "plt.xlabel('Year')\n",
        "plt.ylabel('Original/Predicted Yearly Water Usage Values')\n",
        "plt.title(f'Actual vs Predicted for LSTM_RNN')\n",
        "plt.show();"
      ],
      "metadata": {
        "colab": {
          "base_uri": "https://localhost:8080/",
          "height": 295
        },
        "id": "VeHklbpk3opz",
        "outputId": "1e3e6393-ea20-4f63-d0c7-3b1460663a9f"
      },
      "execution_count": 29,
      "outputs": [
        {
          "output_type": "display_data",
          "data": {
            "text/plain": [
              "<Figure size 432x288 with 1 Axes>"
            ],
            "image/png": "[encoded data removed]"
          },
          "metadata": {
            "needs_background": "light"
          }
        }
      ]
    },
    {
      "cell_type": "code",
      "source": [
        "model_evaluation(y_test, output[3:], 'LSTM_RNN for test data using while loop')"
      ],
      "metadata": {
        "colab": {
          "base_uri": "https://localhost:8080/",
          "height": 849
        },
        "id": "E_pSNG13AaZ6",
        "outputId": "acfb4d5f-8f30-4caa-df55-236d9dd05f41"
      },
      "execution_count": 30,
      "outputs": [
        {
          "output_type": "stream",
          "name": "stdout",
          "text": [
            "\n",
            " Model Evaluation Report: \n",
            "Mean Absolute Error(MAE) of LSTM_RNN for test data using while loop : 66.6001234788161\n",
            "Mean Squared Error(MSE) of LSTM_RNN for test data using while loop : 4860.810305236552\n",
            "Root Mean Squared Error (RMSE) of LSTM_RNN for test data using while loop : 69.71951165374405\n",
            "\n",
            "\n",
            "\n",
            "\n"
          ]
        },
        {
          "output_type": "display_data",
          "data": {
            "text/plain": [
              "<Figure size 750x400 with 1 Axes>"
            ],
            "image/png": "[encoded data removed]"
          },
          "metadata": {
            "needs_background": "light"
          }
        },
        {
          "output_type": "display_data",
          "data": {
            "text/plain": [
              "<Figure size 750x400 with 1 Axes>"
            ],
            "image/png": "[encoded data removed]"
          },
          "metadata": {
            "needs_background": "light"
          }
        }
      ]
    }
  ]
}