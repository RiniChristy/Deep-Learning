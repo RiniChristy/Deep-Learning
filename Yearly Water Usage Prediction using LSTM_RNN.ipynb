{
  "nbformat": 4,
  "nbformat_minor": 0,
  "metadata": {
    "colab": {
      "provenance": []
    },
    "kernelspec": {
      "name": "python3",
      "display_name": "Python 3"
    },
    "language_info": {
      "name": "python"
    }
  },
  "cells": [
    {
      "cell_type": "markdown",
      "source": [
        "# <font color='Purple'>**Yearly Water Usage Prediction using LSTM_RNN**</font>\n"
      ],
      "metadata": {
        "id": "vp8WoBLHNC8w"
      }
    },
    {
      "cell_type": "markdown",
      "source": [
        "## <font color='green'>**Table of Contents**</font>\n",
        ">[Yearly Water Usage Prediction using LSTM_RNN](#scrollTo=vp8WoBLHNC8w)\n",
        "\n",
        ">>[1. Dataset Information](#scrollTo=HFsotPcgdHii)\n",
        "\n",
        ">>[2. Import the Required Libraries & Modules](#scrollTo=ZwUbH7LWdKKv)\n",
        "\n",
        ">>[3. Load the Monthly Sunspot dataset](#scrollTo=Gl38CKbdO5TU)\n",
        "\n",
        ">>[4. Time Series Visualization](#scrollTo=nxXlB8AgR8af)\n",
        "\n",
        ">>[5. Data Preprocessing](#scrollTo=7mvSo65USHm5)\n",
        "\n",
        ">>>[5.1 Splitting Data into Train & Test set](#scrollTo=EmOgUQLRdp0W)\n",
        "\n",
        ">>>>[Define a format_data function for Splitting Data](#scrollTo=q32TWU0USpM2)\n",
        "\n",
        ">>>[5.2 Create Independent & Dependent Variables](#scrollTo=rvBa4oijUMha)\n",
        "\n",
        ">>>>[Define a prepare data function to create independent & dependent variables for Train data & Test data](#scrollTo=rvBa4oijUMha)\n",
        "\n",
        ">>[6. Implementing Linear Regression](#scrollTo=r-lArFU2BfPq)\n",
        "\n",
        ">>>>[Define a model_evaluation function](#scrollTo=XpQGdHkVOKi5)\n",
        "\n",
        ">>[7. RNN_LSTM Model Development & Evaluation](#scrollTo=aKBD97MGSv6S)\n",
        "\n",
        ">>>>[Define a LSTM_RNN function to build RNN model](#scrollTo=ZZOqfnLpVRRZ)\n",
        "\n",
        ">>[8. Prediction using LSTM_RNN Model](#scrollTo=hfKrVIZFZTcV)\n",
        "\n",
        ">>>>[LSTM_RNN model prediction using test data](#scrollTo=hfKrVIZFZTcV)\n",
        "\n",
        ">>>>[LSTM_RNN model prediction using while loop](#scrollTo=jtTTRLo9CjBt)\n",
        "\n"
      ],
      "metadata": {
        "colab_type": "toc",
        "id": "kU5CYc-meMry"
      }
    },
    {
      "cell_type": "markdown",
      "source": [
        "## <font color='green'>**1. Dataset Information**</font>\n",
        "The dataset provides 79 years of yearly water usage in the units of liters per capita per day in Baltimore from 1885 to 1963 and is credited to Hipel and McLeod, 1994."
      ],
      "metadata": {
        "id": "HFsotPcgdHii"
      }
    },
    {
      "cell_type": "markdown",
      "source": [
        "## <font color='green'>**2. Import the Required Libraries & Modules**</font>"
      ],
      "metadata": {
        "id": "ZwUbH7LWdKKv"
      }
    },
    {
      "cell_type": "code",
      "source": [
        "import numpy as np\n",
        "import pandas as pd\n",
        "import matplotlib.pyplot as plt\n",
        "from sklearn.preprocessing import MinMaxScaler\n",
        "import tensorflow as tf\n",
        "from tensorflow.keras import Sequential\n",
        "from tensorflow.keras.layers import Dense, LSTM\n",
        "from sklearn.metrics import mean_squared_error, mean_absolute_error\n",
        "import math"
      ],
      "metadata": {
        "id": "G9jZ0tml7LIU"
      },
      "execution_count": 1,
      "outputs": []
    },
    {
      "cell_type": "markdown",
      "source": [
        "## <font color='green'>**3. Load the Monthly Sunspot dataset**</font>"
      ],
      "metadata": {
        "id": "Gl38CKbdO5TU"
      }
    },
    {
      "cell_type": "code",
      "source": [
        "url = 'https://raw.githubusercontent.com/jbrownlee/Datasets/master/yearly-water-usage.csv'\n",
        "df = pd.read_csv(url)\n",
        "df"
      ],
      "metadata": {
        "colab": {
          "base_uri": "https://localhost:8080/",
          "height": 424
        },
        "id": "DDwSlaf_Ge47",
        "outputId": "53eed37b-5710-4502-fbe8-4dfe44ff8044"
      },
      "execution_count": 2,
      "outputs": [
        {
          "output_type": "execute_result",
          "data": {
            "text/plain": [
              "    Year  Water\n",
              "0   1885    356\n",
              "1   1886    386\n",
              "2   1887    397\n",
              "3   1888    397\n",
              "4   1889    413\n",
              "..   ...    ...\n",
              "74  1959    594\n",
              "75  1960    587\n",
              "76  1961    587\n",
              "77  1962    625\n",
              "78  1963    613\n",
              "\n",
              "[79 rows x 2 columns]"
            ],
            "text/html": [
              "\n",
              "  <div id=\"df-527b82f3-d493-4ed3-8174-5f012186f7d0\">\n",
              "    <div class=\"colab-df-container\">\n",
              "      <div>\n",
              "<style scoped>\n",
              "    .dataframe tbody tr th:only-of-type {\n",
              "        vertical-align: middle;\n",
              "    }\n",
              "\n",
              "    .dataframe tbody tr th {\n",
              "        vertical-align: top;\n",
              "    }\n",
              "\n",
              "    .dataframe thead th {\n",
              "        text-align: right;\n",
              "    }\n",
              "</style>\n",
              "<table border=\"1\" class=\"dataframe\">\n",
              "  <thead>\n",
              "    <tr style=\"text-align: right;\">\n",
              "      <th></th>\n",
              "      <th>Year</th>\n",
              "      <th>Water</th>\n",
              "    </tr>\n",
              "  </thead>\n",
              "  <tbody>\n",
              "    <tr>\n",
              "      <th>0</th>\n",
              "      <td>1885</td>\n",
              "      <td>356</td>\n",
              "    </tr>\n",
              "    <tr>\n",
              "      <th>1</th>\n",
              "      <td>1886</td>\n",
              "      <td>386</td>\n",
              "    </tr>\n",
              "    <tr>\n",
              "      <th>2</th>\n",
              "      <td>1887</td>\n",
              "      <td>397</td>\n",
              "    </tr>\n",
              "    <tr>\n",
              "      <th>3</th>\n",
              "      <td>1888</td>\n",
              "      <td>397</td>\n",
              "    </tr>\n",
              "    <tr>\n",
              "      <th>4</th>\n",
              "      <td>1889</td>\n",
              "      <td>413</td>\n",
              "    </tr>\n",
              "    <tr>\n",
              "      <th>...</th>\n",
              "      <td>...</td>\n",
              "      <td>...</td>\n",
              "    </tr>\n",
              "    <tr>\n",
              "      <th>74</th>\n",
              "      <td>1959</td>\n",
              "      <td>594</td>\n",
              "    </tr>\n",
              "    <tr>\n",
              "      <th>75</th>\n",
              "      <td>1960</td>\n",
              "      <td>587</td>\n",
              "    </tr>\n",
              "    <tr>\n",
              "      <th>76</th>\n",
              "      <td>1961</td>\n",
              "      <td>587</td>\n",
              "    </tr>\n",
              "    <tr>\n",
              "      <th>77</th>\n",
              "      <td>1962</td>\n",
              "      <td>625</td>\n",
              "    </tr>\n",
              "    <tr>\n",
              "      <th>78</th>\n",
              "      <td>1963</td>\n",
              "      <td>613</td>\n",
              "    </tr>\n",
              "  </tbody>\n",
              "</table>\n",
              "<p>79 rows × 2 columns</p>\n",
              "</div>\n",
              "      <button class=\"colab-df-convert\" onclick=\"convertToInteractive('df-527b82f3-d493-4ed3-8174-5f012186f7d0')\"\n",
              "              title=\"Convert this dataframe to an interactive table.\"\n",
              "              style=\"display:none;\">\n",
              "        \n",
              "  <svg xmlns=\"http://www.w3.org/2000/svg\" height=\"24px\"viewBox=\"0 0 24 24\"\n",
              "       width=\"24px\">\n",
              "    <path d=\"M0 0h24v24H0V0z\" fill=\"none\"/>\n",
              "    <path d=\"M18.56 5.44l.94 2.06.94-2.06 2.06-.94-2.06-.94-.94-2.06-.94 2.06-2.06.94zm-11 1L8.5 8.5l.94-2.06 2.06-.94-2.06-.94L8.5 2.5l-.94 2.06-2.06.94zm10 10l.94 2.06.94-2.06 2.06-.94-2.06-.94-.94-2.06-.94 2.06-2.06.94z\"/><path d=\"M17.41 7.96l-1.37-1.37c-.4-.4-.92-.59-1.43-.59-.52 0-1.04.2-1.43.59L10.3 9.45l-7.72 7.72c-.78.78-.78 2.05 0 2.83L4 21.41c.39.39.9.59 1.41.59.51 0 1.02-.2 1.41-.59l7.78-7.78 2.81-2.81c.8-.78.8-2.07 0-2.86zM5.41 20L4 18.59l7.72-7.72 1.47 1.35L5.41 20z\"/>\n",
              "  </svg>\n",
              "      </button>\n",
              "      \n",
              "  <style>\n",
              "    .colab-df-container {\n",
              "      display:flex;\n",
              "      flex-wrap:wrap;\n",
              "      gap: 12px;\n",
              "    }\n",
              "\n",
              "    .colab-df-convert {\n",
              "      background-color: #E8F0FE;\n",
              "      border: none;\n",
              "      border-radius: 50%;\n",
              "      cursor: pointer;\n",
              "      display: none;\n",
              "      fill: #1967D2;\n",
              "      height: 32px;\n",
              "      padding: 0 0 0 0;\n",
              "      width: 32px;\n",
              "    }\n",
              "\n",
              "    .colab-df-convert:hover {\n",
              "      background-color: #E2EBFA;\n",
              "      box-shadow: 0px 1px 2px rgba(60, 64, 67, 0.3), 0px 1px 3px 1px rgba(60, 64, 67, 0.15);\n",
              "      fill: #174EA6;\n",
              "    }\n",
              "\n",
              "    [theme=dark] .colab-df-convert {\n",
              "      background-color: #3B4455;\n",
              "      fill: #D2E3FC;\n",
              "    }\n",
              "\n",
              "    [theme=dark] .colab-df-convert:hover {\n",
              "      background-color: #434B5C;\n",
              "      box-shadow: 0px 1px 3px 1px rgba(0, 0, 0, 0.15);\n",
              "      filter: drop-shadow(0px 1px 2px rgba(0, 0, 0, 0.3));\n",
              "      fill: #FFFFFF;\n",
              "    }\n",
              "  </style>\n",
              "\n",
              "      <script>\n",
              "        const buttonEl =\n",
              "          document.querySelector('#df-527b82f3-d493-4ed3-8174-5f012186f7d0 button.colab-df-convert');\n",
              "        buttonEl.style.display =\n",
              "          google.colab.kernel.accessAllowed ? 'block' : 'none';\n",
              "\n",
              "        async function convertToInteractive(key) {\n",
              "          const element = document.querySelector('#df-527b82f3-d493-4ed3-8174-5f012186f7d0');\n",
              "          const dataTable =\n",
              "            await google.colab.kernel.invokeFunction('convertToInteractive',\n",
              "                                                     [key], {});\n",
              "          if (!dataTable) return;\n",
              "\n",
              "          const docLinkHtml = 'Like what you see? Visit the ' +\n",
              "            '<a target=\"_blank\" href=https://colab.research.google.com/notebooks/data_table.ipynb>data table notebook</a>'\n",
              "            + ' to learn more about interactive tables.';\n",
              "          element.innerHTML = '';\n",
              "          dataTable['output_type'] = 'display_data';\n",
              "          await google.colab.output.renderOutput(dataTable, element);\n",
              "          const docLink = document.createElement('div');\n",
              "          docLink.innerHTML = docLinkHtml;\n",
              "          element.appendChild(docLink);\n",
              "        }\n",
              "      </script>\n",
              "    </div>\n",
              "  </div>\n",
              "  "
            ]
          },
          "metadata": {},
          "execution_count": 2
        }
      ]
    },
    {
      "cell_type": "markdown",
      "source": [
        "## <font color='green'>**4. Time Series Visualization**</font>"
      ],
      "metadata": {
        "id": "nxXlB8AgR8af"
      }
    },
    {
      "cell_type": "code",
      "source": [
        "plt.figure(figsize=(16,5), dpi = 100)\n",
        "plt.plot(df.Year, df.Water, color='lightcoral')\n",
        "plt.title('Yearly Water Usage (liters per capita per day) Time Series')\n",
        "plt.show();"
      ],
      "metadata": {
        "colab": {
          "base_uri": "https://localhost:8080/",
          "height": 453
        },
        "id": "nfkA1puwQfN4",
        "outputId": "9de0a191-a1fc-481c-8b7d-e102d54c8021"
      },
      "execution_count": 3,
      "outputs": [
        {
          "output_type": "display_data",
          "data": {
            "text/plain": [
              "<Figure size 1600x500 with 1 Axes>"
            ],
            "image/png": "[encoded data removed]"
          },
          "metadata": {
            "needs_background": "light"
          }
        }
      ]
    },
    {
      "cell_type": "markdown",
      "source": [
        "## <font color='green'>**5. Data Preprocessing**</font>"
      ],
      "metadata": {
        "id": "7mvSo65USHm5"
      }
    },
    {
      "cell_type": "markdown",
      "source": [
        "### <font color='orange'>**5.1 Splitting Data into Train & Test set**</font>"
      ],
      "metadata": {
        "id": "EmOgUQLRdp0W"
      }
    },
    {
      "cell_type": "code",
      "source": [
        "n = len(df)\n",
        "# split\n",
        "split_percent=0.8\n",
        "split = int(n*split_percent)\n",
        "train_data = df[:split]\n",
        "test_data = df[split:]"
      ],
      "metadata": {
        "id": "iLrOtGlVGxt0"
      },
      "execution_count": 4,
      "outputs": []
    },
    {
      "cell_type": "markdown",
      "source": [
        "#### <font color='magenta'>**Define a format_data function for Splitting Data**</font>"
      ],
      "metadata": {
        "id": "q32TWU0USpM2"
      }
    },
    {
      "cell_type": "code",
      "execution_count": 5,
      "metadata": {
        "id": "M3av45cs6wR0"
      },
      "outputs": [],
      "source": [
        "def format_data(url, split_percent=0.8):\n",
        "    data = pd.read_csv(url)\n",
        "    n = len(data)\n",
        "    # split\n",
        "    split = int(n*split_percent)\n",
        "    train_data = data[:split]['Water']\n",
        "    test_data = data[split:]['Water']\n",
        "    return train_data, test_data, data"
      ]
    },
    {
      "cell_type": "code",
      "source": [
        "water_usage_url = 'https://raw.githubusercontent.com/jbrownlee/Datasets/master/yearly-water-usage.csv'\n",
        "train_data, test_data, data = format_data(water_usage_url)\n",
        "n_steps = 3\n",
        "train_data[0:5], test_data, data.head()"
      ],
      "metadata": {
        "id": "2exqeoJj7Dbl",
        "colab": {
          "base_uri": "https://localhost:8080/",
          "height": 0
        },
        "outputId": "b4b31507-03a5-42d1-aea4-379c827812dc"
      },
      "execution_count": 6,
      "outputs": [
        {
          "output_type": "execute_result",
          "data": {
            "text/plain": [
              "(0    356\n",
              " 1    386\n",
              " 2    397\n",
              " 3    397\n",
              " 4    413\n",
              " Name: Water, dtype: int64, 63    613\n",
              " 64    598\n",
              " 65    575\n",
              " 66    564\n",
              " 67    549\n",
              " 68    538\n",
              " 69    568\n",
              " 70    575\n",
              " 71    579\n",
              " 72    587\n",
              " 73    602\n",
              " 74    594\n",
              " 75    587\n",
              " 76    587\n",
              " 77    625\n",
              " 78    613\n",
              " Name: Water, dtype: int64,    Year  Water\n",
              " 0  1885    356\n",
              " 1  1886    386\n",
              " 2  1887    397\n",
              " 3  1888    397\n",
              " 4  1889    413)"
            ]
          },
          "metadata": {},
          "execution_count": 6
        }
      ]
    },
    {
      "cell_type": "markdown",
      "source": [
        "### <font color='orange'>**5.2 Create Independent & Dependent Variables**</font>\n",
        "#### <font color='magenta'>**Define a prepare data function to create independent & dependent variables for Train data & Test data**</font>"
      ],
      "metadata": {
        "id": "rvBa4oijUMha"
      }
    },
    {
      "cell_type": "code",
      "source": [
        "def prepare_data(time_series, n_steps):\n",
        "  X,y=[],[]\n",
        "  for i in range(len(time_series)):\n",
        "    end=i+n_steps\n",
        "\n",
        "    if end> len(time_series)-1:\n",
        "      break\n",
        "\n",
        "    seqX,seqy= time_series[i:end], time_series[end]\n",
        "    X.append(seqX)\n",
        "    y.append(seqy)\n",
        "\n",
        "  return np.array(X), np.array(y)\n",
        "\n",
        "X,y= prepare_data(time_series = train_data, n_steps = 3)\n",
        "test_data= test_data.tolist()\n",
        "X_test, y_test = prepare_data(time_series = test_data, n_steps = 3)\n",
        "X[0:5],y[0:5]"
      ],
      "metadata": {
        "colab": {
          "base_uri": "https://localhost:8080/",
          "height": 0
        },
        "id": "C7bjZ5iKlfSn",
        "outputId": "b15039e1-ac31-439a-e9cb-9e1605c891ed"
      },
      "execution_count": 7,
      "outputs": [
        {
          "output_type": "execute_result",
          "data": {
            "text/plain": [
              "(array([[356, 386, 397],\n",
              "        [386, 397, 397],\n",
              "        [397, 397, 413],\n",
              "        [397, 413, 458],\n",
              "        [413, 458, 485]]), array([397, 413, 458, 485, 344]))"
            ]
          },
          "metadata": {},
          "execution_count": 7
        }
      ]
    },
    {
      "cell_type": "markdown",
      "source": [
        "## <font color='green'>**6. Implementing Linear Regression**</font> "
      ],
      "metadata": {
        "id": "r-lArFU2BfPq"
      }
    },
    {
      "cell_type": "code",
      "source": [
        "#importing Linear Regression and metric mean square error\n",
        "from sklearn.linear_model import LinearRegression as LR\n",
        "# Creating instance of Linear Regresssion\n",
        "lr = LR()\n",
        "\n",
        "# Fitting the model\n",
        "lr.fit(X, y)\n",
        "# Predicting over the Train Set and calculating error\n",
        "train_predict = lr.predict(X)\n",
        "test_predict = lr.predict(X_test)\n",
        "train_mae = mean_absolute_error(train_predict, y)\n",
        "print('Training Mean Absolute Error', train_mae)\n",
        "train_rmse= math.sqrt(mean_squared_error(y, train_predict))\n",
        "print('Training Root Mean Square Error', train_rmse )\n",
        "test_mae = mean_absolute_error(test_predict, y_test)\n",
        "print('Testing Mean Absolute Error', test_mae)\n",
        "test_rmse= math.sqrt(mean_squared_error(y_test, test_predict))\n",
        "print('Training Root Mean Square Error', test_rmse )"
      ],
      "metadata": {
        "colab": {
          "base_uri": "https://localhost:8080/",
          "height": 0
        },
        "id": "4WzSvnAQ8pIL",
        "outputId": "9f532818-61a3-45a1-896e-fe50c4ca671b"
      },
      "execution_count": 8,
      "outputs": [
        {
          "output_type": "stream",
          "name": "stdout",
          "text": [
            "Training Mean Absolute Error 22.672826307038118\n",
            "Training Root Mean Square Error 34.8135193357618\n",
            "Testing Mean Absolute Error 13.51440546925443\n",
            "Training Root Mean Square Error 18.595102333234177\n"
          ]
        }
      ]
    },
    {
      "cell_type": "markdown",
      "source": [
        "#### <font color='magenta'>**Define a model_evaluation function**</font>"
      ],
      "metadata": {
        "id": "XpQGdHkVOKi5"
      }
    },
    {
      "cell_type": "code",
      "source": [
        "def model_evaluation(y, ypred, model_name): \n",
        "       \n",
        "    # Model Evaluation metrics\n",
        "    print(\"\\n Model Evaluation Report: \")\n",
        "    print('Mean Absolute Error(MAE) of', model_name,':', mean_absolute_error(y, ypred))\n",
        "    print('Mean Squared Error(MSE) of', model_name,':', mean_squared_error(y, ypred))\n",
        "    print('Root Mean Squared Error (RMSE) of', model_name,':', mean_squared_error(y, ypred, squared = False))\n",
        "    print('\\n')\n",
        "    \n",
        "    # Actual vs Predicted Scatter Plot\n",
        "    f, ax = plt.subplots(figsize=(15,8),dpi=50);\n",
        "    plt.scatter(y, ypred, label=\"Actual vs Predicted\")\n",
        "    # Perfect predictions\n",
        "    plt.xlabel('Yearly Water Usage Values')\n",
        "    plt.ylabel('Predicted Yearly Water Usage Values')\n",
        "    plt.title('Expection vs Prediction')\n",
        "    plt.plot(y,y,'r', label=\"Perfect Expected Prediction\")\n",
        "    plt.legend()\n",
        "      \n",
        "    # Actual vs Predicted Plot\n",
        "    print('\\n')\n",
        "    fig,ax=plt.subplots(figsize=(15,8), dpi=50)\n",
        "    plt.plot(y, label='Actual values', color = 'blue')\n",
        "    plt.plot(ypred, label='Predicted values', color = 'red')\n",
        "    plt.legend(loc='best')\n",
        "    plt.title(f'Actual vs Predicted for {model_name}')\n",
        "    plt.show();"
      ],
      "metadata": {
        "id": "W49AIN1AEgvw"
      },
      "execution_count": 9,
      "outputs": []
    },
    {
      "cell_type": "code",
      "source": [
        "model_evaluation(y_test, test_predict, 'Linear Regression Prediction for test data')"
      ],
      "metadata": {
        "colab": {
          "base_uri": "https://localhost:8080/",
          "height": 849
        },
        "id": "56Azoyeu__OA",
        "outputId": "08fd5469-ba22-4901-88c2-005e80d589d3"
      },
      "execution_count": 10,
      "outputs": [
        {
          "output_type": "stream",
          "name": "stdout",
          "text": [
            "\n",
            " Model Evaluation Report: \n",
            "Mean Absolute Error(MAE) of Linear Regression Prediction for test data : 13.51440546925443\n",
            "Mean Squared Error(MSE) of Linear Regression Prediction for test data : 345.77783078345107\n",
            "Root Mean Squared Error (RMSE) of Linear Regression Prediction for test data : 18.595102333234177\n",
            "\n",
            "\n",
            "\n",
            "\n"
          ]
        },
        {
          "output_type": "display_data",
          "data": {
            "text/plain": [
              "<Figure size 750x400 with 1 Axes>"
            ],
            "image/png": "[encoded data removed]"
          },
          "metadata": {
            "needs_background": "light"
          }
        },
        {
          "output_type": "display_data",
          "data": {
            "text/plain": [
              "<Figure size 750x400 with 1 Axes>"
            ],
            "image/png": "[encoded data removed]"
          },
          "metadata": {
            "needs_background": "light"
          }
        }
      ]
    },
    {
      "cell_type": "markdown",
      "source": [
        "## <font color='green'>**7. RNN_LSTM Model Development & Evaluation**</font>"
      ],
      "metadata": {
        "id": "aKBD97MGSv6S"
      }
    },
    {
      "cell_type": "code",
      "source": [
        "X.shape"
      ],
      "metadata": {
        "colab": {
          "base_uri": "https://localhost:8080/",
          "height": 0
        },
        "id": "eGbL01d9tTvs",
        "outputId": "bd645945-a940-47e3-b28f-5cd817b159c2"
      },
      "execution_count": 11,
      "outputs": [
        {
          "output_type": "execute_result",
          "data": {
            "text/plain": [
              "(60, 3)"
            ]
          },
          "metadata": {},
          "execution_count": 11
        }
      ]
    },
    {
      "cell_type": "code",
      "source": [
        "n_features=1\n",
        "X= X.reshape((X.shape[0]), (X.shape[1]), n_features)\n",
        "X.shape"
      ],
      "metadata": {
        "colab": {
          "base_uri": "https://localhost:8080/",
          "height": 0
        },
        "id": "PwteAwFftXEj",
        "outputId": "224c27ad-8969-4452-90a6-63c18828bac1"
      },
      "execution_count": 12,
      "outputs": [
        {
          "output_type": "execute_result",
          "data": {
            "text/plain": [
              "(60, 3, 1)"
            ]
          },
          "metadata": {},
          "execution_count": 12
        }
      ]
    },
    {
      "cell_type": "code",
      "source": [
        "X_test= X_test.reshape((X_test.shape[0]), (X_test.shape[1]), n_features)\n",
        "X_test.shape"
      ],
      "metadata": {
        "colab": {
          "base_uri": "https://localhost:8080/",
          "height": 0
        },
        "id": "Ry_goi0MzS11",
        "outputId": "e5feda9e-663f-42aa-a969-46ba7bce089e"
      },
      "execution_count": 13,
      "outputs": [
        {
          "output_type": "execute_result",
          "data": {
            "text/plain": [
              "(13, 3, 1)"
            ]
          },
          "metadata": {},
          "execution_count": 13
        }
      ]
    },
    {
      "cell_type": "code",
      "source": [
        "# 1. Define LSTM Model\n",
        "model= Sequential()\n",
        "model.add(LSTM(50, activation='relu', return_sequences=True,input_shape=(n_steps,n_features)))\n",
        "model.add(LSTM(50, activation='relu'))\n",
        "model.add(Dense(1))\n",
        "# 2. Compile Model\n",
        "model.compile(optimizer='adam', loss='mse')\n",
        "# 3. Fit Model\n",
        "model.fit(X,y, epochs=300, verbose=1)"
      ],
      "metadata": {
        "id": "kYapNo48LQXB",
        "colab": {
          "base_uri": "https://localhost:8080/",
          "height": 0
        },
        "outputId": "a193ba13-e1d3-41a6-9925-fb06eccc07b4"
      },
      "execution_count": 14,
      "outputs": [
        {
          "output_type": "stream",
          "name": "stdout",
          "text": [
            "Epoch 1/300\n",
            "2/2 [==============================] - 8s 25ms/step - loss: 245910.5000\n",
            "Epoch 2/300\n",
            "2/2 [==============================] - 0s 20ms/step - loss: 244927.7344\n",
            "Epoch 3/300\n",
            "2/2 [==============================] - 0s 19ms/step - loss: 243917.0312\n",
            "Epoch 4/300\n",
            "2/2 [==============================] - 0s 24ms/step - loss: 242788.3594\n",
            "Epoch 5/300\n",
            "2/2 [==============================] - 0s 25ms/step - loss: 241299.7500\n",
            "Epoch 6/300\n",
            "2/2 [==============================] - 0s 20ms/step - loss: 238944.7344\n",
            "Epoch 7/300\n",
            "2/2 [==============================] - 0s 19ms/step - loss: 235530.0625\n",
            "Epoch 8/300\n",
            "2/2 [==============================] - 0s 17ms/step - loss: 234467.8125\n",
            "Epoch 9/300\n",
            "2/2 [==============================] - 0s 30ms/step - loss: 229693.7656\n",
            "Epoch 10/300\n",
            "2/2 [==============================] - 0s 22ms/step - loss: 227009.9375\n",
            "Epoch 11/300\n",
            "2/2 [==============================] - 0s 23ms/step - loss: 222869.9375\n",
            "Epoch 12/300\n",
            "2/2 [==============================] - 0s 26ms/step - loss: 218499.0312\n",
            "Epoch 13/300\n",
            "2/2 [==============================] - 0s 19ms/step - loss: 213835.9688\n",
            "Epoch 14/300\n",
            "2/2 [==============================] - 0s 16ms/step - loss: 208283.2031\n",
            "Epoch 15/300\n",
            "2/2 [==============================] - 0s 18ms/step - loss: 201900.7344\n",
            "Epoch 16/300\n",
            "2/2 [==============================] - 0s 30ms/step - loss: 194734.6406\n",
            "Epoch 17/300\n",
            "2/2 [==============================] - 0s 15ms/step - loss: 186368.3281\n",
            "Epoch 18/300\n",
            "2/2 [==============================] - 0s 26ms/step - loss: 175318.0625\n",
            "Epoch 19/300\n",
            "2/2 [==============================] - 0s 23ms/step - loss: 165248.4062\n",
            "Epoch 20/300\n",
            "2/2 [==============================] - 0s 23ms/step - loss: 149784.8281\n",
            "Epoch 21/300\n",
            "2/2 [==============================] - 0s 25ms/step - loss: 130398.9609\n",
            "Epoch 22/300\n",
            "2/2 [==============================] - 0s 24ms/step - loss: 113160.6641\n",
            "Epoch 23/300\n",
            "2/2 [==============================] - 0s 30ms/step - loss: 97605.4531\n",
            "Epoch 24/300\n",
            "2/2 [==============================] - 0s 34ms/step - loss: 81887.4219\n",
            "Epoch 25/300\n",
            "2/2 [==============================] - 0s 15ms/step - loss: 63151.0977\n",
            "Epoch 26/300\n",
            "2/2 [==============================] - 0s 16ms/step - loss: 43101.5586\n",
            "Epoch 27/300\n",
            "2/2 [==============================] - 0s 17ms/step - loss: 25867.2090\n",
            "Epoch 28/300\n",
            "2/2 [==============================] - 0s 15ms/step - loss: 8482.6514\n",
            "Epoch 29/300\n",
            "2/2 [==============================] - 0s 20ms/step - loss: 2698.8171\n",
            "Epoch 30/300\n",
            "2/2 [==============================] - 0s 60ms/step - loss: 4635.0859\n",
            "Epoch 31/300\n",
            "2/2 [==============================] - 0s 18ms/step - loss: 6573.1826\n",
            "Epoch 32/300\n",
            "2/2 [==============================] - 0s 19ms/step - loss: 7242.6953\n",
            "Epoch 33/300\n",
            "2/2 [==============================] - 0s 37ms/step - loss: 6326.2881\n",
            "Epoch 34/300\n",
            "2/2 [==============================] - 0s 29ms/step - loss: 4179.7666\n",
            "Epoch 35/300\n",
            "2/2 [==============================] - 0s 14ms/step - loss: 2839.0203\n",
            "Epoch 36/300\n",
            "2/2 [==============================] - 0s 31ms/step - loss: 2506.6006\n",
            "Epoch 37/300\n",
            "2/2 [==============================] - 0s 30ms/step - loss: 2613.1775\n",
            "Epoch 38/300\n",
            "2/2 [==============================] - 0s 17ms/step - loss: 2797.0159\n",
            "Epoch 39/300\n",
            "2/2 [==============================] - 0s 13ms/step - loss: 2860.2385\n",
            "Epoch 40/300\n",
            "2/2 [==============================] - 0s 12ms/step - loss: 2767.1323\n",
            "Epoch 41/300\n",
            "2/2 [==============================] - 0s 39ms/step - loss: 2630.5916\n",
            "Epoch 42/300\n",
            "2/2 [==============================] - 0s 13ms/step - loss: 2574.5159\n",
            "Epoch 43/300\n",
            "2/2 [==============================] - 0s 28ms/step - loss: 2538.6921\n",
            "Epoch 44/300\n",
            "2/2 [==============================] - 0s 28ms/step - loss: 2690.0750\n",
            "Epoch 45/300\n",
            "2/2 [==============================] - 0s 26ms/step - loss: 2569.0029\n",
            "Epoch 46/300\n",
            "2/2 [==============================] - 0s 19ms/step - loss: 2518.2651\n",
            "Epoch 47/300\n",
            "2/2 [==============================] - 0s 20ms/step - loss: 2518.1428\n",
            "Epoch 48/300\n",
            "2/2 [==============================] - 0s 27ms/step - loss: 2424.0767\n",
            "Epoch 49/300\n",
            "2/2 [==============================] - 0s 15ms/step - loss: 2552.0186\n",
            "Epoch 50/300\n",
            "2/2 [==============================] - 0s 15ms/step - loss: 2581.2905\n",
            "Epoch 51/300\n",
            "2/2 [==============================] - 0s 29ms/step - loss: 2589.1121\n",
            "Epoch 52/300\n",
            "2/2 [==============================] - 0s 21ms/step - loss: 2501.1804\n",
            "Epoch 53/300\n",
            "2/2 [==============================] - 0s 34ms/step - loss: 2586.4370\n",
            "Epoch 54/300\n",
            "2/2 [==============================] - 0s 25ms/step - loss: 2406.0344\n",
            "Epoch 55/300\n",
            "2/2 [==============================] - 0s 11ms/step - loss: 2350.1477\n",
            "Epoch 56/300\n",
            "2/2 [==============================] - 0s 12ms/step - loss: 2306.3799\n",
            "Epoch 57/300\n",
            "2/2 [==============================] - 0s 13ms/step - loss: 2296.9563\n",
            "Epoch 58/300\n",
            "2/2 [==============================] - 0s 10ms/step - loss: 2284.5579\n",
            "Epoch 59/300\n",
            "2/2 [==============================] - 0s 18ms/step - loss: 2426.5103\n",
            "Epoch 60/300\n",
            "2/2 [==============================] - 0s 12ms/step - loss: 2129.2371\n",
            "Epoch 61/300\n",
            "2/2 [==============================] - 0s 17ms/step - loss: 2137.8201\n",
            "Epoch 62/300\n",
            "2/2 [==============================] - 0s 21ms/step - loss: 2070.3630\n",
            "Epoch 63/300\n",
            "2/2 [==============================] - 0s 11ms/step - loss: 2079.4016\n",
            "Epoch 64/300\n",
            "2/2 [==============================] - 0s 24ms/step - loss: 2082.3877\n",
            "Epoch 65/300\n",
            "2/2 [==============================] - 0s 23ms/step - loss: 2219.7625\n",
            "Epoch 66/300\n",
            "2/2 [==============================] - 0s 13ms/step - loss: 2113.6821\n",
            "Epoch 67/300\n",
            "2/2 [==============================] - 0s 25ms/step - loss: 2030.1404\n",
            "Epoch 68/300\n",
            "2/2 [==============================] - 0s 14ms/step - loss: 2302.9385\n",
            "Epoch 69/300\n",
            "2/2 [==============================] - 0s 12ms/step - loss: 2204.4463\n",
            "Epoch 70/300\n",
            "2/2 [==============================] - 0s 33ms/step - loss: 2123.0498\n",
            "Epoch 71/300\n",
            "2/2 [==============================] - 0s 17ms/step - loss: 2325.0515\n",
            "Epoch 72/300\n",
            "2/2 [==============================] - 0s 13ms/step - loss: 2263.7307\n",
            "Epoch 73/300\n",
            "2/2 [==============================] - 0s 26ms/step - loss: 2168.1345\n",
            "Epoch 74/300\n",
            "2/2 [==============================] - 0s 11ms/step - loss: 2148.5066\n",
            "Epoch 75/300\n",
            "2/2 [==============================] - 0s 19ms/step - loss: 2162.2148\n",
            "Epoch 76/300\n",
            "2/2 [==============================] - 0s 12ms/step - loss: 1997.1174\n",
            "Epoch 77/300\n",
            "2/2 [==============================] - 0s 45ms/step - loss: 1996.1578\n",
            "Epoch 78/300\n",
            "2/2 [==============================] - 0s 24ms/step - loss: 1965.5352\n",
            "Epoch 79/300\n",
            "2/2 [==============================] - 0s 16ms/step - loss: 1911.4490\n",
            "Epoch 80/300\n",
            "2/2 [==============================] - 0s 12ms/step - loss: 2015.7346\n",
            "Epoch 81/300\n",
            "2/2 [==============================] - 0s 26ms/step - loss: 1846.2224\n",
            "Epoch 82/300\n",
            "2/2 [==============================] - 0s 13ms/step - loss: 1911.5000\n",
            "Epoch 83/300\n",
            "2/2 [==============================] - 0s 31ms/step - loss: 2099.4968\n",
            "Epoch 84/300\n",
            "2/2 [==============================] - 0s 20ms/step - loss: 1923.1742\n",
            "Epoch 85/300\n",
            "2/2 [==============================] - 0s 8ms/step - loss: 2095.6802\n",
            "Epoch 86/300\n",
            "2/2 [==============================] - 0s 24ms/step - loss: 1880.3445\n",
            "Epoch 87/300\n",
            "2/2 [==============================] - 0s 26ms/step - loss: 2042.4026\n",
            "Epoch 88/300\n",
            "2/2 [==============================] - 0s 27ms/step - loss: 1983.3906\n",
            "Epoch 89/300\n",
            "2/2 [==============================] - 0s 13ms/step - loss: 1913.8645\n",
            "Epoch 90/300\n",
            "2/2 [==============================] - 0s 15ms/step - loss: 1930.1536\n",
            "Epoch 91/300\n",
            "2/2 [==============================] - 0s 15ms/step - loss: 1872.3915\n",
            "Epoch 92/300\n",
            "2/2 [==============================] - 0s 14ms/step - loss: 1919.6362\n",
            "Epoch 93/300\n",
            "2/2 [==============================] - 0s 16ms/step - loss: 1641.1648\n",
            "Epoch 94/300\n",
            "2/2 [==============================] - 0s 19ms/step - loss: 1779.7731\n",
            "Epoch 95/300\n",
            "2/2 [==============================] - 0s 25ms/step - loss: 1697.7966\n",
            "Epoch 96/300\n",
            "2/2 [==============================] - 0s 13ms/step - loss: 1644.2573\n",
            "Epoch 97/300\n",
            "2/2 [==============================] - 0s 24ms/step - loss: 1710.3091\n",
            "Epoch 98/300\n",
            "2/2 [==============================] - 0s 12ms/step - loss: 1592.2805\n",
            "Epoch 99/300\n",
            "2/2 [==============================] - 0s 16ms/step - loss: 1651.8530\n",
            "Epoch 100/300\n",
            "2/2 [==============================] - 0s 18ms/step - loss: 1606.0647\n",
            "Epoch 101/300\n",
            "2/2 [==============================] - 0s 19ms/step - loss: 1649.2865\n",
            "Epoch 102/300\n",
            "2/2 [==============================] - 0s 14ms/step - loss: 1465.0966\n",
            "Epoch 103/300\n",
            "2/2 [==============================] - 0s 18ms/step - loss: 1651.0818\n",
            "Epoch 104/300\n",
            "2/2 [==============================] - 0s 15ms/step - loss: 1541.0366\n",
            "Epoch 105/300\n",
            "2/2 [==============================] - 0s 15ms/step - loss: 1546.7919\n",
            "Epoch 106/300\n",
            "2/2 [==============================] - 0s 23ms/step - loss: 1444.9929\n",
            "Epoch 107/300\n",
            "2/2 [==============================] - 0s 13ms/step - loss: 1465.6703\n",
            "Epoch 108/300\n",
            "2/2 [==============================] - 0s 20ms/step - loss: 1462.2380\n",
            "Epoch 109/300\n",
            "2/2 [==============================] - 0s 40ms/step - loss: 1461.6320\n",
            "Epoch 110/300\n",
            "2/2 [==============================] - 0s 31ms/step - loss: 1466.5367\n",
            "Epoch 111/300\n",
            "2/2 [==============================] - 0s 43ms/step - loss: 1414.5789\n",
            "Epoch 112/300\n",
            "2/2 [==============================] - 0s 18ms/step - loss: 1438.0482\n",
            "Epoch 113/300\n",
            "2/2 [==============================] - 0s 21ms/step - loss: 1412.9519\n",
            "Epoch 114/300\n",
            "2/2 [==============================] - 0s 22ms/step - loss: 1430.4526\n",
            "Epoch 115/300\n",
            "2/2 [==============================] - 0s 26ms/step - loss: 1400.7734\n",
            "Epoch 116/300\n",
            "2/2 [==============================] - 0s 30ms/step - loss: 1432.0989\n",
            "Epoch 117/300\n",
            "2/2 [==============================] - 0s 21ms/step - loss: 1400.0659\n",
            "Epoch 118/300\n",
            "2/2 [==============================] - 0s 26ms/step - loss: 1446.7513\n",
            "Epoch 119/300\n",
            "2/2 [==============================] - 0s 35ms/step - loss: 1378.0084\n",
            "Epoch 120/300\n",
            "2/2 [==============================] - 0s 12ms/step - loss: 1443.4773\n",
            "Epoch 121/300\n",
            "2/2 [==============================] - 0s 25ms/step - loss: 1380.5653\n",
            "Epoch 122/300\n",
            "2/2 [==============================] - 0s 15ms/step - loss: 1407.1289\n",
            "Epoch 123/300\n",
            "2/2 [==============================] - 0s 18ms/step - loss: 1379.7528\n",
            "Epoch 124/300\n",
            "2/2 [==============================] - 0s 19ms/step - loss: 1402.6730\n",
            "Epoch 125/300\n",
            "2/2 [==============================] - 0s 28ms/step - loss: 1397.6294\n",
            "Epoch 126/300\n",
            "2/2 [==============================] - 0s 12ms/step - loss: 1383.3580\n",
            "Epoch 127/300\n",
            "2/2 [==============================] - 0s 12ms/step - loss: 1387.1375\n",
            "Epoch 128/300\n",
            "2/2 [==============================] - 0s 12ms/step - loss: 1411.4802\n",
            "Epoch 129/300\n",
            "2/2 [==============================] - 0s 26ms/step - loss: 1396.7115\n",
            "Epoch 130/300\n",
            "2/2 [==============================] - 0s 22ms/step - loss: 1364.3339\n",
            "Epoch 131/300\n",
            "2/2 [==============================] - 0s 20ms/step - loss: 1426.9581\n",
            "Epoch 132/300\n",
            "2/2 [==============================] - 0s 14ms/step - loss: 1369.9128\n",
            "Epoch 133/300\n",
            "2/2 [==============================] - 0s 11ms/step - loss: 1374.2126\n",
            "Epoch 134/300\n",
            "2/2 [==============================] - 0s 20ms/step - loss: 1369.5145\n",
            "Epoch 135/300\n",
            "2/2 [==============================] - 0s 21ms/step - loss: 1376.1691\n",
            "Epoch 136/300\n",
            "2/2 [==============================] - 0s 25ms/step - loss: 1360.9752\n",
            "Epoch 137/300\n",
            "2/2 [==============================] - 0s 22ms/step - loss: 1368.6277\n",
            "Epoch 138/300\n",
            "2/2 [==============================] - 0s 18ms/step - loss: 1350.4637\n",
            "Epoch 139/300\n",
            "2/2 [==============================] - 0s 17ms/step - loss: 1348.9916\n",
            "Epoch 140/300\n",
            "2/2 [==============================] - 0s 18ms/step - loss: 1344.7601\n",
            "Epoch 141/300\n",
            "2/2 [==============================] - 0s 25ms/step - loss: 1354.1498\n",
            "Epoch 142/300\n",
            "2/2 [==============================] - 0s 36ms/step - loss: 1394.0951\n",
            "Epoch 143/300\n",
            "2/2 [==============================] - 0s 18ms/step - loss: 1330.0298\n",
            "Epoch 144/300\n",
            "2/2 [==============================] - 0s 26ms/step - loss: 1364.1832\n",
            "Epoch 145/300\n",
            "2/2 [==============================] - 0s 22ms/step - loss: 1344.4554\n",
            "Epoch 146/300\n",
            "2/2 [==============================] - 0s 17ms/step - loss: 1363.7513\n",
            "Epoch 147/300\n",
            "2/2 [==============================] - 0s 20ms/step - loss: 1329.7111\n",
            "Epoch 148/300\n",
            "2/2 [==============================] - 0s 26ms/step - loss: 1350.3630\n",
            "Epoch 149/300\n",
            "2/2 [==============================] - 0s 17ms/step - loss: 1334.3109\n",
            "Epoch 150/300\n",
            "2/2 [==============================] - 0s 23ms/step - loss: 1414.7437\n",
            "Epoch 151/300\n",
            "2/2 [==============================] - 0s 26ms/step - loss: 1315.2628\n",
            "Epoch 152/300\n",
            "2/2 [==============================] - 0s 20ms/step - loss: 1386.7124\n",
            "Epoch 153/300\n",
            "2/2 [==============================] - 0s 21ms/step - loss: 1328.2770\n",
            "Epoch 154/300\n",
            "2/2 [==============================] - 0s 17ms/step - loss: 1345.1967\n",
            "Epoch 155/300\n",
            "2/2 [==============================] - 0s 22ms/step - loss: 1324.6331\n",
            "Epoch 156/300\n",
            "2/2 [==============================] - 0s 12ms/step - loss: 1313.1669\n",
            "Epoch 157/300\n",
            "2/2 [==============================] - 0s 16ms/step - loss: 1303.1243\n",
            "Epoch 158/300\n",
            "2/2 [==============================] - 0s 17ms/step - loss: 1352.7206\n",
            "Epoch 159/300\n",
            "2/2 [==============================] - 0s 23ms/step - loss: 1309.0284\n",
            "Epoch 160/300\n",
            "2/2 [==============================] - 0s 17ms/step - loss: 1304.6923\n",
            "Epoch 161/300\n",
            "2/2 [==============================] - 0s 13ms/step - loss: 1296.0797\n",
            "Epoch 162/300\n",
            "2/2 [==============================] - 0s 16ms/step - loss: 1290.3795\n",
            "Epoch 163/300\n",
            "2/2 [==============================] - 0s 13ms/step - loss: 1284.4142\n",
            "Epoch 164/300\n",
            "2/2 [==============================] - 0s 14ms/step - loss: 1290.0917\n",
            "Epoch 165/300\n",
            "2/2 [==============================] - 0s 20ms/step - loss: 1297.3442\n",
            "Epoch 166/300\n",
            "2/2 [==============================] - 0s 14ms/step - loss: 1278.5160\n",
            "Epoch 167/300\n",
            "2/2 [==============================] - 0s 15ms/step - loss: 1288.2362\n",
            "Epoch 168/300\n",
            "2/2 [==============================] - 0s 20ms/step - loss: 1271.0002\n",
            "Epoch 169/300\n",
            "2/2 [==============================] - 0s 14ms/step - loss: 1280.4244\n",
            "Epoch 170/300\n",
            "2/2 [==============================] - 0s 13ms/step - loss: 1288.7130\n",
            "Epoch 171/300\n",
            "2/2 [==============================] - 0s 13ms/step - loss: 1264.7540\n",
            "Epoch 172/300\n",
            "2/2 [==============================] - 0s 15ms/step - loss: 1230.5836\n",
            "Epoch 173/300\n",
            "2/2 [==============================] - 0s 21ms/step - loss: 1237.6060\n",
            "Epoch 174/300\n",
            "2/2 [==============================] - 0s 15ms/step - loss: 1339.4083\n",
            "Epoch 175/300\n",
            "2/2 [==============================] - 0s 12ms/step - loss: 1313.9840\n",
            "Epoch 176/300\n",
            "2/2 [==============================] - 0s 15ms/step - loss: 1273.6517\n",
            "Epoch 177/300\n",
            "2/2 [==============================] - 0s 12ms/step - loss: 1410.6843\n",
            "Epoch 178/300\n",
            "2/2 [==============================] - 0s 35ms/step - loss: 1244.1981\n",
            "Epoch 179/300\n",
            "2/2 [==============================] - 0s 17ms/step - loss: 1269.5804\n",
            "Epoch 180/300\n",
            "2/2 [==============================] - 0s 13ms/step - loss: 1254.3555\n",
            "Epoch 181/300\n",
            "2/2 [==============================] - 0s 24ms/step - loss: 1200.5721\n",
            "Epoch 182/300\n",
            "2/2 [==============================] - 0s 15ms/step - loss: 1221.7504\n",
            "Epoch 183/300\n",
            "2/2 [==============================] - 0s 29ms/step - loss: 1154.1685\n",
            "Epoch 184/300\n",
            "2/2 [==============================] - 0s 30ms/step - loss: 1203.7350\n",
            "Epoch 185/300\n",
            "2/2 [==============================] - 0s 17ms/step - loss: 1196.7609\n",
            "Epoch 186/300\n",
            "2/2 [==============================] - 0s 24ms/step - loss: 1148.7828\n",
            "Epoch 187/300\n",
            "2/2 [==============================] - 0s 17ms/step - loss: 1190.0988\n",
            "Epoch 188/300\n",
            "2/2 [==============================] - 0s 13ms/step - loss: 1244.0046\n",
            "Epoch 189/300\n",
            "2/2 [==============================] - 0s 26ms/step - loss: 1176.4703\n",
            "Epoch 190/300\n",
            "2/2 [==============================] - 0s 18ms/step - loss: 1254.6561\n",
            "Epoch 191/300\n",
            "2/2 [==============================] - 0s 13ms/step - loss: 1302.0531\n",
            "Epoch 192/300\n",
            "2/2 [==============================] - 0s 18ms/step - loss: 1251.3075\n",
            "Epoch 193/300\n",
            "2/2 [==============================] - 0s 12ms/step - loss: 1225.5879\n",
            "Epoch 194/300\n",
            "2/2 [==============================] - 0s 11ms/step - loss: 1124.7262\n",
            "Epoch 195/300\n",
            "2/2 [==============================] - 0s 17ms/step - loss: 1353.2955\n",
            "Epoch 196/300\n",
            "2/2 [==============================] - 0s 11ms/step - loss: 1129.2638\n",
            "Epoch 197/300\n",
            "2/2 [==============================] - 0s 11ms/step - loss: 1158.0331\n",
            "Epoch 198/300\n",
            "2/2 [==============================] - 0s 36ms/step - loss: 1184.7095\n",
            "Epoch 199/300\n",
            "2/2 [==============================] - 0s 15ms/step - loss: 1126.3867\n",
            "Epoch 200/300\n",
            "2/2 [==============================] - 0s 18ms/step - loss: 1261.5356\n",
            "Epoch 201/300\n",
            "2/2 [==============================] - 0s 17ms/step - loss: 1109.7753\n",
            "Epoch 202/300\n",
            "2/2 [==============================] - 0s 24ms/step - loss: 1104.3751\n",
            "Epoch 203/300\n",
            "2/2 [==============================] - 0s 24ms/step - loss: 1119.3113\n",
            "Epoch 204/300\n",
            "2/2 [==============================] - 0s 23ms/step - loss: 1164.8646\n",
            "Epoch 205/300\n",
            "2/2 [==============================] - 0s 27ms/step - loss: 1103.3688\n",
            "Epoch 206/300\n",
            "2/2 [==============================] - 0s 34ms/step - loss: 1199.8502\n",
            "Epoch 207/300\n",
            "2/2 [==============================] - 0s 31ms/step - loss: 1143.6449\n",
            "Epoch 208/300\n",
            "2/2 [==============================] - 0s 23ms/step - loss: 1110.3706\n",
            "Epoch 209/300\n",
            "2/2 [==============================] - 0s 18ms/step - loss: 1142.5245\n",
            "Epoch 210/300\n",
            "2/2 [==============================] - 0s 24ms/step - loss: 1199.1702\n",
            "Epoch 211/300\n",
            "2/2 [==============================] - 0s 25ms/step - loss: 1124.8051\n",
            "Epoch 212/300\n",
            "2/2 [==============================] - 0s 22ms/step - loss: 1238.4158\n",
            "Epoch 213/300\n",
            "2/2 [==============================] - 0s 21ms/step - loss: 1218.0918\n",
            "Epoch 214/300\n",
            "2/2 [==============================] - 0s 20ms/step - loss: 1238.3984\n",
            "Epoch 215/300\n",
            "2/2 [==============================] - 0s 24ms/step - loss: 1234.5826\n",
            "Epoch 216/300\n",
            "2/2 [==============================] - 0s 23ms/step - loss: 1334.3442\n",
            "Epoch 217/300\n",
            "2/2 [==============================] - 0s 30ms/step - loss: 1108.7643\n",
            "Epoch 218/300\n",
            "2/2 [==============================] - 0s 18ms/step - loss: 1167.7399\n",
            "Epoch 219/300\n",
            "2/2 [==============================] - 0s 22ms/step - loss: 1117.6046\n",
            "Epoch 220/300\n",
            "2/2 [==============================] - 0s 20ms/step - loss: 1149.3698\n",
            "Epoch 221/300\n",
            "2/2 [==============================] - 0s 35ms/step - loss: 1291.8344\n",
            "Epoch 222/300\n",
            "2/2 [==============================] - 0s 26ms/step - loss: 1167.2715\n",
            "Epoch 223/300\n",
            "2/2 [==============================] - 0s 27ms/step - loss: 1103.0702\n",
            "Epoch 224/300\n",
            "2/2 [==============================] - 0s 23ms/step - loss: 1176.0310\n",
            "Epoch 225/300\n",
            "2/2 [==============================] - 0s 26ms/step - loss: 1109.6433\n",
            "Epoch 226/300\n",
            "2/2 [==============================] - 0s 28ms/step - loss: 1074.9570\n",
            "Epoch 227/300\n",
            "2/2 [==============================] - 0s 21ms/step - loss: 1231.5370\n",
            "Epoch 228/300\n",
            "2/2 [==============================] - 0s 21ms/step - loss: 1407.7867\n",
            "Epoch 229/300\n",
            "2/2 [==============================] - 0s 15ms/step - loss: 1076.3569\n",
            "Epoch 230/300\n",
            "2/2 [==============================] - 0s 29ms/step - loss: 1263.0770\n",
            "Epoch 231/300\n",
            "2/2 [==============================] - 0s 20ms/step - loss: 1253.4745\n",
            "Epoch 232/300\n",
            "2/2 [==============================] - 0s 29ms/step - loss: 1195.8596\n",
            "Epoch 233/300\n",
            "2/2 [==============================] - 0s 23ms/step - loss: 1160.3347\n",
            "Epoch 234/300\n",
            "2/2 [==============================] - 0s 22ms/step - loss: 1194.3846\n",
            "Epoch 235/300\n",
            "2/2 [==============================] - 0s 26ms/step - loss: 1109.3295\n",
            "Epoch 236/300\n",
            "2/2 [==============================] - 0s 26ms/step - loss: 1176.6281\n",
            "Epoch 237/300\n",
            "2/2 [==============================] - 0s 24ms/step - loss: 1149.7927\n",
            "Epoch 238/300\n",
            "2/2 [==============================] - 0s 20ms/step - loss: 1111.6949\n",
            "Epoch 239/300\n",
            "2/2 [==============================] - 0s 26ms/step - loss: 1071.5465\n",
            "Epoch 240/300\n",
            "2/2 [==============================] - 0s 40ms/step - loss: 1104.8784\n",
            "Epoch 241/300\n",
            "2/2 [==============================] - 0s 30ms/step - loss: 1135.3969\n",
            "Epoch 242/300\n",
            "2/2 [==============================] - 0s 46ms/step - loss: 1076.1814\n",
            "Epoch 243/300\n",
            "2/2 [==============================] - 0s 25ms/step - loss: 1161.8359\n",
            "Epoch 244/300\n",
            "2/2 [==============================] - 0s 30ms/step - loss: 1286.5349\n",
            "Epoch 245/300\n",
            "2/2 [==============================] - 0s 35ms/step - loss: 1119.6163\n",
            "Epoch 246/300\n",
            "2/2 [==============================] - 0s 15ms/step - loss: 1209.8739\n",
            "Epoch 247/300\n",
            "2/2 [==============================] - 0s 12ms/step - loss: 1059.8667\n",
            "Epoch 248/300\n",
            "2/2 [==============================] - 0s 24ms/step - loss: 1166.5139\n",
            "Epoch 249/300\n",
            "2/2 [==============================] - 0s 18ms/step - loss: 1167.1195\n",
            "Epoch 250/300\n",
            "2/2 [==============================] - 0s 23ms/step - loss: 1058.2681\n",
            "Epoch 251/300\n",
            "2/2 [==============================] - 0s 17ms/step - loss: 1198.0161\n",
            "Epoch 252/300\n",
            "2/2 [==============================] - 0s 17ms/step - loss: 1102.4957\n",
            "Epoch 253/300\n",
            "2/2 [==============================] - 0s 22ms/step - loss: 1199.6407\n",
            "Epoch 254/300\n",
            "2/2 [==============================] - 0s 29ms/step - loss: 1147.4099\n",
            "Epoch 255/300\n",
            "2/2 [==============================] - 0s 26ms/step - loss: 1064.9993\n",
            "Epoch 256/300\n",
            "2/2 [==============================] - 0s 24ms/step - loss: 1207.6641\n",
            "Epoch 257/300\n",
            "2/2 [==============================] - 0s 23ms/step - loss: 1105.9919\n",
            "Epoch 258/300\n",
            "2/2 [==============================] - 0s 21ms/step - loss: 1143.7448\n",
            "Epoch 259/300\n",
            "2/2 [==============================] - 0s 35ms/step - loss: 1092.7375\n",
            "Epoch 260/300\n",
            "2/2 [==============================] - 0s 30ms/step - loss: 1092.5891\n",
            "Epoch 261/300\n",
            "2/2 [==============================] - 0s 34ms/step - loss: 1170.0593\n",
            "Epoch 262/300\n",
            "2/2 [==============================] - 0s 23ms/step - loss: 1082.2811\n",
            "Epoch 263/300\n",
            "2/2 [==============================] - 0s 22ms/step - loss: 1228.6500\n",
            "Epoch 264/300\n",
            "2/2 [==============================] - 0s 35ms/step - loss: 1093.2452\n",
            "Epoch 265/300\n",
            "2/2 [==============================] - 0s 17ms/step - loss: 1077.9094\n",
            "Epoch 266/300\n",
            "2/2 [==============================] - 0s 29ms/step - loss: 1137.8217\n",
            "Epoch 267/300\n",
            "2/2 [==============================] - 0s 20ms/step - loss: 1104.9088\n",
            "Epoch 268/300\n",
            "2/2 [==============================] - 0s 18ms/step - loss: 1099.5800\n",
            "Epoch 269/300\n",
            "2/2 [==============================] - 0s 16ms/step - loss: 1103.0740\n",
            "Epoch 270/300\n",
            "2/2 [==============================] - 0s 35ms/step - loss: 1092.6909\n",
            "Epoch 271/300\n",
            "2/2 [==============================] - 0s 15ms/step - loss: 1028.2732\n",
            "Epoch 272/300\n",
            "2/2 [==============================] - 0s 17ms/step - loss: 1118.8126\n",
            "Epoch 273/300\n",
            "2/2 [==============================] - 0s 16ms/step - loss: 1155.6864\n",
            "Epoch 274/300\n",
            "2/2 [==============================] - 0s 16ms/step - loss: 1203.3705\n",
            "Epoch 275/300\n",
            "2/2 [==============================] - 0s 12ms/step - loss: 1183.2372\n",
            "Epoch 276/300\n",
            "2/2 [==============================] - 0s 14ms/step - loss: 1095.9277\n",
            "Epoch 277/300\n",
            "2/2 [==============================] - 0s 12ms/step - loss: 1085.4138\n",
            "Epoch 278/300\n",
            "2/2 [==============================] - 0s 23ms/step - loss: 1131.5375\n",
            "Epoch 279/300\n",
            "2/2 [==============================] - 0s 15ms/step - loss: 1088.5120\n",
            "Epoch 280/300\n",
            "2/2 [==============================] - 0s 16ms/step - loss: 1021.1701\n",
            "Epoch 281/300\n",
            "2/2 [==============================] - 0s 18ms/step - loss: 1085.5063\n",
            "Epoch 282/300\n",
            "2/2 [==============================] - 0s 13ms/step - loss: 1216.2120\n",
            "Epoch 283/300\n",
            "2/2 [==============================] - 0s 19ms/step - loss: 1050.8497\n",
            "Epoch 284/300\n",
            "2/2 [==============================] - 0s 19ms/step - loss: 1182.9010\n",
            "Epoch 285/300\n",
            "2/2 [==============================] - 0s 16ms/step - loss: 1340.7711\n",
            "Epoch 286/300\n",
            "2/2 [==============================] - 0s 18ms/step - loss: 1258.4059\n",
            "Epoch 287/300\n",
            "2/2 [==============================] - 0s 22ms/step - loss: 1285.8242\n",
            "Epoch 288/300\n",
            "2/2 [==============================] - 0s 28ms/step - loss: 1266.8062\n",
            "Epoch 289/300\n",
            "2/2 [==============================] - 0s 19ms/step - loss: 1155.9236\n",
            "Epoch 290/300\n",
            "2/2 [==============================] - 0s 13ms/step - loss: 1162.3169\n",
            "Epoch 291/300\n",
            "2/2 [==============================] - 0s 22ms/step - loss: 1020.3326\n",
            "Epoch 292/300\n",
            "2/2 [==============================] - 0s 22ms/step - loss: 1112.0280\n",
            "Epoch 293/300\n",
            "2/2 [==============================] - 0s 16ms/step - loss: 1133.3901\n",
            "Epoch 294/300\n",
            "2/2 [==============================] - 0s 13ms/step - loss: 1139.2958\n",
            "Epoch 295/300\n",
            "2/2 [==============================] - 0s 28ms/step - loss: 1153.5797\n",
            "Epoch 296/300\n",
            "2/2 [==============================] - 0s 14ms/step - loss: 1268.0078\n",
            "Epoch 297/300\n",
            "2/2 [==============================] - 0s 24ms/step - loss: 1112.7148\n",
            "Epoch 298/300\n",
            "2/2 [==============================] - 0s 15ms/step - loss: 1075.1121\n",
            "Epoch 299/300\n",
            "2/2 [==============================] - 0s 15ms/step - loss: 1103.7695\n",
            "Epoch 300/300\n",
            "2/2 [==============================] - 0s 12ms/step - loss: 1042.5867\n"
          ]
        },
        {
          "output_type": "execute_result",
          "data": {
            "text/plain": [
              "<keras.callbacks.History at 0x7f8ee128a520>"
            ]
          },
          "metadata": {},
          "execution_count": 14
        }
      ]
    },
    {
      "cell_type": "markdown",
      "source": [
        "#### <font color='magenta'>**Define a LSTM_RNN function to build RNN model**</font>"
      ],
      "metadata": {
        "id": "ZZOqfnLpVRRZ"
      }
    },
    {
      "cell_type": "code",
      "source": [
        "def LSTM_RNN(hidden_unit, dense_unit, activation):\n",
        "  # 1. Define Model\n",
        "  model= Sequential()\n",
        "  model.add(LSTM(hidden_unit, activation, input_shape = input_shape, return_sequences=True))\n",
        "  model.add(LSTM(hidden_unit, activation))\n",
        "  model.add(Dense(dense_unit))\n",
        "  # 2. Compile Model\n",
        "  model.compile(loss='mean_squared_error', optimizer='adam')\n",
        "  return model"
      ],
      "metadata": {
        "id": "sC13Dgh7-dDt"
      },
      "execution_count": 15,
      "outputs": []
    },
    {
      "cell_type": "code",
      "source": [
        "input_shape=(n_steps,n_features)\n",
        "model= LSTM_RNN(hidden_unit =50, dense_unit =1, activation='relu')\n",
        "# 3. Model fit\n",
        "history =  model.fit(X,y, epochs=300, verbose=1)"
      ],
      "metadata": {
        "id": "7iuIrRMa_BIY",
        "colab": {
          "base_uri": "https://localhost:8080/",
          "height": 0
        },
        "outputId": "a2f4cf6b-6271-4182-df3d-f801a800880d"
      },
      "execution_count": 16,
      "outputs": [
        {
          "output_type": "stream",
          "name": "stdout",
          "text": [
            "Epoch 1/300\n",
            "2/2 [==============================] - 4s 12ms/step - loss: 254716.2969\n",
            "Epoch 2/300\n",
            "2/2 [==============================] - 0s 11ms/step - loss: 250967.0938\n",
            "Epoch 3/300\n",
            "2/2 [==============================] - 0s 11ms/step - loss: 246694.7500\n",
            "Epoch 4/300\n",
            "2/2 [==============================] - 0s 13ms/step - loss: 244735.8594\n",
            "Epoch 5/300\n",
            "2/2 [==============================] - 0s 10ms/step - loss: 243203.3281\n",
            "Epoch 6/300\n",
            "2/2 [==============================] - 0s 12ms/step - loss: 241407.7656\n",
            "Epoch 7/300\n",
            "2/2 [==============================] - 0s 10ms/step - loss: 239383.3281\n",
            "Epoch 8/300\n",
            "2/2 [==============================] - 0s 9ms/step - loss: 237421.8281\n",
            "Epoch 9/300\n",
            "2/2 [==============================] - 0s 10ms/step - loss: 235456.7031\n",
            "Epoch 10/300\n",
            "2/2 [==============================] - 0s 18ms/step - loss: 233000.9062\n",
            "Epoch 11/300\n",
            "2/2 [==============================] - 0s 15ms/step - loss: 229682.0938\n",
            "Epoch 12/300\n",
            "2/2 [==============================] - 0s 11ms/step - loss: 225082.7031\n",
            "Epoch 13/300\n",
            "2/2 [==============================] - 0s 10ms/step - loss: 220784.3125\n",
            "Epoch 14/300\n",
            "2/2 [==============================] - 0s 12ms/step - loss: 216317.1406\n",
            "Epoch 15/300\n",
            "2/2 [==============================] - 0s 12ms/step - loss: 208818.5312\n",
            "Epoch 16/300\n",
            "2/2 [==============================] - 0s 10ms/step - loss: 199704.5312\n",
            "Epoch 17/300\n",
            "2/2 [==============================] - 0s 11ms/step - loss: 191188.2031\n",
            "Epoch 18/300\n",
            "2/2 [==============================] - 0s 12ms/step - loss: 182731.7500\n",
            "Epoch 19/300\n",
            "2/2 [==============================] - 0s 10ms/step - loss: 170826.4375\n",
            "Epoch 20/300\n",
            "2/2 [==============================] - 0s 10ms/step - loss: 158855.0156\n",
            "Epoch 21/300\n",
            "2/2 [==============================] - 0s 10ms/step - loss: 148052.8281\n",
            "Epoch 22/300\n",
            "2/2 [==============================] - 0s 11ms/step - loss: 133352.6562\n",
            "Epoch 23/300\n",
            "2/2 [==============================] - 0s 11ms/step - loss: 113593.8906\n",
            "Epoch 24/300\n",
            "2/2 [==============================] - 0s 11ms/step - loss: 91720.8203\n",
            "Epoch 25/300\n",
            "2/2 [==============================] - 0s 11ms/step - loss: 72121.6250\n",
            "Epoch 26/300\n",
            "2/2 [==============================] - 0s 13ms/step - loss: 52490.6914\n",
            "Epoch 27/300\n",
            "2/2 [==============================] - 0s 12ms/step - loss: 37137.4531\n",
            "Epoch 28/300\n",
            "2/2 [==============================] - 0s 10ms/step - loss: 22663.8672\n",
            "Epoch 29/300\n",
            "2/2 [==============================] - 0s 10ms/step - loss: 11362.0039\n",
            "Epoch 30/300\n",
            "2/2 [==============================] - 0s 11ms/step - loss: 4199.4761\n",
            "Epoch 31/300\n",
            "2/2 [==============================] - 0s 13ms/step - loss: 2940.4451\n",
            "Epoch 32/300\n",
            "2/2 [==============================] - 0s 11ms/step - loss: 4541.1553\n",
            "Epoch 33/300\n",
            "2/2 [==============================] - 0s 11ms/step - loss: 6662.1748\n",
            "Epoch 34/300\n",
            "2/2 [==============================] - 0s 12ms/step - loss: 7147.2075\n",
            "Epoch 35/300\n",
            "2/2 [==============================] - 0s 14ms/step - loss: 5331.0938\n",
            "Epoch 36/300\n",
            "2/2 [==============================] - 0s 10ms/step - loss: 3199.6106\n",
            "Epoch 37/300\n",
            "2/2 [==============================] - 0s 11ms/step - loss: 1831.8859\n",
            "Epoch 38/300\n",
            "2/2 [==============================] - 0s 12ms/step - loss: 2608.1118\n",
            "Epoch 39/300\n",
            "2/2 [==============================] - 0s 10ms/step - loss: 1777.4419\n",
            "Epoch 40/300\n",
            "2/2 [==============================] - 0s 10ms/step - loss: 1972.5778\n",
            "Epoch 41/300\n",
            "2/2 [==============================] - 0s 10ms/step - loss: 2009.3698\n",
            "Epoch 42/300\n",
            "2/2 [==============================] - 0s 11ms/step - loss: 1857.6628\n",
            "Epoch 43/300\n",
            "2/2 [==============================] - 0s 10ms/step - loss: 1846.0966\n",
            "Epoch 44/300\n",
            "2/2 [==============================] - 0s 11ms/step - loss: 1768.3812\n",
            "Epoch 45/300\n",
            "2/2 [==============================] - 0s 16ms/step - loss: 1716.9817\n",
            "Epoch 46/300\n",
            "2/2 [==============================] - 0s 11ms/step - loss: 1687.2877\n",
            "Epoch 47/300\n",
            "2/2 [==============================] - 0s 15ms/step - loss: 1685.6968\n",
            "Epoch 48/300\n",
            "2/2 [==============================] - 0s 10ms/step - loss: 1700.3142\n",
            "Epoch 49/300\n",
            "2/2 [==============================] - 0s 10ms/step - loss: 1669.9922\n",
            "Epoch 50/300\n",
            "2/2 [==============================] - 0s 14ms/step - loss: 1655.1842\n",
            "Epoch 51/300\n",
            "2/2 [==============================] - 0s 10ms/step - loss: 1618.0536\n",
            "Epoch 52/300\n",
            "2/2 [==============================] - 0s 9ms/step - loss: 1642.1305\n",
            "Epoch 53/300\n",
            "2/2 [==============================] - 0s 11ms/step - loss: 1624.2880\n",
            "Epoch 54/300\n",
            "2/2 [==============================] - 0s 11ms/step - loss: 1607.1117\n",
            "Epoch 55/300\n",
            "2/2 [==============================] - 0s 11ms/step - loss: 1588.6337\n",
            "Epoch 56/300\n",
            "2/2 [==============================] - 0s 11ms/step - loss: 1581.9403\n",
            "Epoch 57/300\n",
            "2/2 [==============================] - 0s 11ms/step - loss: 1576.4159\n",
            "Epoch 58/300\n",
            "2/2 [==============================] - 0s 11ms/step - loss: 1567.1953\n",
            "Epoch 59/300\n",
            "2/2 [==============================] - 0s 11ms/step - loss: 1565.3912\n",
            "Epoch 60/300\n",
            "2/2 [==============================] - 0s 10ms/step - loss: 1541.5228\n",
            "Epoch 61/300\n",
            "2/2 [==============================] - 0s 10ms/step - loss: 1554.6852\n",
            "Epoch 62/300\n",
            "2/2 [==============================] - 0s 15ms/step - loss: 1539.6068\n",
            "Epoch 63/300\n",
            "2/2 [==============================] - 0s 11ms/step - loss: 1549.0206\n",
            "Epoch 64/300\n",
            "2/2 [==============================] - 0s 11ms/step - loss: 1525.1427\n",
            "Epoch 65/300\n",
            "2/2 [==============================] - 0s 13ms/step - loss: 1561.6063\n",
            "Epoch 66/300\n",
            "2/2 [==============================] - 0s 10ms/step - loss: 1544.4159\n",
            "Epoch 67/300\n",
            "2/2 [==============================] - 0s 13ms/step - loss: 1519.8953\n",
            "Epoch 68/300\n",
            "2/2 [==============================] - 0s 11ms/step - loss: 1497.9906\n",
            "Epoch 69/300\n",
            "2/2 [==============================] - 0s 11ms/step - loss: 1497.5356\n",
            "Epoch 70/300\n",
            "2/2 [==============================] - 0s 11ms/step - loss: 1497.2120\n",
            "Epoch 71/300\n",
            "2/2 [==============================] - 0s 11ms/step - loss: 1480.8087\n",
            "Epoch 72/300\n",
            "2/2 [==============================] - 0s 12ms/step - loss: 1495.2213\n",
            "Epoch 73/300\n",
            "2/2 [==============================] - 0s 10ms/step - loss: 1463.6537\n",
            "Epoch 74/300\n",
            "2/2 [==============================] - 0s 11ms/step - loss: 1462.4343\n",
            "Epoch 75/300\n",
            "2/2 [==============================] - 0s 14ms/step - loss: 1459.4740\n",
            "Epoch 76/300\n",
            "2/2 [==============================] - 0s 11ms/step - loss: 1458.6276\n",
            "Epoch 77/300\n",
            "2/2 [==============================] - 0s 12ms/step - loss: 1496.2378\n",
            "Epoch 78/300\n",
            "2/2 [==============================] - 0s 12ms/step - loss: 1466.5331\n",
            "Epoch 79/300\n",
            "2/2 [==============================] - 0s 13ms/step - loss: 1469.5958\n",
            "Epoch 80/300\n",
            "2/2 [==============================] - 0s 13ms/step - loss: 1453.8497\n",
            "Epoch 81/300\n",
            "2/2 [==============================] - 0s 12ms/step - loss: 1484.9460\n",
            "Epoch 82/300\n",
            "2/2 [==============================] - 0s 11ms/step - loss: 1450.1731\n",
            "Epoch 83/300\n",
            "2/2 [==============================] - 0s 12ms/step - loss: 1465.5490\n",
            "Epoch 84/300\n",
            "2/2 [==============================] - 0s 12ms/step - loss: 1457.1420\n",
            "Epoch 85/300\n",
            "2/2 [==============================] - 0s 10ms/step - loss: 1442.5149\n",
            "Epoch 86/300\n",
            "2/2 [==============================] - 0s 11ms/step - loss: 1445.0828\n",
            "Epoch 87/300\n",
            "2/2 [==============================] - 0s 12ms/step - loss: 1439.6630\n",
            "Epoch 88/300\n",
            "2/2 [==============================] - 0s 12ms/step - loss: 1431.9205\n",
            "Epoch 89/300\n",
            "2/2 [==============================] - 0s 12ms/step - loss: 1433.6188\n",
            "Epoch 90/300\n",
            "2/2 [==============================] - 0s 12ms/step - loss: 1461.8611\n",
            "Epoch 91/300\n",
            "2/2 [==============================] - 0s 11ms/step - loss: 1426.7297\n",
            "Epoch 92/300\n",
            "2/2 [==============================] - 0s 14ms/step - loss: 1432.6460\n",
            "Epoch 93/300\n",
            "2/2 [==============================] - 0s 13ms/step - loss: 1428.4154\n",
            "Epoch 94/300\n",
            "2/2 [==============================] - 0s 11ms/step - loss: 1422.9299\n",
            "Epoch 95/300\n",
            "2/2 [==============================] - 0s 11ms/step - loss: 1416.2474\n",
            "Epoch 96/300\n",
            "2/2 [==============================] - 0s 10ms/step - loss: 1401.2417\n",
            "Epoch 97/300\n",
            "2/2 [==============================] - 0s 12ms/step - loss: 1414.1794\n",
            "Epoch 98/300\n",
            "2/2 [==============================] - 0s 12ms/step - loss: 1415.8759\n",
            "Epoch 99/300\n",
            "2/2 [==============================] - 0s 11ms/step - loss: 1420.7014\n",
            "Epoch 100/300\n",
            "2/2 [==============================] - 0s 11ms/step - loss: 1410.8362\n",
            "Epoch 101/300\n",
            "2/2 [==============================] - 0s 12ms/step - loss: 1421.3221\n",
            "Epoch 102/300\n",
            "2/2 [==============================] - 0s 11ms/step - loss: 1392.7601\n",
            "Epoch 103/300\n",
            "2/2 [==============================] - 0s 11ms/step - loss: 1418.6411\n",
            "Epoch 104/300\n",
            "2/2 [==============================] - 0s 17ms/step - loss: 1392.7352\n",
            "Epoch 105/300\n",
            "2/2 [==============================] - 0s 12ms/step - loss: 1390.4191\n",
            "Epoch 106/300\n",
            "2/2 [==============================] - 0s 12ms/step - loss: 1404.4573\n",
            "Epoch 107/300\n",
            "2/2 [==============================] - 0s 11ms/step - loss: 1407.0348\n",
            "Epoch 108/300\n",
            "2/2 [==============================] - 0s 11ms/step - loss: 1403.9095\n",
            "Epoch 109/300\n",
            "2/2 [==============================] - 0s 11ms/step - loss: 1383.9386\n",
            "Epoch 110/300\n",
            "2/2 [==============================] - 0s 12ms/step - loss: 1416.5454\n",
            "Epoch 111/300\n",
            "2/2 [==============================] - 0s 11ms/step - loss: 1382.6542\n",
            "Epoch 112/300\n",
            "2/2 [==============================] - 0s 16ms/step - loss: 1409.0968\n",
            "Epoch 113/300\n",
            "2/2 [==============================] - 0s 12ms/step - loss: 1385.6891\n",
            "Epoch 114/300\n",
            "2/2 [==============================] - 0s 11ms/step - loss: 1387.4205\n",
            "Epoch 115/300\n",
            "2/2 [==============================] - 0s 11ms/step - loss: 1380.2593\n",
            "Epoch 116/300\n",
            "2/2 [==============================] - 0s 12ms/step - loss: 1381.8198\n",
            "Epoch 117/300\n",
            "2/2 [==============================] - 0s 11ms/step - loss: 1358.0140\n",
            "Epoch 118/300\n",
            "2/2 [==============================] - 0s 16ms/step - loss: 1361.0612\n",
            "Epoch 119/300\n",
            "2/2 [==============================] - 0s 13ms/step - loss: 1336.1803\n",
            "Epoch 120/300\n",
            "2/2 [==============================] - 0s 22ms/step - loss: 1382.0424\n",
            "Epoch 121/300\n",
            "2/2 [==============================] - 0s 10ms/step - loss: 1400.8396\n",
            "Epoch 122/300\n",
            "2/2 [==============================] - 0s 13ms/step - loss: 1367.7556\n",
            "Epoch 123/300\n",
            "2/2 [==============================] - 0s 11ms/step - loss: 1360.1884\n",
            "Epoch 124/300\n",
            "2/2 [==============================] - 0s 12ms/step - loss: 1371.8500\n",
            "Epoch 125/300\n",
            "2/2 [==============================] - 0s 13ms/step - loss: 1289.5859\n",
            "Epoch 126/300\n",
            "2/2 [==============================] - 0s 12ms/step - loss: 1302.2633\n",
            "Epoch 127/300\n",
            "2/2 [==============================] - 0s 13ms/step - loss: 1243.6271\n",
            "Epoch 128/300\n",
            "2/2 [==============================] - 0s 12ms/step - loss: 1292.9357\n",
            "Epoch 129/300\n",
            "2/2 [==============================] - 0s 11ms/step - loss: 1222.4816\n",
            "Epoch 130/300\n",
            "2/2 [==============================] - 0s 8ms/step - loss: 1214.5249\n",
            "Epoch 131/300\n",
            "2/2 [==============================] - 0s 11ms/step - loss: 1199.6420\n",
            "Epoch 132/300\n",
            "2/2 [==============================] - 0s 10ms/step - loss: 1197.9109\n",
            "Epoch 133/300\n",
            "2/2 [==============================] - 0s 12ms/step - loss: 1239.4941\n",
            "Epoch 134/300\n",
            "2/2 [==============================] - 0s 12ms/step - loss: 1258.4550\n",
            "Epoch 135/300\n",
            "2/2 [==============================] - 0s 16ms/step - loss: 1270.5800\n",
            "Epoch 136/300\n",
            "2/2 [==============================] - 0s 12ms/step - loss: 1212.5476\n",
            "Epoch 137/300\n",
            "2/2 [==============================] - 0s 12ms/step - loss: 1225.1315\n",
            "Epoch 138/300\n",
            "2/2 [==============================] - 0s 11ms/step - loss: 1182.1735\n",
            "Epoch 139/300\n",
            "2/2 [==============================] - 0s 12ms/step - loss: 1200.5797\n",
            "Epoch 140/300\n",
            "2/2 [==============================] - 0s 12ms/step - loss: 1243.1498\n",
            "Epoch 141/300\n",
            "2/2 [==============================] - 0s 11ms/step - loss: 1124.4572\n",
            "Epoch 142/300\n",
            "2/2 [==============================] - 0s 11ms/step - loss: 1246.8079\n",
            "Epoch 143/300\n",
            "2/2 [==============================] - 0s 12ms/step - loss: 1157.9425\n",
            "Epoch 144/300\n",
            "2/2 [==============================] - 0s 14ms/step - loss: 1221.4672\n",
            "Epoch 145/300\n",
            "2/2 [==============================] - 0s 12ms/step - loss: 1171.6190\n",
            "Epoch 146/300\n",
            "2/2 [==============================] - 0s 11ms/step - loss: 1184.6719\n",
            "Epoch 147/300\n",
            "2/2 [==============================] - 0s 12ms/step - loss: 1145.6770\n",
            "Epoch 148/300\n",
            "2/2 [==============================] - 0s 15ms/step - loss: 1202.6333\n",
            "Epoch 149/300\n",
            "2/2 [==============================] - 0s 11ms/step - loss: 1202.5110\n",
            "Epoch 150/300\n",
            "2/2 [==============================] - 0s 11ms/step - loss: 1179.8185\n",
            "Epoch 151/300\n",
            "2/2 [==============================] - 0s 12ms/step - loss: 1217.0096\n",
            "Epoch 152/300\n",
            "2/2 [==============================] - 0s 12ms/step - loss: 1245.7020\n",
            "Epoch 153/300\n",
            "2/2 [==============================] - 0s 17ms/step - loss: 1187.5729\n",
            "Epoch 154/300\n",
            "2/2 [==============================] - 0s 15ms/step - loss: 1233.8641\n",
            "Epoch 155/300\n",
            "2/2 [==============================] - 0s 12ms/step - loss: 1177.1534\n",
            "Epoch 156/300\n",
            "2/2 [==============================] - 0s 11ms/step - loss: 1157.5510\n",
            "Epoch 157/300\n",
            "2/2 [==============================] - 0s 10ms/step - loss: 1088.1554\n",
            "Epoch 158/300\n",
            "2/2 [==============================] - 0s 11ms/step - loss: 1215.5245\n",
            "Epoch 159/300\n",
            "2/2 [==============================] - 0s 11ms/step - loss: 1152.0350\n",
            "Epoch 160/300\n",
            "2/2 [==============================] - 0s 11ms/step - loss: 1134.7367\n",
            "Epoch 161/300\n",
            "2/2 [==============================] - 0s 11ms/step - loss: 1180.5933\n",
            "Epoch 162/300\n",
            "2/2 [==============================] - 0s 16ms/step - loss: 1140.1493\n",
            "Epoch 163/300\n",
            "2/2 [==============================] - 0s 12ms/step - loss: 1125.7228\n",
            "Epoch 164/300\n",
            "2/2 [==============================] - 0s 13ms/step - loss: 1122.6271\n",
            "Epoch 165/300\n",
            "2/2 [==============================] - 0s 12ms/step - loss: 1235.4141\n",
            "Epoch 166/300\n",
            "2/2 [==============================] - 0s 17ms/step - loss: 1117.5095\n",
            "Epoch 167/300\n",
            "2/2 [==============================] - 0s 19ms/step - loss: 1185.5828\n",
            "Epoch 168/300\n",
            "2/2 [==============================] - 0s 13ms/step - loss: 1072.2349\n",
            "Epoch 169/300\n",
            "2/2 [==============================] - 0s 12ms/step - loss: 1242.7502\n",
            "Epoch 170/300\n",
            "2/2 [==============================] - 0s 13ms/step - loss: 1218.3784\n",
            "Epoch 171/300\n",
            "2/2 [==============================] - 0s 11ms/step - loss: 1288.3177\n",
            "Epoch 172/300\n",
            "2/2 [==============================] - 0s 21ms/step - loss: 1210.5298\n",
            "Epoch 173/300\n",
            "2/2 [==============================] - 0s 15ms/step - loss: 1195.3578\n",
            "Epoch 174/300\n",
            "2/2 [==============================] - 0s 12ms/step - loss: 1194.1602\n",
            "Epoch 175/300\n",
            "2/2 [==============================] - 0s 12ms/step - loss: 1185.9265\n",
            "Epoch 176/300\n",
            "2/2 [==============================] - 0s 13ms/step - loss: 1174.9962\n",
            "Epoch 177/300\n",
            "2/2 [==============================] - 0s 11ms/step - loss: 1157.3008\n",
            "Epoch 178/300\n",
            "2/2 [==============================] - 0s 11ms/step - loss: 1170.6873\n",
            "Epoch 179/300\n",
            "2/2 [==============================] - 0s 10ms/step - loss: 1164.3091\n",
            "Epoch 180/300\n",
            "2/2 [==============================] - 0s 10ms/step - loss: 1094.7688\n",
            "Epoch 181/300\n",
            "2/2 [==============================] - 0s 11ms/step - loss: 1172.0460\n",
            "Epoch 182/300\n",
            "2/2 [==============================] - 0s 11ms/step - loss: 1187.4512\n",
            "Epoch 183/300\n",
            "2/2 [==============================] - 0s 16ms/step - loss: 1149.2203\n",
            "Epoch 184/300\n",
            "2/2 [==============================] - 0s 11ms/step - loss: 1226.2823\n",
            "Epoch 185/300\n",
            "2/2 [==============================] - 0s 12ms/step - loss: 1171.1018\n",
            "Epoch 186/300\n",
            "2/2 [==============================] - 0s 11ms/step - loss: 1013.5453\n",
            "Epoch 187/300\n",
            "2/2 [==============================] - 0s 11ms/step - loss: 1049.9481\n",
            "Epoch 188/300\n",
            "2/2 [==============================] - 0s 13ms/step - loss: 1048.2681\n",
            "Epoch 189/300\n",
            "2/2 [==============================] - 0s 17ms/step - loss: 1087.1820\n",
            "Epoch 190/300\n",
            "2/2 [==============================] - 0s 12ms/step - loss: 1024.3657\n",
            "Epoch 191/300\n",
            "2/2 [==============================] - 0s 11ms/step - loss: 1104.3864\n",
            "Epoch 192/300\n",
            "2/2 [==============================] - 0s 11ms/step - loss: 1149.9413\n",
            "Epoch 193/300\n",
            "2/2 [==============================] - 0s 12ms/step - loss: 1153.1743\n",
            "Epoch 194/300\n",
            "2/2 [==============================] - 0s 18ms/step - loss: 1088.1470\n",
            "Epoch 195/300\n",
            "2/2 [==============================] - 0s 11ms/step - loss: 1095.1039\n",
            "Epoch 196/300\n",
            "2/2 [==============================] - 0s 12ms/step - loss: 1091.2692\n",
            "Epoch 197/300\n",
            "2/2 [==============================] - 0s 11ms/step - loss: 1210.8917\n",
            "Epoch 198/300\n",
            "2/2 [==============================] - 0s 11ms/step - loss: 1297.7587\n",
            "Epoch 199/300\n",
            "2/2 [==============================] - 0s 11ms/step - loss: 1203.9437\n",
            "Epoch 200/300\n",
            "2/2 [==============================] - 0s 11ms/step - loss: 1109.6766\n",
            "Epoch 201/300\n",
            "2/2 [==============================] - 0s 13ms/step - loss: 1270.2806\n",
            "Epoch 202/300\n",
            "2/2 [==============================] - 0s 10ms/step - loss: 1322.5574\n",
            "Epoch 203/300\n",
            "2/2 [==============================] - 0s 14ms/step - loss: 1267.4525\n",
            "Epoch 204/300\n",
            "2/2 [==============================] - 0s 12ms/step - loss: 1294.1964\n",
            "Epoch 205/300\n",
            "2/2 [==============================] - 0s 18ms/step - loss: 1242.1667\n",
            "Epoch 206/300\n",
            "2/2 [==============================] - 0s 12ms/step - loss: 1297.8757\n",
            "Epoch 207/300\n",
            "2/2 [==============================] - 0s 11ms/step - loss: 1247.5721\n",
            "Epoch 208/300\n",
            "2/2 [==============================] - 0s 14ms/step - loss: 1276.4232\n",
            "Epoch 209/300\n",
            "2/2 [==============================] - 0s 12ms/step - loss: 1258.8984\n",
            "Epoch 210/300\n",
            "2/2 [==============================] - 0s 12ms/step - loss: 1275.0862\n",
            "Epoch 211/300\n",
            "2/2 [==============================] - 0s 12ms/step - loss: 1242.9349\n",
            "Epoch 212/300\n",
            "2/2 [==============================] - 0s 13ms/step - loss: 1281.5760\n",
            "Epoch 213/300\n",
            "2/2 [==============================] - 0s 12ms/step - loss: 1201.7114\n",
            "Epoch 214/300\n",
            "2/2 [==============================] - 0s 13ms/step - loss: 1293.0509\n",
            "Epoch 215/300\n",
            "2/2 [==============================] - 0s 11ms/step - loss: 1275.1588\n",
            "Epoch 216/300\n",
            "2/2 [==============================] - 0s 16ms/step - loss: 1245.5170\n",
            "Epoch 217/300\n",
            "2/2 [==============================] - 0s 15ms/step - loss: 1203.9067\n",
            "Epoch 218/300\n",
            "2/2 [==============================] - 0s 13ms/step - loss: 1198.2456\n",
            "Epoch 219/300\n",
            "2/2 [==============================] - 0s 12ms/step - loss: 1207.0540\n",
            "Epoch 220/300\n",
            "2/2 [==============================] - 0s 11ms/step - loss: 1173.9646\n",
            "Epoch 221/300\n",
            "2/2 [==============================] - 0s 17ms/step - loss: 1155.7273\n",
            "Epoch 222/300\n",
            "2/2 [==============================] - 0s 13ms/step - loss: 1161.4645\n",
            "Epoch 223/300\n",
            "2/2 [==============================] - 0s 13ms/step - loss: 1116.3483\n",
            "Epoch 224/300\n",
            "2/2 [==============================] - 0s 13ms/step - loss: 1109.0640\n",
            "Epoch 225/300\n",
            "2/2 [==============================] - 0s 13ms/step - loss: 1010.4621\n",
            "Epoch 226/300\n",
            "2/2 [==============================] - 0s 13ms/step - loss: 1082.8687\n",
            "Epoch 227/300\n",
            "2/2 [==============================] - 0s 14ms/step - loss: 1200.2051\n",
            "Epoch 228/300\n",
            "2/2 [==============================] - 0s 13ms/step - loss: 1150.7203\n",
            "Epoch 229/300\n",
            "2/2 [==============================] - 0s 13ms/step - loss: 1008.6959\n",
            "Epoch 230/300\n",
            "2/2 [==============================] - 0s 11ms/step - loss: 1261.8700\n",
            "Epoch 231/300\n",
            "2/2 [==============================] - 0s 12ms/step - loss: 1199.4819\n",
            "Epoch 232/300\n",
            "2/2 [==============================] - 0s 11ms/step - loss: 1209.7019\n",
            "Epoch 233/300\n",
            "2/2 [==============================] - 0s 12ms/step - loss: 1211.0938\n",
            "Epoch 234/300\n",
            "2/2 [==============================] - 0s 14ms/step - loss: 1258.8068\n",
            "Epoch 235/300\n",
            "2/2 [==============================] - 0s 11ms/step - loss: 1201.4021\n",
            "Epoch 236/300\n",
            "2/2 [==============================] - 0s 11ms/step - loss: 1172.4794\n",
            "Epoch 237/300\n",
            "2/2 [==============================] - 0s 13ms/step - loss: 1152.9435\n",
            "Epoch 238/300\n",
            "2/2 [==============================] - 0s 12ms/step - loss: 1151.5862\n",
            "Epoch 239/300\n",
            "2/2 [==============================] - 0s 12ms/step - loss: 1078.1052\n",
            "Epoch 240/300\n",
            "2/2 [==============================] - 0s 15ms/step - loss: 1247.9458\n",
            "Epoch 241/300\n",
            "2/2 [==============================] - 0s 12ms/step - loss: 1225.5696\n",
            "Epoch 242/300\n",
            "2/2 [==============================] - 0s 12ms/step - loss: 1214.5656\n",
            "Epoch 243/300\n",
            "2/2 [==============================] - 0s 12ms/step - loss: 1109.9380\n",
            "Epoch 244/300\n",
            "2/2 [==============================] - 0s 11ms/step - loss: 1222.8031\n",
            "Epoch 245/300\n",
            "2/2 [==============================] - 0s 15ms/step - loss: 1276.1534\n",
            "Epoch 246/300\n",
            "2/2 [==============================] - 0s 11ms/step - loss: 1214.1971\n",
            "Epoch 247/300\n",
            "2/2 [==============================] - 0s 14ms/step - loss: 1182.9497\n",
            "Epoch 248/300\n",
            "2/2 [==============================] - 0s 14ms/step - loss: 1173.5740\n",
            "Epoch 249/300\n",
            "2/2 [==============================] - 0s 13ms/step - loss: 1074.6774\n",
            "Epoch 250/300\n",
            "2/2 [==============================] - 0s 12ms/step - loss: 1088.1832\n",
            "Epoch 251/300\n",
            "2/2 [==============================] - 0s 17ms/step - loss: 1035.2615\n",
            "Epoch 252/300\n",
            "2/2 [==============================] - 0s 12ms/step - loss: 1029.8329\n",
            "Epoch 253/300\n",
            "2/2 [==============================] - 0s 11ms/step - loss: 1073.0601\n",
            "Epoch 254/300\n",
            "2/2 [==============================] - 0s 16ms/step - loss: 1156.7001\n",
            "Epoch 255/300\n",
            "2/2 [==============================] - 0s 17ms/step - loss: 1216.0284\n",
            "Epoch 256/300\n",
            "2/2 [==============================] - 0s 13ms/step - loss: 1213.7279\n",
            "Epoch 257/300\n",
            "2/2 [==============================] - 0s 11ms/step - loss: 1162.7570\n",
            "Epoch 258/300\n",
            "2/2 [==============================] - 0s 17ms/step - loss: 1197.9584\n",
            "Epoch 259/300\n",
            "2/2 [==============================] - 0s 14ms/step - loss: 1201.6672\n",
            "Epoch 260/300\n",
            "2/2 [==============================] - 0s 13ms/step - loss: 1221.2422\n",
            "Epoch 261/300\n",
            "2/2 [==============================] - 0s 11ms/step - loss: 1220.8339\n",
            "Epoch 262/300\n",
            "2/2 [==============================] - 0s 12ms/step - loss: 1199.2972\n",
            "Epoch 263/300\n",
            "2/2 [==============================] - 0s 12ms/step - loss: 1161.1016\n",
            "Epoch 264/300\n",
            "2/2 [==============================] - 0s 9ms/step - loss: 1139.9252\n",
            "Epoch 265/300\n",
            "2/2 [==============================] - 0s 12ms/step - loss: 1092.5126\n",
            "Epoch 266/300\n",
            "2/2 [==============================] - 0s 11ms/step - loss: 1073.0465\n",
            "Epoch 267/300\n",
            "2/2 [==============================] - 0s 12ms/step - loss: 1173.1923\n",
            "Epoch 268/300\n",
            "2/2 [==============================] - 0s 12ms/step - loss: 1137.0140\n",
            "Epoch 269/300\n",
            "2/2 [==============================] - 0s 12ms/step - loss: 992.2762\n",
            "Epoch 270/300\n",
            "2/2 [==============================] - 0s 10ms/step - loss: 1081.3225\n",
            "Epoch 271/300\n",
            "2/2 [==============================] - 0s 11ms/step - loss: 1020.5325\n",
            "Epoch 272/300\n",
            "2/2 [==============================] - 0s 18ms/step - loss: 1062.2129\n",
            "Epoch 273/300\n",
            "2/2 [==============================] - 0s 12ms/step - loss: 985.6512\n",
            "Epoch 274/300\n",
            "2/2 [==============================] - 0s 12ms/step - loss: 1082.9694\n",
            "Epoch 275/300\n",
            "2/2 [==============================] - 0s 10ms/step - loss: 1008.1436\n",
            "Epoch 276/300\n",
            "2/2 [==============================] - 0s 17ms/step - loss: 1018.1720\n",
            "Epoch 277/300\n",
            "2/2 [==============================] - 0s 12ms/step - loss: 1030.1462\n",
            "Epoch 278/300\n",
            "2/2 [==============================] - 0s 12ms/step - loss: 954.5945\n",
            "Epoch 279/300\n",
            "2/2 [==============================] - 0s 11ms/step - loss: 965.8558\n",
            "Epoch 280/300\n",
            "2/2 [==============================] - 0s 12ms/step - loss: 958.2964\n",
            "Epoch 281/300\n",
            "2/2 [==============================] - 0s 12ms/step - loss: 965.7227\n",
            "Epoch 282/300\n",
            "2/2 [==============================] - 0s 14ms/step - loss: 963.3757\n",
            "Epoch 283/300\n",
            "2/2 [==============================] - 0s 12ms/step - loss: 974.8064\n",
            "Epoch 284/300\n",
            "2/2 [==============================] - 0s 17ms/step - loss: 968.4554\n",
            "Epoch 285/300\n",
            "2/2 [==============================] - 0s 12ms/step - loss: 1030.9545\n",
            "Epoch 286/300\n",
            "2/2 [==============================] - 0s 13ms/step - loss: 1099.3187\n",
            "Epoch 287/300\n",
            "2/2 [==============================] - 0s 14ms/step - loss: 1115.5018\n",
            "Epoch 288/300\n",
            "2/2 [==============================] - 0s 14ms/step - loss: 1061.7551\n",
            "Epoch 289/300\n",
            "2/2 [==============================] - 0s 13ms/step - loss: 973.2711\n",
            "Epoch 290/300\n",
            "2/2 [==============================] - 0s 12ms/step - loss: 1092.2784\n",
            "Epoch 291/300\n",
            "2/2 [==============================] - 0s 13ms/step - loss: 1075.9475\n",
            "Epoch 292/300\n",
            "2/2 [==============================] - 0s 11ms/step - loss: 1010.0057\n",
            "Epoch 293/300\n",
            "2/2 [==============================] - 0s 16ms/step - loss: 1003.5379\n",
            "Epoch 294/300\n",
            "2/2 [==============================] - 0s 9ms/step - loss: 992.4205\n",
            "Epoch 295/300\n",
            "2/2 [==============================] - 0s 14ms/step - loss: 946.3518\n",
            "Epoch 296/300\n",
            "2/2 [==============================] - 0s 13ms/step - loss: 1050.2014\n",
            "Epoch 297/300\n",
            "2/2 [==============================] - 0s 16ms/step - loss: 1051.6504\n",
            "Epoch 298/300\n",
            "2/2 [==============================] - 0s 11ms/step - loss: 948.5881\n",
            "Epoch 299/300\n",
            "2/2 [==============================] - 0s 12ms/step - loss: 1114.9774\n",
            "Epoch 300/300\n",
            "2/2 [==============================] - 0s 14ms/step - loss: 1128.4078\n"
          ]
        }
      ]
    },
    {
      "cell_type": "code",
      "source": [
        "model.summary()"
      ],
      "metadata": {
        "colab": {
          "base_uri": "https://localhost:8080/",
          "height": 0
        },
        "id": "2SuJWPlCZumZ",
        "outputId": "5af65b04-87f1-4925-f4ca-768f2a5fbefb"
      },
      "execution_count": 17,
      "outputs": [
        {
          "output_type": "stream",
          "name": "stdout",
          "text": [
            "Model: \"sequential_1\"\n",
            "_________________________________________________________________\n",
            " Layer (type)                Output Shape              Param #   \n",
            "=================================================================\n",
            " lstm_2 (LSTM)               (None, 3, 50)             10400     \n",
            "                                                                 \n",
            " lstm_3 (LSTM)               (None, 50)                20200     \n",
            "                                                                 \n",
            " dense_1 (Dense)             (None, 1)                 51        \n",
            "                                                                 \n",
            "=================================================================\n",
            "Total params: 30,651\n",
            "Trainable params: 30,651\n",
            "Non-trainable params: 0\n",
            "_________________________________________________________________\n"
          ]
        }
      ]
    },
    {
      "cell_type": "code",
      "source": [
        "dot_img_file = '/tmp/model_1.png'\n",
        "tf.keras.utils.plot_model(model, to_file=dot_img_file, show_shapes=True)"
      ],
      "metadata": {
        "colab": {
          "base_uri": "https://localhost:8080/",
          "height": 422
        },
        "id": "xUuioTGgaDZj",
        "outputId": "58c03d64-eeb1-40e3-ba80-dcf6ed888564"
      },
      "execution_count": 18,
      "outputs": [
        {
          "output_type": "execute_result",
          "data": {
            "image/png": "[encoded data removed]",
            "text/plain": [
              "<IPython.core.display.Image object>"
            ]
          },
          "metadata": {},
          "execution_count": 18
        }
      ]
    },
    {
      "cell_type": "code",
      "source": [
        "# 4. Evaluate Model\n",
        "loss = model.evaluate(X, y)\n",
        "print(\"Loss is\", loss)\n",
        "history_df = pd.DataFrame(history.history)\n",
        "history_df.loc[:, ['loss']].plot(title=\"Mean Squared Error\");"
      ],
      "metadata": {
        "colab": {
          "base_uri": "https://localhost:8080/",
          "height": 316
        },
        "id": "ef79hvDza3O2",
        "outputId": "05cc2cb4-29be-49ee-9d91-fccc9ee27193"
      },
      "execution_count": 19,
      "outputs": [
        {
          "output_type": "stream",
          "name": "stdout",
          "text": [
            "2/2 [==============================] - 0s 7ms/step - loss: 1087.6599\n",
            "Loss is 1087.659912109375\n"
          ]
        },
        {
          "output_type": "display_data",
          "data": {
            "text/plain": [
              "<Figure size 432x288 with 1 Axes>"
            ],
            "image/png": "[encoded data removed]"
          },
          "metadata": {
            "needs_background": "light"
          }
        }
      ]
    },
    {
      "cell_type": "markdown",
      "source": [
        "## <font color='green'>**8. Prediction using LSTM_RNN Model**</font>\n",
        "#### <font color='magenta'>**LSTM_RNN model prediction using test data**</font>"
      ],
      "metadata": {
        "id": "hfKrVIZFZTcV"
      }
    },
    {
      "cell_type": "code",
      "source": [
        "train_predict= model.predict(X)\n",
        "test_predict= model.predict(X_test)"
      ],
      "metadata": {
        "colab": {
          "base_uri": "https://localhost:8080/",
          "height": 0
        },
        "id": "Zg02DXnwBap9",
        "outputId": "a1bfeaa3-d07c-4b62-d8c5-77c9b98d7788"
      },
      "execution_count": 20,
      "outputs": [
        {
          "output_type": "stream",
          "name": "stdout",
          "text": [
            "2/2 [==============================] - 0s 7ms/step\n",
            "1/1 [==============================] - 0s 20ms/step\n"
          ]
        }
      ]
    },
    {
      "cell_type": "code",
      "source": [
        "def print_error(y, y_test, train_predict, test_predict):\n",
        "  train_rmse= math.sqrt(mean_squared_error(y, train_predict))\n",
        "  train_mae = mean_absolute_error(y, train_predict)\n",
        "\n",
        "  test_rmse= math.sqrt(mean_squared_error(y_test, test_predict))\n",
        "  test_mae = mean_absolute_error(y_test, test_predict)\n",
        "  print('Training Mean Absolute Error', train_mae)\n",
        "  print('Testing Mean Absolute Error', test_mae)\n",
        "  print('Train RMSE : ', train_rmse)\n",
        "  print('Test RMSE :', test_rmse)"
      ],
      "metadata": {
        "id": "fk6I9rpRDLk7"
      },
      "execution_count": 21,
      "outputs": []
    },
    {
      "cell_type": "code",
      "source": [
        "print_error(y, y_test, train_predict, test_predict)"
      ],
      "metadata": {
        "colab": {
          "base_uri": "https://localhost:8080/",
          "height": 0
        },
        "id": "OEojYTXyDTiy",
        "outputId": "39047cb6-ef3b-4568-dc1d-1d993b95462b"
      },
      "execution_count": 22,
      "outputs": [
        {
          "output_type": "stream",
          "name": "stdout",
          "text": [
            "Training Mean Absolute Error 20.99130605061849\n",
            "Testing Mean Absolute Error 13.397559532752403\n",
            "Train RMSE :  32.97968887420218\n",
            "Test RMSE : 15.661478802704544\n"
          ]
        }
      ]
    },
    {
      "cell_type": "code",
      "source": [
        "model_evaluation(y, train_predict, 'LSTM_RNN for Train data')"
      ],
      "metadata": {
        "colab": {
          "base_uri": "https://localhost:8080/",
          "height": 849
        },
        "id": "bCPkiLcSWyVm",
        "outputId": "42a263a8-c563-4208-f121-fb4300590bcf"
      },
      "execution_count": 23,
      "outputs": [
        {
          "output_type": "stream",
          "name": "stdout",
          "text": [
            "\n",
            " Model Evaluation Report: \n",
            "Mean Absolute Error(MAE) of LSTM_RNN for Train data : 20.99130605061849\n",
            "Mean Squared Error(MSE) of LSTM_RNN for Train data : 1087.6598782391752\n",
            "Root Mean Squared Error (RMSE) of LSTM_RNN for Train data : 32.97968887420218\n",
            "\n",
            "\n",
            "\n",
            "\n"
          ]
        },
        {
          "output_type": "display_data",
          "data": {
            "text/plain": [
              "<Figure size 750x400 with 1 Axes>"
            ],
            "image/png": "[encoded data removed]"
          },
          "metadata": {
            "needs_background": "light"
          }
        },
        {
          "output_type": "display_data",
          "data": {
            "text/plain": [
              "<Figure size 750x400 with 1 Axes>"
            ],
            "image/png": "[encoded data removed]"
          },
          "metadata": {
            "needs_background": "light"
          }
        }
      ]
    },
    {
      "cell_type": "code",
      "source": [
        "model_evaluation(y_test, test_predict, 'LSTM_RNN for test data')"
      ],
      "metadata": {
        "colab": {
          "base_uri": "https://localhost:8080/",
          "height": 849
        },
        "id": "vNaT-itBv1_A",
        "outputId": "a232993e-f215-4b76-9c55-9ae308a7bfde"
      },
      "execution_count": 24,
      "outputs": [
        {
          "output_type": "stream",
          "name": "stdout",
          "text": [
            "\n",
            " Model Evaluation Report: \n",
            "Mean Absolute Error(MAE) of LSTM_RNN for test data : 13.397559532752403\n",
            "Mean Squared Error(MSE) of LSTM_RNN for test data : 245.28191828756377\n",
            "Root Mean Squared Error (RMSE) of LSTM_RNN for test data : 15.661478802704544\n",
            "\n",
            "\n",
            "\n",
            "\n"
          ]
        },
        {
          "output_type": "display_data",
          "data": {
            "text/plain": [
              "<Figure size 750x400 with 1 Axes>"
            ],
            "image/png": "[encoded data removed]"
          },
          "metadata": {
            "needs_background": "light"
          }
        },
        {
          "output_type": "display_data",
          "data": {
            "text/plain": [
              "<Figure size 750x400 with 1 Axes>"
            ],
            "image/png": "[encoded data removed]"
          },
          "metadata": {
            "needs_background": "light"
          }
        }
      ]
    },
    {
      "cell_type": "code",
      "source": [
        "train_data.tail()"
      ],
      "metadata": {
        "colab": {
          "base_uri": "https://localhost:8080/",
          "height": 0
        },
        "id": "Pjelup2N1VXL",
        "outputId": "258e674c-81bc-4392-f3fa-3022ca59f880"
      },
      "execution_count": 25,
      "outputs": [
        {
          "output_type": "execute_result",
          "data": {
            "text/plain": [
              "58    640\n",
              "59    609\n",
              "60    606\n",
              "61    632\n",
              "62    617\n",
              "Name: Water, dtype: int64"
            ]
          },
          "metadata": {},
          "execution_count": 25
        }
      ]
    },
    {
      "cell_type": "code",
      "source": [
        "train_data[-3:].tolist()"
      ],
      "metadata": {
        "colab": {
          "base_uri": "https://localhost:8080/",
          "height": 0
        },
        "id": "XUFyUFjk6vU6",
        "outputId": "beffc5cb-ae2f-4cbf-d6ac-d037bb1c3691"
      },
      "execution_count": 26,
      "outputs": [
        {
          "output_type": "execute_result",
          "data": {
            "text/plain": [
              "[606, 632, 617]"
            ]
          },
          "metadata": {},
          "execution_count": 26
        }
      ]
    },
    {
      "cell_type": "markdown",
      "source": [
        "#### <font color='magenta'>**LSTM_RNN model prediction using while loop**</font>"
      ],
      "metadata": {
        "id": "jtTTRLo9CjBt"
      }
    },
    {
      "cell_type": "code",
      "source": [
        "#x_input= np.array(X[-1:])\n",
        "#x_input= X[-1:]\n",
        "x_input= np.array(train_data[-3:].tolist())\n",
        "temp= list(x_input)\n",
        "\n",
        "output=[]\n",
        "i=62\n",
        "while i<78:\n",
        "  if len(temp)>3:\n",
        "    x_input= np.array(temp[1:])\n",
        "    print(\"Day {} input is {}\". format(i+1, x_input))\n",
        "    x_input= x_input.reshape((1,n_steps, n_features)) \n",
        "    ypred= model.predict(x_input, verbose=0)\n",
        "    print(\"Day {} output is {}\". format(i+1, ypred))\n",
        "    temp.append(ypred[0][0])\n",
        "    temp=temp[1:]\n",
        "    output.append(ypred[0][0])\n",
        "    i=i+1\n",
        "\n",
        "  else:\n",
        "    print(\"Day 63 input is\", x_input)\n",
        "    x_input= x_input.reshape((1,n_steps, n_features))\n",
        "    ypred= model.predict(x_input, verbose=0)\n",
        "    print(\"Day 63 output is\", ypred[0])\n",
        "    temp.append(ypred[0][0])\n",
        "    output.append(ypred[0][0])\n",
        "    i=i+1"
      ],
      "metadata": {
        "colab": {
          "base_uri": "https://localhost:8080/",
          "height": 0
        },
        "id": "4g0_KZuF0Ny-",
        "outputId": "955ae608-ba10-4010-a2cb-8a320012e7ab"
      },
      "execution_count": 27,
      "outputs": [
        {
          "output_type": "stream",
          "name": "stdout",
          "text": [
            "Day 63 input is [606 632 617]\n",
            "Day 63 output is [627.2789]\n",
            "Day 64 input is [632.         617.         627.27886963]\n",
            "Day 64 output is [[637.86646]]\n",
            "Day 65 input is [617.         627.27886963 637.86645508]\n",
            "Day 65 output is [[635.72534]]\n",
            "Day 66 input is [627.2789  637.86646 635.72534]\n",
            "Day 66 output is [[643.478]]\n",
            "Day 67 input is [637.86646 635.72534 643.478  ]\n",
            "Day 67 output is [[649.6124]]\n",
            "Day 68 input is [635.72534 643.478   649.6124 ]\n",
            "Day 68 output is [[652.0566]]\n",
            "Day 69 input is [643.478  649.6124 652.0566]\n",
            "Day 69 output is [[658.1458]]\n",
            "Day 70 input is [649.6124 652.0566 658.1458]\n",
            "Day 70 output is [[663.081]]\n",
            "Day 71 input is [652.0566 658.1458 663.081 ]\n",
            "Day 71 output is [[667.0485]]\n",
            "Day 72 input is [658.1458 663.081  667.0485]\n",
            "Day 72 output is [[672.2727]]\n",
            "Day 73 input is [663.081  667.0485 672.2727]\n",
            "Day 73 output is [[676.89594]]\n",
            "Day 74 input is [667.0485  672.2727  676.89594]\n",
            "Day 74 output is [[681.29767]]\n",
            "Day 75 input is [672.2727  676.89594 681.29767]\n",
            "Day 75 output is [[686.09686]]\n",
            "Day 76 input is [676.89594 681.29767 686.09686]\n",
            "Day 76 output is [[690.615]]\n",
            "Day 77 input is [681.29767 686.09686 690.615  ]\n",
            "Day 77 output is [[695.088]]\n",
            "Day 78 input is [686.09686 690.615   695.088  ]\n",
            "Day 78 output is [[699.66626]]\n"
          ]
        }
      ]
    },
    {
      "cell_type": "code",
      "source": [
        "output"
      ],
      "metadata": {
        "colab": {
          "base_uri": "https://localhost:8080/",
          "height": 0
        },
        "id": "CkFRT_tJ3ido",
        "outputId": "f21a2895-d541-4369-cab5-1426a705a3f9"
      },
      "execution_count": 28,
      "outputs": [
        {
          "output_type": "execute_result",
          "data": {
            "text/plain": [
              "[627.2789,\n",
              " 637.86646,\n",
              " 635.72534,\n",
              " 643.478,\n",
              " 649.6124,\n",
              " 652.0566,\n",
              " 658.1458,\n",
              " 663.081,\n",
              " 667.0485,\n",
              " 672.2727,\n",
              " 676.89594,\n",
              " 681.29767,\n",
              " 686.09686,\n",
              " 690.615,\n",
              " 695.088,\n",
              " 699.66626]"
            ]
          },
          "metadata": {},
          "execution_count": 28
        }
      ]
    },
    {
      "cell_type": "code",
      "source": [
        "days= np.arange(63,79)\n",
        "plt.plot(days, output, color = 'limegreen', label= 'Predicted values');\n",
        "plt.plot(days, test_data, color = 'red', label = 'Original data')\n",
        "plt.legend(loc='best')\n",
        "plt.title(f'Actual vs Predicted for LSTM_RNN')\n",
        "plt.show();"
      ],
      "metadata": {
        "colab": {
          "base_uri": "https://localhost:8080/",
          "height": 281
        },
        "id": "VeHklbpk3opz",
        "outputId": "61b6ea24-ec3c-4b8e-ce19-83fb86b05898"
      },
      "execution_count": 29,
      "outputs": [
        {
          "output_type": "display_data",
          "data": {
            "text/plain": [
              "<Figure size 432x288 with 1 Axes>"
            ],
            "image/png": "[encoded data removed]"
          },
          "metadata": {
            "needs_background": "light"
          }
        }
      ]
    },
    {
      "cell_type": "code",
      "source": [
        "y_test"
      ],
      "metadata": {
        "colab": {
          "base_uri": "https://localhost:8080/",
          "height": 0
        },
        "id": "uGZtYUi6Ako5",
        "outputId": "97b38879-0f06-45dd-d51c-02dd0c2b5027"
      },
      "execution_count": 30,
      "outputs": [
        {
          "output_type": "execute_result",
          "data": {
            "text/plain": [
              "array([564, 549, 538, 568, 575, 579, 587, 602, 594, 587, 587, 625, 613])"
            ]
          },
          "metadata": {},
          "execution_count": 30
        }
      ]
    },
    {
      "cell_type": "code",
      "source": [
        "model_evaluation(y_test, output[3:], 'LSTM_RNN for test data using while loop')"
      ],
      "metadata": {
        "colab": {
          "base_uri": "https://localhost:8080/",
          "height": 849
        },
        "id": "E_pSNG13AaZ6",
        "outputId": "3caef361-5a47-494f-edcc-c2dc8f2b97bd"
      },
      "execution_count": 31,
      "outputs": [
        {
          "output_type": "stream",
          "name": "stdout",
          "text": [
            "\n",
            " Model Evaluation Report: \n",
            "Mean Absolute Error(MAE) of LSTM_RNN for test data using while loop : 89.79652287409856\n",
            "Mean Squared Error(MSE) of LSTM_RNN for test data using while loop : 8197.45652243237\n",
            "Root Mean Squared Error (RMSE) of LSTM_RNN for test data using while loop : 90.53980628669564\n",
            "\n",
            "\n",
            "\n",
            "\n"
          ]
        },
        {
          "output_type": "display_data",
          "data": {
            "text/plain": [
              "<Figure size 750x400 with 1 Axes>"
            ],
            "image/png": "[encoded data removed]"
          },
          "metadata": {
            "needs_background": "light"
          }
        },
        {
          "output_type": "display_data",
          "data": {
            "text/plain": [
              "<Figure size 750x400 with 1 Axes>"
            ],
            "image/png": "[encoded data removed]"
          },
          "metadata": {
            "needs_background": "light"
          }
        }
      ]
    }
  ]
}