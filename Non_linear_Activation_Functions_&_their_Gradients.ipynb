{
  "nbformat": 4,
  "nbformat_minor": 0,
  "metadata": {
    "colab": {
      "provenance": [],
      "authorship_tag": "ABX9TyNEghSXrdX1y8/53xTdObbO"
    },
    "kernelspec": {
      "name": "python3",
      "display_name": "Python 3"
    },
    "language_info": {
      "name": "python"
    }
  },
  "cells": [
    {
      "cell_type": "markdown",
      "source": [
        "# **Non-linear Activation Functions & their Gradients**"
      ],
      "metadata": {
        "id": "4kpKFnHgKTLp"
      }
    },
    {
      "cell_type": "markdown",
      "source": [
        ">[Non-linear Activation Functions & their Gradients](#updateTitle=true&folderId=1PRnBShZKV1SGfqZW-SSjl2iu90JnbgeN&scrollTo=4kpKFnHgKTLp)\n",
        "\n",
        ">>[Sigmoid Activation Function & its Derivative](#updateTitle=true&folderId=1PRnBShZKV1SGfqZW-SSjl2iu90JnbgeN&scrollTo=1Hhwrm2LKaxX)\n",
        "\n",
        ">>[Hyperbolic Tangent (Tanh) Activation Function & its Derivative](#updateTitle=true&folderId=1PRnBShZKV1SGfqZW-SSjl2iu90JnbgeN&scrollTo=m_8v9oSTtaLe)\n",
        "\n",
        ">>[Rectified Linear Unit (ReLU) Activation Function & its Derivative](#updateTitle=true&folderId=1PRnBShZKV1SGfqZW-SSjl2iu90JnbgeN&scrollTo=W3yOT2u7K0ZH)\n",
        "\n",
        ">>[Leaky - Rectified Linear Unit (ReLU) Activation Function & its Derivative](#updateTitle=true&folderId=1PRnBShZKV1SGfqZW-SSjl2iu90JnbgeN&scrollTo=Hp6cTgEGLGGN)\n",
        "\n"
      ],
      "metadata": {
        "colab_type": "toc",
        "id": "Ce9cxsPbU0sD"
      }
    },
    {
      "cell_type": "markdown",
      "source": [
        "<img src = https://miro.medium.com/max/786/1*R2e5_A-hD3VB3B1wv3qaQA.webp width = \"400\" height = \"300\" >\n",
        "<img src = https://upscfever.com/upsc-fever/en/data/deeplearning/images/relu-leaky-relu-derivative.png width = \"500\" height = \"250\" >"
      ],
      "metadata": {
        "id": "Gr-7tjSdTnRW"
      }
    },
    {
      "cell_type": "markdown",
      "source": [
        "## **Sigmoid Activation Function & its Derivative**\n",
        "Sigmoid Activation function takes a real value as input and gives probability output between 0 or 1. It looks like ‘S’ shape. It’s non-linear, differentiable, monotonic, and has a fixed output range from 0 to 1.\n",
        "The equation of sigmoid function is:\n",
        "$$\\sigma(x) = \\frac {1}{1 + e^{(-x)}} $$\n",
        "\n",
        "Derivative is: \n",
        "\n",
        "$$\\sigma'(x) = \\sigma(x)(1 - \\sigma(x)) $$\n"
      ],
      "metadata": {
        "id": "1Hhwrm2LKaxX"
      }
    },
    {
      "cell_type": "code",
      "source": [
        "import numpy as np"
      ],
      "metadata": {
        "id": "fmtLYQqQreNj"
      },
      "execution_count": 1,
      "outputs": []
    },
    {
      "cell_type": "code",
      "source": [
        "# sigmoid function\n",
        "def sigmoid(x):\n",
        "\treturn (np.exp(x)) / (np.exp(x) + 1)\n",
        "# Derivative of Sigmoid Activation Function\n",
        "def sigmoid_prime(x):\n",
        "\treturn sigmoid(x)*(1-sigmoid(x))"
      ],
      "metadata": {
        "id": "wyz0HcoS3SG3"
      },
      "execution_count": 2,
      "outputs": []
    },
    {
      "cell_type": "code",
      "source": [
        "sigmoid(-10)"
      ],
      "metadata": {
        "colab": {
          "base_uri": "https://localhost:8080/"
        },
        "id": "CKOzyc3Q4M_e",
        "outputId": "dae75564-d019-4c37-f141-1c9693187672"
      },
      "execution_count": 3,
      "outputs": [
        {
          "output_type": "execute_result",
          "data": {
            "text/plain": [
              "4.5397868702434395e-05"
            ]
          },
          "metadata": {},
          "execution_count": 3
        }
      ]
    },
    {
      "cell_type": "code",
      "source": [
        "sigmoid_prime(-10)"
      ],
      "metadata": {
        "colab": {
          "base_uri": "https://localhost:8080/"
        },
        "id": "PY87jFIq4Dri",
        "outputId": "7b9d168a-e487-49f6-ead2-f0751e422f0f"
      },
      "execution_count": 4,
      "outputs": [
        {
          "output_type": "execute_result",
          "data": {
            "text/plain": [
              "4.5395807735951673e-05"
            ]
          },
          "metadata": {},
          "execution_count": 4
        }
      ]
    },
    {
      "cell_type": "code",
      "source": [
        "sigmoid_prime(-1)"
      ],
      "metadata": {
        "colab": {
          "base_uri": "https://localhost:8080/"
        },
        "id": "kjblv-C05Pjr",
        "outputId": "0eb3b7f7-05ca-4ea5-f778-7332ce3fa5c9"
      },
      "execution_count": 5,
      "outputs": [
        {
          "output_type": "execute_result",
          "data": {
            "text/plain": [
              "0.19661193324148185"
            ]
          },
          "metadata": {},
          "execution_count": 5
        }
      ]
    },
    {
      "cell_type": "code",
      "source": [
        "sigmoid_prime(0)"
      ],
      "metadata": {
        "colab": {
          "base_uri": "https://localhost:8080/"
        },
        "id": "QvL4YP9N5WXW",
        "outputId": "b97423aa-0080-407d-e30d-124729868fd1"
      },
      "execution_count": 6,
      "outputs": [
        {
          "output_type": "execute_result",
          "data": {
            "text/plain": [
              "0.25"
            ]
          },
          "metadata": {},
          "execution_count": 6
        }
      ]
    },
    {
      "cell_type": "code",
      "source": [
        "sigmoid_prime(1)"
      ],
      "metadata": {
        "colab": {
          "base_uri": "https://localhost:8080/"
        },
        "id": "ARKk0V3R5R0W",
        "outputId": "58e376af-ffd4-4cc9-ccde-011155c71150"
      },
      "execution_count": 7,
      "outputs": [
        {
          "output_type": "execute_result",
          "data": {
            "text/plain": [
              "0.19661193324148185"
            ]
          },
          "metadata": {},
          "execution_count": 7
        }
      ]
    },
    {
      "cell_type": "code",
      "source": [
        "sigmoid_prime(10)"
      ],
      "metadata": {
        "colab": {
          "base_uri": "https://localhost:8080/"
        },
        "id": "AItVxSAO5UQg",
        "outputId": "76aa4707-4f63-4c76-fe41-e4c6d8a9ab73"
      },
      "execution_count": 8,
      "outputs": [
        {
          "output_type": "execute_result",
          "data": {
            "text/plain": [
              "4.5395807735907655e-05"
            ]
          },
          "metadata": {},
          "execution_count": 8
        }
      ]
    },
    {
      "cell_type": "markdown",
      "source": [
        "Sigmoid derivatives are always positive. So Sigmoid function is monotonic.\n",
        "![Sigmoid function & its derivative](https://i.stack.imgur.com/QdlcW.jpg)"
      ],
      "metadata": {
        "id": "KSnNQWizHZpb"
      }
    },
    {
      "cell_type": "markdown",
      "source": [
        "## **Hyperbolic Tangent (Tanh) Activation Function & its Derivative**\n",
        "\n",
        "The tanh function, also known as the hyperbolic tangent function, is a non-linear function that takes in a real number and returns a value between -1 and 1. Since the derivative of the function can be calculated, this function is differentiable. Hence, tanh is a non-linear differentiable function as mathematically shown below:\n",
        "$$\\tanh(x) = \\frac {e^{(x)} - e^{(-x)}}{e^{(x)} + e^{(-x)}} $$\n",
        "\n",
        "Derivative is: \n",
        "\n",
        "$$\\tanh'(x) = 1 - (tanh(x))^2) $$\n"
      ],
      "metadata": {
        "id": "m_8v9oSTtaLe"
      }
    },
    {
      "cell_type": "code",
      "execution_count": 9,
      "metadata": {
        "id": "R9WdZHhmrQMU"
      },
      "outputs": [],
      "source": [
        "# tanh activation function\n",
        "def tanh(x):\n",
        "\treturn (np.exp(x) - np.exp(-x)) / (np.exp(x) + np.exp(-x))\n",
        "# Derivative of Tanh Activation Function\n",
        "def tanh_derivative(x):\n",
        "\treturn 1 - np.power(tanh(x), 2)"
      ]
    },
    {
      "cell_type": "code",
      "source": [
        "tanh_derivative(-10)"
      ],
      "metadata": {
        "colab": {
          "base_uri": "https://localhost:8080/"
        },
        "id": "ArtNrebsrSZQ",
        "outputId": "00435d3a-58a1-4987-a215-7375c74facad"
      },
      "execution_count": 10,
      "outputs": [
        {
          "output_type": "execute_result",
          "data": {
            "text/plain": [
              "8.244614768671e-09"
            ]
          },
          "metadata": {},
          "execution_count": 10
        }
      ]
    },
    {
      "cell_type": "code",
      "source": [
        "tanh_derivative(-1)"
      ],
      "metadata": {
        "colab": {
          "base_uri": "https://localhost:8080/"
        },
        "id": "xCrmMuE0uhX3",
        "outputId": "2f67416e-8e03-4f39-aee4-5dd7bc95164c"
      },
      "execution_count": 11,
      "outputs": [
        {
          "output_type": "execute_result",
          "data": {
            "text/plain": [
              "0.41997434161402614"
            ]
          },
          "metadata": {},
          "execution_count": 11
        }
      ]
    },
    {
      "cell_type": "code",
      "source": [
        "tanh_derivative(0)"
      ],
      "metadata": {
        "colab": {
          "base_uri": "https://localhost:8080/"
        },
        "id": "y8mQPMnAyvxV",
        "outputId": "c93d2115-536f-4c5b-8a63-e64bced0f534"
      },
      "execution_count": 12,
      "outputs": [
        {
          "output_type": "execute_result",
          "data": {
            "text/plain": [
              "1.0"
            ]
          },
          "metadata": {},
          "execution_count": 12
        }
      ]
    },
    {
      "cell_type": "code",
      "source": [
        "tanh_derivative(1)"
      ],
      "metadata": {
        "colab": {
          "base_uri": "https://localhost:8080/"
        },
        "id": "TEQSacXhyr91",
        "outputId": "83d4db8a-2804-4341-c3f6-59a2a67d528d"
      },
      "execution_count": 13,
      "outputs": [
        {
          "output_type": "execute_result",
          "data": {
            "text/plain": [
              "0.41997434161402614"
            ]
          },
          "metadata": {},
          "execution_count": 13
        }
      ]
    },
    {
      "cell_type": "code",
      "source": [
        "tanh_derivative(10)"
      ],
      "metadata": {
        "colab": {
          "base_uri": "https://localhost:8080/"
        },
        "id": "LI1SMO-KrSr-",
        "outputId": "db971df4-5685-4f5e-9f27-780a9cbc9446"
      },
      "execution_count": 14,
      "outputs": [
        {
          "output_type": "execute_result",
          "data": {
            "text/plain": [
              "8.244614768671e-09"
            ]
          },
          "metadata": {},
          "execution_count": 14
        }
      ]
    },
    {
      "cell_type": "markdown",
      "source": [
        "Tanh derivatives are always positive. So hyperbolic tangent function is monotonic.\n",
        "![Tanh function and its derivative](https://www.researchgate.net/profile/Rajan-Chaudhari-4/publication/341172494/figure/fig1/AS:888014863601664@1588730650039/Activation-function-based-on-the-Tanh-function-tanhx-and-its-derivative-tanhx.png)\n"
      ],
      "metadata": {
        "id": "5Y8Y_HRyHplh"
      }
    },
    {
      "cell_type": "markdown",
      "source": [
        "## **Rectified Linear Unit (ReLU) Activation Function & its Derivative**\n",
        "This is most popular activation function which is used in hidden layer of neural networks. The rectifier function has a graph that's a line with the negative part \"rectified\" to zero. A neuron with a rectifier attached is called a rectified linear unit.  The formula is: 𝑚𝑎𝑥 (0, 𝑧 = w*x+b). "
      ],
      "metadata": {
        "id": "W3yOT2u7K0ZH"
      }
    },
    {
      "cell_type": "code",
      "source": [
        "# ReLU activation function\n",
        "def relu(𝑧):\n",
        "  return max(0, 𝑧)\n",
        "# Derivative of ReLU Activation Function\n",
        "def relu_derivative(𝑧):\n",
        "  return 1 if 𝑧 > 0 else 0"
      ],
      "metadata": {
        "id": "d0fouOiUFemY"
      },
      "execution_count": 15,
      "outputs": []
    },
    {
      "cell_type": "code",
      "source": [
        "relu(-10)"
      ],
      "metadata": {
        "colab": {
          "base_uri": "https://localhost:8080/"
        },
        "id": "V3_mTr-WFz0S",
        "outputId": "df2d0ecd-48b5-44c7-ca49-85fa75681e55"
      },
      "execution_count": 16,
      "outputs": [
        {
          "output_type": "execute_result",
          "data": {
            "text/plain": [
              "0"
            ]
          },
          "metadata": {},
          "execution_count": 16
        }
      ]
    },
    {
      "cell_type": "code",
      "source": [
        "relu(-1)"
      ],
      "metadata": {
        "colab": {
          "base_uri": "https://localhost:8080/"
        },
        "id": "n9O-FhjnF3Uh",
        "outputId": "36b49ce2-f7b3-4e22-a1c7-daec6c786763"
      },
      "execution_count": 17,
      "outputs": [
        {
          "output_type": "execute_result",
          "data": {
            "text/plain": [
              "0"
            ]
          },
          "metadata": {},
          "execution_count": 17
        }
      ]
    },
    {
      "cell_type": "code",
      "source": [
        "relu(1)"
      ],
      "metadata": {
        "colab": {
          "base_uri": "https://localhost:8080/"
        },
        "id": "_Y1Pr8_0F6ql",
        "outputId": "26bd04a0-0a6f-4832-a9ff-9513951ad7bf"
      },
      "execution_count": 18,
      "outputs": [
        {
          "output_type": "execute_result",
          "data": {
            "text/plain": [
              "1"
            ]
          },
          "metadata": {},
          "execution_count": 18
        }
      ]
    },
    {
      "cell_type": "code",
      "source": [
        "relu(10)"
      ],
      "metadata": {
        "colab": {
          "base_uri": "https://localhost:8080/"
        },
        "id": "G3RixC9vF9zQ",
        "outputId": "5f2c9fe8-8449-4b2c-8bd2-6f11eee94f5d"
      },
      "execution_count": 19,
      "outputs": [
        {
          "output_type": "execute_result",
          "data": {
            "text/plain": [
              "10"
            ]
          },
          "metadata": {},
          "execution_count": 19
        }
      ]
    },
    {
      "cell_type": "code",
      "source": [
        "relu_derivative(-10)"
      ],
      "metadata": {
        "colab": {
          "base_uri": "https://localhost:8080/"
        },
        "id": "kSA2IML4Fnb8",
        "outputId": "c10a75e3-9ddc-4c6d-8d00-f0ed0dfdf1ab"
      },
      "execution_count": 20,
      "outputs": [
        {
          "output_type": "execute_result",
          "data": {
            "text/plain": [
              "0"
            ]
          },
          "metadata": {},
          "execution_count": 20
        }
      ]
    },
    {
      "cell_type": "code",
      "source": [
        "relu_derivative(-1)"
      ],
      "metadata": {
        "colab": {
          "base_uri": "https://localhost:8080/"
        },
        "id": "qvBr0km0Frsa",
        "outputId": "1ffd4466-0ee8-41c7-9be3-8741107085e9"
      },
      "execution_count": 21,
      "outputs": [
        {
          "output_type": "execute_result",
          "data": {
            "text/plain": [
              "0"
            ]
          },
          "metadata": {},
          "execution_count": 21
        }
      ]
    },
    {
      "cell_type": "code",
      "source": [
        "relu_derivative(1)"
      ],
      "metadata": {
        "colab": {
          "base_uri": "https://localhost:8080/"
        },
        "id": "wIBS5JGkFtmM",
        "outputId": "7fd4261b-f7d1-4422-ff77-f9dcb084d897"
      },
      "execution_count": 22,
      "outputs": [
        {
          "output_type": "execute_result",
          "data": {
            "text/plain": [
              "1"
            ]
          },
          "metadata": {},
          "execution_count": 22
        }
      ]
    },
    {
      "cell_type": "code",
      "source": [
        "relu_derivative(10)"
      ],
      "metadata": {
        "colab": {
          "base_uri": "https://localhost:8080/"
        },
        "id": "yZuyEfm8FvWW",
        "outputId": "fb25e32d-8bf2-4646-b6a2-69e338e2e28c"
      },
      "execution_count": 23,
      "outputs": [
        {
          "output_type": "execute_result",
          "data": {
            "text/plain": [
              "1"
            ]
          },
          "metadata": {},
          "execution_count": 23
        }
      ]
    },
    {
      "cell_type": "markdown",
      "source": [
        "Relu derivatives are always positive. So Rectified Linear Unit (ReLU) Activation function is monotonic.\n",
        "<img src = https://sebastianraschka.com/images/faq/relu-derivative/relu_3.png width = \"300\" height = \"300\" >\n",
        "<img src = https://i.stack.imgur.com/UtuWP.png width = \"300\" height = \"300\" >\n"
      ],
      "metadata": {
        "id": "kqB0uiPKHxn6"
      }
    },
    {
      "cell_type": "markdown",
      "source": [
        "## **Leaky - Rectified Linear Unit (ReLU) Activation Function & its Derivative**\n",
        "One disadvantage of the ReLU is that the derivative is equal to zero, when z is negative. To overcome this, z values are multiplied by alpha in Leaky ReLU to allow for the pass of negative values. Usually, the value of a is 0.01 and hence the range of the Leaky ReLU is -$\\alpha$ to +$\\alpha$"
      ],
      "metadata": {
        "id": "Hp6cTgEGLGGN"
      }
    },
    {
      "cell_type": "code",
      "source": [
        "# Leaky_ReLU activation function\n",
        "def leakyrelu(z, alpha):\n",
        "\treturn max(alpha * z, z)\n",
        "# Derivative of leaky_ReLU Activation Function\n",
        "def leakyrelu_derivative(z, alpha):\n",
        "\treturn 1 if z > 0 else alpha"
      ],
      "metadata": {
        "id": "WmewPvqiGjtd"
      },
      "execution_count": 24,
      "outputs": []
    },
    {
      "cell_type": "code",
      "source": [
        "leakyrelu(-10, 0.01)"
      ],
      "metadata": {
        "colab": {
          "base_uri": "https://localhost:8080/"
        },
        "id": "VyNkfzImGtzB",
        "outputId": "90b90177-c0bf-4648-f3b8-4c19160ba16b"
      },
      "execution_count": 25,
      "outputs": [
        {
          "output_type": "execute_result",
          "data": {
            "text/plain": [
              "-0.1"
            ]
          },
          "metadata": {},
          "execution_count": 25
        }
      ]
    },
    {
      "cell_type": "code",
      "source": [
        "leakyrelu(-1, 0.01)"
      ],
      "metadata": {
        "colab": {
          "base_uri": "https://localhost:8080/"
        },
        "id": "6dK7GT2KG3sF",
        "outputId": "f27c8a3f-af68-4d22-8eee-eb8907aee7da"
      },
      "execution_count": 26,
      "outputs": [
        {
          "output_type": "execute_result",
          "data": {
            "text/plain": [
              "-0.01"
            ]
          },
          "metadata": {},
          "execution_count": 26
        }
      ]
    },
    {
      "cell_type": "code",
      "source": [
        "leakyrelu(1, 0.01)"
      ],
      "metadata": {
        "colab": {
          "base_uri": "https://localhost:8080/"
        },
        "id": "SKy35sa2G7XF",
        "outputId": "c05a860c-36f7-402e-837b-801233e8a81f"
      },
      "execution_count": 27,
      "outputs": [
        {
          "output_type": "execute_result",
          "data": {
            "text/plain": [
              "1"
            ]
          },
          "metadata": {},
          "execution_count": 27
        }
      ]
    },
    {
      "cell_type": "code",
      "source": [
        "leakyrelu(10, 0.01)"
      ],
      "metadata": {
        "colab": {
          "base_uri": "https://localhost:8080/"
        },
        "id": "B-M3qy-tG9lP",
        "outputId": "e34dff7d-f869-492d-9e7b-abbbeba1b738"
      },
      "execution_count": 28,
      "outputs": [
        {
          "output_type": "execute_result",
          "data": {
            "text/plain": [
              "10"
            ]
          },
          "metadata": {},
          "execution_count": 28
        }
      ]
    },
    {
      "cell_type": "code",
      "source": [
        "leakyrelu_derivative(-10, 0.01)"
      ],
      "metadata": {
        "colab": {
          "base_uri": "https://localhost:8080/"
        },
        "id": "Ke725JIaHDL3",
        "outputId": "897b023f-e75d-4627-ef3f-0bc5805f07fb"
      },
      "execution_count": 29,
      "outputs": [
        {
          "output_type": "execute_result",
          "data": {
            "text/plain": [
              "0.01"
            ]
          },
          "metadata": {},
          "execution_count": 29
        }
      ]
    },
    {
      "cell_type": "code",
      "source": [
        "leakyrelu_derivative(-1, 0.01)"
      ],
      "metadata": {
        "colab": {
          "base_uri": "https://localhost:8080/"
        },
        "id": "yuebFY7hHMJ3",
        "outputId": "911322a5-83f3-4986-9506-f038ed59ff77"
      },
      "execution_count": 30,
      "outputs": [
        {
          "output_type": "execute_result",
          "data": {
            "text/plain": [
              "0.01"
            ]
          },
          "metadata": {},
          "execution_count": 30
        }
      ]
    },
    {
      "cell_type": "code",
      "source": [
        "leakyrelu_derivative(0, 0.01)"
      ],
      "metadata": {
        "colab": {
          "base_uri": "https://localhost:8080/"
        },
        "id": "9158m-EKHUoD",
        "outputId": "d7892449-6230-4796-fc1b-c722c062918a"
      },
      "execution_count": 31,
      "outputs": [
        {
          "output_type": "execute_result",
          "data": {
            "text/plain": [
              "0.01"
            ]
          },
          "metadata": {},
          "execution_count": 31
        }
      ]
    },
    {
      "cell_type": "code",
      "source": [
        "leakyrelu_derivative(1, 0.01)"
      ],
      "metadata": {
        "colab": {
          "base_uri": "https://localhost:8080/"
        },
        "id": "0HFHJMu-HPgo",
        "outputId": "886fdd0b-0232-4de9-9e4e-422c8162d7c7"
      },
      "execution_count": 32,
      "outputs": [
        {
          "output_type": "execute_result",
          "data": {
            "text/plain": [
              "1"
            ]
          },
          "metadata": {},
          "execution_count": 32
        }
      ]
    },
    {
      "cell_type": "code",
      "source": [
        "leakyrelu_derivative(10, 0.01)"
      ],
      "metadata": {
        "colab": {
          "base_uri": "https://localhost:8080/"
        },
        "id": "t3zAjNbnHSaN",
        "outputId": "df877407-cc71-4a07-fdc5-f4f9b52963b1"
      },
      "execution_count": 33,
      "outputs": [
        {
          "output_type": "execute_result",
          "data": {
            "text/plain": [
              "1"
            ]
          },
          "metadata": {},
          "execution_count": 33
        }
      ]
    },
    {
      "cell_type": "markdown",
      "source": [
        "Leaky ReLu derivatives are always positive. So Leaky ReLu Activation function is monotonic.\n",
        "![Leaky-ReLU & its Derivative](https://miro.medium.com/max/786/1*W6WncFaj5dBvqyrFw-jOdg.webp)\n",
        "\n",
        "\n"
      ],
      "metadata": {
        "id": "BBWAV050H_8J"
      }
    }
  ]
}