{
  "nbformat": 4,
  "nbformat_minor": 0,
  "metadata": {
    "colab": {
      "provenance": [],
      "authorship_tag": "ABX9TyMKse9FurB4bdnaoX0XPxSp"
    },
    "kernelspec": {
      "name": "python3",
      "display_name": "Python 3"
    },
    "language_info": {
      "name": "python"
    }
  },
  "cells": [
    {
      "cell_type": "markdown",
      "source": [
        "# <font color='Purple'>**Convolutional Neural Network (CNN) using Fashion MNIST Dataset**</font>\n",
        "## <font color='green'>**Dataset Information**</font>\n",
        "Fashion-MNIST is a dataset of Zalando's article images consisting of a training set of 60,000 examples and a test set of 10,000 examples. Each example is a 28x28 grayscale image, associated with a label from 10 classes, consisting of 'T-shirt/top', 'Trouser', 'Pullover', 'Dress', 'Coat', 'Sandal', 'Shirt', 'Sneaker', 'Bag', and 'Ankle boot'\n",
        "\n",
        "## <font color='green'>**Import the Required Libraries & Modules**</font>"
      ],
      "metadata": {
        "id": "8qD6fe0XKSwH"
      }
    },
    {
      "cell_type": "code",
      "execution_count": null,
      "metadata": {
        "id": "PPo36Grz9gTT"
      },
      "outputs": [],
      "source": [
        "import pandas as pd\n",
        "import numpy as np\n",
        "import matplotlib.pyplot as plt\n",
        "import tensorflow as tf\n",
        "from tensorflow.keras import datasets,models,layers\n",
        "from tensorflow.keras.datasets.fashion_mnist import load_data\n",
        "from tensorflow.keras import Sequential\n",
        "from tensorflow.keras.layers import Conv2D, MaxPool2D, Flatten, Dense, Dropout"
      ]
    },
    {
      "cell_type": "markdown",
      "source": [
        "## <font color='green'>**Load the Fashion_MNIST dataset**</font>"
      ],
      "metadata": {
        "id": "MzHna2mS8rBh"
      }
    },
    {
      "cell_type": "code",
      "source": [
        "#(train_images,train_labels),(test_images,test_labels)=datasets.cifar10.load_data()\n",
        "(X_trains,y_train), (X_test,y_test)= load_data()"
      ],
      "metadata": {
        "id": "TfCsOZTI9mS0",
        "colab": {
          "base_uri": "https://localhost:8080/"
        },
        "outputId": "1e4dce29-6c94-433b-d968-e6ee25051db0"
      },
      "execution_count": null,
      "outputs": [
        {
          "output_type": "stream",
          "name": "stdout",
          "text": [
            "Downloading data from https://storage.googleapis.com/tensorflow/tf-keras-datasets/train-labels-idx1-ubyte.gz\n",
            "29515/29515 [==============================] - 0s 0us/step\n",
            "Downloading data from https://storage.googleapis.com/tensorflow/tf-keras-datasets/train-images-idx3-ubyte.gz\n",
            "26421880/26421880 [==============================] - 0s 0us/step\n",
            "Downloading data from https://storage.googleapis.com/tensorflow/tf-keras-datasets/t10k-labels-idx1-ubyte.gz\n",
            "5148/5148 [==============================] - 0s 0us/step\n",
            "Downloading data from https://storage.googleapis.com/tensorflow/tf-keras-datasets/t10k-images-idx3-ubyte.gz\n",
            "4422102/4422102 [==============================] - 0s 0us/step\n"
          ]
        }
      ]
    },
    {
      "cell_type": "code",
      "source": [
        "y_train"
      ],
      "metadata": {
        "colab": {
          "base_uri": "https://localhost:8080/"
        },
        "id": "fvhaK7CQzXF6",
        "outputId": "8e05f92e-2729-4808-df16-f3df37d2e054"
      },
      "execution_count": null,
      "outputs": [
        {
          "output_type": "execute_result",
          "data": {
            "text/plain": [
              "array([9, 0, 0, ..., 3, 0, 5], dtype=uint8)"
            ]
          },
          "metadata": {},
          "execution_count": 3
        }
      ]
    },
    {
      "cell_type": "code",
      "source": [
        "class_names=['T-shirt/top','Trouser','Pullover','Dress','Coat','Sandal','Shirt','Sneaker','Bag','Ankle boot']"
      ],
      "metadata": {
        "id": "riZbWDCYzVj0"
      },
      "execution_count": null,
      "outputs": []
    },
    {
      "cell_type": "code",
      "source": [
        "y_train[0]"
      ],
      "metadata": {
        "colab": {
          "base_uri": "https://localhost:8080/"
        },
        "id": "THiqGtPg0I9G",
        "outputId": "bf295615-3416-4050-904b-1075c1180be6"
      },
      "execution_count": null,
      "outputs": [
        {
          "output_type": "execute_result",
          "data": {
            "text/plain": [
              "9"
            ]
          },
          "metadata": {},
          "execution_count": 5
        }
      ]
    },
    {
      "cell_type": "markdown",
      "source": [
        "## <font color='green'>**Dataset Visualization**</font>"
      ],
      "metadata": {
        "id": "lrSpu1aT83vI"
      }
    },
    {
      "cell_type": "code",
      "source": [
        "import matplotlib.pyplot as plt\n",
        "plt.figure(figsize=(20,10))\n",
        "for i in range (25):\n",
        "  plt.subplot(5,5,i+1)\n",
        "  plt.imshow(X_trains[i])\n",
        "  plt.xlabel(class_names[y_train[i]])\n",
        "  plt.ylabel(class_names[y_train[i]])\n",
        "plt.show()\n",
        "plt.tight_layout();"
      ],
      "metadata": {
        "colab": {
          "base_uri": "https://localhost:8080/",
          "height": 625
        },
        "id": "gO2Ghq6-9rQU",
        "outputId": "994c403d-0418-4b85-ee89-ee42f37e1673"
      },
      "execution_count": null,
      "outputs": [
        {
          "output_type": "display_data",
          "data": {
            "text/plain": [
              "<Figure size 1440x720 with 25 Axes>"
            ],
            "image/png": "[encoded data removed]"
          },
          "metadata": {
            "needs_background": "light"
          }
        },
        {
          "output_type": "display_data",
          "data": {
            "text/plain": [
              "<Figure size 432x288 with 0 Axes>"
            ]
          },
          "metadata": {}
        }
      ]
    },
    {
      "cell_type": "markdown",
      "source": [
        "## <font color='green'>**Data Preprocessing**</font>"
      ],
      "metadata": {
        "id": "edqlTUfT89nP"
      }
    },
    {
      "cell_type": "code",
      "source": [
        "X_trains.shape"
      ],
      "metadata": {
        "colab": {
          "base_uri": "https://localhost:8080/"
        },
        "id": "ZZgVChPf9_XI",
        "outputId": "beab8ce5-e910-4abf-91e6-3d4f11808545"
      },
      "execution_count": null,
      "outputs": [
        {
          "output_type": "execute_result",
          "data": {
            "text/plain": [
              "(60000, 28, 28)"
            ]
          },
          "metadata": {},
          "execution_count": 7
        }
      ]
    },
    {
      "cell_type": "code",
      "source": [
        "X_train= X_trains.reshape((X_trains.shape[0],X_trains.shape[1],X_trains.shape[2],1))\n",
        "X_train.shape"
      ],
      "metadata": {
        "colab": {
          "base_uri": "https://localhost:8080/"
        },
        "id": "OlXRmYYk7AWL",
        "outputId": "aad8ed52-11d3-4d3d-fc0c-f0a353947891"
      },
      "execution_count": null,
      "outputs": [
        {
          "output_type": "execute_result",
          "data": {
            "text/plain": [
              "(60000, 28, 28, 1)"
            ]
          },
          "metadata": {},
          "execution_count": 8
        }
      ]
    },
    {
      "cell_type": "code",
      "source": [
        "input_shape=X_train.shape[1:]\n",
        "input_shape"
      ],
      "metadata": {
        "colab": {
          "base_uri": "https://localhost:8080/"
        },
        "id": "FM6XdAqE_CWX",
        "outputId": "8e39414f-bb94-478f-955a-57ef50dc6c91"
      },
      "execution_count": null,
      "outputs": [
        {
          "output_type": "execute_result",
          "data": {
            "text/plain": [
              "(28, 28, 1)"
            ]
          },
          "metadata": {},
          "execution_count": 9
        }
      ]
    },
    {
      "cell_type": "code",
      "source": [
        "from numpy import unique\n",
        "n_classes= len(unique(y_train))\n",
        "n_classes"
      ],
      "metadata": {
        "colab": {
          "base_uri": "https://localhost:8080/"
        },
        "id": "QnRsvzwW_NN4",
        "outputId": "6f3c2809-bbed-48aa-e28d-80769e455f7f"
      },
      "execution_count": null,
      "outputs": [
        {
          "output_type": "execute_result",
          "data": {
            "text/plain": [
              "10"
            ]
          },
          "metadata": {},
          "execution_count": 10
        }
      ]
    },
    {
      "cell_type": "code",
      "source": [
        "#train_images,test_images= train_images/255, test_images/255\n",
        "X_train= X_trains.astype('float32')/255.0\n",
        "X_train[0:1]"
      ],
      "metadata": {
        "colab": {
          "base_uri": "https://localhost:8080/"
        },
        "id": "t5_0rozG_bGU",
        "outputId": "c2cdea0d-93ba-4d36-acf4-7531643e0861"
      },
      "execution_count": null,
      "outputs": [
        {
          "output_type": "execute_result",
          "data": {
            "text/plain": [
              "array([[[0.        , 0.        , 0.        , 0.        , 0.        ,\n",
              "         0.        , 0.        , 0.        , 0.        , 0.        ,\n",
              "         0.        , 0.        , 0.        , 0.        , 0.        ,\n",
              "         0.        , 0.        , 0.        , 0.        , 0.        ,\n",
              "         0.        , 0.        , 0.        , 0.        , 0.        ,\n",
              "         0.        , 0.        , 0.        ],\n",
              "        [0.        , 0.        , 0.        , 0.        , 0.        ,\n",
              "         0.        , 0.        , 0.        , 0.        , 0.        ,\n",
              "         0.        , 0.        , 0.        , 0.        , 0.        ,\n",
              "         0.        , 0.        , 0.        , 0.        , 0.        ,\n",
              "         0.        , 0.        , 0.        , 0.        , 0.        ,\n",
              "         0.        , 0.        , 0.        ],\n",
              "        [0.        , 0.        , 0.        , 0.        , 0.        ,\n",
              "         0.        , 0.        , 0.        , 0.        , 0.        ,\n",
              "         0.        , 0.        , 0.        , 0.        , 0.        ,\n",
              "         0.        , 0.        , 0.        , 0.        , 0.        ,\n",
              "         0.        , 0.        , 0.        , 0.        , 0.        ,\n",
              "         0.        , 0.        , 0.        ],\n",
              "        [0.        , 0.        , 0.        , 0.        , 0.        ,\n",
              "         0.        , 0.        , 0.        , 0.        , 0.        ,\n",
              "         0.        , 0.        , 0.00392157, 0.        , 0.        ,\n",
              "         0.05098039, 0.28627452, 0.        , 0.        , 0.00392157,\n",
              "         0.01568628, 0.        , 0.        , 0.        , 0.        ,\n",
              "         0.00392157, 0.00392157, 0.        ],\n",
              "        [0.        , 0.        , 0.        , 0.        , 0.        ,\n",
              "         0.        , 0.        , 0.        , 0.        , 0.        ,\n",
              "         0.        , 0.        , 0.01176471, 0.        , 0.14117648,\n",
              "         0.53333336, 0.49803922, 0.24313726, 0.21176471, 0.        ,\n",
              "         0.        , 0.        , 0.00392157, 0.01176471, 0.01568628,\n",
              "         0.        , 0.        , 0.01176471],\n",
              "        [0.        , 0.        , 0.        , 0.        , 0.        ,\n",
              "         0.        , 0.        , 0.        , 0.        , 0.        ,\n",
              "         0.        , 0.        , 0.02352941, 0.        , 0.4       ,\n",
              "         0.8       , 0.6901961 , 0.5254902 , 0.5647059 , 0.48235294,\n",
              "         0.09019608, 0.        , 0.        , 0.        , 0.        ,\n",
              "         0.04705882, 0.03921569, 0.        ],\n",
              "        [0.        , 0.        , 0.        , 0.        , 0.        ,\n",
              "         0.        , 0.        , 0.        , 0.        , 0.        ,\n",
              "         0.        , 0.        , 0.        , 0.        , 0.60784316,\n",
              "         0.9254902 , 0.8117647 , 0.69803923, 0.41960785, 0.6117647 ,\n",
              "         0.6313726 , 0.42745098, 0.2509804 , 0.09019608, 0.3019608 ,\n",
              "         0.50980395, 0.28235295, 0.05882353],\n",
              "        [0.        , 0.        , 0.        , 0.        , 0.        ,\n",
              "         0.        , 0.        , 0.        , 0.        , 0.        ,\n",
              "         0.        , 0.00392157, 0.        , 0.27058825, 0.8117647 ,\n",
              "         0.8745098 , 0.85490197, 0.84705883, 0.84705883, 0.6392157 ,\n",
              "         0.49803922, 0.4745098 , 0.47843137, 0.57254905, 0.5529412 ,\n",
              "         0.34509805, 0.6745098 , 0.25882354],\n",
              "        [0.        , 0.        , 0.        , 0.        , 0.        ,\n",
              "         0.        , 0.        , 0.        , 0.        , 0.00392157,\n",
              "         0.00392157, 0.00392157, 0.        , 0.78431374, 0.9098039 ,\n",
              "         0.9098039 , 0.9137255 , 0.8980392 , 0.8745098 , 0.8745098 ,\n",
              "         0.84313726, 0.8352941 , 0.6431373 , 0.49803922, 0.48235294,\n",
              "         0.76862746, 0.8980392 , 0.        ],\n",
              "        [0.        , 0.        , 0.        , 0.        , 0.        ,\n",
              "         0.        , 0.        , 0.        , 0.        , 0.        ,\n",
              "         0.        , 0.        , 0.        , 0.7176471 , 0.88235295,\n",
              "         0.84705883, 0.8745098 , 0.89411765, 0.92156863, 0.8901961 ,\n",
              "         0.8784314 , 0.87058824, 0.8784314 , 0.8666667 , 0.8745098 ,\n",
              "         0.9607843 , 0.6784314 , 0.        ],\n",
              "        [0.        , 0.        , 0.        , 0.        , 0.        ,\n",
              "         0.        , 0.        , 0.        , 0.        , 0.        ,\n",
              "         0.        , 0.        , 0.        , 0.75686276, 0.89411765,\n",
              "         0.85490197, 0.8352941 , 0.7764706 , 0.7058824 , 0.83137256,\n",
              "         0.8235294 , 0.827451  , 0.8352941 , 0.8745098 , 0.8627451 ,\n",
              "         0.9529412 , 0.7921569 , 0.        ],\n",
              "        [0.        , 0.        , 0.        , 0.        , 0.        ,\n",
              "         0.        , 0.        , 0.        , 0.        , 0.00392157,\n",
              "         0.01176471, 0.        , 0.04705882, 0.85882354, 0.8627451 ,\n",
              "         0.83137256, 0.85490197, 0.7529412 , 0.6627451 , 0.8901961 ,\n",
              "         0.8156863 , 0.85490197, 0.8784314 , 0.83137256, 0.8862745 ,\n",
              "         0.77254903, 0.81960785, 0.20392157],\n",
              "        [0.        , 0.        , 0.        , 0.        , 0.        ,\n",
              "         0.        , 0.        , 0.        , 0.        , 0.        ,\n",
              "         0.02352941, 0.        , 0.3882353 , 0.95686275, 0.87058824,\n",
              "         0.8627451 , 0.85490197, 0.79607844, 0.7764706 , 0.8666667 ,\n",
              "         0.84313726, 0.8352941 , 0.87058824, 0.8627451 , 0.9607843 ,\n",
              "         0.46666667, 0.654902  , 0.21960784],\n",
              "        [0.        , 0.        , 0.        , 0.        , 0.        ,\n",
              "         0.        , 0.        , 0.        , 0.        , 0.01568628,\n",
              "         0.        , 0.        , 0.21568628, 0.9254902 , 0.89411765,\n",
              "         0.9019608 , 0.89411765, 0.9411765 , 0.9098039 , 0.8352941 ,\n",
              "         0.85490197, 0.8745098 , 0.91764706, 0.8509804 , 0.8509804 ,\n",
              "         0.81960785, 0.36078432, 0.        ],\n",
              "        [0.        , 0.        , 0.00392157, 0.01568628, 0.02352941,\n",
              "         0.02745098, 0.00784314, 0.        , 0.        , 0.        ,\n",
              "         0.        , 0.        , 0.92941177, 0.8862745 , 0.8509804 ,\n",
              "         0.8745098 , 0.87058824, 0.85882354, 0.87058824, 0.8666667 ,\n",
              "         0.84705883, 0.8745098 , 0.8980392 , 0.84313726, 0.85490197,\n",
              "         1.        , 0.3019608 , 0.        ],\n",
              "        [0.        , 0.01176471, 0.        , 0.        , 0.        ,\n",
              "         0.        , 0.        , 0.        , 0.        , 0.24313726,\n",
              "         0.5686275 , 0.8       , 0.89411765, 0.8117647 , 0.8352941 ,\n",
              "         0.8666667 , 0.85490197, 0.8156863 , 0.827451  , 0.85490197,\n",
              "         0.8784314 , 0.8745098 , 0.85882354, 0.84313726, 0.8784314 ,\n",
              "         0.95686275, 0.62352943, 0.        ],\n",
              "        [0.        , 0.        , 0.        , 0.        , 0.07058824,\n",
              "         0.17254902, 0.32156864, 0.41960785, 0.7411765 , 0.89411765,\n",
              "         0.8627451 , 0.87058824, 0.8509804 , 0.8862745 , 0.78431374,\n",
              "         0.8039216 , 0.827451  , 0.9019608 , 0.8784314 , 0.91764706,\n",
              "         0.6901961 , 0.7372549 , 0.98039216, 0.972549  , 0.9137255 ,\n",
              "         0.93333334, 0.84313726, 0.        ],\n",
              "        [0.        , 0.22352941, 0.73333335, 0.8156863 , 0.8784314 ,\n",
              "         0.8666667 , 0.8784314 , 0.8156863 , 0.8       , 0.8392157 ,\n",
              "         0.8156863 , 0.81960785, 0.78431374, 0.62352943, 0.9607843 ,\n",
              "         0.75686276, 0.80784315, 0.8745098 , 1.        , 1.        ,\n",
              "         0.8666667 , 0.91764706, 0.8666667 , 0.827451  , 0.8627451 ,\n",
              "         0.9098039 , 0.9647059 , 0.        ],\n",
              "        [0.01176471, 0.7921569 , 0.89411765, 0.8784314 , 0.8666667 ,\n",
              "         0.827451  , 0.827451  , 0.8392157 , 0.8039216 , 0.8039216 ,\n",
              "         0.8039216 , 0.8627451 , 0.9411765 , 0.3137255 , 0.5882353 ,\n",
              "         1.        , 0.8980392 , 0.8666667 , 0.7372549 , 0.6039216 ,\n",
              "         0.7490196 , 0.8235294 , 0.8       , 0.81960785, 0.87058824,\n",
              "         0.89411765, 0.88235295, 0.        ],\n",
              "        [0.38431373, 0.9137255 , 0.7764706 , 0.8235294 , 0.87058824,\n",
              "         0.8980392 , 0.8980392 , 0.91764706, 0.9764706 , 0.8627451 ,\n",
              "         0.7607843 , 0.84313726, 0.8509804 , 0.94509804, 0.25490198,\n",
              "         0.28627452, 0.41568628, 0.45882353, 0.65882355, 0.85882354,\n",
              "         0.8666667 , 0.84313726, 0.8509804 , 0.8745098 , 0.8745098 ,\n",
              "         0.8784314 , 0.8980392 , 0.11372549],\n",
              "        [0.29411766, 0.8       , 0.83137256, 0.8       , 0.75686276,\n",
              "         0.8039216 , 0.827451  , 0.88235295, 0.84705883, 0.7254902 ,\n",
              "         0.77254903, 0.80784315, 0.7764706 , 0.8352941 , 0.9411765 ,\n",
              "         0.7647059 , 0.8901961 , 0.9607843 , 0.9372549 , 0.8745098 ,\n",
              "         0.85490197, 0.83137256, 0.81960785, 0.87058824, 0.8627451 ,\n",
              "         0.8666667 , 0.9019608 , 0.2627451 ],\n",
              "        [0.1882353 , 0.79607844, 0.7176471 , 0.7607843 , 0.8352941 ,\n",
              "         0.77254903, 0.7254902 , 0.74509805, 0.7607843 , 0.7529412 ,\n",
              "         0.7921569 , 0.8392157 , 0.85882354, 0.8666667 , 0.8627451 ,\n",
              "         0.9254902 , 0.88235295, 0.84705883, 0.78039217, 0.80784315,\n",
              "         0.7294118 , 0.70980394, 0.69411767, 0.6745098 , 0.70980394,\n",
              "         0.8039216 , 0.80784315, 0.4509804 ],\n",
              "        [0.        , 0.47843137, 0.85882354, 0.75686276, 0.7019608 ,\n",
              "         0.67058825, 0.7176471 , 0.76862746, 0.8       , 0.8235294 ,\n",
              "         0.8352941 , 0.8117647 , 0.827451  , 0.8235294 , 0.78431374,\n",
              "         0.76862746, 0.7607843 , 0.7490196 , 0.7647059 , 0.7490196 ,\n",
              "         0.7764706 , 0.7529412 , 0.6901961 , 0.6117647 , 0.654902  ,\n",
              "         0.69411767, 0.8235294 , 0.36078432],\n",
              "        [0.        , 0.        , 0.2901961 , 0.7411765 , 0.83137256,\n",
              "         0.7490196 , 0.6862745 , 0.6745098 , 0.6862745 , 0.70980394,\n",
              "         0.7254902 , 0.7372549 , 0.7411765 , 0.7372549 , 0.75686276,\n",
              "         0.7764706 , 0.8       , 0.81960785, 0.8235294 , 0.8235294 ,\n",
              "         0.827451  , 0.7372549 , 0.7372549 , 0.7607843 , 0.7529412 ,\n",
              "         0.84705883, 0.6666667 , 0.        ],\n",
              "        [0.00784314, 0.        , 0.        , 0.        , 0.25882354,\n",
              "         0.78431374, 0.87058824, 0.92941177, 0.9372549 , 0.9490196 ,\n",
              "         0.9647059 , 0.9529412 , 0.95686275, 0.8666667 , 0.8627451 ,\n",
              "         0.75686276, 0.7490196 , 0.7019608 , 0.7137255 , 0.7137255 ,\n",
              "         0.70980394, 0.6901961 , 0.6509804 , 0.65882355, 0.3882353 ,\n",
              "         0.22745098, 0.        , 0.        ],\n",
              "        [0.        , 0.        , 0.        , 0.        , 0.        ,\n",
              "         0.        , 0.        , 0.15686275, 0.23921569, 0.17254902,\n",
              "         0.28235295, 0.16078432, 0.13725491, 0.        , 0.        ,\n",
              "         0.        , 0.        , 0.        , 0.        , 0.        ,\n",
              "         0.        , 0.        , 0.        , 0.        , 0.        ,\n",
              "         0.        , 0.        , 0.        ],\n",
              "        [0.        , 0.        , 0.        , 0.        , 0.        ,\n",
              "         0.        , 0.        , 0.        , 0.        , 0.        ,\n",
              "         0.        , 0.        , 0.        , 0.        , 0.        ,\n",
              "         0.        , 0.        , 0.        , 0.        , 0.        ,\n",
              "         0.        , 0.        , 0.        , 0.        , 0.        ,\n",
              "         0.        , 0.        , 0.        ],\n",
              "        [0.        , 0.        , 0.        , 0.        , 0.        ,\n",
              "         0.        , 0.        , 0.        , 0.        , 0.        ,\n",
              "         0.        , 0.        , 0.        , 0.        , 0.        ,\n",
              "         0.        , 0.        , 0.        , 0.        , 0.        ,\n",
              "         0.        , 0.        , 0.        , 0.        , 0.        ,\n",
              "         0.        , 0.        , 0.        ]]], dtype=float32)"
            ]
          },
          "metadata": {},
          "execution_count": 11
        }
      ]
    },
    {
      "cell_type": "code",
      "source": [
        "X_test= X_test.astype('float32')/255.0"
      ],
      "metadata": {
        "id": "aFAcFFe1-5CZ"
      },
      "execution_count": null,
      "outputs": []
    },
    {
      "cell_type": "markdown",
      "source": [
        "## <font color='green'>**Model Development & Evaluation**</font>"
      ],
      "metadata": {
        "id": "7pjOAzX_9EHX"
      }
    },
    {
      "cell_type": "code",
      "source": [
        "# Apply Convolution and ReLU\n",
        "# Apply filter (Number of filters = 32, Kernel size = (3,3)) with Convolution to filter an image for a particular feature\n",
        "# Detect that feature within the filtered image using ReLU\n",
        "#model=models.Sequential()\n",
        "model=Sequential()\n",
        "#model.add(layers.Conv2D(32,(3,3),activation='relu',input_shape=input_shape))\n",
        "model.add(Conv2D(32,(3,3), activation='relu',kernel_initializer='he_uniform', input_shape=input_shape))\n",
        "\n",
        "# Apply MaxPool (Condense the image to enhance the features using maximum pooling with pool size = (2,2)))\n",
        "# model.add(layers.MaxPooling2D(2,2))\n",
        "model.add(MaxPool2D((2,2)))\n",
        "\n",
        "model.add(layers.Conv2D(64,(3,3),activation='relu'))\n",
        "model.add(layers.MaxPooling2D((2,2)))\n",
        "\n",
        "# Apply Flatten to transform matrix to vector form\n",
        "#model.add(layers.Flatten())\n",
        "model.add(Flatten())\n",
        "\n",
        "# Define model\n",
        "model.add(Dense(100,activation='relu',kernel_initializer='he_uniform'))\n",
        "model.add(Dropout(0.3))\n",
        "model.add(Dense(n_classes,activation='softmax'))\n",
        "\n",
        "# Compile model\n",
        "model.compile(optimizer='adam', loss='sparse_categorical_crossentropy', metrics=['accuracy'])\n",
        "\n",
        "# Fit model\n",
        "history = model.fit(X_train, y_train, epochs=75, batch_size=128,verbose=1)\n",
        "\n",
        "# Evaluate Model\n",
        "loss, acc = model.evaluate(X_test, y_test)"
      ],
      "metadata": {
        "colab": {
          "base_uri": "https://localhost:8080/"
        },
        "id": "ouBogZTv_8la",
        "outputId": "44cabb9f-692b-4bda-87ca-398ba07794fa"
      },
      "execution_count": null,
      "outputs": [
        {
          "output_type": "stream",
          "name": "stdout",
          "text": [
            "Epoch 1/75\n",
            "469/469 [==============================] - 36s 74ms/step - loss: 0.5611 - accuracy: 0.7973\n",
            "Epoch 2/75\n",
            "469/469 [==============================] - 30s 64ms/step - loss: 0.3673 - accuracy: 0.8690\n",
            "Epoch 3/75\n",
            "469/469 [==============================] - 31s 66ms/step - loss: 0.3179 - accuracy: 0.8841\n",
            "Epoch 4/75\n",
            "469/469 [==============================] - 30s 65ms/step - loss: 0.2871 - accuracy: 0.8970\n",
            "Epoch 5/75\n",
            "469/469 [==============================] - 30s 64ms/step - loss: 0.2664 - accuracy: 0.9025\n",
            "Epoch 6/75\n",
            "469/469 [==============================] - 31s 65ms/step - loss: 0.2490 - accuracy: 0.9084\n",
            "Epoch 7/75\n",
            "469/469 [==============================] - 31s 65ms/step - loss: 0.2317 - accuracy: 0.9155\n",
            "Epoch 8/75\n",
            "469/469 [==============================] - 31s 67ms/step - loss: 0.2176 - accuracy: 0.9207\n",
            "Epoch 9/75\n",
            "469/469 [==============================] - 30s 65ms/step - loss: 0.2033 - accuracy: 0.9251\n",
            "Epoch 10/75\n",
            "469/469 [==============================] - 30s 65ms/step - loss: 0.1925 - accuracy: 0.9286\n",
            "Epoch 11/75\n",
            "469/469 [==============================] - 30s 65ms/step - loss: 0.1798 - accuracy: 0.9331\n",
            "Epoch 12/75\n",
            "469/469 [==============================] - 30s 64ms/step - loss: 0.1715 - accuracy: 0.9360\n",
            "Epoch 13/75\n",
            "469/469 [==============================] - 30s 64ms/step - loss: 0.1601 - accuracy: 0.9406\n",
            "Epoch 14/75\n",
            "469/469 [==============================] - 31s 66ms/step - loss: 0.1513 - accuracy: 0.9427\n",
            "Epoch 15/75\n",
            "469/469 [==============================] - 30s 64ms/step - loss: 0.1435 - accuracy: 0.9456\n",
            "Epoch 16/75\n",
            "469/469 [==============================] - 30s 64ms/step - loss: 0.1382 - accuracy: 0.9476\n",
            "Epoch 17/75\n",
            "469/469 [==============================] - 30s 65ms/step - loss: 0.1294 - accuracy: 0.9507\n",
            "Epoch 18/75\n",
            "469/469 [==============================] - 30s 65ms/step - loss: 0.1243 - accuracy: 0.9530\n",
            "Epoch 19/75\n",
            "469/469 [==============================] - 30s 64ms/step - loss: 0.1159 - accuracy: 0.9560\n",
            "Epoch 20/75\n",
            "469/469 [==============================] - 30s 64ms/step - loss: 0.1091 - accuracy: 0.9582\n",
            "Epoch 21/75\n",
            "469/469 [==============================] - 31s 66ms/step - loss: 0.1069 - accuracy: 0.9592\n",
            "Epoch 22/75\n",
            "469/469 [==============================] - 30s 64ms/step - loss: 0.1013 - accuracy: 0.9615\n",
            "Epoch 23/75\n",
            "469/469 [==============================] - 30s 64ms/step - loss: 0.0968 - accuracy: 0.9622\n",
            "Epoch 24/75\n",
            "469/469 [==============================] - 30s 65ms/step - loss: 0.0914 - accuracy: 0.9646\n",
            "Epoch 25/75\n",
            "469/469 [==============================] - 30s 64ms/step - loss: 0.0864 - accuracy: 0.9667\n",
            "Epoch 26/75\n",
            "469/469 [==============================] - 30s 65ms/step - loss: 0.0862 - accuracy: 0.9664\n",
            "Epoch 27/75\n",
            "469/469 [==============================] - 31s 65ms/step - loss: 0.0801 - accuracy: 0.9692\n",
            "Epoch 28/75\n",
            "469/469 [==============================] - 31s 67ms/step - loss: 0.0800 - accuracy: 0.9688\n",
            "Epoch 29/75\n",
            "469/469 [==============================] - 30s 65ms/step - loss: 0.0767 - accuracy: 0.9703\n",
            "Epoch 30/75\n",
            "469/469 [==============================] - 30s 64ms/step - loss: 0.0728 - accuracy: 0.9713\n",
            "Epoch 31/75\n",
            "469/469 [==============================] - 30s 64ms/step - loss: 0.0690 - accuracy: 0.9721\n",
            "Epoch 32/75\n",
            "469/469 [==============================] - 30s 64ms/step - loss: 0.0691 - accuracy: 0.9728\n",
            "Epoch 33/75\n",
            "469/469 [==============================] - 30s 64ms/step - loss: 0.0679 - accuracy: 0.9728\n",
            "Epoch 34/75\n",
            "469/469 [==============================] - 30s 64ms/step - loss: 0.0623 - accuracy: 0.9758\n",
            "Epoch 35/75\n",
            "469/469 [==============================] - 31s 66ms/step - loss: 0.0638 - accuracy: 0.9752\n",
            "Epoch 36/75\n",
            "469/469 [==============================] - 30s 64ms/step - loss: 0.0612 - accuracy: 0.9759\n",
            "Epoch 37/75\n",
            "469/469 [==============================] - 30s 64ms/step - loss: 0.0588 - accuracy: 0.9764\n",
            "Epoch 38/75\n",
            "469/469 [==============================] - 30s 65ms/step - loss: 0.0573 - accuracy: 0.9777\n",
            "Epoch 39/75\n",
            "469/469 [==============================] - 30s 64ms/step - loss: 0.0574 - accuracy: 0.9785\n",
            "Epoch 40/75\n",
            "469/469 [==============================] - 30s 65ms/step - loss: 0.0530 - accuracy: 0.9794\n",
            "Epoch 41/75\n",
            "469/469 [==============================] - 30s 65ms/step - loss: 0.0553 - accuracy: 0.9783\n",
            "Epoch 42/75\n",
            "469/469 [==============================] - 31s 67ms/step - loss: 0.0509 - accuracy: 0.9797\n",
            "Epoch 43/75\n",
            "469/469 [==============================] - 30s 65ms/step - loss: 0.0527 - accuracy: 0.9796\n",
            "Epoch 44/75\n",
            "469/469 [==============================] - 30s 64ms/step - loss: 0.0501 - accuracy: 0.9808\n",
            "Epoch 45/75\n",
            "469/469 [==============================] - 30s 64ms/step - loss: 0.0467 - accuracy: 0.9820\n",
            "Epoch 46/75\n",
            "469/469 [==============================] - 31s 65ms/step - loss: 0.0521 - accuracy: 0.9800\n",
            "Epoch 47/75\n",
            "469/469 [==============================] - 30s 65ms/step - loss: 0.0490 - accuracy: 0.9804\n",
            "Epoch 48/75\n",
            "469/469 [==============================] - 30s 65ms/step - loss: 0.0453 - accuracy: 0.9824\n",
            "Epoch 49/75\n",
            "469/469 [==============================] - 31s 67ms/step - loss: 0.0482 - accuracy: 0.9814\n",
            "Epoch 50/75\n",
            "469/469 [==============================] - 31s 65ms/step - loss: 0.0459 - accuracy: 0.9823\n",
            "Epoch 51/75\n",
            "469/469 [==============================] - 30s 65ms/step - loss: 0.0427 - accuracy: 0.9830\n",
            "Epoch 52/75\n",
            "469/469 [==============================] - 30s 65ms/step - loss: 0.0435 - accuracy: 0.9829\n",
            "Epoch 53/75\n",
            "469/469 [==============================] - 30s 65ms/step - loss: 0.0425 - accuracy: 0.9834\n",
            "Epoch 54/75\n",
            "469/469 [==============================] - 31s 65ms/step - loss: 0.0431 - accuracy: 0.9832\n",
            "Epoch 55/75\n",
            "469/469 [==============================] - 31s 65ms/step - loss: 0.0424 - accuracy: 0.9838\n",
            "Epoch 56/75\n",
            "469/469 [==============================] - 31s 67ms/step - loss: 0.0418 - accuracy: 0.9836\n",
            "Epoch 57/75\n",
            "469/469 [==============================] - 30s 65ms/step - loss: 0.0399 - accuracy: 0.9844\n",
            "Epoch 58/75\n",
            "469/469 [==============================] - 31s 65ms/step - loss: 0.0412 - accuracy: 0.9830\n",
            "Epoch 59/75\n",
            "469/469 [==============================] - 31s 65ms/step - loss: 0.0393 - accuracy: 0.9850\n",
            "Epoch 60/75\n",
            "469/469 [==============================] - 31s 65ms/step - loss: 0.0421 - accuracy: 0.9837\n",
            "Epoch 61/75\n",
            "469/469 [==============================] - 30s 65ms/step - loss: 0.0408 - accuracy: 0.9842\n",
            "Epoch 62/75\n",
            "469/469 [==============================] - 30s 65ms/step - loss: 0.0366 - accuracy: 0.9850\n",
            "Epoch 63/75\n",
            "469/469 [==============================] - 31s 66ms/step - loss: 0.0355 - accuracy: 0.9854\n",
            "Epoch 64/75\n",
            "469/469 [==============================] - 30s 64ms/step - loss: 0.0374 - accuracy: 0.9855\n",
            "Epoch 65/75\n",
            "469/469 [==============================] - 30s 65ms/step - loss: 0.0372 - accuracy: 0.9857\n",
            "Epoch 66/75\n",
            "469/469 [==============================] - 31s 65ms/step - loss: 0.0386 - accuracy: 0.9850\n",
            "Epoch 67/75\n",
            "469/469 [==============================] - 30s 65ms/step - loss: 0.0361 - accuracy: 0.9856\n",
            "Epoch 68/75\n",
            "469/469 [==============================] - 31s 65ms/step - loss: 0.0334 - accuracy: 0.9870\n",
            "Epoch 69/75\n",
            "469/469 [==============================] - 31s 65ms/step - loss: 0.0351 - accuracy: 0.9859\n",
            "Epoch 70/75\n",
            "469/469 [==============================] - 32s 67ms/step - loss: 0.0385 - accuracy: 0.9849\n",
            "Epoch 71/75\n",
            "469/469 [==============================] - 31s 65ms/step - loss: 0.0366 - accuracy: 0.9859\n",
            "Epoch 72/75\n",
            "469/469 [==============================] - 31s 65ms/step - loss: 0.0340 - accuracy: 0.9868\n",
            "Epoch 73/75\n",
            "469/469 [==============================] - 30s 65ms/step - loss: 0.0354 - accuracy: 0.9865\n",
            "Epoch 74/75\n",
            "469/469 [==============================] - 31s 65ms/step - loss: 0.0338 - accuracy: 0.9869\n",
            "Epoch 75/75\n",
            "469/469 [==============================] - 31s 65ms/step - loss: 0.0361 - accuracy: 0.9857\n",
            "313/313 [==============================] - 2s 7ms/step - loss: 0.5768 - accuracy: 0.9161\n"
          ]
        }
      ]
    },
    {
      "cell_type": "code",
      "source": [
        "model.summary()"
      ],
      "metadata": {
        "id": "IciDJiep4LyJ",
        "colab": {
          "base_uri": "https://localhost:8080/"
        },
        "outputId": "9e21d8c0-a908-4911-80bd-4ed3719ed09e"
      },
      "execution_count": null,
      "outputs": [
        {
          "output_type": "stream",
          "name": "stdout",
          "text": [
            "Model: \"sequential\"\n",
            "_________________________________________________________________\n",
            " Layer (type)                Output Shape              Param #   \n",
            "=================================================================\n",
            " conv2d (Conv2D)             (None, 26, 26, 32)        320       \n",
            "                                                                 \n",
            " max_pooling2d (MaxPooling2D  (None, 13, 13, 32)       0         \n",
            " )                                                               \n",
            "                                                                 \n",
            " conv2d_1 (Conv2D)           (None, 11, 11, 64)        18496     \n",
            "                                                                 \n",
            " max_pooling2d_1 (MaxPooling  (None, 5, 5, 64)         0         \n",
            " 2D)                                                             \n",
            "                                                                 \n",
            " flatten (Flatten)           (None, 1600)              0         \n",
            "                                                                 \n",
            " dense (Dense)               (None, 100)               160100    \n",
            "                                                                 \n",
            " dropout (Dropout)           (None, 100)               0         \n",
            "                                                                 \n",
            " dense_1 (Dense)             (None, 10)                1010      \n",
            "                                                                 \n",
            "=================================================================\n",
            "Total params: 179,926\n",
            "Trainable params: 179,926\n",
            "Non-trainable params: 0\n",
            "_________________________________________________________________\n"
          ]
        }
      ]
    },
    {
      "cell_type": "code",
      "source": [
        "history_df = pd.DataFrame(history.history)\n",
        "history_df.loc[:, ['loss']].plot(title=\"Categorical Cross-entropy\")\n",
        "history_df.loc[:, ['accuracy']].plot(title=\"Accuracy\")\n",
        "print('Accuracy of model is : %.3f' %acc)"
      ],
      "metadata": {
        "id": "dNZw-46HYT9R",
        "colab": {
          "base_uri": "https://localhost:8080/",
          "height": 89
        },
        "outputId": "ffcde0a0-b98a-446c-b325-11097efe481b"
      },
      "execution_count": null,
      "outputs": [
        {
          "output_type": "stream",
          "name": "stdout",
          "text": [
            "Accuracy of model is : 0.916\n"
          ]
        },
        {
          "output_type": "display_data",
          "data": {
            "text/plain": [
              "<Figure size 432x288 with 1 Axes>"
            ],
            "image/png": "[encoded data removed]"
          },
          "metadata": {
            "needs_background": "light"
          }
        },
        {
          "output_type": "display_data",
          "data": {
            "text/plain": [
              "<Figure size 432x288 with 1 Axes>"
            ],
            "image/png": "[encoded data removed]"
          },
          "metadata": {
            "needs_background": "light"
          }
        }
      ]
    },
    {
      "cell_type": "markdown",
      "source": [
        "## <font color='green'>**Model Prediction**</font>"
      ],
      "metadata": {
        "id": "tptnkreg9OQz"
      }
    },
    {
      "cell_type": "code",
      "source": [
        "# Predict Model\n",
        "image=X_train[4]\n",
        "from numpy import argmax\n",
        "ypred= model.predict(np.asarray([image]))\n",
        "print('Predicted = %d' %argmax(ypred))\n",
        "print('Original = ',class_names[y_train[4]])\n",
        "print('Predicted = ',class_names[argmax(ypred)])\n",
        "plt.imshow(X_trains[4]);"
      ],
      "metadata": {
        "id": "75gklWEQHuaS",
        "colab": {
          "base_uri": "https://localhost:8080/",
          "height": 124
        },
        "outputId": "db84e47e-96d1-41c5-9e3c-f892c3c57fb0"
      },
      "execution_count": null,
      "outputs": [
        {
          "output_type": "stream",
          "name": "stdout",
          "text": [
            "1/1 [==============================] - 0s 73ms/step\n",
            "Predicted = 0\n",
            "Original =  T-shirt/top\n",
            "Predicted =  T-shirt/top\n"
          ]
        },
        {
          "output_type": "display_data",
          "data": {
            "text/plain": [
              "<Figure size 432x288 with 1 Axes>"
            ],
            "image/png": "[encoded data removed]"
          },
          "metadata": {
            "needs_background": "light"
          }
        }
      ]
    }
  ]
}