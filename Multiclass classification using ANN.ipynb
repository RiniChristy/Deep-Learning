{
  "nbformat": 4,
  "nbformat_minor": 0,
  "metadata": {
    "colab": {
      "provenance": [],
      "authorship_tag": "ABX9TyOs5CXusVvWOWmlZOrWm6x9"
    },
    "kernelspec": {
      "name": "python3",
      "display_name": "Python 3"
    },
    "language_info": {
      "name": "python"
    }
  },
  "cells": [
    {
      "cell_type": "markdown",
      "source": [
        "# **Multiclass classification using ANN**"
      ],
      "metadata": {
        "id": "pk6jICvlArVM"
      }
    },
    {
      "cell_type": "code",
      "execution_count": 1,
      "metadata": {
        "id": "zFSNvJIxgfCb"
      },
      "outputs": [],
      "source": [
        "import pandas as pd\n",
        "import tensorflow as tf"
      ]
    },
    {
      "cell_type": "code",
      "source": [
        "from sklearn import datasets\n",
        "\n",
        "# Load the iris data\n",
        "iris = datasets.load_iris()\n",
        "\n",
        "# Creating a variable for the feature data\n",
        "X = iris.data\n",
        "\n",
        "\n",
        "# Creating a variable for the target data\n",
        "y = iris.target\n",
        "# Random split the data into training and testing set.\n",
        "# Setting the size of the test data to be 25% of whole dataset.\n",
        "# It will create four new datsets: training feature, training outcome,\n",
        "# test feature, test outcome.\n",
        "from sklearn.model_selection import train_test_split as tts\n",
        "X_train, X_test, y_train, y_test = tts(X, y, test_size=0.25, random_state=1)"
      ],
      "metadata": {
        "id": "6aYhNjHzgqnn"
      },
      "execution_count": 2,
      "outputs": []
    },
    {
      "cell_type": "code",
      "source": [
        "y"
      ],
      "metadata": {
        "colab": {
          "base_uri": "https://localhost:8080/"
        },
        "id": "pEUauu0G0Zz-",
        "outputId": "badc9f91-6d22-4511-a7c1-d874b02781dd"
      },
      "execution_count": 3,
      "outputs": [
        {
          "output_type": "execute_result",
          "data": {
            "text/plain": [
              "array([0, 0, 0, 0, 0, 0, 0, 0, 0, 0, 0, 0, 0, 0, 0, 0, 0, 0, 0, 0, 0, 0,\n",
              "       0, 0, 0, 0, 0, 0, 0, 0, 0, 0, 0, 0, 0, 0, 0, 0, 0, 0, 0, 0, 0, 0,\n",
              "       0, 0, 0, 0, 0, 0, 1, 1, 1, 1, 1, 1, 1, 1, 1, 1, 1, 1, 1, 1, 1, 1,\n",
              "       1, 1, 1, 1, 1, 1, 1, 1, 1, 1, 1, 1, 1, 1, 1, 1, 1, 1, 1, 1, 1, 1,\n",
              "       1, 1, 1, 1, 1, 1, 1, 1, 1, 1, 1, 1, 2, 2, 2, 2, 2, 2, 2, 2, 2, 2,\n",
              "       2, 2, 2, 2, 2, 2, 2, 2, 2, 2, 2, 2, 2, 2, 2, 2, 2, 2, 2, 2, 2, 2,\n",
              "       2, 2, 2, 2, 2, 2, 2, 2, 2, 2, 2, 2, 2, 2, 2, 2, 2, 2])"
            ]
          },
          "metadata": {},
          "execution_count": 3
        }
      ]
    },
    {
      "cell_type": "code",
      "source": [
        "X.shape[1]"
      ],
      "metadata": {
        "colab": {
          "base_uri": "https://localhost:8080/"
        },
        "id": "OitmIHGKlt1g",
        "outputId": "27a65440-980a-4b43-9d22-0efb6a607693"
      },
      "execution_count": 4,
      "outputs": [
        {
          "output_type": "execute_result",
          "data": {
            "text/plain": [
              "4"
            ]
          },
          "metadata": {},
          "execution_count": 4
        }
      ]
    },
    {
      "cell_type": "code",
      "source": [
        "# Define Model\n",
        "from tensorflow.keras import Sequential\n",
        "from tensorflow.keras.layers import Dense\n",
        "model = Sequential()\n",
        "model.add(Dense(units=4, input_shape = (X.shape[1],), activation='relu', kernel_initializer = 'he_normal'))\n",
        "model.add(Dense(units = 3, activation = 'softmax'))\n",
        "\n",
        "# Compile Model\n",
        "model.compile(optimizer = 'adam', loss = 'sparse_categorical_crossentropy', metrics = ['accuracy'])\n",
        "\n",
        "# Fit Model\n",
        "history = model.fit(X_train, y_train, epochs = 100, batch_size = 10, verbose = 1)\n",
        "\n",
        "# Evaluate Model\n",
        "loss, acc = model.evaluate(X_test, y_test)\n",
        "\n",
        "history_df = pd.DataFrame(history.history)\n",
        "history_df.loc[:, ['loss']].plot(title=\"Categorical Cross-entropy\")\n",
        "history_df.loc[:, ['accuracy']].plot(title=\"Accuracy\")\n",
        "\n",
        "print('Accuracy of model is : %.3f' %acc)"
      ],
      "metadata": {
        "colab": {
          "base_uri": "https://localhost:8080/",
          "height": 1000
        },
        "id": "YgZJX87PidKK",
        "outputId": "07d303e0-8c22-4f4c-eb10-9a2312600071"
      },
      "execution_count": 5,
      "outputs": [
        {
          "output_type": "stream",
          "name": "stdout",
          "text": [
            "Epoch 1/100\n",
            "12/12 [==============================] - 1s 3ms/step - loss: 3.5877 - accuracy: 0.3036\n",
            "Epoch 2/100\n",
            "12/12 [==============================] - 0s 3ms/step - loss: 3.3295 - accuracy: 0.3125\n",
            "Epoch 3/100\n",
            "12/12 [==============================] - 0s 3ms/step - loss: 3.0911 - accuracy: 0.5625\n",
            "Epoch 4/100\n",
            "12/12 [==============================] - 0s 3ms/step - loss: 2.8834 - accuracy: 0.5982\n",
            "Epoch 5/100\n",
            "12/12 [==============================] - 0s 3ms/step - loss: 2.6874 - accuracy: 0.5982\n",
            "Epoch 6/100\n",
            "12/12 [==============================] - 0s 7ms/step - loss: 2.4938 - accuracy: 0.5893\n",
            "Epoch 7/100\n",
            "12/12 [==============================] - 0s 7ms/step - loss: 2.3048 - accuracy: 0.5357\n",
            "Epoch 8/100\n",
            "12/12 [==============================] - 0s 4ms/step - loss: 2.1492 - accuracy: 0.5089\n",
            "Epoch 9/100\n",
            "12/12 [==============================] - 0s 5ms/step - loss: 1.9933 - accuracy: 0.4821\n",
            "Epoch 10/100\n",
            "12/12 [==============================] - 0s 4ms/step - loss: 1.8531 - accuracy: 0.4643\n",
            "Epoch 11/100\n",
            "12/12 [==============================] - 0s 4ms/step - loss: 1.7126 - accuracy: 0.4643\n",
            "Epoch 12/100\n",
            "12/12 [==============================] - 0s 4ms/step - loss: 1.5930 - accuracy: 0.4643\n",
            "Epoch 13/100\n",
            "12/12 [==============================] - 0s 4ms/step - loss: 1.4759 - accuracy: 0.4643\n",
            "Epoch 14/100\n",
            "12/12 [==============================] - 0s 4ms/step - loss: 1.3717 - accuracy: 0.4643\n",
            "Epoch 15/100\n",
            "12/12 [==============================] - 0s 4ms/step - loss: 1.2816 - accuracy: 0.4554\n",
            "Epoch 16/100\n",
            "12/12 [==============================] - 0s 3ms/step - loss: 1.1927 - accuracy: 0.4375\n",
            "Epoch 17/100\n",
            "12/12 [==============================] - 0s 3ms/step - loss: 1.1134 - accuracy: 0.4375\n",
            "Epoch 18/100\n",
            "12/12 [==============================] - 0s 3ms/step - loss: 1.0472 - accuracy: 0.4464\n",
            "Epoch 19/100\n",
            "12/12 [==============================] - 0s 3ms/step - loss: 0.9918 - accuracy: 0.4464\n",
            "Epoch 20/100\n",
            "12/12 [==============================] - 0s 3ms/step - loss: 0.9363 - accuracy: 0.4464\n",
            "Epoch 21/100\n",
            "12/12 [==============================] - 0s 3ms/step - loss: 0.8877 - accuracy: 0.4464\n",
            "Epoch 22/100\n",
            "12/12 [==============================] - 0s 3ms/step - loss: 0.8537 - accuracy: 0.4643\n",
            "Epoch 23/100\n",
            "12/12 [==============================] - 0s 3ms/step - loss: 0.8304 - accuracy: 0.4821\n",
            "Epoch 24/100\n",
            "12/12 [==============================] - 0s 3ms/step - loss: 0.8073 - accuracy: 0.5000\n",
            "Epoch 25/100\n",
            "12/12 [==============================] - 0s 3ms/step - loss: 0.7900 - accuracy: 0.5179\n",
            "Epoch 26/100\n",
            "12/12 [==============================] - 0s 4ms/step - loss: 0.7768 - accuracy: 0.5179\n",
            "Epoch 27/100\n",
            "12/12 [==============================] - 0s 4ms/step - loss: 0.7667 - accuracy: 0.5625\n",
            "Epoch 28/100\n",
            "12/12 [==============================] - 0s 5ms/step - loss: 0.7593 - accuracy: 0.5714\n",
            "Epoch 29/100\n",
            "12/12 [==============================] - 0s 3ms/step - loss: 0.7516 - accuracy: 0.5982\n",
            "Epoch 30/100\n",
            "12/12 [==============================] - 0s 3ms/step - loss: 0.7440 - accuracy: 0.6161\n",
            "Epoch 31/100\n",
            "12/12 [==============================] - 0s 4ms/step - loss: 0.7362 - accuracy: 0.6696\n",
            "Epoch 32/100\n",
            "12/12 [==============================] - 0s 8ms/step - loss: 0.7295 - accuracy: 0.6964\n",
            "Epoch 33/100\n",
            "12/12 [==============================] - 0s 4ms/step - loss: 0.7215 - accuracy: 0.6964\n",
            "Epoch 34/100\n",
            "12/12 [==============================] - 0s 3ms/step - loss: 0.7146 - accuracy: 0.6696\n",
            "Epoch 35/100\n",
            "12/12 [==============================] - 0s 3ms/step - loss: 0.7051 - accuracy: 0.6875\n",
            "Epoch 36/100\n",
            "12/12 [==============================] - 0s 3ms/step - loss: 0.6971 - accuracy: 0.7054\n",
            "Epoch 37/100\n",
            "12/12 [==============================] - 0s 3ms/step - loss: 0.6910 - accuracy: 0.6875\n",
            "Epoch 38/100\n",
            "12/12 [==============================] - 0s 3ms/step - loss: 0.6841 - accuracy: 0.7232\n",
            "Epoch 39/100\n",
            "12/12 [==============================] - 0s 3ms/step - loss: 0.6778 - accuracy: 0.7411\n",
            "Epoch 40/100\n",
            "12/12 [==============================] - 0s 3ms/step - loss: 0.6707 - accuracy: 0.7500\n",
            "Epoch 41/100\n",
            "12/12 [==============================] - 0s 4ms/step - loss: 0.6649 - accuracy: 0.7589\n",
            "Epoch 42/100\n",
            "12/12 [==============================] - 0s 4ms/step - loss: 0.6594 - accuracy: 0.7768\n",
            "Epoch 43/100\n",
            "12/12 [==============================] - 0s 8ms/step - loss: 0.6537 - accuracy: 0.7857\n",
            "Epoch 44/100\n",
            "12/12 [==============================] - 0s 6ms/step - loss: 0.6474 - accuracy: 0.7857\n",
            "Epoch 45/100\n",
            "12/12 [==============================] - 0s 6ms/step - loss: 0.6426 - accuracy: 0.7857\n",
            "Epoch 46/100\n",
            "12/12 [==============================] - 0s 3ms/step - loss: 0.6360 - accuracy: 0.8214\n",
            "Epoch 47/100\n",
            "12/12 [==============================] - 0s 5ms/step - loss: 0.6300 - accuracy: 0.8304\n",
            "Epoch 48/100\n",
            "12/12 [==============================] - 0s 7ms/step - loss: 0.6247 - accuracy: 0.8482\n",
            "Epoch 49/100\n",
            "12/12 [==============================] - 0s 5ms/step - loss: 0.6180 - accuracy: 0.8482\n",
            "Epoch 50/100\n",
            "12/12 [==============================] - 0s 3ms/step - loss: 0.6117 - accuracy: 0.8661\n",
            "Epoch 51/100\n",
            "12/12 [==============================] - 0s 7ms/step - loss: 0.6063 - accuracy: 0.8482\n",
            "Epoch 52/100\n",
            "12/12 [==============================] - 0s 6ms/step - loss: 0.5995 - accuracy: 0.8571\n",
            "Epoch 53/100\n",
            "12/12 [==============================] - 0s 4ms/step - loss: 0.5930 - accuracy: 0.8750\n",
            "Epoch 54/100\n",
            "12/12 [==============================] - 0s 3ms/step - loss: 0.5867 - accuracy: 0.8661\n",
            "Epoch 55/100\n",
            "12/12 [==============================] - 0s 6ms/step - loss: 0.5803 - accuracy: 0.8661\n",
            "Epoch 56/100\n",
            "12/12 [==============================] - 0s 3ms/step - loss: 0.5736 - accuracy: 0.8839\n",
            "Epoch 57/100\n",
            "12/12 [==============================] - 0s 7ms/step - loss: 0.5677 - accuracy: 0.8839\n",
            "Epoch 58/100\n",
            "12/12 [==============================] - 0s 4ms/step - loss: 0.5611 - accuracy: 0.8750\n",
            "Epoch 59/100\n",
            "12/12 [==============================] - 0s 3ms/step - loss: 0.5543 - accuracy: 0.8839\n",
            "Epoch 60/100\n",
            "12/12 [==============================] - 0s 3ms/step - loss: 0.5477 - accuracy: 0.8839\n",
            "Epoch 61/100\n",
            "12/12 [==============================] - 0s 3ms/step - loss: 0.5406 - accuracy: 0.9018\n",
            "Epoch 62/100\n",
            "12/12 [==============================] - 0s 3ms/step - loss: 0.5341 - accuracy: 0.8929\n",
            "Epoch 63/100\n",
            "12/12 [==============================] - 0s 4ms/step - loss: 0.5273 - accuracy: 0.9018\n",
            "Epoch 64/100\n",
            "12/12 [==============================] - 0s 7ms/step - loss: 0.5204 - accuracy: 0.8839\n",
            "Epoch 65/100\n",
            "12/12 [==============================] - 0s 6ms/step - loss: 0.5133 - accuracy: 0.9018\n",
            "Epoch 66/100\n",
            "12/12 [==============================] - 0s 4ms/step - loss: 0.5063 - accuracy: 0.8929\n",
            "Epoch 67/100\n",
            "12/12 [==============================] - 0s 3ms/step - loss: 0.4998 - accuracy: 0.8929\n",
            "Epoch 68/100\n",
            "12/12 [==============================] - 0s 3ms/step - loss: 0.4915 - accuracy: 0.9018\n",
            "Epoch 69/100\n",
            "12/12 [==============================] - 0s 4ms/step - loss: 0.4837 - accuracy: 0.9018\n",
            "Epoch 70/100\n",
            "12/12 [==============================] - 0s 4ms/step - loss: 0.4762 - accuracy: 0.9018\n",
            "Epoch 71/100\n",
            "12/12 [==============================] - 0s 4ms/step - loss: 0.4690 - accuracy: 0.9018\n",
            "Epoch 72/100\n",
            "12/12 [==============================] - 0s 4ms/step - loss: 0.4617 - accuracy: 0.9107\n",
            "Epoch 73/100\n",
            "12/12 [==============================] - 0s 3ms/step - loss: 0.4544 - accuracy: 0.9018\n",
            "Epoch 74/100\n",
            "12/12 [==============================] - 0s 3ms/step - loss: 0.4455 - accuracy: 0.9018\n",
            "Epoch 75/100\n",
            "12/12 [==============================] - 0s 3ms/step - loss: 0.4382 - accuracy: 0.9107\n",
            "Epoch 76/100\n",
            "12/12 [==============================] - 0s 6ms/step - loss: 0.4307 - accuracy: 0.9107\n",
            "Epoch 77/100\n",
            "12/12 [==============================] - 0s 6ms/step - loss: 0.4240 - accuracy: 0.9107\n",
            "Epoch 78/100\n",
            "12/12 [==============================] - 0s 6ms/step - loss: 0.4169 - accuracy: 0.9107\n",
            "Epoch 79/100\n",
            "12/12 [==============================] - 0s 3ms/step - loss: 0.4095 - accuracy: 0.9107\n",
            "Epoch 80/100\n",
            "12/12 [==============================] - 0s 3ms/step - loss: 0.4028 - accuracy: 0.9286\n",
            "Epoch 81/100\n",
            "12/12 [==============================] - 0s 5ms/step - loss: 0.3962 - accuracy: 0.9196\n",
            "Epoch 82/100\n",
            "12/12 [==============================] - 0s 4ms/step - loss: 0.3899 - accuracy: 0.9196\n",
            "Epoch 83/100\n",
            "12/12 [==============================] - 0s 4ms/step - loss: 0.3839 - accuracy: 0.9286\n",
            "Epoch 84/100\n",
            "12/12 [==============================] - 0s 3ms/step - loss: 0.3775 - accuracy: 0.9286\n",
            "Epoch 85/100\n",
            "12/12 [==============================] - 0s 4ms/step - loss: 0.3720 - accuracy: 0.9196\n",
            "Epoch 86/100\n",
            "12/12 [==============================] - 0s 3ms/step - loss: 0.3660 - accuracy: 0.9375\n",
            "Epoch 87/100\n",
            "12/12 [==============================] - 0s 3ms/step - loss: 0.3603 - accuracy: 0.9286\n",
            "Epoch 88/100\n",
            "12/12 [==============================] - 0s 5ms/step - loss: 0.3549 - accuracy: 0.9286\n",
            "Epoch 89/100\n",
            "12/12 [==============================] - 0s 3ms/step - loss: 0.3497 - accuracy: 0.9286\n",
            "Epoch 90/100\n",
            "12/12 [==============================] - 0s 3ms/step - loss: 0.3447 - accuracy: 0.9286\n",
            "Epoch 91/100\n",
            "12/12 [==============================] - 0s 6ms/step - loss: 0.3397 - accuracy: 0.9286\n",
            "Epoch 92/100\n",
            "12/12 [==============================] - 0s 3ms/step - loss: 0.3349 - accuracy: 0.9375\n",
            "Epoch 93/100\n",
            "12/12 [==============================] - 0s 3ms/step - loss: 0.3321 - accuracy: 0.9286\n",
            "Epoch 94/100\n",
            "12/12 [==============================] - 0s 6ms/step - loss: 0.3266 - accuracy: 0.9286\n",
            "Epoch 95/100\n",
            "12/12 [==============================] - 0s 3ms/step - loss: 0.3235 - accuracy: 0.9375\n",
            "Epoch 96/100\n",
            "12/12 [==============================] - 0s 10ms/step - loss: 0.3192 - accuracy: 0.9196\n",
            "Epoch 97/100\n",
            "12/12 [==============================] - 0s 6ms/step - loss: 0.3147 - accuracy: 0.9375\n",
            "Epoch 98/100\n",
            "12/12 [==============================] - 0s 3ms/step - loss: 0.3126 - accuracy: 0.9375\n",
            "Epoch 99/100\n",
            "12/12 [==============================] - 0s 3ms/step - loss: 0.3088 - accuracy: 0.9464\n",
            "Epoch 100/100\n",
            "12/12 [==============================] - 0s 5ms/step - loss: 0.3052 - accuracy: 0.9286\n",
            "2/2 [==============================] - 0s 17ms/step - loss: 0.4152 - accuracy: 0.8421\n",
            "Accuracy of model is : 0.842\n"
          ]
        },
        {
          "output_type": "display_data",
          "data": {
            "text/plain": [
              "<Figure size 432x288 with 1 Axes>"
            ],
            "image/png": "[encoded data removed]"
          },
          "metadata": {
            "needs_background": "light"
          }
        },
        {
          "output_type": "display_data",
          "data": {
            "text/plain": [
              "<Figure size 432x288 with 1 Axes>"
            ],
            "image/png": "[encoded data removed]"
          },
          "metadata": {
            "needs_background": "light"
          }
        }
      ]
    },
    {
      "cell_type": "code",
      "source": [
        "print('Accuracy of model is : {:.2f} %'.format(acc*100))"
      ],
      "metadata": {
        "colab": {
          "base_uri": "https://localhost:8080/"
        },
        "id": "4QCw-V7XA0hA",
        "outputId": "30cc1f30-1d16-4ded-d52b-a0fb0bd7a204"
      },
      "execution_count": 6,
      "outputs": [
        {
          "output_type": "stream",
          "name": "stdout",
          "text": [
            "Accuracy of model is : 84.21 %\n"
          ]
        }
      ]
    }
  ]
}