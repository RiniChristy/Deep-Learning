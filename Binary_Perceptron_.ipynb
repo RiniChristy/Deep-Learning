{
  "nbformat": 4,
  "nbformat_minor": 0,
  "metadata": {
    "colab": {
      "provenance": [],
      "authorship_tag": "ABX9TyOkTQyEOz59t2zZ5tYVpsTw"
    },
    "kernelspec": {
      "name": "python3",
      "display_name": "Python 3"
    },
    "language_info": {
      "name": "python"
    }
  },
  "cells": [
    {
      "cell_type": "markdown",
      "source": [
        "#**Binary Perceptron** \n",
        "\n",
        "## **predicted_target and weighted_sum**\n",
        "Starting with basic operation of summation of product of input values and its corresponding weights. This is then classified into binary classes based on a threshold value of interest. "
      ],
      "metadata": {
        "id": "N0ksF33OWUrn"
      }
    },
    {
      "cell_type": "code",
      "execution_count": null,
      "metadata": {
        "colab": {
          "base_uri": "https://localhost:8080/"
        },
        "id": "Np0B5-i1NPhm",
        "outputId": "ebc6d906-78d7-41c0-988f-c8cbc6a2e62c"
      },
      "outputs": [
        {
          "output_type": "stream",
          "name": "stdout",
          "text": [
            "0\n"
          ]
        }
      ],
      "source": [
        "def predicted_target (x,w, thresh):\n",
        "  weighted_sum = 0\n",
        "  for x,w, in zip (x,w): \n",
        "    weighted_sum+= x*w\n",
        "  if weighted_sum >= thresh:\n",
        "    predicted_target = 1\n",
        "  else:\n",
        "    predicted_target = 0\n",
        "  return predicted_target\n",
        "\n",
        "x = [0.3, 0.5, 0.6]\n",
        "w = [0.2, 0.1, 0.5]\n",
        "thresh = 0.5\n",
        "print(predicted_target(x,w, thresh))"
      ]
    },
    {
      "cell_type": "code",
      "source": [
        "predicted_target(x,w, 0.3)"
      ],
      "metadata": {
        "colab": {
          "base_uri": "https://localhost:8080/"
        },
        "id": "eVpgJWWyRWN6",
        "outputId": "79295176-a7c7-4df7-e38b-790bb1eaca8d"
      },
      "execution_count": null,
      "outputs": [
        {
          "output_type": "execute_result",
          "data": {
            "text/plain": [
              "1"
            ]
          },
          "metadata": {},
          "execution_count": 2
        }
      ]
    },
    {
      "cell_type": "code",
      "source": [
        "x = [0.3, 0.5, 0.7]\n",
        "w = [0.2, 0.1, 0.7]\n",
        "print(predicted_target(x,w, 0.5))"
      ],
      "metadata": {
        "colab": {
          "base_uri": "https://localhost:8080/"
        },
        "id": "9SKDT-ejQy-5",
        "outputId": "0618b467-ed98-4067-d462-98656300fae1"
      },
      "execution_count": null,
      "outputs": [
        {
          "output_type": "stream",
          "name": "stdout",
          "text": [
            "1\n"
          ]
        }
      ]
    },
    {
      "cell_type": "code",
      "source": [
        "x = [0.3, 0.5, 0.7]\n",
        "w = [0.2, 0.1, 0.7]\n",
        "print(predicted_target(x,w, 0.8))"
      ],
      "metadata": {
        "colab": {
          "base_uri": "https://localhost:8080/"
        },
        "id": "jFMsF7naQ7vm",
        "outputId": "5cfbb83c-1a6b-4a8f-d620-33a515a51082"
      },
      "execution_count": null,
      "outputs": [
        {
          "output_type": "stream",
          "name": "stdout",
          "text": [
            "0\n"
          ]
        }
      ]
    },
    {
      "cell_type": "markdown",
      "source": [
        "## **output & perceptron** \n",
        "\n",
        "Resetting the above operation into Binary Perceptron of ANN without any activation function by replacing predicted_target to output and weighted sum to perceptron"
      ],
      "metadata": {
        "id": "y1VGBKQgXZMn"
      }
    },
    {
      "cell_type": "code",
      "source": [
        "def output (x,w, thresh):\n",
        "  perceptron = 0\n",
        "  for x,w, in zip (x,w): \n",
        "    perceptron+= x*w\n",
        "  if perceptron >= thresh:\n",
        "    output = 1\n",
        "  else:\n",
        "    output = 0\n",
        "  return output\n",
        "\n",
        "x = [0.3, 0.5, 0.6]\n",
        "w = [0.2, 0.1, 0.5]\n",
        "thresh = 0.5\n",
        "print(\"Output with threshold= 0.5 is: \", output(x,w, thresh))\n",
        "print(\"Output with threshold= 0.3 is: \", output(x,w, 0.3))"
      ],
      "metadata": {
        "colab": {
          "base_uri": "https://localhost:8080/"
        },
        "id": "vA7vn24tUQ1L",
        "outputId": "8a699f51-ab15-4eb4-a483-a2f1d430c452"
      },
      "execution_count": null,
      "outputs": [
        {
          "output_type": "stream",
          "name": "stdout",
          "text": [
            "Output with threshold= 0.5 is:  0\n",
            "Output with threshold= 0.3 is:  1\n"
          ]
        }
      ]
    },
    {
      "cell_type": "code",
      "source": [
        "x = [0.3, 0.5, 0.7]\n",
        "w = [0.2, 0.1, 0.7]\n",
        "thresh = 0.5\n",
        "print(\"Output with threshold= 0.5 is: \", output(x,w, thresh))\n",
        "print(\"Output with threshold= 0.8 is: \", output(x,w, 0.8))"
      ],
      "metadata": {
        "colab": {
          "base_uri": "https://localhost:8080/"
        },
        "id": "644kId0iVn1J",
        "outputId": "c3647afa-303a-49c8-bcde-c292cd19b489"
      },
      "execution_count": null,
      "outputs": [
        {
          "output_type": "stream",
          "name": "stdout",
          "text": [
            "Output with threshold= 0.5 is:  1\n",
            "Output with threshold= 0.8 is:  0\n"
          ]
        }
      ]
    }
  ]
}